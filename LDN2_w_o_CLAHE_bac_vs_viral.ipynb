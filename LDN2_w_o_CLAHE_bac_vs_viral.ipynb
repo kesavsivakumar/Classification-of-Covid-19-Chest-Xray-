{
  "nbformat": 4,
  "nbformat_minor": 0,
  "metadata": {
    "colab": {
      "name": "LDN2_w/o_CLAHE bac vs viral.ipynb",
      "provenance": [],
      "collapsed_sections": []
    },
    "kernelspec": {
      "name": "python3",
      "display_name": "Python 3"
    }
  },
  "cells": [
    {
      "cell_type": "code",
      "metadata": {
        "id": "J82Uaq9FN68O"
      },
      "source": [
        "import cv2\n",
        "import numpy as np\n",
        "import matplotlib.pyplot as plt\n",
        "import os\n",
        "import tensorflow\n",
        "import glob\n",
        "import pandas as pd"
      ],
      "execution_count": null,
      "outputs": []
    },
    {
      "cell_type": "code",
      "metadata": {
        "id": "hqCPmoStOEM7",
        "outputId": "48b2ae77-6eb1-4ef9-f720-7eb5b86a4aca",
        "colab": {
          "base_uri": "https://localhost:8080/",
          "height": 34
        }
      },
      "source": [
        "from google.colab import drive\n",
        "drive.mount('/content/drive')"
      ],
      "execution_count": null,
      "outputs": [
        {
          "output_type": "stream",
          "text": [
            "Drive already mounted at /content/drive; to attempt to forcibly remount, call drive.mount(\"/content/drive\", force_remount=True).\n"
          ],
          "name": "stdout"
        }
      ]
    },
    {
      "cell_type": "code",
      "metadata": {
        "id": "drSGmeMbOQZq",
        "outputId": "d58d0ef7-2df6-4336-e8e1-1385929788ad",
        "colab": {
          "base_uri": "https://localhost:8080/",
          "height": 51
        }
      },
      "source": [
        "cd drive"
      ],
      "execution_count": null,
      "outputs": [
        {
          "output_type": "stream",
          "text": [
            "[Errno 2] No such file or directory: 'drive'\n",
            "/content/drive/My Drive/data\n"
          ],
          "name": "stdout"
        }
      ]
    },
    {
      "cell_type": "code",
      "metadata": {
        "id": "Cj6Rdqc1OUcr",
        "outputId": "f087af56-3bbc-4486-a934-d55b883de38d",
        "colab": {
          "base_uri": "https://localhost:8080/",
          "height": 51
        }
      },
      "source": [
        "cd My Drive"
      ],
      "execution_count": null,
      "outputs": [
        {
          "output_type": "stream",
          "text": [
            "[Errno 2] No such file or directory: 'My Drive'\n",
            "/content/drive/My Drive/data\n"
          ],
          "name": "stdout"
        }
      ]
    },
    {
      "cell_type": "code",
      "metadata": {
        "id": "FW4HRLOnURCk",
        "outputId": "5a4d162d-33c2-428c-8721-8a18b9a907b3",
        "colab": {
          "base_uri": "https://localhost:8080/",
          "height": 34
        }
      },
      "source": [
        "\"\"\"cd data\"\"\""
      ],
      "execution_count": null,
      "outputs": [
        {
          "output_type": "execute_result",
          "data": {
            "text/plain": [
              "'cd data'"
            ]
          },
          "metadata": {
            "tags": []
          },
          "execution_count": 45
        }
      ]
    },
    {
      "cell_type": "code",
      "metadata": {
        "id": "UGLrFj81I_wz",
        "outputId": "b43cec84-5387-47f2-dc86-96d916e3c872",
        "colab": {
          "base_uri": "https://localhost:8080/",
          "height": 34
        }
      },
      "source": [
        "\"\"\"cd train\"\"\""
      ],
      "execution_count": null,
      "outputs": [
        {
          "output_type": "execute_result",
          "data": {
            "text/plain": [
              "'cd train'"
            ]
          },
          "metadata": {
            "tags": []
          },
          "execution_count": 46
        }
      ]
    },
    {
      "cell_type": "code",
      "metadata": {
        "id": "bSm0h5uJ46Jc",
        "outputId": "2c9f91ba-0cfb-4b46-f04c-1ef62b8b08a6",
        "colab": {
          "base_uri": "https://localhost:8080/",
          "height": 51
        }
      },
      "source": [
        "cd data"
      ],
      "execution_count": null,
      "outputs": [
        {
          "output_type": "stream",
          "text": [
            "[Errno 2] No such file or directory: 'data'\n",
            "/content/drive/My Drive/data\n"
          ],
          "name": "stdout"
        }
      ]
    },
    {
      "cell_type": "code",
      "metadata": {
        "id": "z2MnWTLDniCX"
      },
      "source": [
        "x_normal = np.load('x_normal.npy')\n",
        "y_normal = np.load('y_normal.npy')\n",
        "x_viral = np.load('x_viral.npy')\n",
        "y_viral = np.load('y_viral.npy')\n",
        "x_bacterial = np.load('x_bacterial.npy')\n",
        "y_bacterial = np.load('y_bacterial.npy')"
      ],
      "execution_count": null,
      "outputs": []
    },
    {
      "cell_type": "code",
      "metadata": {
        "id": "vDVkPEQ6zG37",
        "outputId": "87fc1907-7fab-4378-ca57-bf8195f6bff6",
        "colab": {
          "base_uri": "https://localhost:8080/",
          "height": 85
        }
      },
      "source": [
        "print(x_viral.shape)\n",
        "print(y_viral.shape)\n",
        "print(x_bacterial.shape)\n",
        "print(y_bacterial.shape)"
      ],
      "execution_count": null,
      "outputs": [
        {
          "output_type": "stream",
          "text": [
            "(1504, 256, 256, 3)\n",
            "(1504,)\n",
            "(2786, 256, 256, 3)\n",
            "(2786,)\n"
          ],
          "name": "stdout"
        }
      ]
    },
    {
      "cell_type": "code",
      "metadata": {
        "id": "rTDtmxcvPu-p"
      },
      "source": [
        "x_covid = np.load('x_covid.npy')\n",
        "y_covid = np.load('y_covid.npy')"
      ],
      "execution_count": null,
      "outputs": []
    },
    {
      "cell_type": "code",
      "metadata": {
        "id": "lzJUO_oIMm1u",
        "outputId": "26c2176f-4b48-43d2-902d-94ec79d46f0e",
        "colab": {
          "base_uri": "https://localhost:8080/",
          "height": 51
        }
      },
      "source": [
        "print(x_covid.shape)\n",
        "print(y_covid.shape)"
      ],
      "execution_count": null,
      "outputs": [
        {
          "output_type": "stream",
          "text": [
            "(239, 256, 256, 3)\n",
            "(239,)\n"
          ],
          "name": "stdout"
        }
      ]
    },
    {
      "cell_type": "code",
      "metadata": {
        "id": "lVtVc2ADd6xF"
      },
      "source": [
        "import random"
      ],
      "execution_count": null,
      "outputs": []
    },
    {
      "cell_type": "code",
      "metadata": {
        "id": "RHZ4TYpvzRd2"
      },
      "source": [
        "x_train=[]\n",
        "y_train=[]\n",
        "x_test = []\n",
        "y_test = []"
      ],
      "execution_count": null,
      "outputs": []
    },
    {
      "cell_type": "markdown",
      "metadata": {
        "id": "ieBbabYq5Dt7"
      },
      "source": [
        "\n",
        "\n",
        "---\n",
        "\n",
        "**Load bacterial images**\n",
        "\n",
        "---\n",
        "\n"
      ]
    },
    {
      "cell_type": "code",
      "metadata": {
        "id": "O4cJLyUXzVNl"
      },
      "source": [
        "nums = random.sample(range(0, 2786), 300)\n",
        "for i in nums:\n",
        "  x_train.append(x_bacterial[i])\n",
        "  y_train.append(0)"
      ],
      "execution_count": null,
      "outputs": []
    },
    {
      "cell_type": "code",
      "metadata": {
        "id": "DRAfVQ7ekDVq"
      },
      "source": [
        "total = [i for i in range(0,2786)]\n",
        "test_nums = random.sample(list((set)(total)-(set)(nums)),20)"
      ],
      "execution_count": null,
      "outputs": []
    },
    {
      "cell_type": "code",
      "metadata": {
        "id": "CF98-Hrgkhho",
        "colab": {
          "base_uri": "https://localhost:8080/",
          "height": 197
        },
        "outputId": "7653da4f-7e9d-410a-f782-f86e628f12d9"
      },
      "source": [
        "for i in test_nums:\n",
        "  x_test.append(x_bacterial[i])\n",
        "  y_test.append(0)"
      ],
      "execution_count": null,
      "outputs": [
        {
          "output_type": "error",
          "ename": "AttributeError",
          "evalue": "ignored",
          "traceback": [
            "\u001b[0;31m---------------------------------------------------------------------------\u001b[0m",
            "\u001b[0;31mAttributeError\u001b[0m                            Traceback (most recent call last)",
            "\u001b[0;32m<ipython-input-62-c064909b98ef>\u001b[0m in \u001b[0;36m<module>\u001b[0;34m()\u001b[0m\n\u001b[1;32m      1\u001b[0m \u001b[0;32mfor\u001b[0m \u001b[0mi\u001b[0m \u001b[0;32min\u001b[0m \u001b[0mtest_nums\u001b[0m\u001b[0;34m:\u001b[0m\u001b[0;34m\u001b[0m\u001b[0;34m\u001b[0m\u001b[0m\n\u001b[0;32m----> 2\u001b[0;31m   \u001b[0mx_test\u001b[0m\u001b[0;34m.\u001b[0m\u001b[0mappend\u001b[0m\u001b[0;34m(\u001b[0m\u001b[0mx_bacterial\u001b[0m\u001b[0;34m[\u001b[0m\u001b[0mi\u001b[0m\u001b[0;34m]\u001b[0m\u001b[0;34m)\u001b[0m\u001b[0;34m\u001b[0m\u001b[0;34m\u001b[0m\u001b[0m\n\u001b[0m\u001b[1;32m      3\u001b[0m   \u001b[0my_test\u001b[0m\u001b[0;34m.\u001b[0m\u001b[0mappend\u001b[0m\u001b[0;34m(\u001b[0m\u001b[0;36m0\u001b[0m\u001b[0;34m)\u001b[0m\u001b[0;34m\u001b[0m\u001b[0;34m\u001b[0m\u001b[0m\n",
            "\u001b[0;31mAttributeError\u001b[0m: 'numpy.ndarray' object has no attribute 'append'"
          ]
        }
      ]
    },
    {
      "cell_type": "markdown",
      "metadata": {
        "id": "msfjt-D-5QXg"
      },
      "source": [
        "\n",
        "\n",
        "---\n",
        "\n",
        "**Load viral images**\n",
        "\n",
        "---\n",
        "\n"
      ]
    },
    {
      "cell_type": "code",
      "metadata": {
        "id": "B0s5lLtGlZ6T"
      },
      "source": [
        "nums = random.sample(range(0, 1504), 275)\n",
        "for i in nums:\n",
        "  x_train.append(x_viral[i])\n",
        "  y_train.append(1)"
      ],
      "execution_count": null,
      "outputs": []
    },
    {
      "cell_type": "code",
      "metadata": {
        "id": "TLSy5XsrlnZI"
      },
      "source": [
        "total = [i for i in range(0,1504)]\n",
        "test_nums = random.sample(list((set)(total)-(set)(nums)),45)"
      ],
      "execution_count": null,
      "outputs": []
    },
    {
      "cell_type": "code",
      "metadata": {
        "id": "Uvnq-ZSPl0C7"
      },
      "source": [
        "for i in test_nums:\n",
        "  x_test.append(x_viral[i])\n",
        "  y_test.append(1)"
      ],
      "execution_count": null,
      "outputs": []
    },
    {
      "cell_type": "markdown",
      "metadata": {
        "id": "5WTN7GbU5rr9"
      },
      "source": [
        "\n",
        "\n",
        "---\n",
        "\n",
        "**Load covid images**\n",
        "\n",
        "---\n",
        "\n"
      ]
    },
    {
      "cell_type": "code",
      "metadata": {
        "id": "PYkc9wpYl9ME"
      },
      "source": [
        "nums = random.sample(range(0, 239), 25)\n",
        "for i in nums:\n",
        "  x_train.append(x_covid[i])\n",
        "  y_train.append(1)"
      ],
      "execution_count": null,
      "outputs": []
    },
    {
      "cell_type": "code",
      "metadata": {
        "id": "KhsOuIxFptNB"
      },
      "source": [
        "total = [i for i in range(0,239)]\n",
        "test_nums = random.sample(list((set)(total)-(set)(nums)),5)"
      ],
      "execution_count": null,
      "outputs": []
    },
    {
      "cell_type": "code",
      "metadata": {
        "id": "dt20PaGgp3rY"
      },
      "source": [
        "for i in test_nums:\n",
        "  x_test.append(x_covid[i])\n",
        "  y_test.append(1)"
      ],
      "execution_count": null,
      "outputs": []
    },
    {
      "cell_type": "markdown",
      "metadata": {
        "id": "asvjLaQ65xn7"
      },
      "source": [
        "\n",
        "\n",
        "---\n",
        "\n",
        "**add  5 cov TMC images to train set**\n",
        "\n",
        "---\n",
        "\n"
      ]
    },
    {
      "cell_type": "code",
      "metadata": {
        "id": "nqieVj4DqxFJ"
      },
      "source": [
        "x_covid_tmc=[]\n",
        "y_covid_tmc=[]"
      ],
      "execution_count": null,
      "outputs": []
    },
    {
      "cell_type": "code",
      "metadata": {
        "id": "DLJL-KP8snhL"
      },
      "source": [
        "for im in glob.glob('/content/drive/My Drive/covid TMC/*.*'):\n",
        "  #print(im)\n",
        "  img=cv2.imread(im,1)\n",
        "  img=cv2.resize(img,(256,256))\n",
        "  x_covid_tmc.append(img)\n",
        "  y_covid_tmc.append(1)"
      ],
      "execution_count": null,
      "outputs": []
    },
    {
      "cell_type": "code",
      "metadata": {
        "id": "7t8SRjjcU_sN",
        "outputId": "e61842b0-c8b7-4e5d-a499-f6dff34be16a",
        "colab": {
          "base_uri": "https://localhost:8080/",
          "height": 51
        }
      },
      "source": [
        "print(len(x_covid_tmc))\n",
        "print(len(y_covid_tmc))"
      ],
      "execution_count": null,
      "outputs": [
        {
          "output_type": "stream",
          "text": [
            "11\n",
            "11\n"
          ],
          "name": "stdout"
        }
      ]
    },
    {
      "cell_type": "code",
      "metadata": {
        "id": "uunh4-aqw_iT"
      },
      "source": [
        "nums = random.sample(range(0, 11), 5)\n",
        "for i in nums:\n",
        "  x_train.append(x_covid_tmc[i])\n",
        "  y_train.append(1)"
      ],
      "execution_count": null,
      "outputs": []
    },
    {
      "cell_type": "code",
      "metadata": {
        "id": "gw6dtpN1XyO1"
      },
      "source": [
        "x_sample = []\n",
        "y_sample = []"
      ],
      "execution_count": null,
      "outputs": []
    },
    {
      "cell_type": "code",
      "metadata": {
        "id": "khA2hBFp39Be"
      },
      "source": [
        "total = [i for i in range(0,11)]\n",
        "test_nums = random.sample(list((set)(total)-(set)(nums)),6)\n",
        "for i in test_nums:\n",
        "  x_test.append(x_covid_tmc[i])\n",
        "  y_test.append(1)"
      ],
      "execution_count": null,
      "outputs": []
    },
    {
      "cell_type": "code",
      "metadata": {
        "id": "9mPRr5wjLOxl"
      },
      "source": [
        "x_train = np.asarray(x_train)\n",
        "y_train= np.asarray(y_train)\n",
        "x_test = np.asarray(x_test)\n",
        "y_test = np.asarray(y_test)"
      ],
      "execution_count": null,
      "outputs": []
    },
    {
      "cell_type": "code",
      "metadata": {
        "id": "Oskm_hHl4S3z",
        "outputId": "9c06f39c-069f-467f-8f3d-a47f75517577",
        "colab": {
          "base_uri": "https://localhost:8080/",
          "height": 85
        }
      },
      "source": [
        "print(x_train.shape)\n",
        "print(y_train.shape)\n",
        "print(x_test.shape)\n",
        "print(y_test.shape)"
      ],
      "execution_count": null,
      "outputs": [
        {
          "output_type": "stream",
          "text": [
            "(605, 256, 256, 3)\n",
            "(605,)\n",
            "(106, 256, 256, 3)\n",
            "(106,)\n"
          ],
          "name": "stdout"
        }
      ]
    },
    {
      "cell_type": "markdown",
      "metadata": {
        "id": "V7ap_B1cl2tB"
      },
      "source": [
        "Model for 1 Densenet block"
      ]
    },
    {
      "cell_type": "code",
      "metadata": {
        "id": "6ueC6xGtlr43",
        "outputId": "0e2cc120-46cd-4dac-89ab-63e29070bbf6",
        "colab": {
          "base_uri": "https://localhost:8080/",
          "height": 34
        }
      },
      "source": [
        "%tensorflow_version 1.x\n",
        "import tensorflow"
      ],
      "execution_count": null,
      "outputs": [
        {
          "output_type": "stream",
          "text": [
            "TensorFlow is already loaded. Please restart the runtime to change versions.\n"
          ],
          "name": "stdout"
        }
      ]
    },
    {
      "cell_type": "code",
      "metadata": {
        "id": "KpGo-5_nl8QX",
        "outputId": "7e9c868d-fb9b-4b4b-faa5-abbae8714b93",
        "colab": {
          "base_uri": "https://localhost:8080/",
          "height": 34
        }
      },
      "source": [
        "from keras.models import Sequential\n",
        "from keras import layers\n",
        "from keras.optimizers import adam\n",
        "from keras.callbacks import EarlyStopping\n",
        "from keras.callbacks import ModelCheckpoint"
      ],
      "execution_count": null,
      "outputs": [
        {
          "output_type": "stream",
          "text": [
            "Using TensorFlow backend.\n"
          ],
          "name": "stderr"
        }
      ]
    },
    {
      "cell_type": "code",
      "metadata": {
        "id": "UxA1kLZHmGiS"
      },
      "source": [
        "model = Sequential()\n",
        "model.add(layers.Conv2D(filters=8,kernel_size=(3,3),input_shape=(256,256,3),strides=1,padding='same'))\n",
        "model.add(layers.BatchNormalization())\n",
        "model.add(layers.LeakyReLU(alpha=0.1))\n",
        "\n",
        "model.add(layers.MaxPooling2D(pool_size=(2,2),strides=2))\n",
        "\n",
        "#model.add(layers.Conv2D(filters=16,kernel_size=(3,3),strides=1,padding='same'))\n",
        "#model.add(layers.BatchNormalization())\n",
        "#model.add(layers.LeakyReLU(alpha=0.1))\n",
        "\n",
        "#model.add(layers.MaxPooling2D(pool_size=(2,2),strides=2))\n",
        "\n",
        "model.add(layers.Conv2D(filters=16,kernel_size=(3,3),strides=1,padding='same'))\n",
        "model.add(layers.BatchNormalization())\n",
        "model.add(layers.LeakyReLU(alpha=0.1))\n",
        "model.add(layers.Conv2D(filters=16,kernel_size=(1,1),strides=1,padding='same'))\n",
        "model.add(layers.BatchNormalization())\n",
        "model.add(layers.LeakyReLU(alpha=0.1))\n",
        "model.add(layers.Conv2D(filters=16,kernel_size=(3,3),strides=1,padding='same'))\n",
        "model.add(layers.BatchNormalization())\n",
        "model.add(layers.LeakyReLU(alpha=0.1))\n",
        "\n",
        "model.add(layers.MaxPooling2D(pool_size=(2,2),strides=2))\n",
        "\n",
        "#model.add(layers.Conv2D(filters=16,kernel_size=(3,3),strides=1,padding='same'))\n",
        "#model.add(layers.BatchNormalization())\n",
        "#model.add(layers.LeakyReLU(alpha=0.1))\n",
        "\n",
        "model.add(layers.Conv2D(filters=32,kernel_size=(3,3),strides=1,padding='same'))\n",
        "model.add(layers.BatchNormalization())\n",
        "model.add(layers.LeakyReLU(alpha=0.1))\n",
        "\n",
        "model.add(layers.Conv2D(filters=2,kernel_size=(3,3),strides=1,padding='same'))\n",
        " \n",
        "model.add(layers.Flatten())\n",
        " \n",
        "model.add(layers.Dense(1, activation='sigmoid'))"
      ],
      "execution_count": null,
      "outputs": []
    },
    {
      "cell_type": "code",
      "metadata": {
        "id": "xDRCaQtbSBew"
      },
      "source": [
        "opt = adam(learning_rate=0.0001)"
      ],
      "execution_count": null,
      "outputs": []
    },
    {
      "cell_type": "code",
      "metadata": {
        "id": "GhCRal5ZisCR"
      },
      "source": [
        "model.compile(optimizer=opt, loss='binary_crossentropy', metrics=['accuracy'])"
      ],
      "execution_count": null,
      "outputs": []
    },
    {
      "cell_type": "code",
      "metadata": {
        "id": "uQqUWa8czffL",
        "outputId": "99481f60-beac-4788-e391-ad66967f959d",
        "colab": {
          "base_uri": "https://localhost:8080/",
          "height": 1000
        }
      },
      "source": [
        "es = EarlyStopping(monitor='val_loss', mode='min', verbose=1,patience=32)\n",
        "mc = ModelCheckpoint('nor_inf_04jun03.h5', monitor='val_accuracy', mode='max', verbose=1, save_best_only=True)\n",
        "history=model.fit(x_train,y_train,batch_size=16,validation_split=0.2,epochs=100,callbacks=[es,mc],shuffle=True)"
      ],
      "execution_count": null,
      "outputs": [
        {
          "output_type": "stream",
          "text": [
            "Train on 484 samples, validate on 121 samples\n",
            "Epoch 1/100\n",
            "484/484 [==============================] - 44s 92ms/step - loss: 0.6892 - accuracy: 0.6219 - val_loss: 1.5163 - val_accuracy: 0.0000e+00\n",
            "\n",
            "Epoch 00001: val_accuracy improved from -inf to 0.00000, saving model to nor_inf_04jun03.h5\n",
            "Epoch 2/100\n",
            "484/484 [==============================] - 42s 87ms/step - loss: 0.5307 - accuracy: 0.7521 - val_loss: 1.0906 - val_accuracy: 0.1074\n",
            "\n",
            "Epoch 00002: val_accuracy improved from 0.00000 to 0.10744, saving model to nor_inf_04jun03.h5\n",
            "Epoch 3/100\n",
            "484/484 [==============================] - 42s 87ms/step - loss: 0.4577 - accuracy: 0.7996 - val_loss: 0.7110 - val_accuracy: 0.5289\n",
            "\n",
            "Epoch 00003: val_accuracy improved from 0.10744 to 0.52893, saving model to nor_inf_04jun03.h5\n",
            "Epoch 4/100\n",
            "484/484 [==============================] - 42s 87ms/step - loss: 0.4170 - accuracy: 0.8202 - val_loss: 0.6847 - val_accuracy: 0.5785\n",
            "\n",
            "Epoch 00004: val_accuracy improved from 0.52893 to 0.57851, saving model to nor_inf_04jun03.h5\n",
            "Epoch 5/100\n",
            "484/484 [==============================] - 42s 86ms/step - loss: 0.3795 - accuracy: 0.8450 - val_loss: 0.6861 - val_accuracy: 0.5785\n",
            "\n",
            "Epoch 00005: val_accuracy did not improve from 0.57851\n",
            "Epoch 6/100\n",
            "484/484 [==============================] - 42s 87ms/step - loss: 0.3438 - accuracy: 0.8678 - val_loss: 0.7082 - val_accuracy: 0.5702\n",
            "\n",
            "Epoch 00006: val_accuracy did not improve from 0.57851\n",
            "Epoch 7/100\n",
            "484/484 [==============================] - 42s 87ms/step - loss: 0.3194 - accuracy: 0.8698 - val_loss: 0.7227 - val_accuracy: 0.6116\n",
            "\n",
            "Epoch 00007: val_accuracy improved from 0.57851 to 0.61157, saving model to nor_inf_04jun03.h5\n",
            "Epoch 8/100\n",
            "484/484 [==============================] - 42s 87ms/step - loss: 0.2884 - accuracy: 0.8988 - val_loss: 0.7671 - val_accuracy: 0.5702\n",
            "\n",
            "Epoch 00008: val_accuracy did not improve from 0.61157\n",
            "Epoch 9/100\n",
            "484/484 [==============================] - 43s 88ms/step - loss: 0.2684 - accuracy: 0.9050 - val_loss: 0.8223 - val_accuracy: 0.5620\n",
            "\n",
            "Epoch 00009: val_accuracy did not improve from 0.61157\n",
            "Epoch 10/100\n",
            "484/484 [==============================] - 45s 92ms/step - loss: 0.2522 - accuracy: 0.8967 - val_loss: 0.6887 - val_accuracy: 0.6364\n",
            "\n",
            "Epoch 00010: val_accuracy improved from 0.61157 to 0.63636, saving model to nor_inf_04jun03.h5\n",
            "Epoch 11/100\n",
            "484/484 [==============================] - 42s 87ms/step - loss: 0.2296 - accuracy: 0.9215 - val_loss: 0.8727 - val_accuracy: 0.5537\n",
            "\n",
            "Epoch 00011: val_accuracy did not improve from 0.63636\n",
            "Epoch 12/100\n",
            "484/484 [==============================] - 42s 87ms/step - loss: 0.2054 - accuracy: 0.9525 - val_loss: 0.9734 - val_accuracy: 0.5455\n",
            "\n",
            "Epoch 00012: val_accuracy did not improve from 0.63636\n",
            "Epoch 13/100\n",
            "484/484 [==============================] - 42s 87ms/step - loss: 0.1861 - accuracy: 0.9504 - val_loss: 0.9799 - val_accuracy: 0.5537\n",
            "\n",
            "Epoch 00013: val_accuracy did not improve from 0.63636\n",
            "Epoch 14/100\n",
            "484/484 [==============================] - 42s 87ms/step - loss: 0.1747 - accuracy: 0.9690 - val_loss: 1.0500 - val_accuracy: 0.5455\n",
            "\n",
            "Epoch 00014: val_accuracy did not improve from 0.63636\n",
            "Epoch 15/100\n",
            "484/484 [==============================] - 42s 86ms/step - loss: 0.1576 - accuracy: 0.9731 - val_loss: 0.9780 - val_accuracy: 0.5702\n",
            "\n",
            "Epoch 00015: val_accuracy did not improve from 0.63636\n",
            "Epoch 16/100\n",
            "484/484 [==============================] - 42s 87ms/step - loss: 0.1421 - accuracy: 0.9814 - val_loss: 1.1025 - val_accuracy: 0.5455\n",
            "\n",
            "Epoch 00016: val_accuracy did not improve from 0.63636\n",
            "Epoch 17/100\n",
            "484/484 [==============================] - 42s 88ms/step - loss: 0.1275 - accuracy: 0.9835 - val_loss: 1.0554 - val_accuracy: 0.5702\n",
            "\n",
            "Epoch 00017: val_accuracy did not improve from 0.63636\n",
            "Epoch 18/100\n",
            "484/484 [==============================] - 42s 86ms/step - loss: 0.1161 - accuracy: 0.9855 - val_loss: 1.0608 - val_accuracy: 0.5620\n",
            "\n",
            "Epoch 00018: val_accuracy did not improve from 0.63636\n",
            "Epoch 19/100\n",
            "484/484 [==============================] - 42s 87ms/step - loss: 0.1038 - accuracy: 0.9917 - val_loss: 1.0855 - val_accuracy: 0.5785\n",
            "\n",
            "Epoch 00019: val_accuracy did not improve from 0.63636\n",
            "Epoch 20/100\n",
            "484/484 [==============================] - 42s 87ms/step - loss: 0.0972 - accuracy: 0.9959 - val_loss: 1.3060 - val_accuracy: 0.5372\n",
            "\n",
            "Epoch 00020: val_accuracy did not improve from 0.63636\n",
            "Epoch 21/100\n",
            "484/484 [==============================] - 42s 87ms/step - loss: 0.0886 - accuracy: 0.9917 - val_loss: 1.1912 - val_accuracy: 0.5455\n",
            "\n",
            "Epoch 00021: val_accuracy did not improve from 0.63636\n",
            "Epoch 22/100\n",
            "484/484 [==============================] - 42s 87ms/step - loss: 0.0784 - accuracy: 0.9979 - val_loss: 1.2679 - val_accuracy: 0.5455\n",
            "\n",
            "Epoch 00022: val_accuracy did not improve from 0.63636\n",
            "Epoch 23/100\n",
            "484/484 [==============================] - 42s 87ms/step - loss: 0.0693 - accuracy: 0.9959 - val_loss: 1.2787 - val_accuracy: 0.5455\n",
            "\n",
            "Epoch 00023: val_accuracy did not improve from 0.63636\n",
            "Epoch 24/100\n",
            "484/484 [==============================] - 45s 93ms/step - loss: 0.0683 - accuracy: 0.9938 - val_loss: 1.3587 - val_accuracy: 0.5455\n",
            "\n",
            "Epoch 00024: val_accuracy did not improve from 0.63636\n",
            "Epoch 25/100\n",
            "484/484 [==============================] - 43s 88ms/step - loss: 0.0575 - accuracy: 0.9979 - val_loss: 1.3198 - val_accuracy: 0.5537\n",
            "\n",
            "Epoch 00025: val_accuracy did not improve from 0.63636\n",
            "Epoch 26/100\n",
            "484/484 [==============================] - 42s 88ms/step - loss: 0.0528 - accuracy: 1.0000 - val_loss: 1.3438 - val_accuracy: 0.5455\n",
            "\n",
            "Epoch 00026: val_accuracy did not improve from 0.63636\n",
            "Epoch 27/100\n",
            "484/484 [==============================] - 43s 88ms/step - loss: 0.0471 - accuracy: 1.0000 - val_loss: 1.4157 - val_accuracy: 0.5455\n",
            "\n",
            "Epoch 00027: val_accuracy did not improve from 0.63636\n",
            "Epoch 28/100\n",
            "484/484 [==============================] - 42s 87ms/step - loss: 0.0406 - accuracy: 1.0000 - val_loss: 1.5128 - val_accuracy: 0.5289\n",
            "\n",
            "Epoch 00028: val_accuracy did not improve from 0.63636\n",
            "Epoch 29/100\n",
            "484/484 [==============================] - 42s 87ms/step - loss: 0.0397 - accuracy: 1.0000 - val_loss: 1.4166 - val_accuracy: 0.5455\n",
            "\n",
            "Epoch 00029: val_accuracy did not improve from 0.63636\n",
            "Epoch 30/100\n",
            "484/484 [==============================] - 42s 88ms/step - loss: 0.0356 - accuracy: 1.0000 - val_loss: 1.5600 - val_accuracy: 0.5207\n",
            "\n",
            "Epoch 00030: val_accuracy did not improve from 0.63636\n",
            "Epoch 31/100\n",
            "484/484 [==============================] - 43s 88ms/step - loss: 0.0337 - accuracy: 1.0000 - val_loss: 1.4636 - val_accuracy: 0.5537\n",
            "\n",
            "Epoch 00031: val_accuracy did not improve from 0.63636\n",
            "Epoch 32/100\n",
            "484/484 [==============================] - 42s 88ms/step - loss: 0.0295 - accuracy: 1.0000 - val_loss: 1.5223 - val_accuracy: 0.5537\n",
            "\n",
            "Epoch 00032: val_accuracy did not improve from 0.63636\n",
            "Epoch 33/100\n",
            "484/484 [==============================] - 42s 88ms/step - loss: 0.0259 - accuracy: 1.0000 - val_loss: 1.5239 - val_accuracy: 0.5620\n",
            "\n",
            "Epoch 00033: val_accuracy did not improve from 0.63636\n",
            "Epoch 34/100\n",
            "484/484 [==============================] - 42s 87ms/step - loss: 0.0249 - accuracy: 1.0000 - val_loss: 1.5338 - val_accuracy: 0.5702\n",
            "\n",
            "Epoch 00034: val_accuracy did not improve from 0.63636\n",
            "Epoch 35/100\n",
            "484/484 [==============================] - 42s 88ms/step - loss: 0.0226 - accuracy: 1.0000 - val_loss: 1.7098 - val_accuracy: 0.5207\n",
            "\n",
            "Epoch 00035: val_accuracy did not improve from 0.63636\n",
            "Epoch 36/100\n",
            "484/484 [==============================] - 42s 86ms/step - loss: 0.0227 - accuracy: 1.0000 - val_loss: 1.6112 - val_accuracy: 0.5702\n",
            "\n",
            "Epoch 00036: val_accuracy did not improve from 0.63636\n",
            "Epoch 00036: early stopping\n"
          ],
          "name": "stdout"
        }
      ]
    },
    {
      "cell_type": "code",
      "metadata": {
        "id": "-xeXepYLsWT6",
        "outputId": "9200b616-ca53-4a78-ee63-d9aec2c01e22",
        "colab": {
          "base_uri": "https://localhost:8080/",
          "height": 295
        }
      },
      "source": [
        "plt.plot(history.history['accuracy'])\n",
        "plt.plot(history.history['val_accuracy'])\n",
        "plt.title('model accuracy')\n",
        "plt.ylabel('accuracy')\n",
        "plt.xlabel('epoch')\n",
        "plt.legend(['train'], loc='upper left')\n",
        "plt.show() "
      ],
      "execution_count": null,
      "outputs": [
        {
          "output_type": "display_data",
          "data": {
            "image/png": "[encoded data removed]",
            "text/plain": [
              "<Figure size 432x288 with 1 Axes>"
            ]
          },
          "metadata": {
            "tags": [],
            "needs_background": "light"
          }
        }
      ]
    },
    {
      "cell_type": "code",
      "metadata": {
        "id": "Cowf-HazuukX",
        "outputId": "455705f5-14ed-434c-fcb3-85f7c0051b6b",
        "colab": {
          "base_uri": "https://localhost:8080/",
          "height": 295
        }
      },
      "source": [
        "plt.plot(history.history['loss'])\n",
        "plt.plot(history.history['val_loss'])\n",
        "plt.title('model loss')\n",
        "plt.ylabel('loss')\n",
        "plt.xlabel('epoch')\n",
        "plt.legend(['train'], loc='upper left')\n",
        "plt.show()"
      ],
      "execution_count": null,
      "outputs": [
        {
          "output_type": "display_data",
          "data": {
            "image/png": "[encoded data removed]",
            "text/plain": [
              "<Figure size 432x288 with 1 Axes>"
            ]
          },
          "metadata": {
            "tags": [],
            "needs_background": "light"
          }
        }
      ]
    },
    {
      "cell_type": "code",
      "metadata": {
        "id": "j6H36uf4n-QR"
      },
      "source": [
        "from keras.models import model_from_json\n",
        "model_json = model.to_json()\n",
        "with open(\"LDN2_w-o.json\", \"w\") as json_file:\n",
        "  json_file.write(model_json)\n",
        "model.save_weights(\"LDN2_w-o.h5\")\n",
        "model.save(\"LDN2_w-o.h5\")\n",
        "json_file.close()"
      ],
      "execution_count": null,
      "outputs": []
    },
    {
      "cell_type": "code",
      "metadata": {
        "id": "CbFvolPKvUY3"
      },
      "source": [
        "model = Sequential()\n",
        "model.add(layers.Conv2D(filters=8,kernel_size=(3,3),input_shape=(256,256,3),strides=1,padding='same'))\n",
        "model.add(layers.BatchNormalization())\n",
        "model.add(layers.LeakyReLU(alpha=0.1))\n",
        "\n",
        "model.add(layers.MaxPooling2D(pool_size=(2,2),strides=2))\n",
        "\n",
        "model.add(layers.Conv2D(filters=16,kernel_size=(3,3),strides=1,padding='same'))\n",
        "model.add(layers.BatchNormalization())\n",
        "model.add(layers.LeakyReLU(alpha=0.1))\n",
        "\n",
        "model.add(layers.MaxPooling2D(pool_size=(2,2),strides=2))\n",
        "\n",
        "model.add(layers.Conv2D(filters=32,kernel_size=(3,3),strides=1,padding='same'))\n",
        "model.add(layers.BatchNormalization())\n",
        "model.add(layers.LeakyReLU(alpha=0.1))\n",
        "model.add(layers.Conv2D(filters=32,kernel_size=(1,1),strides=1,padding='same'))\n",
        "model.add(layers.BatchNormalization())\n",
        "model.add(layers.LeakyReLU(alpha=0.1))\n",
        "model.add(layers.Conv2D(filters=32,kernel_size=(3,3),strides=1,padding='same'))\n",
        "model.add(layers.BatchNormalization())\n",
        "model.add(layers.LeakyReLU(alpha=0.1))\n",
        "\n",
        "model.add(layers.MaxPooling2D(pool_size=(2,2),strides=2))\n",
        "\n",
        "model.add(layers.Conv2D(filters=16,kernel_size=(3,3),strides=1,padding='same'))\n",
        "model.add(layers.BatchNormalization())\n",
        "model.add(layers.LeakyReLU(alpha=0.1))\n",
        "\n",
        "model.add(layers.Conv2D(filters=32,kernel_size=(3,3),strides=1,padding='same'))\n",
        "model.add(layers.BatchNormalization())\n",
        "model.add(layers.LeakyReLU(alpha=0.1))\n",
        "\n",
        "model.add(layers.Conv2D(filters=2,kernel_size=(3,3),strides=1,padding='same'))\n",
        " \n",
        "model.add(layers.Flatten())\n",
        " \n",
        "model.add(layers.Dense(1, activation='sigmoid'))\n",
        "model.load_weights('LDN2_w-o.h5')"
      ],
      "execution_count": null,
      "outputs": []
    },
    {
      "cell_type": "code",
      "metadata": {
        "id": "Eh6zzmDUe_ms"
      },
      "source": [
        "\n",
        "v=np.zeros(shape=(1500,1))\n",
        "c=np.ones(shape=(100,1))\n",
        "\n",
        "\n",
        "x_test=np.concatenate((x_bacterial[1000:1010],x_viral[1070:1085],x_covid[200:215]))\n",
        "y_test=np.concatenate((v[0:20],c[0:20]))\n"
      ],
      "execution_count": null,
      "outputs": []
    },
    {
      "cell_type": "code",
      "metadata": {
        "id": "zvj1ibXg0GMk"
      },
      "source": [
        "model.compile(loss='binary_crossentropy', optimizer='adam', metrics=['accuracy'])\n",
        "_, test_acc = model.evaluate(x_test, y_test, verbose=0)"
      ],
      "execution_count": null,
      "outputs": []
    },
    {
      "cell_type": "code",
      "metadata": {
        "id": "1LS0CkKA0J7K",
        "outputId": "ce9d3fff-e0ea-47ae-c307-d70724f888af",
        "colab": {
          "base_uri": "https://localhost:8080/",
          "height": 51
        }
      },
      "source": [
        "print(\"test accuracy: \",test_acc,)\n",
        "print(\"test loss    : \",_)"
      ],
      "execution_count": null,
      "outputs": [
        {
          "output_type": "stream",
          "text": [
            "test accuracy:  0.5\n",
            "test loss    :  3.6051055908203127\n"
          ],
          "name": "stdout"
        }
      ]
    },
    {
      "cell_type": "code",
      "metadata": {
        "id": "Rb2sZDPe4dw2"
      },
      "source": [
        "y_pred=model.predict(x_test)"
      ],
      "execution_count": null,
      "outputs": []
    },
    {
      "cell_type": "code",
      "metadata": {
        "id": "0v45NC3z2L2B",
        "outputId": "9e868338-65c9-4bb5-df06-339bbca7cbdf",
        "colab": {
          "base_uri": "https://localhost:8080/",
          "height": 34
        }
      },
      "source": [
        "y_pred.shape"
      ],
      "execution_count": null,
      "outputs": [
        {
          "output_type": "execute_result",
          "data": {
            "text/plain": [
              "(40, 1)"
            ]
          },
          "metadata": {
            "tags": []
          },
          "execution_count": 209
        }
      ]
    },
    {
      "cell_type": "code",
      "metadata": {
        "id": "BGiSlBbM2KGT"
      },
      "source": [
        "y_pred[0]\n",
        "classes = np.argmax(y_pred,axis=-1)"
      ],
      "execution_count": null,
      "outputs": []
    },
    {
      "cell_type": "code",
      "metadata": {
        "id": "nhBq6GsKNoT4",
        "colab": {
          "base_uri": "https://localhost:8080/",
          "height": 34
        },
        "outputId": "914a5608-7c47-4d07-dba5-00eb6a756cf6"
      },
      "source": [
        "(type)(classes)\n",
        "classes.shape"
      ],
      "execution_count": null,
      "outputs": [
        {
          "output_type": "execute_result",
          "data": {
            "text/plain": [
              "(40,)"
            ]
          },
          "metadata": {
            "tags": []
          },
          "execution_count": 211
        }
      ]
    },
    {
      "cell_type": "code",
      "metadata": {
        "id": "ItqJoIy_3G9i",
        "outputId": "fa6df705-1f99-4d48-f788-c0b4237ea894",
        "colab": {
          "base_uri": "https://localhost:8080/",
          "height": 34
        }
      },
      "source": [
        "label = []\n",
        "for i in y_pred:\n",
        "  if i>0.5:\n",
        "    label.append(1)\n",
        "  else :\n",
        "    label.append(0)\n",
        "print(len(label))\n",
        "label = np.asarray(label)\n",
        "label=label.reshape(-1,1)"
      ],
      "execution_count": null,
      "outputs": [
        {
          "output_type": "stream",
          "text": [
            "40\n"
          ],
          "name": "stdout"
        }
      ]
    },
    {
      "cell_type": "code",
      "metadata": {
        "id": "V9DSqX4ekAFM"
      },
      "source": [
        "y_test=np.asarray(y_test)"
      ],
      "execution_count": null,
      "outputs": []
    },
    {
      "cell_type": "code",
      "metadata": {
        "id": "AEb3qYHXdUk6"
      },
      "source": [
        "import sklearn\n",
        "test_acc=sklearn.metrics.accuracy_score(y_test, label)"
      ],
      "execution_count": null,
      "outputs": []
    },
    {
      "cell_type": "code",
      "metadata": {
        "id": "1ox3kfsIdch9",
        "colab": {
          "base_uri": "https://localhost:8080/",
          "height": 34
        },
        "outputId": "515d8e79-4051-464a-92b4-2fee3de8822e"
      },
      "source": [
        "test_acc"
      ],
      "execution_count": null,
      "outputs": [
        {
          "output_type": "execute_result",
          "data": {
            "text/plain": [
              "0.5"
            ]
          },
          "metadata": {
            "tags": []
          },
          "execution_count": 215
        }
      ]
    },
    {
      "cell_type": "code",
      "metadata": {
        "id": "cVRopZwj0NdQ",
        "outputId": "743b76cd-9de8-40f4-ac95-178786c0ae37",
        "colab": {
          "base_uri": "https://localhost:8080/",
          "height": 51
        }
      },
      "source": [
        "from sklearn.metrics import confusion_matrix\n",
        "print(confusion_matrix(y_test,label))"
      ],
      "execution_count": null,
      "outputs": [
        {
          "output_type": "stream",
          "text": [
            "[[20  0]\n",
            " [20  0]]\n"
          ],
          "name": "stdout"
        }
      ]
    },
    {
      "cell_type": "code",
      "metadata": {
        "id": "HgjUHW2Vdh0N",
        "colab": {
          "base_uri": "https://localhost:8080/",
          "height": 583
        },
        "outputId": "a763021c-2b8b-4dd0-f8e2-5c251a37de24"
      },
      "source": [
        "from sklearn.metrics import confusion_matrix\n",
        "cm = confusion_matrix(y_test,label)\n",
        "\n",
        "import seaborn as sns\n",
        "df_cm = pd.DataFrame(cm, columns=['Bacterial Pneumonia','Viral Pnenumonia'], index =['Bacterial Pneumonia','Viral  Pnenumonia'])\n",
        "df_cm.index.name = 'Actual'\n",
        "df_cm.columns.name = 'Predicted'\n",
        "plt.figure(figsize = (10,7))\n",
        "sns.set(font_scale=1.4)#for label size\n",
        "sns.heatmap(df_cm, cmap=\"Blues\", annot=True,annot_kws={\"size\": 16},fmt='d')\n",
        "\n",
        "\n",
        "\n",
        "\n",
        "fp=cm[1][0]\n",
        "fn=cm[0][1]\n",
        "tp=cm[0][0]\n",
        "tn=cm[1][1]\n",
        "print(\"-----------------------------------\")\n",
        "print(\"TP : \",tp)\n",
        "print(\"TN : \",tn)\n",
        "print(\"FP : \",fp)\n",
        "print(\"FN : \",fn)\n",
        "print(\"sensitivity : \",tp/(float)((tp+fn)))\n",
        "print(\"specificity : \",tn/(float)((tn+fp)))\n",
        "sn=tp/(float)((tp+fn))\n",
        "sp=tn/(float)((tn+fp))\n"
      ],
      "execution_count": null,
      "outputs": [
        {
          "output_type": "stream",
          "text": [
            "-----------------------------------\n",
            "TP :  20\n",
            "TN :  0\n",
            "FP :  20\n",
            "FN :  0\n",
            "sensitivity :  1.0\n",
            "specificity :  0.0\n"
          ],
          "name": "stdout"
        },
        {
          "output_type": "display_data",
          "data": {
            "image/png": "[encoded data removed]",
            "text/plain": [
              "<Figure size 720x504 with 2 Axes>"
            ]
          },
          "metadata": {
            "tags": []
          }
        }
      ]
    },
    {
      "cell_type": "code",
      "metadata": {
        "id": "1lnljIk2ekJ1"
      },
      "source": [
        ""
      ],
      "execution_count": null,
      "outputs": []
    },
    {
      "cell_type": "markdown",
      "metadata": {
        "id": "Dy7kzgt9A_VK"
      },
      "source": [
        "TMC XRAY images"
      ]
    },
    {
      "cell_type": "code",
      "metadata": {
        "id": "eGx-0At1Bg-Z",
        "outputId": "d8c51896-0ece-4bcf-c840-04499ff71466",
        "colab": {
          "base_uri": "https://localhost:8080/",
          "height": 50
        }
      },
      "source": [
        "print(len(x_samples))\n",
        "print(len(y_samples))"
      ],
      "execution_count": null,
      "outputs": [
        {
          "output_type": "stream",
          "text": [
            "8\n",
            "8\n"
          ],
          "name": "stdout"
        }
      ]
    },
    {
      "cell_type": "code",
      "metadata": {
        "id": "oQOoEuCQBnfE"
      },
      "source": [
        "for i in range(8):\n",
        "    img = x_samples[i]\n",
        "    lab = cv2.cvtColor(img, cv2.COLOR_BGR2LAB)\n",
        "\n",
        "    lab_planes = cv2.split(lab)\n",
        "\n",
        "    clahe = cv2.createCLAHE(clipLimit=2.0,tileGridSize=(16,16))\n",
        "\n",
        "    lab_planes[0] = clahe.apply(lab_planes[0])\n",
        "\n",
        "    lab = cv2.merge(lab_planes)\n",
        "\n",
        "    img = cv2.cvtColor(lab, cv2.COLOR_LAB2BGR) \n",
        "    \"\"\"img = np.power(img, gamma)\"\"\" \n",
        "    x_samples[i]=img"
      ],
      "execution_count": null,
      "outputs": []
    },
    {
      "cell_type": "code",
      "metadata": {
        "id": "eeRazE34CJsO",
        "outputId": "6feff53e-5c1c-4c89-a5a9-01ba6ac36e22",
        "colab": {
          "base_uri": "https://localhost:8080/",
          "height": 34
        }
      },
      "source": [
        "print('Shape of sample images: ', x_samples[0].shape)"
      ],
      "execution_count": null,
      "outputs": [
        {
          "output_type": "stream",
          "text": [
            "Shape of sample images:  (256, 256, 3)\n"
          ],
          "name": "stdout"
        }
      ]
    },
    {
      "cell_type": "code",
      "metadata": {
        "id": "FL9M3M32CL5D",
        "outputId": "3412e89a-9b02-4ed1-ae13-e233e99aff6d",
        "colab": {
          "base_uri": "https://localhost:8080/",
          "height": 34
        }
      },
      "source": [
        "x_samples=np.array(x_samples)\n",
        "print(x_samples.shape)"
      ],
      "execution_count": null,
      "outputs": [
        {
          "output_type": "stream",
          "text": [
            "(8, 256, 256, 3)\n"
          ],
          "name": "stdout"
        }
      ]
    },
    {
      "cell_type": "code",
      "metadata": {
        "id": "HhP9PcWhCnLh"
      },
      "source": [
        "y_samples_pred=model.predict(x_samples)"
      ],
      "execution_count": null,
      "outputs": []
    },
    {
      "cell_type": "code",
      "metadata": {
        "id": "MSMM1CfmCs6_",
        "outputId": "52f7f98a-6d63-41e1-a2c1-2928b804bf35",
        "colab": {
          "base_uri": "https://localhost:8080/",
          "height": 34
        }
      },
      "source": [
        "sample_labels = []\n",
        "for i in y_samples_pred:\n",
        "  if i>0.5:\n",
        "    sample_labels.append('infected')\n",
        "  else :\n",
        "    sample_labels.append('normal') \n",
        "print(len(sample_labels))\n",
        "sample_labels = np.asarray(sample_labels)\n",
        "sample_labels=sample_labels.reshape(-1,1)"
      ],
      "execution_count": null,
      "outputs": [
        {
          "output_type": "stream",
          "text": [
            "8\n"
          ],
          "name": "stdout"
        }
      ]
    },
    {
      "cell_type": "code",
      "metadata": {
        "id": "Y1yEIQM8Ds7D",
        "outputId": "c033c2d0-1f0e-4e99-fcb0-bee9d8c9942e",
        "colab": {
          "base_uri": "https://localhost:8080/",
          "height": 151
        }
      },
      "source": [
        "print(y_samples_pred)"
      ],
      "execution_count": null,
      "outputs": [
        {
          "output_type": "stream",
          "text": [
            "[[1.       ]\n",
            " [1.       ]\n",
            " [0.9999982]\n",
            " [1.       ]\n",
            " [1.       ]\n",
            " [1.       ]\n",
            " [1.       ]\n",
            " [1.       ]]\n"
          ],
          "name": "stdout"
        }
      ]
    },
    {
      "cell_type": "code",
      "metadata": {
        "id": "z8ueqkP-DY-X",
        "outputId": "707689e7-2609-4eea-f7af-1f9b0cfe02a9",
        "colab": {
          "base_uri": "https://localhost:8080/",
          "height": 34
        }
      },
      "source": [
        "print(sample_labels.shape)"
      ],
      "execution_count": null,
      "outputs": [
        {
          "output_type": "stream",
          "text": [
            "(8, 1)\n"
          ],
          "name": "stdout"
        }
      ]
    },
    {
      "cell_type": "code",
      "metadata": {
        "id": "cEZnXmUvCVB6",
        "outputId": "c648e7ad-4d54-492f-cd92-c185e1c05b2c",
        "colab": {
          "base_uri": "https://localhost:8080/",
          "height": 151
        }
      },
      "source": [
        "print(sample_labels)"
      ],
      "execution_count": null,
      "outputs": [
        {
          "output_type": "stream",
          "text": [
            "[['infected']\n",
            " ['infected']\n",
            " ['infected']\n",
            " ['infected']\n",
            " ['infected']\n",
            " ['infected']\n",
            " ['infected']\n",
            " ['infected']]\n"
          ],
          "name": "stdout"
        }
      ]
    }
  ]
}