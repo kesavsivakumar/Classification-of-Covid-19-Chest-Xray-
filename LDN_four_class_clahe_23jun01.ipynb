{
  "nbformat": 4,
  "nbformat_minor": 0,
  "metadata": {
    "colab": {
      "name": "LDN_four_class_clahe_23jun01.ipynb",
      "provenance": [],
      "collapsed_sections": []
    },
    "kernelspec": {
      "name": "python3",
      "display_name": "Python 3"
    }
  },
  "cells": [
    {
      "cell_type": "code",
      "metadata": {
        "id": "UvDwAAtl7sgN"
      },
      "source": [
        "import cv2\n",
        "import numpy as np\n",
        "import matplotlib.pyplot as plt\n",
        "import os\n",
        "import tensorflow\n",
        "import glob\n",
        "import pickle\n",
        "import pandas as pd"
      ],
      "execution_count": null,
      "outputs": []
    },
    {
      "cell_type": "code",
      "metadata": {
        "id": "AnXI4TC873L9",
        "colab": {
          "base_uri": "https://localhost:8080/",
          "height": 122
        },
        "outputId": "ee61ec0b-95b4-4574-a3b9-dd89dbb7a499"
      },
      "source": [
        "from google.colab import drive\n",
        "drive.mount('/content/drive')"
      ],
      "execution_count": null,
      "outputs": [
        {
          "output_type": "stream",
          "text": [
            "Go to this URL in a browser: https://accounts.google.com/o/oauth2/auth?client_id=947318989803-6bn6qk8qdgf4n4g3pfee6491hc0brc4i.apps.googleusercontent.com&redirect_uri=urn%3aietf%3awg%3aoauth%3a2.0%3aoob&response_type=code&scope=email%20https%3a%2f%2fwww.googleapis.com%2fauth%2fdocs.test%20https%3a%2f%2fwww.googleapis.com%2fauth%2fdrive%20https%3a%2f%2fwww.googleapis.com%2fauth%2fdrive.photos.readonly%20https%3a%2f%2fwww.googleapis.com%2fauth%2fpeopleapi.readonly\n",
            "\n",
            "Enter your authorization code:\n",
            "··········\n",
            "Mounted at /content/drive\n"
          ],
          "name": "stdout"
        }
      ]
    },
    {
      "cell_type": "code",
      "metadata": {
        "id": "1PjbCETF76_o",
        "colab": {
          "base_uri": "https://localhost:8080/",
          "height": 34
        },
        "outputId": "ecc40b0e-ee90-4407-bd2d-b8383278c093"
      },
      "source": [
        "cd drive\n"
      ],
      "execution_count": null,
      "outputs": [
        {
          "output_type": "stream",
          "text": [
            "/content/drive\n"
          ],
          "name": "stdout"
        }
      ]
    },
    {
      "cell_type": "code",
      "metadata": {
        "id": "POEzVppk8EJY",
        "colab": {
          "base_uri": "https://localhost:8080/",
          "height": 34
        },
        "outputId": "eb91fb12-f869-4258-c0e8-9c8a35c292a5"
      },
      "source": [
        "cd My Drive"
      ],
      "execution_count": null,
      "outputs": [
        {
          "output_type": "stream",
          "text": [
            "/content/drive/My Drive\n"
          ],
          "name": "stdout"
        }
      ]
    },
    {
      "cell_type": "code",
      "metadata": {
        "id": "RAOwetVe5G8I",
        "colab": {
          "base_uri": "https://localhost:8080/",
          "height": 34
        },
        "outputId": "c3cadcc0-30ac-4604-a3cf-b2eeae131588"
      },
      "source": [
        "cd data"
      ],
      "execution_count": null,
      "outputs": [
        {
          "output_type": "stream",
          "text": [
            "/content/drive/My Drive/data\n"
          ],
          "name": "stdout"
        }
      ]
    },
    {
      "cell_type": "code",
      "metadata": {
        "id": "SO6YAzNZ3bsl"
      },
      "source": [
        "x_normal = np.load('x_normal.npy')\n",
        "\n",
        "x_viral = np.load('x_viral.npy')\n",
        "\n",
        "x_bacterial = np.load('x_bacterial.npy')\n",
        "\n",
        "x_covid = np.load('x_covid.npy')\n"
      ],
      "execution_count": null,
      "outputs": []
    },
    {
      "cell_type": "code",
      "metadata": {
        "id": "k5RKI4PBTu51"
      },
      "source": [
        "y_normal = []\n",
        "y_viral = []\n",
        "y_bacterial = []\n",
        "y_covid = []"
      ],
      "execution_count": null,
      "outputs": []
    },
    {
      "cell_type": "code",
      "metadata": {
        "id": "08EW481n5dZ_",
        "colab": {
          "base_uri": "https://localhost:8080/",
          "height": 85
        },
        "outputId": "e19ced33-25d8-40ba-cea5-f617709c5236"
      },
      "source": [
        "print(x_normal.shape)\n",
        "print(x_viral.shape)\n",
        "print(x_bacterial.shape)\n",
        "print(x_covid.shape)"
      ],
      "execution_count": null,
      "outputs": [
        {
          "output_type": "stream",
          "text": [
            "(1583, 256, 256, 3)\n",
            "(1504, 256, 256, 3)\n",
            "(2786, 256, 256, 3)\n",
            "(301, 256, 256, 3)\n"
          ],
          "name": "stdout"
        }
      ]
    },
    {
      "cell_type": "code",
      "metadata": {
        "id": "HcctO90z6xs2"
      },
      "source": [
        "import random\n",
        "x_train=[]\n",
        "y_train=[]\n",
        "x_test = []\n",
        "y_test = []"
      ],
      "execution_count": null,
      "outputs": []
    },
    {
      "cell_type": "code",
      "metadata": {
        "id": "AlrYjGRz67XQ"
      },
      "source": [
        "nums = random.sample(range(0, 2786), 150)\n",
        "for i in nums:\n",
        "  x_train.append(x_bacterial[i])\n",
        "  y_train.append(1)\n",
        "\n",
        "total = [i for i in range(0,2786)]\n",
        "test_nums = random.sample(list((set)(total)-(set)(nums)),20)\n",
        "\n",
        "for i in test_nums:\n",
        "  x_test.append(x_bacterial[i])\n",
        "  y_test.append(1)"
      ],
      "execution_count": null,
      "outputs": []
    },
    {
      "cell_type": "markdown",
      "metadata": {
        "id": "lHHgErOSmiom"
      },
      "source": [
        ""
      ]
    },
    {
      "cell_type": "code",
      "metadata": {
        "id": "J5o5_xOy7HPZ"
      },
      "source": [
        "nums = random.sample(range(0, 1504), 150)\n",
        "for i in nums:\n",
        "  x_train.append(x_viral[i])\n",
        "  y_train.append(2)\n",
        "\n",
        "total = [i for i in range(0,1504)]\n",
        "test_nums = random.sample(list((set)(total)-(set)(nums)),20)\n",
        "\n",
        "for i in test_nums:\n",
        "  x_test.append(x_viral[i])\n",
        "  y_test.append(2)"
      ],
      "execution_count": null,
      "outputs": []
    },
    {
      "cell_type": "code",
      "metadata": {
        "id": "b4S_MWzz7k2V"
      },
      "source": [
        "nums = random.sample(range(0, 301), 150)\n",
        "for i in nums:\n",
        "  x_train.append(x_covid[i])\n",
        "  y_train.append(3)\n",
        "\n",
        "total = [i for i in range(0,301)]\n",
        "test_nums = random.sample(list((set)(total)-(set)(nums)),20)\n",
        "\n",
        "for i in test_nums:\n",
        "  x_test.append(x_covid[i])\n",
        "  y_test.append(3)"
      ],
      "execution_count": null,
      "outputs": []
    },
    {
      "cell_type": "code",
      "metadata": {
        "id": "psqfzptI7zzz"
      },
      "source": [
        "nums = random.sample(range(0, 1583), 450)\n",
        "for i in nums:\n",
        "  x_train.append(x_normal[i])\n",
        "  y_train.append(0)\n",
        "\n",
        "total = [i for i in range(0,1583)]\n",
        "test_nums = random.sample(list((set)(total)-(set)(nums)),20)\n",
        "\n",
        "for i in test_nums:\n",
        "  x_test.append(x_normal[i])\n",
        "  y_test.append(0)"
      ],
      "execution_count": null,
      "outputs": []
    },
    {
      "cell_type": "code",
      "metadata": {
        "id": "j_64yKM08yHw",
        "colab": {
          "base_uri": "https://localhost:8080/",
          "height": 85
        },
        "outputId": "703e1dc9-6088-4145-b893-a390463e9806"
      },
      "source": [
        "print(len(x_train))\n",
        "print(len(y_train))\n",
        "print(len(x_test))\n",
        "print(len(y_test))"
      ],
      "execution_count": null,
      "outputs": [
        {
          "output_type": "stream",
          "text": [
            "900\n",
            "900\n",
            "80\n",
            "80\n"
          ],
          "name": "stdout"
        }
      ]
    },
    {
      "cell_type": "code",
      "metadata": {
        "id": "g8Wsxu3n9Ji2"
      },
      "source": [
        "x_train = np.asarray(x_train)\n",
        "y_train= np.asarray(y_train)\n",
        "x_test = np.asarray(x_test)\n",
        "y_test = np.asarray(y_test)"
      ],
      "execution_count": null,
      "outputs": []
    },
    {
      "cell_type": "code",
      "metadata": {
        "id": "gz4V0fqaWWNO",
        "colab": {
          "base_uri": "https://localhost:8080/",
          "height": 34
        },
        "outputId": "c1f2b786-186a-4f8a-aaae-1d1636c08dd3"
      },
      "source": [
        "for i in range(len(x_train)):\n",
        "    img = x_train[i]\n",
        "    lab = cv2.cvtColor(img, cv2.COLOR_BGR2LAB)\n",
        "\n",
        "    lab_planes = cv2.split(lab)\n",
        "\n",
        "    clahe = cv2.createCLAHE(clipLimit=2.0,tileGridSize=(16,16))\n",
        "\n",
        "    lab_planes[0] = clahe.apply(lab_planes[0])\n",
        "\n",
        "    lab = cv2.merge(lab_planes)\n",
        "\n",
        "    img = cv2.cvtColor(lab, cv2.COLOR_LAB2BGR)  \n",
        "    x_train[i]=img\n",
        "\n",
        "print('Shape of train images: ', x_train[0].shape)"
      ],
      "execution_count": null,
      "outputs": [
        {
          "output_type": "stream",
          "text": [
            "Shape of train images:  (256, 256, 3)\n"
          ],
          "name": "stdout"
        }
      ]
    },
    {
      "cell_type": "code",
      "metadata": {
        "id": "ZZ8-xcZTWfGi",
        "colab": {
          "base_uri": "https://localhost:8080/",
          "height": 34
        },
        "outputId": "64bacd76-46a3-446d-cdbf-fd9f911ab820"
      },
      "source": [
        "for i in range(len(x_test)):\n",
        "    img = x_test[i]\n",
        "    lab = cv2.cvtColor(img, cv2.COLOR_BGR2LAB)\n",
        "\n",
        "    lab_planes = cv2.split(lab)\n",
        "\n",
        "    clahe = cv2.createCLAHE(clipLimit=2.0,tileGridSize=(16,16))\n",
        "\n",
        "    lab_planes[0] = clahe.apply(lab_planes[0])\n",
        "\n",
        "    lab = cv2.merge(lab_planes)\n",
        "\n",
        "    img = cv2.cvtColor(lab, cv2.COLOR_LAB2BGR)  \n",
        "    x_test[i]=img\n",
        "\n",
        "print('Shape of train images: ', x_train[0].shape)"
      ],
      "execution_count": null,
      "outputs": [
        {
          "output_type": "stream",
          "text": [
            "Shape of train images:  (256, 256, 3)\n"
          ],
          "name": "stdout"
        }
      ]
    },
    {
      "cell_type": "code",
      "metadata": {
        "id": "juCPmUaYWqBI",
        "colab": {
          "base_uri": "https://localhost:8080/",
          "height": 85
        },
        "outputId": "c08477ee-b4b8-4c1c-f7ef-ddc5b856de16"
      },
      "source": [
        "print(x_train.shape)\n",
        "print(x_test.shape)\n",
        "print(y_train.shape)\n",
        "print(y_test.shape)"
      ],
      "execution_count": null,
      "outputs": [
        {
          "output_type": "stream",
          "text": [
            "(900, 256, 256, 3)\n",
            "(80, 256, 256, 3)\n",
            "(900,)\n",
            "(80,)\n"
          ],
          "name": "stdout"
        }
      ]
    },
    {
      "cell_type": "code",
      "metadata": {
        "id": "SU9BtfLgQkTP"
      },
      "source": [
        "from keras.models import Sequential\n",
        "from keras import layers\n",
        "from keras.optimizers import adam\n",
        "from keras.callbacks import EarlyStopping\n",
        "from keras.callbacks import ModelCheckpoint"
      ],
      "execution_count": null,
      "outputs": []
    },
    {
      "cell_type": "code",
      "metadata": {
        "id": "kEwmd9ggQm8s"
      },
      "source": [
        "    model = Sequential()\n",
        "    model.add(layers.Conv2D(filters=8,kernel_size=(3,3),input_shape=(256,256,3),strides=1,padding='same'))\n",
        "    model.add(layers.BatchNormalization())\n",
        "    model.add(layers.LeakyReLU(alpha=0.1))\n",
        "    \n",
        "    model.add(layers.MaxPooling2D(pool_size=(2,2),strides=2))\n",
        "    \n",
        "    model.add(layers.Conv2D(filters=16,kernel_size=(3,3),strides=1,padding='same'))\n",
        "    model.add(layers.BatchNormalization())\n",
        "    model.add(layers.LeakyReLU(alpha=0.1))\n",
        "    model.add(layers.Conv2D(filters=16,kernel_size=(1,1),strides=1,padding='same'))\n",
        "    model.add(layers.BatchNormalization())\n",
        "    model.add(layers.LeakyReLU(alpha=0.1))\n",
        "    model.add(layers.Conv2D(filters=16,kernel_size=(3,3),strides=1,padding='same'))\n",
        "    model.add(layers.BatchNormalization())\n",
        "    model.add(layers.LeakyReLU(alpha=0.1))\n",
        " \n",
        "    model.add(layers.MaxPooling2D(pool_size=(2,2),strides=2))\n",
        "    \n",
        "    model.add(layers.Conv2D(filters=32,kernel_size=(3,3),strides=1,padding='same'))\n",
        "    model.add(layers.BatchNormalization())\n",
        "    model.add(layers.LeakyReLU(alpha=0.1))\n",
        "    \n",
        "    model.add(layers.Conv2D(filters=2,kernel_size=(3,3),strides=1,padding='same'))\n",
        "    model.add(layers.Flatten())\n",
        "\n",
        "    #model.add(layers.Dense(64, activation='relu')) \n",
        "    model.add(layers.Dense(4, activation='sigmoid'))"
      ],
      "execution_count": null,
      "outputs": []
    },
    {
      "cell_type": "code",
      "metadata": {
        "id": "pY09bG_KKmgE"
      },
      "source": [
        "from sklearn.preprocessing import OneHotEncoder\n",
        "enc = OneHotEncoder(handle_unknown='ignore')\n",
        "y=y_train.reshape(-1,1)\n",
        "yfunc=enc.fit(y)\n",
        "y_binary=enc.transform(y).toarray()"
      ],
      "execution_count": null,
      "outputs": []
    },
    {
      "cell_type": "code",
      "metadata": {
        "id": "hqLCKBkKZ-e_"
      },
      "source": [
        "opt = adam(learning_rate=0.0001)"
      ],
      "execution_count": null,
      "outputs": []
    },
    {
      "cell_type": "code",
      "metadata": {
        "id": "UfSStPVdBFol"
      },
      "source": [
        "model.compile(optimizer=opt, loss='binary_crossentropy', metrics=['accuracy'])"
      ],
      "execution_count": null,
      "outputs": []
    },
    {
      "cell_type": "code",
      "metadata": {
        "id": "Arwbt5LXUSJi",
        "colab": {
          "base_uri": "https://localhost:8080/",
          "height": 1000
        },
        "outputId": "bfd776f8-8780-42a8-a81b-3ce4186e9d55"
      },
      "source": [
        "es = EarlyStopping(monitor='val_loss', mode='min', verbose=1,patience=32)\n",
        "mc = ModelCheckpoint('ldn_4class_24jun01_clahe.h5', monitor='val_accuracy',mode='max', verbose=1, save_best_only=True)\n",
        "history=model.fit(x_train,y_binary,batch_size=16,epochs=100, validation_split=0.2,callbacks=[es,mc],shuffle=True)"
      ],
      "execution_count": null,
      "outputs": [
        {
          "output_type": "stream",
          "text": [
            "Train on 720 samples, validate on 180 samples\n",
            "Epoch 1/100\n",
            "720/720 [==============================] - 58s 81ms/step - loss: 0.5807 - accuracy: 0.7236 - val_loss: 0.4544 - val_accuracy: 0.8653\n",
            "\n",
            "Epoch 00001: val_accuracy improved from -inf to 0.86528, saving model to ldn_4class_24jun01_clahe.h5\n",
            "Epoch 2/100\n",
            "720/720 [==============================] - 58s 80ms/step - loss: 0.3722 - accuracy: 0.8392 - val_loss: 0.3769 - val_accuracy: 0.9194\n",
            "\n",
            "Epoch 00002: val_accuracy improved from 0.86528 to 0.91944, saving model to ldn_4class_24jun01_clahe.h5\n",
            "Epoch 3/100\n",
            "720/720 [==============================] - 58s 80ms/step - loss: 0.2659 - accuracy: 0.8892 - val_loss: 0.3427 - val_accuracy: 0.8833\n",
            "\n",
            "Epoch 00003: val_accuracy did not improve from 0.91944\n",
            "Epoch 4/100\n",
            "720/720 [==============================] - 58s 80ms/step - loss: 0.2163 - accuracy: 0.9118 - val_loss: 0.2773 - val_accuracy: 0.9083\n",
            "\n",
            "Epoch 00004: val_accuracy did not improve from 0.91944\n",
            "Epoch 5/100\n",
            "720/720 [==============================] - 58s 80ms/step - loss: 0.1851 - accuracy: 0.9247 - val_loss: 0.1510 - val_accuracy: 0.9653\n",
            "\n",
            "Epoch 00005: val_accuracy improved from 0.91944 to 0.96528, saving model to ldn_4class_24jun01_clahe.h5\n",
            "Epoch 6/100\n",
            "720/720 [==============================] - 58s 80ms/step - loss: 0.1600 - accuracy: 0.9399 - val_loss: 0.1405 - val_accuracy: 0.9625\n",
            "\n",
            "Epoch 00006: val_accuracy did not improve from 0.96528\n",
            "Epoch 7/100\n",
            "720/720 [==============================] - 58s 80ms/step - loss: 0.1398 - accuracy: 0.9493 - val_loss: 0.1882 - val_accuracy: 0.9250\n",
            "\n",
            "Epoch 00007: val_accuracy did not improve from 0.96528\n",
            "Epoch 8/100\n",
            "720/720 [==============================] - 58s 80ms/step - loss: 0.1199 - accuracy: 0.9590 - val_loss: 0.1370 - val_accuracy: 0.9556\n",
            "\n",
            "Epoch 00008: val_accuracy did not improve from 0.96528\n",
            "Epoch 9/100\n",
            "720/720 [==============================] - 58s 81ms/step - loss: 0.1054 - accuracy: 0.9677 - val_loss: 0.1132 - val_accuracy: 0.9611\n",
            "\n",
            "Epoch 00009: val_accuracy did not improve from 0.96528\n",
            "Epoch 10/100\n",
            "720/720 [==============================] - 60s 83ms/step - loss: 0.0925 - accuracy: 0.9740 - val_loss: 0.1275 - val_accuracy: 0.9556\n",
            "\n",
            "Epoch 00010: val_accuracy did not improve from 0.96528\n",
            "Epoch 11/100\n",
            "720/720 [==============================] - 58s 81ms/step - loss: 0.0786 - accuracy: 0.9819 - val_loss: 0.1620 - val_accuracy: 0.9403\n",
            "\n",
            "Epoch 00011: val_accuracy did not improve from 0.96528\n",
            "Epoch 12/100\n",
            "720/720 [==============================] - 58s 80ms/step - loss: 0.0705 - accuracy: 0.9844 - val_loss: 0.1502 - val_accuracy: 0.9458\n",
            "\n",
            "Epoch 00012: val_accuracy did not improve from 0.96528\n",
            "Epoch 13/100\n",
            "720/720 [==============================] - 58s 80ms/step - loss: 0.0605 - accuracy: 0.9882 - val_loss: 0.1490 - val_accuracy: 0.9431\n",
            "\n",
            "Epoch 00013: val_accuracy did not improve from 0.96528\n",
            "Epoch 14/100\n",
            "720/720 [==============================] - 58s 80ms/step - loss: 0.0539 - accuracy: 0.9913 - val_loss: 0.1186 - val_accuracy: 0.9583\n",
            "\n",
            "Epoch 00014: val_accuracy did not improve from 0.96528\n",
            "Epoch 15/100\n",
            "720/720 [==============================] - 58s 80ms/step - loss: 0.0466 - accuracy: 0.9948 - val_loss: 0.1248 - val_accuracy: 0.9583\n",
            "\n",
            "Epoch 00015: val_accuracy did not improve from 0.96528\n",
            "Epoch 16/100\n",
            "720/720 [==============================] - 58s 81ms/step - loss: 0.0397 - accuracy: 0.9972 - val_loss: 0.1397 - val_accuracy: 0.9500\n",
            "\n",
            "Epoch 00016: val_accuracy did not improve from 0.96528\n",
            "Epoch 17/100\n",
            "720/720 [==============================] - 58s 80ms/step - loss: 0.0347 - accuracy: 0.9986 - val_loss: 0.1253 - val_accuracy: 0.9569\n",
            "\n",
            "Epoch 00017: val_accuracy did not improve from 0.96528\n",
            "Epoch 18/100\n",
            "720/720 [==============================] - 58s 80ms/step - loss: 0.0303 - accuracy: 0.9990 - val_loss: 0.1078 - val_accuracy: 0.9611\n",
            "\n",
            "Epoch 00018: val_accuracy did not improve from 0.96528\n",
            "Epoch 19/100\n",
            "720/720 [==============================] - 58s 80ms/step - loss: 0.0268 - accuracy: 0.9993 - val_loss: 0.1437 - val_accuracy: 0.9500\n",
            "\n",
            "Epoch 00019: val_accuracy did not improve from 0.96528\n",
            "Epoch 20/100\n",
            "720/720 [==============================] - 60s 83ms/step - loss: 0.0241 - accuracy: 0.9997 - val_loss: 0.1266 - val_accuracy: 0.9569\n",
            "\n",
            "Epoch 00020: val_accuracy did not improve from 0.96528\n",
            "Epoch 21/100\n",
            "720/720 [==============================] - 58s 80ms/step - loss: 0.0206 - accuracy: 0.9993 - val_loss: 0.1290 - val_accuracy: 0.9556\n",
            "\n",
            "Epoch 00021: val_accuracy did not improve from 0.96528\n",
            "Epoch 22/100\n",
            "720/720 [==============================] - 58s 80ms/step - loss: 0.0187 - accuracy: 0.9997 - val_loss: 0.1465 - val_accuracy: 0.9514\n",
            "\n",
            "Epoch 00022: val_accuracy did not improve from 0.96528\n",
            "Epoch 23/100\n",
            "720/720 [==============================] - 58s 80ms/step - loss: 0.0169 - accuracy: 1.0000 - val_loss: 0.1348 - val_accuracy: 0.9528\n",
            "\n",
            "Epoch 00023: val_accuracy did not improve from 0.96528\n",
            "Epoch 24/100\n",
            "720/720 [==============================] - 58s 80ms/step - loss: 0.0144 - accuracy: 1.0000 - val_loss: 0.1458 - val_accuracy: 0.9528\n",
            "\n",
            "Epoch 00024: val_accuracy did not improve from 0.96528\n",
            "Epoch 25/100\n",
            "720/720 [==============================] - 58s 80ms/step - loss: 0.0129 - accuracy: 1.0000 - val_loss: 0.1362 - val_accuracy: 0.9542\n",
            "\n",
            "Epoch 00025: val_accuracy did not improve from 0.96528\n",
            "Epoch 26/100\n",
            "720/720 [==============================] - 58s 80ms/step - loss: 0.0122 - accuracy: 0.9997 - val_loss: 0.1352 - val_accuracy: 0.9528\n",
            "\n",
            "Epoch 00026: val_accuracy did not improve from 0.96528\n",
            "Epoch 27/100\n",
            "720/720 [==============================] - 58s 80ms/step - loss: 0.0106 - accuracy: 1.0000 - val_loss: 0.1607 - val_accuracy: 0.9500\n",
            "\n",
            "Epoch 00027: val_accuracy did not improve from 0.96528\n",
            "Epoch 28/100\n",
            "720/720 [==============================] - 58s 80ms/step - loss: 0.0097 - accuracy: 1.0000 - val_loss: 0.1340 - val_accuracy: 0.9528\n",
            "\n",
            "Epoch 00028: val_accuracy did not improve from 0.96528\n",
            "Epoch 29/100\n",
            "720/720 [==============================] - 58s 80ms/step - loss: 0.0089 - accuracy: 1.0000 - val_loss: 0.1505 - val_accuracy: 0.9514\n",
            "\n",
            "Epoch 00029: val_accuracy did not improve from 0.96528\n",
            "Epoch 30/100\n",
            "720/720 [==============================] - 58s 80ms/step - loss: 0.0077 - accuracy: 1.0000 - val_loss: 0.1586 - val_accuracy: 0.9500\n",
            "\n",
            "Epoch 00030: val_accuracy did not improve from 0.96528\n",
            "Epoch 31/100\n",
            "720/720 [==============================] - 60s 83ms/step - loss: 0.0072 - accuracy: 1.0000 - val_loss: 0.1612 - val_accuracy: 0.9472\n",
            "\n",
            "Epoch 00031: val_accuracy did not improve from 0.96528\n",
            "Epoch 32/100\n",
            "720/720 [==============================] - 58s 81ms/step - loss: 0.0066 - accuracy: 1.0000 - val_loss: 0.1630 - val_accuracy: 0.9486\n",
            "\n",
            "Epoch 00032: val_accuracy did not improve from 0.96528\n",
            "Epoch 33/100\n",
            "720/720 [==============================] - 58s 81ms/step - loss: 0.0063 - accuracy: 1.0000 - val_loss: 0.1447 - val_accuracy: 0.9528\n",
            "\n",
            "Epoch 00033: val_accuracy did not improve from 0.96528\n",
            "Epoch 34/100\n",
            "720/720 [==============================] - 58s 80ms/step - loss: 0.0058 - accuracy: 1.0000 - val_loss: 0.1459 - val_accuracy: 0.9514\n",
            "\n",
            "Epoch 00034: val_accuracy did not improve from 0.96528\n",
            "Epoch 35/100\n",
            "720/720 [==============================] - 58s 81ms/step - loss: 0.0055 - accuracy: 1.0000 - val_loss: 0.1517 - val_accuracy: 0.9514\n",
            "\n",
            "Epoch 00035: val_accuracy did not improve from 0.96528\n",
            "Epoch 36/100\n",
            "720/720 [==============================] - 58s 81ms/step - loss: 0.0050 - accuracy: 1.0000 - val_loss: 0.1477 - val_accuracy: 0.9528\n",
            "\n",
            "Epoch 00036: val_accuracy did not improve from 0.96528\n",
            "Epoch 37/100\n",
            "720/720 [==============================] - 58s 81ms/step - loss: 0.0046 - accuracy: 1.0000 - val_loss: 0.1503 - val_accuracy: 0.9514\n",
            "\n",
            "Epoch 00037: val_accuracy did not improve from 0.96528\n",
            "Epoch 38/100\n",
            "720/720 [==============================] - 58s 81ms/step - loss: 0.0042 - accuracy: 1.0000 - val_loss: 0.1490 - val_accuracy: 0.9528\n",
            "\n",
            "Epoch 00038: val_accuracy did not improve from 0.96528\n",
            "Epoch 39/100\n",
            "720/720 [==============================] - 58s 81ms/step - loss: 0.0040 - accuracy: 1.0000 - val_loss: 0.1763 - val_accuracy: 0.9472\n",
            "\n",
            "Epoch 00039: val_accuracy did not improve from 0.96528\n",
            "Epoch 40/100\n",
            "720/720 [==============================] - 58s 80ms/step - loss: 0.0036 - accuracy: 1.0000 - val_loss: 0.1575 - val_accuracy: 0.9514\n",
            "\n",
            "Epoch 00040: val_accuracy did not improve from 0.96528\n",
            "Epoch 41/100\n",
            "720/720 [==============================] - 59s 82ms/step - loss: 0.0034 - accuracy: 1.0000 - val_loss: 0.1679 - val_accuracy: 0.9500\n",
            "\n",
            "Epoch 00041: val_accuracy did not improve from 0.96528\n",
            "Epoch 42/100\n",
            "720/720 [==============================] - 58s 80ms/step - loss: 0.0034 - accuracy: 1.0000 - val_loss: 0.1735 - val_accuracy: 0.9500\n",
            "\n",
            "Epoch 00042: val_accuracy did not improve from 0.96528\n",
            "Epoch 43/100\n",
            "720/720 [==============================] - 58s 80ms/step - loss: 0.0030 - accuracy: 1.0000 - val_loss: 0.1594 - val_accuracy: 0.9528\n",
            "\n",
            "Epoch 00043: val_accuracy did not improve from 0.96528\n",
            "Epoch 44/100\n",
            "720/720 [==============================] - 58s 80ms/step - loss: 0.0029 - accuracy: 1.0000 - val_loss: 0.1612 - val_accuracy: 0.9514\n",
            "\n",
            "Epoch 00044: val_accuracy did not improve from 0.96528\n",
            "Epoch 45/100\n",
            "720/720 [==============================] - 58s 80ms/step - loss: 0.0026 - accuracy: 1.0000 - val_loss: 0.1786 - val_accuracy: 0.9486\n",
            "\n",
            "Epoch 00045: val_accuracy did not improve from 0.96528\n",
            "Epoch 46/100\n",
            "720/720 [==============================] - 58s 80ms/step - loss: 0.0025 - accuracy: 1.0000 - val_loss: 0.1703 - val_accuracy: 0.9486\n",
            "\n",
            "Epoch 00046: val_accuracy did not improve from 0.96528\n",
            "Epoch 47/100\n",
            "720/720 [==============================] - 58s 80ms/step - loss: 0.0024 - accuracy: 1.0000 - val_loss: 0.1785 - val_accuracy: 0.9486\n",
            "\n",
            "Epoch 00047: val_accuracy did not improve from 0.96528\n",
            "Epoch 48/100\n",
            "720/720 [==============================] - 58s 80ms/step - loss: 0.0022 - accuracy: 1.0000 - val_loss: 0.1718 - val_accuracy: 0.9514\n",
            "\n",
            "Epoch 00048: val_accuracy did not improve from 0.96528\n",
            "Epoch 49/100\n",
            "720/720 [==============================] - 58s 80ms/step - loss: 0.0021 - accuracy: 1.0000 - val_loss: 0.1719 - val_accuracy: 0.9514\n",
            "\n",
            "Epoch 00049: val_accuracy did not improve from 0.96528\n",
            "Epoch 50/100\n",
            "720/720 [==============================] - 58s 80ms/step - loss: 0.0019 - accuracy: 1.0000 - val_loss: 0.1702 - val_accuracy: 0.9528\n",
            "\n",
            "Epoch 00050: val_accuracy did not improve from 0.96528\n",
            "Epoch 00050: early stopping\n"
          ],
          "name": "stdout"
        }
      ]
    },
    {
      "cell_type": "code",
      "metadata": {
        "id": "jtaDRvxtYEBX"
      },
      "source": [
        "with open('ldn_4class_24jun01_clahe.h5', 'wb') as file_pi:\n",
        "        pickle.dump(history.history, file_pi)"
      ],
      "execution_count": null,
      "outputs": []
    },
    {
      "cell_type": "code",
      "metadata": {
        "id": "N_4zOfGHpEMU",
        "colab": {
          "base_uri": "https://localhost:8080/",
          "height": 295
        },
        "outputId": "529a0583-d98a-4adb-d397-518ccb41d85b"
      },
      "source": [
        "plt.plot(history.history['accuracy'])\n",
        "plt.plot(history.history['val_accuracy'])\n",
        "plt.title('model accuracy')\n",
        "plt.ylabel('accuracy')\n",
        "plt.xlabel('epoch')\n",
        "plt.legend(['train','validation'], loc='upper left')\n",
        "plt.show() "
      ],
      "execution_count": null,
      "outputs": [
        {
          "output_type": "display_data",
          "data": {
            "image/png": "[encoded data removed]",
            "text/plain": [
              "<Figure size 432x288 with 1 Axes>"
            ]
          },
          "metadata": {
            "tags": [],
            "needs_background": "light"
          }
        }
      ]
    },
    {
      "cell_type": "code",
      "metadata": {
        "id": "eVidLWcdK9RB",
        "colab": {
          "base_uri": "https://localhost:8080/",
          "height": 295
        },
        "outputId": "49352bfa-4e73-49c7-bf94-35bad1935500"
      },
      "source": [
        "plt.plot(history.history['loss'])\n",
        "plt.plot(history.history['val_loss'])\n",
        "plt.title('model loss')\n",
        "plt.ylabel('loss')\n",
        "plt.xlabel('epoch')\n",
        "plt.legend(['train','validation'], loc='upper left')\n",
        "plt.show()"
      ],
      "execution_count": null,
      "outputs": [
        {
          "output_type": "display_data",
          "data": {
            "image/png": "[encoded data removed]",
            "text/plain": [
              "<Figure size 432x288 with 1 Axes>"
            ]
          },
          "metadata": {
            "tags": [],
            "needs_background": "light"
          }
        }
      ]
    },
    {
      "cell_type": "code",
      "metadata": {
        "id": "zTvjM5JsBp7M",
        "colab": {
          "base_uri": "https://localhost:8080/",
          "height": 833
        },
        "outputId": "8c6b4f69-3904-4f76-93da-a5fa1aafbc3d"
      },
      "source": [
        "model.summary()"
      ],
      "execution_count": null,
      "outputs": [
        {
          "output_type": "stream",
          "text": [
            "Model: \"sequential_2\"\n",
            "_________________________________________________________________\n",
            "Layer (type)                 Output Shape              Param #   \n",
            "=================================================================\n",
            "conv2d_7 (Conv2D)            (None, 256, 256, 8)       224       \n",
            "_________________________________________________________________\n",
            "batch_normalization_6 (Batch (None, 256, 256, 8)       32        \n",
            "_________________________________________________________________\n",
            "leaky_re_lu_6 (LeakyReLU)    (None, 256, 256, 8)       0         \n",
            "_________________________________________________________________\n",
            "max_pooling2d_3 (MaxPooling2 (None, 128, 128, 8)       0         \n",
            "_________________________________________________________________\n",
            "conv2d_8 (Conv2D)            (None, 128, 128, 16)      1168      \n",
            "_________________________________________________________________\n",
            "batch_normalization_7 (Batch (None, 128, 128, 16)      64        \n",
            "_________________________________________________________________\n",
            "leaky_re_lu_7 (LeakyReLU)    (None, 128, 128, 16)      0         \n",
            "_________________________________________________________________\n",
            "conv2d_9 (Conv2D)            (None, 128, 128, 16)      272       \n",
            "_________________________________________________________________\n",
            "batch_normalization_8 (Batch (None, 128, 128, 16)      64        \n",
            "_________________________________________________________________\n",
            "leaky_re_lu_8 (LeakyReLU)    (None, 128, 128, 16)      0         \n",
            "_________________________________________________________________\n",
            "conv2d_10 (Conv2D)           (None, 128, 128, 16)      2320      \n",
            "_________________________________________________________________\n",
            "batch_normalization_9 (Batch (None, 128, 128, 16)      64        \n",
            "_________________________________________________________________\n",
            "leaky_re_lu_9 (LeakyReLU)    (None, 128, 128, 16)      0         \n",
            "_________________________________________________________________\n",
            "max_pooling2d_4 (MaxPooling2 (None, 64, 64, 16)        0         \n",
            "_________________________________________________________________\n",
            "conv2d_11 (Conv2D)           (None, 64, 64, 32)        4640      \n",
            "_________________________________________________________________\n",
            "batch_normalization_10 (Batc (None, 64, 64, 32)        128       \n",
            "_________________________________________________________________\n",
            "leaky_re_lu_10 (LeakyReLU)   (None, 64, 64, 32)        0         \n",
            "_________________________________________________________________\n",
            "conv2d_12 (Conv2D)           (None, 64, 64, 2)         578       \n",
            "_________________________________________________________________\n",
            "flatten_2 (Flatten)          (None, 8192)              0         \n",
            "_________________________________________________________________\n",
            "dense_2 (Dense)              (None, 1)                 8193      \n",
            "=================================================================\n",
            "Total params: 17,747\n",
            "Trainable params: 17,571\n",
            "Non-trainable params: 176\n",
            "_________________________________________________________________\n"
          ],
          "name": "stdout"
        }
      ]
    },
    {
      "cell_type": "code",
      "metadata": {
        "id": "TPgYN5MKLBlm"
      },
      "source": [
        "    model = Sequential()\n",
        "    model.add(layers.Conv2D(filters=8,kernel_size=(3,3),input_shape=(256,256,3),strides=1,padding='same'))\n",
        "    model.add(layers.BatchNormalization())\n",
        "    model.add(layers.LeakyReLU(alpha=0.1))\n",
        "    \n",
        "    model.add(layers.MaxPooling2D(pool_size=(2,2),strides=2))\n",
        "    \n",
        "    model.add(layers.Conv2D(filters=16,kernel_size=(3,3),strides=1,padding='same'))\n",
        "    model.add(layers.BatchNormalization())\n",
        "    model.add(layers.LeakyReLU(alpha=0.1))\n",
        "    model.add(layers.Conv2D(filters=16,kernel_size=(1,1),strides=1,padding='same'))\n",
        "    model.add(layers.BatchNormalization())\n",
        "    model.add(layers.LeakyReLU(alpha=0.1))\n",
        "    model.add(layers.Conv2D(filters=16,kernel_size=(3,3),strides=1,padding='same'))\n",
        "    model.add(layers.BatchNormalization())\n",
        "    model.add(layers.LeakyReLU(alpha=0.1))\n",
        " \n",
        "    model.add(layers.MaxPooling2D(pool_size=(2,2),strides=2))\n",
        "    \n",
        "    model.add(layers.Conv2D(filters=32,kernel_size=(3,3),strides=1,padding='same'))\n",
        "    model.add(layers.BatchNormalization())\n",
        "    model.add(layers.LeakyReLU(alpha=0.1))\n",
        "    \n",
        "    model.add(layers.Conv2D(filters=2,kernel_size=(3,3),strides=1,padding='same'))\n",
        "    model.add(layers.Flatten())\n",
        "\n",
        "    #model.add(layers.Dense(64, activation='relu')) \n",
        "    model.add(layers.Dense(4, activation='sigmoid'))\n",
        "    model.compile(optimizer=opt, loss='binary_crossentropy', metrics=['accuracy'])\n",
        "    model.load_weights('ldn_4class_24jun01_clahe.h5')"
      ],
      "execution_count": null,
      "outputs": []
    },
    {
      "cell_type": "code",
      "metadata": {
        "id": "QiK0YW9JnQun"
      },
      "source": [
        "y_test=y_test.reshape(-1,1)\n",
        "y_test_binary=enc.transform(y_test).toarray()"
      ],
      "execution_count": null,
      "outputs": []
    },
    {
      "cell_type": "code",
      "metadata": {
        "id": "8PrE9ZQsLUBL"
      },
      "source": [
        "model.compile(loss='binary_crossentropy', optimizer=opt, metrics=['accuracy'])\n",
        "_, test_acc = model.evaluate(x_test, y_test_binary, verbose=0)"
      ],
      "execution_count": null,
      "outputs": []
    },
    {
      "cell_type": "code",
      "metadata": {
        "id": "ob2A3VfJL1mN",
        "colab": {
          "base_uri": "https://localhost:8080/",
          "height": 51
        },
        "outputId": "cb72c4c7-5da9-4808-8eea-4993035397ac"
      },
      "source": [
        "print(\"test accuracy: \",test_acc,)\n",
        "print(\"test loss    : \",_)"
      ],
      "execution_count": null,
      "outputs": [
        {
          "output_type": "stream",
          "text": [
            "test accuracy:  0.859375\n",
            "test loss    :  0.3043156355619431\n"
          ],
          "name": "stdout"
        }
      ]
    },
    {
      "cell_type": "code",
      "metadata": {
        "id": "xBnd86wbL5KI"
      },
      "source": [
        "y_pred=model.predict(x_test)"
      ],
      "execution_count": null,
      "outputs": []
    },
    {
      "cell_type": "code",
      "metadata": {
        "id": "vL2sy4m7MAHk",
        "colab": {
          "base_uri": "https://localhost:8080/",
          "height": 34
        },
        "outputId": "473bd8b3-bb1a-4f2d-b640-b091a20632ad"
      },
      "source": [
        "y_pred.shape"
      ],
      "execution_count": null,
      "outputs": [
        {
          "output_type": "execute_result",
          "data": {
            "text/plain": [
              "(80, 4)"
            ]
          },
          "metadata": {
            "tags": []
          },
          "execution_count": 96
        }
      ]
    },
    {
      "cell_type": "code",
      "metadata": {
        "id": "KXPIWSwfn6nx"
      },
      "source": [
        "y_label=enc.inverse_transform(y_pred)"
      ],
      "execution_count": null,
      "outputs": []
    },
    {
      "cell_type": "code",
      "metadata": {
        "id": "qHRZOMEdx7tg"
      },
      "source": [
        "#sample_labels=enc.inverse_transform(y_pred)"
      ],
      "execution_count": null,
      "outputs": []
    },
    {
      "cell_type": "code",
      "metadata": {
        "id": "MjrAcePmyeO8"
      },
      "source": [
        "from sklearn.metrics import accuracy_score"
      ],
      "execution_count": null,
      "outputs": []
    },
    {
      "cell_type": "code",
      "metadata": {
        "id": "P8t8oxvSxvrJ"
      },
      "source": [
        "\n",
        "test_acc=accuracy_score(y_test, y_label)"
      ],
      "execution_count": null,
      "outputs": []
    },
    {
      "cell_type": "code",
      "metadata": {
        "id": "FW5MmeR7zqDJ",
        "colab": {
          "base_uri": "https://localhost:8080/",
          "height": 34
        },
        "outputId": "7d4b3d40-3e30-4d6b-c76c-1d805ec64bbe"
      },
      "source": [
        "test_acc"
      ],
      "execution_count": null,
      "outputs": [
        {
          "output_type": "execute_result",
          "data": {
            "text/plain": [
              "0.775"
            ]
          },
          "metadata": {
            "tags": []
          },
          "execution_count": 103
        }
      ]
    },
    {
      "cell_type": "code",
      "metadata": {
        "id": "hU7m_ZeXMPl9"
      },
      "source": [
        "from sklearn.metrics import confusion_matrix\n",
        "cm = confusion_matrix(y_test,y_label)"
      ],
      "execution_count": null,
      "outputs": []
    },
    {
      "cell_type": "code",
      "metadata": {
        "id": "4wCTVeGbMcVo",
        "colab": {
          "base_uri": "https://localhost:8080/",
          "height": 481
        },
        "outputId": "34923044-116f-4bc0-bf2b-75a607edbbeb"
      },
      "source": [
        "from sklearn.metrics import confusion_matrix\n",
        "cm = confusion_matrix(y_test,y_label)\n",
        "import seaborn as sns\n",
        "df_cm = pd.DataFrame(cm, columns=['Normal','Bacterial','Viral','COVID-19'], index = ['Normal','Bacterial','Viral','COVID-19'])\n",
        "df_cm.index.name = 'Actual'\n",
        "df_cm.columns.name = 'Predicted'\n",
        "plt.figure(figsize = (10,7))\n",
        "sns.set(font_scale=1.4)#for label size\n",
        "sns.heatmap(df_cm, cmap=\"Blues\", annot=True,annot_kws={\"size\": 16},fmt='d')"
      ],
      "execution_count": null,
      "outputs": [
        {
          "output_type": "execute_result",
          "data": {
            "text/plain": [
              "<matplotlib.axes._subplots.AxesSubplot at 0x7fe10cfe5cf8>"
            ]
          },
          "metadata": {
            "tags": []
          },
          "execution_count": 107
        },
        {
          "output_type": "display_data",
          "data": {
            "image/png": "[encoded data removed]",
            "text/plain": [
              "<Figure size 720x504 with 2 Axes>"
            ]
          },
          "metadata": {
            "tags": []
          }
        }
      ]
    },
    {
      "cell_type": "code",
      "metadata": {
        "id": "7qmgr-RVNLF9"
      },
      "source": [
        "def confusion_metrics(cm):\n",
        "  tp_nor=cm[0][0]\n",
        "  fp_nor=cm[1][0]+cm[2][0]+cm[3][0]\n",
        "  fn_nor=cm[0][1]+cm[0][2]+cm[0][3]\n",
        "  tn_nor=np.sum(cm)-(tp_nor+fp_nor+fn_nor)\n",
        "  tp_bac=cm[1][1]\n",
        "  fp_bac=cm[0][1]+cm[2][1]+cm[3][1]\n",
        "  fn_bac=cm[1][0]+cm[1][2]+cm[1][3]\n",
        "  tn_bac=np.sum(cm)-(tp_bac+fp_bac+fn_bac)\n",
        "  tp_vir=cm[2][2]\n",
        "  fp_vir=cm[0][2]+cm[1][2]+cm[3][2]\n",
        "  fn_vir=cm[2][0]+cm[2][1]+cm[2][3]\n",
        "  tn_vir=np.sum(cm)-(tp_vir+fp_vir+fn_vir)\n",
        "  tp_cov=cm[3][3]\n",
        "  fp_cov=cm[0][3]+cm[1][3]+cm[2][3]\n",
        "  fn_cov=cm[3][0]+cm[3][1]+cm[3][2]\n",
        "  tn_cov=np.sum(cm)-(tp_cov+fp_cov+fn_cov)\n",
        "\n",
        "  print(\"Normal : \")\n",
        "  print(\"-----------------------------------\")\n",
        "  print(\"TP : \",tp_nor)\n",
        "  print(\"TN : \",tn_nor)\n",
        "  print(\"FP : \",fp_nor)\n",
        "  print(\"FN : \",fn_nor)\n",
        "  print(\"sensitivity : \",tp_nor/(float)((tp_nor+fn_nor)))\n",
        "  print(\"specificity : \",tn_nor/(float)((tn_nor+fp_nor)))\n",
        "  print(\"-----------------------------------\")\n",
        "  print(\"Bacteria : \")\n",
        "  print(\"-----------------------------------\")\n",
        "  print(\"TP : \",tp_bac)\n",
        "  print(\"TN : \",tn_bac)\n",
        "  print(\"FP : \",fp_bac)\n",
        "  print(\"FN : \",fn_bac)\n",
        "  print(\"sensitivity : \",tp_bac/(float)((tp_bac+fn_bac)))\n",
        "  print(\"specificity : \",tn_bac/(float)((tn_bac+fp_bac)))\n",
        "  print(\"-----------------------------------\")\n",
        "  print(\"Viral : \")\n",
        "  print(\"-----------------------------------\")\n",
        "  print(\"TP : \",tp_vir)\n",
        "  print(\"TN : \",tn_vir)\n",
        "  print(\"FP : \",fp_vir)\n",
        "  print(\"FN : \",fn_vir)\n",
        "  print(\"sensitivity : \",tp_vir/(float)((tp_vir+fn_vir)))\n",
        "  print(\"specificity : \",tn_vir/(float)((tn_vir+fp_vir)))\n",
        "  print(\"-----------------------------------\")\n",
        "  print(\"COVID-19 : \")\n",
        "  print(\"-----------------------------------\")\n",
        "  print(\"TP : \",tp_cov)\n",
        "  print(\"TN : \",tn_cov)\n",
        "  print(\"FP : \",fp_cov)\n",
        "  print(\"FN : \",fn_cov)\n",
        "  print(\"sensitivity : \",tp_cov/(float)((tp_cov+fn_cov)))\n",
        "  print(\"specificity : \",tn_cov/(float)((tn_cov+fp_cov)))\n"
      ],
      "execution_count": null,
      "outputs": []
    },
    {
      "cell_type": "code",
      "metadata": {
        "id": "agvesgd1XI3e",
        "colab": {
          "base_uri": "https://localhost:8080/",
          "height": 612
        },
        "outputId": "b69d7d14-712f-4b3d-da8f-fd3abdd65bba"
      },
      "source": [
        "confusion_metrics(cm)"
      ],
      "execution_count": null,
      "outputs": [
        {
          "output_type": "stream",
          "text": [
            "Normal : \n",
            "-----------------------------------\n",
            "TP :  20\n",
            "TN :  53\n",
            "FP :  7\n",
            "FN :  0\n",
            "sensitivity :  1.0\n",
            "specificity :  0.8833333333333333\n",
            "-----------------------------------\n",
            "Bacteria : \n",
            "-----------------------------------\n",
            "TP :  10\n",
            "TN :  57\n",
            "FP :  3\n",
            "FN :  10\n",
            "sensitivity :  0.5\n",
            "specificity :  0.95\n",
            "-----------------------------------\n",
            "Viral : \n",
            "-----------------------------------\n",
            "TP :  13\n",
            "TN :  53\n",
            "FP :  7\n",
            "FN :  7\n",
            "sensitivity :  0.65\n",
            "specificity :  0.8833333333333333\n",
            "-----------------------------------\n",
            "COVID-19 : \n",
            "-----------------------------------\n",
            "TP :  19\n",
            "TN :  59\n",
            "FP :  1\n",
            "FN :  1\n",
            "sensitivity :  0.95\n",
            "specificity :  0.9833333333333333\n"
          ],
          "name": "stdout"
        }
      ]
    },
    {
      "cell_type": "code",
      "metadata": {
        "id": "o19WGYHqH6a_"
      },
      "source": [
        ""
      ],
      "execution_count": null,
      "outputs": []
    }
  ]
}