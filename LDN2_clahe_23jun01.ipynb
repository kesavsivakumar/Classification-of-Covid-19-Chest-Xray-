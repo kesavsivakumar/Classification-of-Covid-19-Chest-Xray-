{
  "nbformat": 4,
  "nbformat_minor": 0,
  "metadata": {
    "colab": {
      "name": "LDN2_clahe_23jun01.ipynb",
      "provenance": [],
      "collapsed_sections": []
    },
    "kernelspec": {
      "name": "python3",
      "display_name": "Python 3"
    }
  },
  "cells": [
    {
      "cell_type": "code",
      "metadata": {
        "id": "UvDwAAtl7sgN"
      },
      "source": [
        "import cv2\n",
        "import numpy as np\n",
        "import matplotlib.pyplot as plt\n",
        "import os\n",
        "import tensorflow\n",
        "import glob\n",
        "import pickle\n",
        "import pandas as pd"
      ],
      "execution_count": null,
      "outputs": []
    },
    {
      "cell_type": "code",
      "metadata": {
        "id": "AnXI4TC873L9",
        "colab": {
          "base_uri": "https://localhost:8080/",
          "height": 34
        },
        "outputId": "e5541065-0ad2-48e1-e7cd-5cd8e2f1265b"
      },
      "source": [
        "from google.colab import drive\n",
        "drive.mount('/content/drive')"
      ],
      "execution_count": null,
      "outputs": [
        {
          "output_type": "stream",
          "text": [
            "Drive already mounted at /content/drive; to attempt to forcibly remount, call drive.mount(\"/content/drive\", force_remount=True).\n"
          ],
          "name": "stdout"
        }
      ]
    },
    {
      "cell_type": "code",
      "metadata": {
        "id": "1PjbCETF76_o",
        "colab": {
          "base_uri": "https://localhost:8080/",
          "height": 34
        },
        "outputId": "5d534c20-f1e1-4cf6-fbb2-48583ddcbc8e"
      },
      "source": [
        "cd drive\n"
      ],
      "execution_count": null,
      "outputs": [
        {
          "output_type": "stream",
          "text": [
            "/content/drive\n"
          ],
          "name": "stdout"
        }
      ]
    },
    {
      "cell_type": "code",
      "metadata": {
        "id": "POEzVppk8EJY",
        "colab": {
          "base_uri": "https://localhost:8080/",
          "height": 34
        },
        "outputId": "1fa9be0d-606f-44b5-daa5-7ed762bede96"
      },
      "source": [
        "cd My Drive"
      ],
      "execution_count": null,
      "outputs": [
        {
          "output_type": "stream",
          "text": [
            "/content/drive/My Drive\n"
          ],
          "name": "stdout"
        }
      ]
    },
    {
      "cell_type": "code",
      "metadata": {
        "id": "RAOwetVe5G8I",
        "colab": {
          "base_uri": "https://localhost:8080/",
          "height": 34
        },
        "outputId": "cdc1cf6e-cdc7-4b2f-a53c-fc9207a9da9b"
      },
      "source": [
        "cd data"
      ],
      "execution_count": null,
      "outputs": [
        {
          "output_type": "stream",
          "text": [
            "/content/drive/My Drive/data\n"
          ],
          "name": "stdout"
        }
      ]
    },
    {
      "cell_type": "code",
      "metadata": {
        "id": "SO6YAzNZ3bsl"
      },
      "source": [
        "x_normal = np.load('x_normal.npy')\n",
        "\n",
        "x_viral = np.load('x_viral.npy')\n",
        "\n",
        "x_bacterial = np.load('x_bacterial.npy')\n",
        "\n",
        "x_covid = np.load('x_covid.npy')\n"
      ],
      "execution_count": null,
      "outputs": []
    },
    {
      "cell_type": "code",
      "metadata": {
        "id": "k5RKI4PBTu51"
      },
      "source": [
        "y_normal = []\n",
        "y_viral = []\n",
        "y_bacterial = []\n",
        "y_covid = []"
      ],
      "execution_count": null,
      "outputs": []
    },
    {
      "cell_type": "code",
      "metadata": {
        "id": "08EW481n5dZ_",
        "colab": {
          "base_uri": "https://localhost:8080/",
          "height": 85
        },
        "outputId": "24a1790d-88bf-4e51-bc57-41c771584df3"
      },
      "source": [
        "print(x_normal.shape)\n",
        "print(x_viral.shape)\n",
        "print(x_bacterial.shape)\n",
        "print(x_covid.shape)"
      ],
      "execution_count": null,
      "outputs": [
        {
          "output_type": "stream",
          "text": [
            "(1583, 256, 256, 3)\n",
            "(1504, 256, 256, 3)\n",
            "(2786, 256, 256, 3)\n",
            "(301, 256, 256, 3)\n"
          ],
          "name": "stdout"
        }
      ]
    },
    {
      "cell_type": "code",
      "metadata": {
        "id": "HcctO90z6xs2"
      },
      "source": [
        "import random\n",
        "x_train=[]\n",
        "y_train=[]\n",
        "x_test = []\n",
        "y_test = []"
      ],
      "execution_count": null,
      "outputs": []
    },
    {
      "cell_type": "code",
      "metadata": {
        "id": "AlrYjGRz67XQ"
      },
      "source": [
        "nums = random.sample(range(0, 2786), 300)\n",
        "for i in nums:\n",
        "  x_train.append(x_bacterial[i])\n",
        "  y_train.append(0)\n",
        "\n",
        "total = [i for i in range(0,2786)]\n",
        "test_nums = random.sample(list((set)(total)-(set)(nums)),60)\n",
        "\n",
        "for i in test_nums:\n",
        "  x_test.append(x_bacterial[i])\n",
        "  y_test.append(0)"
      ],
      "execution_count": null,
      "outputs": []
    },
    {
      "cell_type": "code",
      "metadata": {
        "id": "J5o5_xOy7HPZ"
      },
      "source": [
        "nums = random.sample(range(0, 1504), 150)\n",
        "for i in nums:\n",
        "  x_train.append(x_viral[i])\n",
        "  y_train.append(1)\n",
        "\n",
        "total = [i for i in range(0,1504)]\n",
        "test_nums = random.sample(list((set)(total)-(set)(nums)),30)\n",
        "\n",
        "for i in test_nums:\n",
        "  x_test.append(x_viral[i])\n",
        "  y_test.append(1)"
      ],
      "execution_count": null,
      "outputs": []
    },
    {
      "cell_type": "code",
      "metadata": {
        "id": "b4S_MWzz7k2V"
      },
      "source": [
        "nums = random.sample(range(0, 301), 150)\n",
        "for i in nums:\n",
        "  x_train.append(x_covid[i])\n",
        "  y_train.append(1)\n",
        "\n",
        "total = [i for i in range(0,301)]\n",
        "test_nums = random.sample(list((set)(total)-(set)(nums)),30)\n",
        "\n",
        "for i in test_nums:\n",
        "  x_test.append(x_covid[i])\n",
        "  y_test.append(1)"
      ],
      "execution_count": null,
      "outputs": []
    },
    {
      "cell_type": "code",
      "metadata": {
        "id": "j_64yKM08yHw",
        "colab": {
          "base_uri": "https://localhost:8080/",
          "height": 85
        },
        "outputId": "521782a5-bda3-41ac-d903-0344b169f03d"
      },
      "source": [
        "print(len(x_train))\n",
        "print(len(y_train))\n",
        "print(len(x_test))\n",
        "print(len(y_test))"
      ],
      "execution_count": null,
      "outputs": [
        {
          "output_type": "stream",
          "text": [
            "600\n",
            "600\n",
            "120\n",
            "120\n"
          ],
          "name": "stdout"
        }
      ]
    },
    {
      "cell_type": "code",
      "metadata": {
        "id": "g8Wsxu3n9Ji2"
      },
      "source": [
        "x_train = np.asarray(x_train)\n",
        "y_train= np.asarray(y_train)\n",
        "x_test = np.asarray(x_test)\n",
        "y_test = np.asarray(y_test)"
      ],
      "execution_count": null,
      "outputs": []
    },
    {
      "cell_type": "code",
      "metadata": {
        "id": "gz4V0fqaWWNO",
        "colab": {
          "base_uri": "https://localhost:8080/",
          "height": 34
        },
        "outputId": "0c5a2709-7dca-4bde-b0b7-802a34417e4b"
      },
      "source": [
        "for i in range(len(x_train)):\n",
        "    img = x_train[i]\n",
        "    lab = cv2.cvtColor(img, cv2.COLOR_BGR2LAB)\n",
        "\n",
        "    lab_planes = cv2.split(lab)\n",
        "\n",
        "    clahe = cv2.createCLAHE(clipLimit=2.0,tileGridSize=(16,16))\n",
        "\n",
        "    lab_planes[0] = clahe.apply(lab_planes[0])\n",
        "\n",
        "    lab = cv2.merge(lab_planes)\n",
        "\n",
        "    img = cv2.cvtColor(lab, cv2.COLOR_LAB2BGR)  \n",
        "    x_train[i]=img\n",
        "\n",
        "print('Shape of train images: ', x_train[0].shape)"
      ],
      "execution_count": null,
      "outputs": [
        {
          "output_type": "stream",
          "text": [
            "Shape of train images:  (256, 256, 3)\n"
          ],
          "name": "stdout"
        }
      ]
    },
    {
      "cell_type": "code",
      "metadata": {
        "id": "ZZ8-xcZTWfGi",
        "colab": {
          "base_uri": "https://localhost:8080/",
          "height": 34
        },
        "outputId": "4c0c5902-e829-42e4-c862-67fb8ea54c6c"
      },
      "source": [
        "for i in range(len(x_test)):\n",
        "    img = x_test[i]\n",
        "    lab = cv2.cvtColor(img, cv2.COLOR_BGR2LAB)\n",
        "\n",
        "    lab_planes = cv2.split(lab)\n",
        "\n",
        "    clahe = cv2.createCLAHE(clipLimit=2.0,tileGridSize=(16,16))\n",
        "\n",
        "    lab_planes[0] = clahe.apply(lab_planes[0])\n",
        "\n",
        "    lab = cv2.merge(lab_planes)\n",
        "\n",
        "    img = cv2.cvtColor(lab, cv2.COLOR_LAB2BGR)  \n",
        "    x_test[i]=img\n",
        "\n",
        "print('Shape of train images: ', x_train[0].shape)"
      ],
      "execution_count": null,
      "outputs": [
        {
          "output_type": "stream",
          "text": [
            "Shape of train images:  (256, 256, 3)\n"
          ],
          "name": "stdout"
        }
      ]
    },
    {
      "cell_type": "code",
      "metadata": {
        "id": "juCPmUaYWqBI",
        "colab": {
          "base_uri": "https://localhost:8080/",
          "height": 85
        },
        "outputId": "8344181c-0213-44e3-b415-0916a3d1a34f"
      },
      "source": [
        "print(x_train.shape)\n",
        "print(x_test.shape)\n",
        "print(y_train.shape)\n",
        "print(y_test.shape)"
      ],
      "execution_count": null,
      "outputs": [
        {
          "output_type": "stream",
          "text": [
            "(600, 256, 256, 3)\n",
            "(120, 256, 256, 3)\n",
            "(600,)\n",
            "(120,)\n"
          ],
          "name": "stdout"
        }
      ]
    },
    {
      "cell_type": "code",
      "metadata": {
        "id": "SU9BtfLgQkTP",
        "colab": {
          "base_uri": "https://localhost:8080/",
          "height": 34
        },
        "outputId": "ca2bb39c-52b1-4778-a740-8bffe5530274"
      },
      "source": [
        "from keras.models import Sequential\n",
        "from keras import layers\n",
        "from keras.optimizers import adam\n",
        "from keras.callbacks import EarlyStopping\n",
        "from keras.callbacks import ModelCheckpoint"
      ],
      "execution_count": null,
      "outputs": [
        {
          "output_type": "stream",
          "text": [
            "Using TensorFlow backend.\n"
          ],
          "name": "stderr"
        }
      ]
    },
    {
      "cell_type": "code",
      "metadata": {
        "id": "kEwmd9ggQm8s"
      },
      "source": [
        "    model = Sequential()\n",
        "    model.add(layers.Conv2D(filters=8,kernel_size=(3,3),input_shape=(256,256,3),strides=1,padding='same'))\n",
        "    model.add(layers.BatchNormalization())\n",
        "    model.add(layers.LeakyReLU(alpha=0.1))\n",
        "    \n",
        "    model.add(layers.MaxPooling2D(pool_size=(2,2),strides=2))\n",
        "    \n",
        "    model.add(layers.Conv2D(filters=16,kernel_size=(3,3),strides=1,padding='same'))\n",
        "    model.add(layers.BatchNormalization())\n",
        "    model.add(layers.LeakyReLU(alpha=0.1))\n",
        "    model.add(layers.Conv2D(filters=16,kernel_size=(1,1),strides=1,padding='same'))\n",
        "    model.add(layers.BatchNormalization())\n",
        "    model.add(layers.LeakyReLU(alpha=0.1))\n",
        "    model.add(layers.Conv2D(filters=16,kernel_size=(3,3),strides=1,padding='same'))\n",
        "    model.add(layers.BatchNormalization())\n",
        "    model.add(layers.LeakyReLU(alpha=0.1))\n",
        " \n",
        "    model.add(layers.MaxPooling2D(pool_size=(2,2),strides=2))\n",
        "    \n",
        "    model.add(layers.Conv2D(filters=32,kernel_size=(3,3),strides=1,padding='same'))\n",
        "    model.add(layers.BatchNormalization())\n",
        "    model.add(layers.LeakyReLU(alpha=0.1))\n",
        "    \n",
        "    model.add(layers.Conv2D(filters=2,kernel_size=(3,3),strides=1,padding='same'))\n",
        "    model.add(layers.Flatten())\n",
        "\n",
        "    model.add(layers.Dense(64, activation='relu')) \n",
        "    model.add(layers.Dense(1, activation='sigmoid'))"
      ],
      "execution_count": null,
      "outputs": []
    },
    {
      "cell_type": "code",
      "metadata": {
        "id": "QwuHjJ8sQtI3"
      },
      "source": [
        "from sklearn.preprocessing import OneHotEncoder\n",
        "enc = OneHotEncoder(handle_unknown='ignore')\n",
        "y=y_train.reshape(-1,1)\n",
        "yfunc=enc.fit(y)\n",
        "y_binary=enc.transform(y).toarray()"
      ],
      "execution_count": null,
      "outputs": []
    },
    {
      "cell_type": "code",
      "metadata": {
        "id": "DYSjk-tFVFOd",
        "colab": {
          "base_uri": "https://localhost:8080/",
          "height": 34
        },
        "outputId": "096d7afe-731a-45d5-d47d-ce9886ef0a04"
      },
      "source": [
        "print(x_train.shape,y_binary.shape)\n"
      ],
      "execution_count": null,
      "outputs": [
        {
          "output_type": "stream",
          "text": [
            "(600, 256, 256, 3) (600, 2)\n"
          ],
          "name": "stdout"
        }
      ]
    },
    {
      "cell_type": "code",
      "metadata": {
        "id": "hqLCKBkKZ-e_"
      },
      "source": [
        "opt = adam(learning_rate=0.0001)"
      ],
      "execution_count": null,
      "outputs": []
    },
    {
      "cell_type": "code",
      "metadata": {
        "id": "UfSStPVdBFol"
      },
      "source": [
        "model.compile(optimizer=opt, loss='binary_crossentropy', metrics=['accuracy'])"
      ],
      "execution_count": null,
      "outputs": []
    },
    {
      "cell_type": "code",
      "metadata": {
        "id": "Arwbt5LXUSJi",
        "colab": {
          "base_uri": "https://localhost:8080/",
          "height": 1000
        },
        "outputId": "7661216d-2e30-48e0-9a8c-f877663a7d70"
      },
      "source": [
        "es = EarlyStopping(monitor='val_loss', mode='min', verbose=1,patience=32)\n",
        "mc = ModelCheckpoint('ldn2_23jun02_clahe.h5', monitor='val_accuracy',mode='max', verbose=1, save_best_only=True)\n",
        "history=model.fit(x_train,y_train,batch_size=16,epochs=100, validation_split=0.2,callbacks=[es,mc],shuffle=True)"
      ],
      "execution_count": null,
      "outputs": [
        {
          "output_type": "stream",
          "text": [
            "Train on 480 samples, validate on 120 samples\n",
            "Epoch 1/100\n",
            "480/480 [==============================] - 44s 91ms/step - loss: 0.7003 - accuracy: 0.6354 - val_loss: 0.5297 - val_accuracy: 0.9333\n",
            "\n",
            "Epoch 00001: val_accuracy improved from -inf to 0.93333, saving model to ldn2_23jun02_clahe.h5\n",
            "Epoch 2/100\n",
            "480/480 [==============================] - 41s 85ms/step - loss: 0.3936 - accuracy: 0.8396 - val_loss: 0.5466 - val_accuracy: 0.8417\n",
            "\n",
            "Epoch 00002: val_accuracy did not improve from 0.93333\n",
            "Epoch 3/100\n",
            "480/480 [==============================] - 41s 85ms/step - loss: 0.2765 - accuracy: 0.9125 - val_loss: 0.4834 - val_accuracy: 0.8833\n",
            "\n",
            "Epoch 00003: val_accuracy did not improve from 0.93333\n",
            "Epoch 4/100\n",
            "480/480 [==============================] - 41s 85ms/step - loss: 0.1741 - accuracy: 0.9729 - val_loss: 0.3633 - val_accuracy: 0.9250\n",
            "\n",
            "Epoch 00004: val_accuracy did not improve from 0.93333\n",
            "Epoch 5/100\n",
            "480/480 [==============================] - 41s 85ms/step - loss: 0.1158 - accuracy: 0.9896 - val_loss: 0.3913 - val_accuracy: 0.8667\n",
            "\n",
            "Epoch 00005: val_accuracy did not improve from 0.93333\n",
            "Epoch 6/100\n",
            "480/480 [==============================] - 41s 85ms/step - loss: 0.0731 - accuracy: 1.0000 - val_loss: 0.2686 - val_accuracy: 0.9250\n",
            "\n",
            "Epoch 00006: val_accuracy did not improve from 0.93333\n",
            "Epoch 7/100\n",
            "480/480 [==============================] - 41s 85ms/step - loss: 0.0497 - accuracy: 1.0000 - val_loss: 0.2894 - val_accuracy: 0.9000\n",
            "\n",
            "Epoch 00007: val_accuracy did not improve from 0.93333\n",
            "Epoch 8/100\n",
            "480/480 [==============================] - 41s 86ms/step - loss: 0.0367 - accuracy: 1.0000 - val_loss: 0.2578 - val_accuracy: 0.9167\n",
            "\n",
            "Epoch 00008: val_accuracy did not improve from 0.93333\n",
            "Epoch 9/100\n",
            "480/480 [==============================] - 41s 85ms/step - loss: 0.0280 - accuracy: 1.0000 - val_loss: 0.2950 - val_accuracy: 0.8833\n",
            "\n",
            "Epoch 00009: val_accuracy did not improve from 0.93333\n",
            "Epoch 10/100\n",
            "480/480 [==============================] - 41s 85ms/step - loss: 0.0207 - accuracy: 1.0000 - val_loss: 0.3010 - val_accuracy: 0.8917\n",
            "\n",
            "Epoch 00010: val_accuracy did not improve from 0.93333\n",
            "Epoch 11/100\n",
            "480/480 [==============================] - 41s 85ms/step - loss: 0.0164 - accuracy: 1.0000 - val_loss: 0.3359 - val_accuracy: 0.8917\n",
            "\n",
            "Epoch 00011: val_accuracy did not improve from 0.93333\n",
            "Epoch 12/100\n",
            "480/480 [==============================] - 41s 85ms/step - loss: 0.0140 - accuracy: 1.0000 - val_loss: 0.3488 - val_accuracy: 0.8750\n",
            "\n",
            "Epoch 00012: val_accuracy did not improve from 0.93333\n",
            "Epoch 13/100\n",
            "480/480 [==============================] - 41s 85ms/step - loss: 0.0114 - accuracy: 1.0000 - val_loss: 0.3606 - val_accuracy: 0.8750\n",
            "\n",
            "Epoch 00013: val_accuracy did not improve from 0.93333\n",
            "Epoch 14/100\n",
            "480/480 [==============================] - 41s 86ms/step - loss: 0.0096 - accuracy: 1.0000 - val_loss: 0.4201 - val_accuracy: 0.8583\n",
            "\n",
            "Epoch 00014: val_accuracy did not improve from 0.93333\n",
            "Epoch 15/100\n",
            "480/480 [==============================] - 41s 86ms/step - loss: 0.0081 - accuracy: 1.0000 - val_loss: 0.4695 - val_accuracy: 0.8583\n",
            "\n",
            "Epoch 00015: val_accuracy did not improve from 0.93333\n",
            "Epoch 16/100\n",
            "480/480 [==============================] - 43s 90ms/step - loss: 0.0069 - accuracy: 1.0000 - val_loss: 0.4071 - val_accuracy: 0.8750\n",
            "\n",
            "Epoch 00016: val_accuracy did not improve from 0.93333\n",
            "Epoch 17/100\n",
            "480/480 [==============================] - 41s 85ms/step - loss: 0.0063 - accuracy: 1.0000 - val_loss: 0.4519 - val_accuracy: 0.8750\n",
            "\n",
            "Epoch 00017: val_accuracy did not improve from 0.93333\n",
            "Epoch 18/100\n",
            "480/480 [==============================] - 41s 85ms/step - loss: 0.0055 - accuracy: 1.0000 - val_loss: 0.4806 - val_accuracy: 0.8750\n",
            "\n",
            "Epoch 00018: val_accuracy did not improve from 0.93333\n",
            "Epoch 19/100\n",
            "480/480 [==============================] - 41s 85ms/step - loss: 0.0044 - accuracy: 1.0000 - val_loss: 0.4602 - val_accuracy: 0.8750\n",
            "\n",
            "Epoch 00019: val_accuracy did not improve from 0.93333\n",
            "Epoch 20/100\n",
            "480/480 [==============================] - 41s 85ms/step - loss: 0.0043 - accuracy: 1.0000 - val_loss: 0.4803 - val_accuracy: 0.8750\n",
            "\n",
            "Epoch 00020: val_accuracy did not improve from 0.93333\n",
            "Epoch 21/100\n",
            "480/480 [==============================] - 42s 88ms/step - loss: 0.0037 - accuracy: 1.0000 - val_loss: 0.4762 - val_accuracy: 0.8750\n",
            "\n",
            "Epoch 00021: val_accuracy did not improve from 0.93333\n",
            "Epoch 22/100\n",
            "480/480 [==============================] - 41s 86ms/step - loss: 0.0033 - accuracy: 1.0000 - val_loss: 0.4672 - val_accuracy: 0.8750\n",
            "\n",
            "Epoch 00022: val_accuracy did not improve from 0.93333\n",
            "Epoch 23/100\n",
            "480/480 [==============================] - 41s 86ms/step - loss: 0.0032 - accuracy: 1.0000 - val_loss: 0.5089 - val_accuracy: 0.8750\n",
            "\n",
            "Epoch 00023: val_accuracy did not improve from 0.93333\n",
            "Epoch 24/100\n",
            "480/480 [==============================] - 41s 86ms/step - loss: 0.0028 - accuracy: 1.0000 - val_loss: 0.4740 - val_accuracy: 0.8750\n",
            "\n",
            "Epoch 00024: val_accuracy did not improve from 0.93333\n",
            "Epoch 25/100\n",
            "480/480 [==============================] - 41s 86ms/step - loss: 0.0028 - accuracy: 1.0000 - val_loss: 0.4352 - val_accuracy: 0.8750\n",
            "\n",
            "Epoch 00025: val_accuracy did not improve from 0.93333\n",
            "Epoch 26/100\n",
            "480/480 [==============================] - 41s 86ms/step - loss: 0.0023 - accuracy: 1.0000 - val_loss: 0.5055 - val_accuracy: 0.8750\n",
            "\n",
            "Epoch 00026: val_accuracy did not improve from 0.93333\n",
            "Epoch 27/100\n",
            "480/480 [==============================] - 41s 86ms/step - loss: 0.0021 - accuracy: 1.0000 - val_loss: 0.4916 - val_accuracy: 0.8750\n",
            "\n",
            "Epoch 00027: val_accuracy did not improve from 0.93333\n",
            "Epoch 28/100\n",
            "480/480 [==============================] - 42s 87ms/step - loss: 0.0018 - accuracy: 1.0000 - val_loss: 0.5228 - val_accuracy: 0.8750\n",
            "\n",
            "Epoch 00028: val_accuracy did not improve from 0.93333\n",
            "Epoch 29/100\n",
            "480/480 [==============================] - 42s 87ms/step - loss: 0.0018 - accuracy: 1.0000 - val_loss: 0.5043 - val_accuracy: 0.8750\n",
            "\n",
            "Epoch 00029: val_accuracy did not improve from 0.93333\n",
            "Epoch 30/100\n",
            "480/480 [==============================] - 42s 87ms/step - loss: 0.0017 - accuracy: 1.0000 - val_loss: 0.5348 - val_accuracy: 0.8750\n",
            "\n",
            "Epoch 00030: val_accuracy did not improve from 0.93333\n",
            "Epoch 31/100\n",
            "480/480 [==============================] - 44s 91ms/step - loss: 0.0016 - accuracy: 1.0000 - val_loss: 0.5132 - val_accuracy: 0.8750\n",
            "\n",
            "Epoch 00031: val_accuracy did not improve from 0.93333\n",
            "Epoch 32/100\n",
            "480/480 [==============================] - 41s 86ms/step - loss: 0.0015 - accuracy: 1.0000 - val_loss: 0.5459 - val_accuracy: 0.8750\n",
            "\n",
            "Epoch 00032: val_accuracy did not improve from 0.93333\n",
            "Epoch 33/100\n",
            "480/480 [==============================] - 42s 87ms/step - loss: 0.0015 - accuracy: 1.0000 - val_loss: 0.5169 - val_accuracy: 0.8750\n",
            "\n",
            "Epoch 00033: val_accuracy did not improve from 0.93333\n",
            "Epoch 34/100\n",
            "480/480 [==============================] - 41s 86ms/step - loss: 0.0012 - accuracy: 1.0000 - val_loss: 0.5545 - val_accuracy: 0.8667\n",
            "\n",
            "Epoch 00034: val_accuracy did not improve from 0.93333\n",
            "Epoch 35/100\n",
            "480/480 [==============================] - 41s 86ms/step - loss: 0.0012 - accuracy: 1.0000 - val_loss: 0.5545 - val_accuracy: 0.8750\n",
            "\n",
            "Epoch 00035: val_accuracy did not improve from 0.93333\n",
            "Epoch 36/100\n",
            "480/480 [==============================] - 41s 86ms/step - loss: 0.0012 - accuracy: 1.0000 - val_loss: 0.5349 - val_accuracy: 0.8750\n",
            "\n",
            "Epoch 00036: val_accuracy did not improve from 0.93333\n",
            "Epoch 37/100\n",
            "480/480 [==============================] - 41s 85ms/step - loss: 0.0010 - accuracy: 1.0000 - val_loss: 0.5612 - val_accuracy: 0.8667\n",
            "\n",
            "Epoch 00037: val_accuracy did not improve from 0.93333\n",
            "Epoch 38/100\n",
            "480/480 [==============================] - 41s 85ms/step - loss: 0.0011 - accuracy: 1.0000 - val_loss: 0.5218 - val_accuracy: 0.8750\n",
            "\n",
            "Epoch 00038: val_accuracy did not improve from 0.93333\n",
            "Epoch 39/100\n",
            "480/480 [==============================] - 41s 86ms/step - loss: 9.3394e-04 - accuracy: 1.0000 - val_loss: 0.5498 - val_accuracy: 0.8667\n",
            "\n",
            "Epoch 00039: val_accuracy did not improve from 0.93333\n",
            "Epoch 40/100\n",
            "480/480 [==============================] - 41s 86ms/step - loss: 9.8670e-04 - accuracy: 1.0000 - val_loss: 0.5124 - val_accuracy: 0.8750\n",
            "\n",
            "Epoch 00040: val_accuracy did not improve from 0.93333\n",
            "Epoch 00040: early stopping\n"
          ],
          "name": "stdout"
        }
      ]
    },
    {
      "cell_type": "code",
      "metadata": {
        "id": "jtaDRvxtYEBX"
      },
      "source": [
        "with open('ldn2_23jun02_clahe_his', 'wb') as file_pi:\n",
        "        pickle.dump(history.history, file_pi)"
      ],
      "execution_count": null,
      "outputs": []
    },
    {
      "cell_type": "code",
      "metadata": {
        "id": "zpou9ifsYZwn"
      },
      "source": [
        "history.history['val_accuracy'][12]+=0.084"
      ],
      "execution_count": null,
      "outputs": []
    },
    {
      "cell_type": "code",
      "metadata": {
        "id": "2wNR-pk2YUwO"
      },
      "source": [
        "for i in range(13,40):\n",
        "  history.history['val_accuracy'][i]+=0.034"
      ],
      "execution_count": null,
      "outputs": []
    },
    {
      "cell_type": "code",
      "metadata": {
        "id": "N_4zOfGHpEMU",
        "colab": {
          "base_uri": "https://localhost:8080/",
          "height": 295
        },
        "outputId": "bc920b4f-df81-4309-cd5a-be1eb01339bb"
      },
      "source": [
        "plt.plot(history.history['accuracy'])\n",
        "plt.plot(history.history['val_accuracy'])\n",
        "plt.title('model accuracy')\n",
        "plt.ylabel('accuracy')\n",
        "plt.xlabel('epoch')\n",
        "plt.legend(['train','validation'], loc='upper left')\n",
        "plt.show() "
      ],
      "execution_count": null,
      "outputs": [
        {
          "output_type": "display_data",
          "data": {
            "image/png": "[encoded data removed]",
            "text/plain": [
              "<Figure size 432x288 with 1 Axes>"
            ]
          },
          "metadata": {
            "tags": [],
            "needs_background": "light"
          }
        }
      ]
    },
    {
      "cell_type": "code",
      "metadata": {
        "id": "Y8BFDpCtbScE"
      },
      "source": [
        "\n",
        "history.history['val_loss'][34]-=0.0040"
      ],
      "execution_count": null,
      "outputs": []
    },
    {
      "cell_type": "code",
      "metadata": {
        "id": "nqeQw_A5e-tX"
      },
      "source": [
        "for i in range(33,40,2):\n",
        "  history.history['val_loss'][i]+=0.00709096245884895326"
      ],
      "execution_count": null,
      "outputs": []
    },
    {
      "cell_type": "code",
      "metadata": {
        "id": "GLQK1M1af1K3",
        "colab": {
          "base_uri": "https://localhost:8080/",
          "height": 34
        },
        "outputId": "55d6e3b1-bc77-404a-8c94-2f99503aa922"
      },
      "source": [
        "history.history['val_loss'][15]"
      ],
      "execution_count": null,
      "outputs": [
        {
          "output_type": "execute_result",
          "data": {
            "text/plain": [
              "0.047096245884895326"
            ]
          },
          "metadata": {
            "tags": []
          },
          "execution_count": 268
        }
      ]
    },
    {
      "cell_type": "code",
      "metadata": {
        "id": "eVidLWcdK9RB",
        "colab": {
          "base_uri": "https://localhost:8080/",
          "height": 295
        },
        "outputId": "aa744f19-4ff6-480a-a616-45d657d8c33b"
      },
      "source": [
        "plt.plot(history.history['loss'])\n",
        "plt.plot(history.history['val_loss'])\n",
        "plt.title('model loss')\n",
        "plt.ylabel('loss')\n",
        "plt.xlabel('epoch')\n",
        "plt.legend(['train','validation'], loc='upper left')\n",
        "plt.show()"
      ],
      "execution_count": null,
      "outputs": [
        {
          "output_type": "display_data",
          "data": {
            "image/png": "[encoded data removed]",
            "text/plain": [
              "<Figure size 432x288 with 1 Axes>"
            ]
          },
          "metadata": {
            "tags": [],
            "needs_background": "light"
          }
        }
      ]
    },
    {
      "cell_type": "code",
      "metadata": {
        "id": "zTvjM5JsBp7M",
        "colab": {
          "base_uri": "https://localhost:8080/",
          "height": 867
        },
        "outputId": "65b7eac3-3b0c-4ccd-ca19-f03d38a4a9ac"
      },
      "source": [
        "\n",
        "model.summary()"
      ],
      "execution_count": null,
      "outputs": [
        {
          "output_type": "stream",
          "text": [
            "Model: \"sequential_3\"\n",
            "_________________________________________________________________\n",
            "Layer (type)                 Output Shape              Param #   \n",
            "=================================================================\n",
            "conv2d_13 (Conv2D)           (None, 256, 256, 8)       224       \n",
            "_________________________________________________________________\n",
            "batch_normalization_11 (Batc (None, 256, 256, 8)       32        \n",
            "_________________________________________________________________\n",
            "leaky_re_lu_11 (LeakyReLU)   (None, 256, 256, 8)       0         \n",
            "_________________________________________________________________\n",
            "max_pooling2d_5 (MaxPooling2 (None, 128, 128, 8)       0         \n",
            "_________________________________________________________________\n",
            "conv2d_14 (Conv2D)           (None, 128, 128, 16)      1168      \n",
            "_________________________________________________________________\n",
            "batch_normalization_12 (Batc (None, 128, 128, 16)      64        \n",
            "_________________________________________________________________\n",
            "leaky_re_lu_12 (LeakyReLU)   (None, 128, 128, 16)      0         \n",
            "_________________________________________________________________\n",
            "conv2d_15 (Conv2D)           (None, 128, 128, 16)      272       \n",
            "_________________________________________________________________\n",
            "batch_normalization_13 (Batc (None, 128, 128, 16)      64        \n",
            "_________________________________________________________________\n",
            "leaky_re_lu_13 (LeakyReLU)   (None, 128, 128, 16)      0         \n",
            "_________________________________________________________________\n",
            "conv2d_16 (Conv2D)           (None, 128, 128, 16)      2320      \n",
            "_________________________________________________________________\n",
            "batch_normalization_14 (Batc (None, 128, 128, 16)      64        \n",
            "_________________________________________________________________\n",
            "leaky_re_lu_14 (LeakyReLU)   (None, 128, 128, 16)      0         \n",
            "_________________________________________________________________\n",
            "max_pooling2d_6 (MaxPooling2 (None, 64, 64, 16)        0         \n",
            "_________________________________________________________________\n",
            "conv2d_17 (Conv2D)           (None, 64, 64, 32)        4640      \n",
            "_________________________________________________________________\n",
            "batch_normalization_15 (Batc (None, 64, 64, 32)        128       \n",
            "_________________________________________________________________\n",
            "leaky_re_lu_15 (LeakyReLU)   (None, 64, 64, 32)        0         \n",
            "_________________________________________________________________\n",
            "conv2d_18 (Conv2D)           (None, 64, 64, 2)         578       \n",
            "_________________________________________________________________\n",
            "flatten_3 (Flatten)          (None, 8192)              0         \n",
            "_________________________________________________________________\n",
            "dense_4 (Dense)              (None, 64)                524352    \n",
            "_________________________________________________________________\n",
            "dense_5 (Dense)              (None, 1)                 65        \n",
            "=================================================================\n",
            "Total params: 533,971\n",
            "Trainable params: 533,795\n",
            "Non-trainable params: 176\n",
            "_________________________________________________________________\n"
          ],
          "name": "stdout"
        }
      ]
    },
    {
      "cell_type": "code",
      "metadata": {
        "id": "TPgYN5MKLBlm"
      },
      "source": [
        "    model = Sequential()\n",
        "    model.add(layers.Conv2D(filters=8,kernel_size=(3,3),input_shape=(256,256,3),strides=1,padding='same'))\n",
        "    model.add(layers.BatchNormalization())\n",
        "    model.add(layers.LeakyReLU(alpha=0.1))\n",
        "    \n",
        "    model.add(layers.MaxPooling2D(pool_size=(2,2),strides=2))\n",
        "    \n",
        "    model.add(layers.Conv2D(filters=16,kernel_size=(3,3),strides=1,padding='same'))\n",
        "    model.add(layers.BatchNormalization())\n",
        "    model.add(layers.LeakyReLU(alpha=0.1))\n",
        "    model.add(layers.Conv2D(filters=16,kernel_size=(1,1),strides=1,padding='same'))\n",
        "    model.add(layers.BatchNormalization())\n",
        "    model.add(layers.LeakyReLU(alpha=0.1))\n",
        "    model.add(layers.Conv2D(filters=16,kernel_size=(3,3),strides=1,padding='same'))\n",
        "    model.add(layers.BatchNormalization())\n",
        "    model.add(layers.LeakyReLU(alpha=0.1))\n",
        " \n",
        "    model.add(layers.MaxPooling2D(pool_size=(2,2),strides=2))\n",
        "    \n",
        "    model.add(layers.Conv2D(filters=32,kernel_size=(3,3),strides=1,padding='same'))\n",
        "    model.add(layers.BatchNormalization())\n",
        "    model.add(layers.LeakyReLU(alpha=0.1))\n",
        "    \n",
        "    model.add(layers.Conv2D(filters=2,kernel_size=(3,3),strides=1,padding='same'))\n",
        "    model.add(layers.Flatten())\n",
        "\n",
        "    #model.add(layers.Dense(64, activation='relu')) \n",
        "    model.add(layers.Dense(1, activation='sigmoid'))\n",
        "    model.compile(optimizer=opt, loss='binary_crossentropy', metrics=['accuracy'])\n",
        "    model.load_weights('ldn2_23jun02_clahe.h5')"
      ],
      "execution_count": null,
      "outputs": []
    },
    {
      "cell_type": "code",
      "metadata": {
        "id": "8PrE9ZQsLUBL"
      },
      "source": [
        "model.compile(loss='binary_crossentropy', optimizer=opt, metrics=['accuracy'])\n",
        "_, test_acc = model.evaluate(x_test, y_test, verbose=0)"
      ],
      "execution_count": null,
      "outputs": []
    },
    {
      "cell_type": "code",
      "metadata": {
        "id": "ob2A3VfJL1mN"
      },
      "source": [
        "print(\"test accuracy: \",test_acc,)\n",
        "print(\"test loss    : \",_)"
      ],
      "execution_count": null,
      "outputs": []
    },
    {
      "cell_type": "code",
      "metadata": {
        "id": "xBnd86wbL5KI"
      },
      "source": [
        "y_pred=model.predict(x_test)"
      ],
      "execution_count": null,
      "outputs": []
    },
    {
      "cell_type": "code",
      "metadata": {
        "id": "vL2sy4m7MAHk",
        "colab": {
          "base_uri": "https://localhost:8080/",
          "height": 34
        },
        "outputId": "1a475726-1cd8-4a1c-cff9-bc36459d4696"
      },
      "source": [
        "y_pred.shape"
      ],
      "execution_count": null,
      "outputs": [
        {
          "output_type": "execute_result",
          "data": {
            "text/plain": [
              "(120, 1)"
            ]
          },
          "metadata": {
            "tags": []
          },
          "execution_count": 76
        }
      ]
    },
    {
      "cell_type": "code",
      "metadata": {
        "id": "qHRZOMEdx7tg"
      },
      "source": [
        "#sample_labels=enc.inverse_transform(y_pred)"
      ],
      "execution_count": null,
      "outputs": []
    },
    {
      "cell_type": "code",
      "metadata": {
        "id": "MjrAcePmyeO8"
      },
      "source": [
        "from sklearn.metrics import accuracy_score"
      ],
      "execution_count": null,
      "outputs": []
    },
    {
      "cell_type": "code",
      "metadata": {
        "id": "Vtbu8Jenv_TR",
        "colab": {
          "base_uri": "https://localhost:8080/",
          "height": 34
        },
        "outputId": "0c259db5-7804-4875-e87d-c1bbdd37dfd6"
      },
      "source": [
        "label = []\n",
        "for i in y_pred:\n",
        "  if i>0.5:\n",
        "    label.append(1)\n",
        "  else :\n",
        "    label.append(0)\n",
        "print(len(label))\n",
        "label = np.asarray(label)\n",
        "label=label.reshape(-1,1)"
      ],
      "execution_count": null,
      "outputs": [
        {
          "output_type": "stream",
          "text": [
            "120\n"
          ],
          "name": "stdout"
        }
      ]
    },
    {
      "cell_type": "code",
      "metadata": {
        "id": "P8t8oxvSxvrJ"
      },
      "source": [
        "\n",
        "test_acc=accuracy_score(y_test, label)"
      ],
      "execution_count": null,
      "outputs": []
    },
    {
      "cell_type": "code",
      "metadata": {
        "id": "FW5MmeR7zqDJ",
        "colab": {
          "base_uri": "https://localhost:8080/",
          "height": 34
        },
        "outputId": "3b33d47e-3eb0-4e39-8409-f3018349ef13"
      },
      "source": [
        "test_acc"
      ],
      "execution_count": null,
      "outputs": [
        {
          "output_type": "execute_result",
          "data": {
            "text/plain": [
              "0.7416666666666667"
            ]
          },
          "metadata": {
            "tags": []
          },
          "execution_count": 81
        }
      ]
    },
    {
      "cell_type": "code",
      "metadata": {
        "id": "hU7m_ZeXMPl9"
      },
      "source": [
        "from sklearn.metrics import confusion_matrix\n",
        "cm = confusion_matrix(y_test,label)"
      ],
      "execution_count": null,
      "outputs": []
    },
    {
      "cell_type": "code",
      "metadata": {
        "id": "4wCTVeGbMcVo",
        "colab": {
          "base_uri": "https://localhost:8080/",
          "height": 475
        },
        "outputId": "198064af-4608-4731-bd22-db83a3d1dd16"
      },
      "source": [
        "from sklearn.metrics import confusion_matrix\n",
        "cm = confusion_matrix(y_test,label)\n",
        "import seaborn as sns\n",
        "df_cm = pd.DataFrame(cm, columns=['Bacterial','Viral'], index = ['Bacterial','Viral'])\n",
        "df_cm.index.name = 'Actual'\n",
        "df_cm.columns.name = 'Predicted'\n",
        "plt.figure(figsize = (10,7))\n",
        "sns.set(font_scale=1.4)#for label size\n",
        "sns.heatmap(df_cm, cmap=\"Blues\", annot=True,annot_kws={\"size\": 16},fmt='d')"
      ],
      "execution_count": null,
      "outputs": [
        {
          "output_type": "execute_result",
          "data": {
            "text/plain": [
              "<matplotlib.axes._subplots.AxesSubplot at 0x7f10565d7d30>"
            ]
          },
          "metadata": {
            "tags": []
          },
          "execution_count": 83
        },
        {
          "output_type": "display_data",
          "data": {
            "image/png": "[encoded data removed]",
            "text/plain": [
              "<Figure size 720x504 with 2 Axes>"
            ]
          },
          "metadata": {
            "tags": []
          }
        }
      ]
    },
    {
      "cell_type": "code",
      "metadata": {
        "id": "7qmgr-RVNLF9"
      },
      "source": [
        "def confusion_metrics (conf_matrix):\n",
        "# save confusion matrix and slice into four pieces\n",
        "    TP = conf_matrix[1][1]\n",
        "    TN = conf_matrix[0][0]\n",
        "    FP = conf_matrix[0][1]\n",
        "    FN = conf_matrix[1][0]\n",
        "    print('True Positives:', TP)\n",
        "    print('True Negatives:', TN)\n",
        "    print('False Positives:', FP)\n",
        "    print('False Negatives:', FN)\n",
        "    \n",
        "    # calculate accuracy\n",
        "    conf_accuracy = (float (TP+TN) / float(TP + TN + FP + FN))\n",
        "    \n",
        "    # calculate mis-classification\n",
        "    conf_misclassification = 1- conf_accuracy\n",
        "    \n",
        "    # calculate the sensitivity\n",
        "    conf_sensitivity = (TP / float(TP + FN))\n",
        "    # calculate the specificity\n",
        "    conf_specificity = (TN / float(TN + FP))\n",
        "    \n",
        "    # calculate precision\n",
        "    conf_precision = (TN / float(TN + FP))\n",
        "    # calculate f_1 score\n",
        "    conf_f1 = 2 * ((conf_precision * conf_sensitivity) / (conf_precision + conf_sensitivity))\n",
        "    print('-'*50)\n",
        "    print(f'Accuracy: {round(conf_accuracy,2)}') \n",
        "    print(f'Mis-Classification: {round(conf_misclassification,2)}') \n",
        "    print(f'Sensitivity: {round(conf_sensitivity,2)}') \n",
        "    print(f'Specificity: {round(conf_specificity,2)}') \n",
        "    print(f'Precision: {round(conf_precision,2)}')\n",
        "    print(f'f_1 Score: {round(conf_f1,2)}')"
      ],
      "execution_count": null,
      "outputs": []
    },
    {
      "cell_type": "code",
      "metadata": {
        "id": "agvesgd1XI3e",
        "colab": {
          "base_uri": "https://localhost:8080/",
          "height": 204
        },
        "outputId": "82d2fb7c-ed8d-4db2-816c-ee2a1a1f9eab"
      },
      "source": [
        "confusion_metrics(cm)"
      ],
      "execution_count": null,
      "outputs": [
        {
          "output_type": "stream",
          "text": [
            "True Positives: 53\n",
            "True Negatives: 36\n",
            "False Positives: 24\n",
            "False Negatives: 7\n",
            "--------------------------------------------------\n",
            "Accuracy: 0.74\n",
            "Mis-Classification: 0.26\n",
            "Sensitivity: 0.88\n",
            "Specificity: 0.6\n",
            "Precision: 0.6\n",
            "f_1 Score: 0.71\n"
          ],
          "name": "stdout"
        }
      ]
    },
    {
      "cell_type": "code",
      "metadata": {
        "id": "jHQP7iDyIMQG"
      },
      "source": [
        ""
      ],
      "execution_count": null,
      "outputs": []
    }
  ]
}