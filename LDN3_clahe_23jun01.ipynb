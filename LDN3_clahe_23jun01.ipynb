{
  "nbformat": 4,
  "nbformat_minor": 0,
  "metadata": {
    "colab": {
      "name": "LDN3_clahe_23jun01.ipynb",
      "provenance": [],
      "collapsed_sections": []
    },
    "kernelspec": {
      "name": "python3",
      "display_name": "Python 3"
    }
  },
  "cells": [
    {
      "cell_type": "code",
      "metadata": {
        "id": "UvDwAAtl7sgN"
      },
      "source": [
        "import cv2\n",
        "import numpy as np\n",
        "import matplotlib.pyplot as plt\n",
        "import os\n",
        "import tensorflow\n",
        "import glob\n",
        "import pickle\n",
        "import pandas as pd\n"
      ],
      "execution_count": null,
      "outputs": []
    },
    {
      "cell_type": "code",
      "metadata": {
        "id": "AnXI4TC873L9",
        "colab": {
          "base_uri": "https://localhost:8080/",
          "height": 34
        },
        "outputId": "0545cfac-33c0-432b-fe59-ff3ca85a7b76"
      },
      "source": [
        "from google.colab import drive\n",
        "drive.mount('/content/drive')"
      ],
      "execution_count": null,
      "outputs": [
        {
          "output_type": "stream",
          "text": [
            "Drive already mounted at /content/drive; to attempt to forcibly remount, call drive.mount(\"/content/drive\", force_remount=True).\n"
          ],
          "name": "stdout"
        }
      ]
    },
    {
      "cell_type": "code",
      "metadata": {
        "id": "1PjbCETF76_o",
        "colab": {
          "base_uri": "https://localhost:8080/",
          "height": 51
        },
        "outputId": "3399accd-ac62-4606-d1e9-6509695e656c"
      },
      "source": [
        "cd drive\n"
      ],
      "execution_count": null,
      "outputs": [
        {
          "output_type": "stream",
          "text": [
            "[Errno 2] No such file or directory: 'drive'\n",
            "/content/drive/My Drive/data\n"
          ],
          "name": "stdout"
        }
      ]
    },
    {
      "cell_type": "code",
      "metadata": {
        "id": "POEzVppk8EJY",
        "colab": {
          "base_uri": "https://localhost:8080/",
          "height": 51
        },
        "outputId": "0b48d5d6-6033-4a44-ab5d-845669e83b20"
      },
      "source": [
        "cd My Drive"
      ],
      "execution_count": null,
      "outputs": [
        {
          "output_type": "stream",
          "text": [
            "[Errno 2] No such file or directory: 'My Drive'\n",
            "/content/drive/My Drive/data\n"
          ],
          "name": "stdout"
        }
      ]
    },
    {
      "cell_type": "code",
      "metadata": {
        "id": "RAOwetVe5G8I",
        "colab": {
          "base_uri": "https://localhost:8080/",
          "height": 51
        },
        "outputId": "30dd46cc-fa55-4101-b777-b35fa4920f2e"
      },
      "source": [
        "cd data"
      ],
      "execution_count": null,
      "outputs": [
        {
          "output_type": "stream",
          "text": [
            "[Errno 2] No such file or directory: 'data'\n",
            "/content/drive/My Drive/data\n"
          ],
          "name": "stdout"
        }
      ]
    },
    {
      "cell_type": "code",
      "metadata": {
        "id": "SO6YAzNZ3bsl"
      },
      "source": [
        "x_normal = np.load('x_normal.npy')\n",
        "\n",
        "x_viral = np.load('x_viral.npy')\n",
        "\n",
        "x_bacterial = np.load('x_bacterial.npy')\n",
        "\n",
        "x_covid = np.load('x_covid.npy')\n"
      ],
      "execution_count": null,
      "outputs": []
    },
    {
      "cell_type": "code",
      "metadata": {
        "id": "k5RKI4PBTu51"
      },
      "source": [
        "y_normal = []\n",
        "y_viral = []\n",
        "y_bacterial = []\n",
        "y_covid = []"
      ],
      "execution_count": null,
      "outputs": []
    },
    {
      "cell_type": "code",
      "metadata": {
        "id": "08EW481n5dZ_",
        "colab": {
          "base_uri": "https://localhost:8080/",
          "height": 85
        },
        "outputId": "33933176-0528-409d-ddf8-96a42512472d"
      },
      "source": [
        "print(x_normal.shape)\n",
        "print(x_viral.shape)\n",
        "print(x_bacterial.shape)\n",
        "print(x_covid.shape)"
      ],
      "execution_count": null,
      "outputs": [
        {
          "output_type": "stream",
          "text": [
            "(1583, 256, 256, 3)\n",
            "(1504, 256, 256, 3)\n",
            "(2786, 256, 256, 3)\n",
            "(301, 256, 256, 3)\n"
          ],
          "name": "stdout"
        }
      ]
    },
    {
      "cell_type": "code",
      "metadata": {
        "id": "HcctO90z6xs2"
      },
      "source": [
        "import random\n",
        "x_train=[]\n",
        "y_train=[]\n",
        "x_test = []\n",
        "y_test = []"
      ],
      "execution_count": null,
      "outputs": []
    },
    {
      "cell_type": "code",
      "metadata": {
        "id": "J5o5_xOy7HPZ"
      },
      "source": [
        "nums = random.sample(range(0, 1504), 219)\n",
        "for i in nums:\n",
        "  x_train.append(x_viral[i])\n",
        "  y_train.append(0)\n",
        "\n",
        "total = [i for i in range(0,1504)]\n",
        "test_nums = random.sample(list((set)(total)-(set)(nums)),20)\n",
        "\n",
        "for i in test_nums:\n",
        "  x_test.append(x_viral[i])\n",
        "  y_test.append(0)"
      ],
      "execution_count": null,
      "outputs": []
    },
    {
      "cell_type": "code",
      "metadata": {
        "id": "b4S_MWzz7k2V"
      },
      "source": [
        "nums = random.sample(range(0, 301), 219)\n",
        "for i in nums:\n",
        "  x_train.append(x_covid[i])\n",
        "  y_train.append(1)\n",
        "\n",
        "total = [i for i in range(0,301)]\n",
        "test_nums = random.sample(list((set)(total)-(set)(nums)),20)\n",
        "\n",
        "for i in test_nums:\n",
        "  x_test.append(x_covid[i])\n",
        "  y_test.append(1)"
      ],
      "execution_count": null,
      "outputs": []
    },
    {
      "cell_type": "code",
      "metadata": {
        "id": "j_64yKM08yHw",
        "colab": {
          "base_uri": "https://localhost:8080/",
          "height": 85
        },
        "outputId": "19be6010-6b1f-44a9-d238-061efe8ab999"
      },
      "source": [
        "print(len(x_train))\n",
        "print(len(y_train))\n",
        "print(len(x_test))\n",
        "print(len(y_test))"
      ],
      "execution_count": null,
      "outputs": [
        {
          "output_type": "stream",
          "text": [
            "438\n",
            "438\n",
            "60\n",
            "60\n"
          ],
          "name": "stdout"
        }
      ]
    },
    {
      "cell_type": "code",
      "metadata": {
        "id": "g8Wsxu3n9Ji2"
      },
      "source": [
        "x_train = np.asarray(x_train)\n",
        "y_train= np.asarray(y_train)\n",
        "x_test = np.asarray(x_test)\n",
        "y_test = np.asarray(y_test)"
      ],
      "execution_count": null,
      "outputs": []
    },
    {
      "cell_type": "code",
      "metadata": {
        "id": "gz4V0fqaWWNO",
        "colab": {
          "base_uri": "https://localhost:8080/",
          "height": 34
        },
        "outputId": "1fc280e8-52de-4526-d67f-977a3f066c98"
      },
      "source": [
        "for i in range(len(x_train)):\n",
        "    img = x_train[i]\n",
        "    lab = cv2.cvtColor(img, cv2.COLOR_BGR2LAB)\n",
        "\n",
        "    lab_planes = cv2.split(lab)\n",
        "\n",
        "    clahe = cv2.createCLAHE(clipLimit=2.0,tileGridSize=(16,16))\n",
        "\n",
        "    lab_planes[0] = clahe.apply(lab_planes[0])\n",
        "\n",
        "    lab = cv2.merge(lab_planes)\n",
        "\n",
        "    img = cv2.cvtColor(lab, cv2.COLOR_LAB2BGR)  \n",
        "    x_train[i]=img\n",
        "\n",
        "print('Shape of train images: ', x_train[0].shape)"
      ],
      "execution_count": null,
      "outputs": [
        {
          "output_type": "stream",
          "text": [
            "Shape of train images:  (256, 256, 3)\n"
          ],
          "name": "stdout"
        }
      ]
    },
    {
      "cell_type": "code",
      "metadata": {
        "id": "ZZ8-xcZTWfGi",
        "colab": {
          "base_uri": "https://localhost:8080/",
          "height": 34
        },
        "outputId": "26727840-16fe-4819-a0a7-5eef22f20804"
      },
      "source": [
        "for i in range(len(x_test)):\n",
        "    img = x_test[i]\n",
        "    lab = cv2.cvtColor(img, cv2.COLOR_BGR2LAB)\n",
        "\n",
        "    lab_planes = cv2.split(lab)\n",
        "\n",
        "    clahe = cv2.createCLAHE(clipLimit=2.0,tileGridSize=(16,16))\n",
        "\n",
        "    lab_planes[0] = clahe.apply(lab_planes[0])\n",
        "\n",
        "    lab = cv2.merge(lab_planes)\n",
        "\n",
        "    img = cv2.cvtColor(lab, cv2.COLOR_LAB2BGR)  \n",
        "    x_test[i]=img\n",
        "\n",
        "print('Shape of train images: ', x_train[0].shape)"
      ],
      "execution_count": null,
      "outputs": [
        {
          "output_type": "stream",
          "text": [
            "Shape of train images:  (256, 256, 3)\n"
          ],
          "name": "stdout"
        }
      ]
    },
    {
      "cell_type": "code",
      "metadata": {
        "id": "juCPmUaYWqBI",
        "colab": {
          "base_uri": "https://localhost:8080/",
          "height": 85
        },
        "outputId": "aee7b9a2-fff8-4cab-9757-41aa8550bcc1"
      },
      "source": [
        "print(x_train.shape)\n",
        "print(x_test.shape)\n",
        "print(y_train.shape)\n",
        "print(y_test.shape)"
      ],
      "execution_count": null,
      "outputs": [
        {
          "output_type": "stream",
          "text": [
            "(438, 256, 256, 3)\n",
            "(60, 256, 256, 3)\n",
            "(438,)\n",
            "(60,)\n"
          ],
          "name": "stdout"
        }
      ]
    },
    {
      "cell_type": "code",
      "metadata": {
        "id": "SU9BtfLgQkTP"
      },
      "source": [
        "from keras.models import Sequential\n",
        "from keras import layers\n",
        "from keras.optimizers import adam\n",
        "from keras.callbacks import EarlyStopping\n",
        "from keras.callbacks import ModelCheckpoint"
      ],
      "execution_count": null,
      "outputs": []
    },
    {
      "cell_type": "code",
      "metadata": {
        "id": "kEwmd9ggQm8s"
      },
      "source": [
        "    model = Sequential()\n",
        "    model.add(layers.Conv2D(filters=8,kernel_size=(3,3),input_shape=(256,256,3),strides=1,padding='same'))\n",
        "    model.add(layers.BatchNormalization())\n",
        "    model.add(layers.LeakyReLU(alpha=0.1))\n",
        "    \n",
        "    model.add(layers.MaxPooling2D(pool_size=(2,2),strides=2))\n",
        "    \n",
        "    model.add(layers.Conv2D(filters=16,kernel_size=(3,3),strides=1,padding='same'))\n",
        "    model.add(layers.BatchNormalization())\n",
        "    model.add(layers.LeakyReLU(alpha=0.1))\n",
        "    model.add(layers.Conv2D(filters=16,kernel_size=(1,1),strides=1,padding='same'))\n",
        "    model.add(layers.BatchNormalization())\n",
        "    model.add(layers.LeakyReLU(alpha=0.1))\n",
        "    model.add(layers.Conv2D(filters=16,kernel_size=(3,3),strides=1,padding='same'))\n",
        "    model.add(layers.BatchNormalization())\n",
        "    model.add(layers.LeakyReLU(alpha=0.1))\n",
        " \n",
        "    model.add(layers.MaxPooling2D(pool_size=(2,2),strides=2))\n",
        "    \n",
        "    model.add(layers.Conv2D(filters=32,kernel_size=(3,3),strides=1,padding='same'))\n",
        "    model.add(layers.BatchNormalization())\n",
        "    model.add(layers.LeakyReLU(alpha=0.1))\n",
        "    \n",
        "    model.add(layers.Conv2D(filters=2,kernel_size=(3,3),strides=1,padding='same'))\n",
        "    model.add(layers.Flatten())\n",
        "\n",
        "    #model.add(layers.Dense(64, activation='relu')) \n",
        "    model.add(layers.Dense(1, activation='sigmoid'))"
      ],
      "execution_count": null,
      "outputs": []
    },
    {
      "cell_type": "code",
      "metadata": {
        "id": "QwuHjJ8sQtI3"
      },
      "source": [
        "from sklearn.preprocessing import OneHotEncoder\n",
        "enc = OneHotEncoder(handle_unknown='ignore')\n",
        "y=y_train.reshape(-1,1)\n",
        "yfunc=enc.fit(y)\n",
        "y_binary=enc.transform(y).toarray()"
      ],
      "execution_count": null,
      "outputs": []
    },
    {
      "cell_type": "code",
      "metadata": {
        "id": "DYSjk-tFVFOd",
        "colab": {
          "base_uri": "https://localhost:8080/",
          "height": 34
        },
        "outputId": "15b7bef4-abbb-4d98-c0a1-ee300770d433"
      },
      "source": [
        "print(x_train.shape,y_binary.shape)\n"
      ],
      "execution_count": null,
      "outputs": [
        {
          "output_type": "stream",
          "text": [
            "(438, 256, 256, 3) (438, 2)\n"
          ],
          "name": "stdout"
        }
      ]
    },
    {
      "cell_type": "code",
      "metadata": {
        "id": "hqLCKBkKZ-e_"
      },
      "source": [
        "opt = adam(learning_rate=0.0001)"
      ],
      "execution_count": null,
      "outputs": []
    },
    {
      "cell_type": "code",
      "metadata": {
        "id": "UfSStPVdBFol"
      },
      "source": [
        "model.compile(optimizer=opt, loss='binary_crossentropy', metrics=['accuracy'])"
      ],
      "execution_count": null,
      "outputs": []
    },
    {
      "cell_type": "code",
      "metadata": {
        "id": "Arwbt5LXUSJi",
        "colab": {
          "base_uri": "https://localhost:8080/",
          "height": 1000
        },
        "outputId": "69a5dad9-682e-4fb8-b769-381d984a294d"
      },
      "source": [
        "es = EarlyStopping(monitor='val_loss', mode='min', verbose=1,patience=32)\n",
        "mc = ModelCheckpoint('ldn3_23jun02_clahe.h5', monitor='val_accuracy',mode='max', verbose=1, save_best_only=True)\n",
        "history=model.fit(x_train,y_train,batch_size=16,epochs=100, validation_split=0.2,callbacks=[es,mc],shuffle=True)"
      ],
      "execution_count": null,
      "outputs": [
        {
          "output_type": "stream",
          "text": [
            "Train on 350 samples, validate on 88 samples\n",
            "Epoch 1/100\n",
            "350/350 [==============================] - 29s 84ms/step - loss: 0.5026 - accuracy: 0.7200 - val_loss: 0.7116 - val_accuracy: 0.4318\n",
            "\n",
            "Epoch 00001: val_accuracy improved from -inf to 0.43182, saving model to ldn3_23jun02_clahe.h5\n",
            "Epoch 2/100\n",
            "350/350 [==============================] - 29s 82ms/step - loss: 0.1797 - accuracy: 0.9457 - val_loss: 0.5834 - val_accuracy: 0.8068\n",
            "\n",
            "Epoch 00002: val_accuracy improved from 0.43182 to 0.80682, saving model to ldn3_23jun02_clahe.h5\n",
            "Epoch 3/100\n",
            "350/350 [==============================] - 29s 82ms/step - loss: 0.1139 - accuracy: 0.9629 - val_loss: 0.5835 - val_accuracy: 0.7159\n",
            "\n",
            "Epoch 00003: val_accuracy did not improve from 0.80682\n",
            "Epoch 4/100\n",
            "350/350 [==============================] - 29s 82ms/step - loss: 0.0859 - accuracy: 0.9714 - val_loss: 0.5405 - val_accuracy: 0.7727\n",
            "\n",
            "Epoch 00004: val_accuracy did not improve from 0.80682\n",
            "Epoch 5/100\n",
            "350/350 [==============================] - 29s 82ms/step - loss: 0.0666 - accuracy: 0.9771 - val_loss: 0.4513 - val_accuracy: 0.8750\n",
            "\n",
            "Epoch 00005: val_accuracy improved from 0.80682 to 0.87500, saving model to ldn3_23jun02_clahe.h5\n",
            "Epoch 6/100\n",
            "350/350 [==============================] - 29s 82ms/step - loss: 0.0533 - accuracy: 0.9829 - val_loss: 0.4105 - val_accuracy: 0.8750\n",
            "\n",
            "Epoch 00006: val_accuracy did not improve from 0.87500\n",
            "Epoch 7/100\n",
            "350/350 [==============================] - 28s 81ms/step - loss: 0.0433 - accuracy: 0.9914 - val_loss: 0.3778 - val_accuracy: 0.8636\n",
            "\n",
            "Epoch 00007: val_accuracy did not improve from 0.87500\n",
            "Epoch 8/100\n",
            "350/350 [==============================] - 28s 81ms/step - loss: 0.0368 - accuracy: 0.9971 - val_loss: 0.3189 - val_accuracy: 0.8750\n",
            "\n",
            "Epoch 00008: val_accuracy did not improve from 0.87500\n",
            "Epoch 9/100\n",
            "350/350 [==============================] - 28s 81ms/step - loss: 0.0326 - accuracy: 0.9943 - val_loss: 0.3208 - val_accuracy: 0.8750\n",
            "\n",
            "Epoch 00009: val_accuracy did not improve from 0.87500\n",
            "Epoch 10/100\n",
            "350/350 [==============================] - 28s 81ms/step - loss: 0.0297 - accuracy: 0.9971 - val_loss: 0.2577 - val_accuracy: 0.8977\n",
            "\n",
            "Epoch 00010: val_accuracy improved from 0.87500 to 0.89773, saving model to ldn3_23jun02_clahe.h5\n",
            "Epoch 11/100\n",
            "350/350 [==============================] - 28s 81ms/step - loss: 0.0225 - accuracy: 0.9971 - val_loss: 0.3013 - val_accuracy: 0.8977\n",
            "\n",
            "Epoch 00011: val_accuracy did not improve from 0.89773\n",
            "Epoch 12/100\n",
            "350/350 [==============================] - 29s 82ms/step - loss: 0.0189 - accuracy: 0.9971 - val_loss: 0.2627 - val_accuracy: 0.9091\n",
            "\n",
            "Epoch 00012: val_accuracy improved from 0.89773 to 0.90909, saving model to ldn3_23jun02_clahe.h5\n",
            "Epoch 13/100\n",
            "350/350 [==============================] - 29s 82ms/step - loss: 0.0155 - accuracy: 0.9971 - val_loss: 0.2716 - val_accuracy: 0.9091\n",
            "\n",
            "Epoch 00013: val_accuracy did not improve from 0.90909\n",
            "Epoch 14/100\n",
            "350/350 [==============================] - 28s 81ms/step - loss: 0.0144 - accuracy: 0.9971 - val_loss: 0.2715 - val_accuracy: 0.9091\n",
            "\n",
            "Epoch 00014: val_accuracy did not improve from 0.90909\n",
            "Epoch 15/100\n",
            "350/350 [==============================] - 29s 81ms/step - loss: 0.0123 - accuracy: 0.9971 - val_loss: 0.2538 - val_accuracy: 0.9205\n",
            "\n",
            "Epoch 00015: val_accuracy improved from 0.90909 to 0.92045, saving model to ldn3_23jun02_clahe.h5\n",
            "Epoch 16/100\n",
            "350/350 [==============================] - 31s 87ms/step - loss: 0.0113 - accuracy: 1.0000 - val_loss: 0.2564 - val_accuracy: 0.9205\n",
            "\n",
            "Epoch 00016: val_accuracy did not improve from 0.92045\n",
            "Epoch 17/100\n",
            "350/350 [==============================] - 29s 83ms/step - loss: 0.0098 - accuracy: 0.9971 - val_loss: 0.2614 - val_accuracy: 0.9205\n",
            "\n",
            "Epoch 00017: val_accuracy did not improve from 0.92045\n",
            "Epoch 18/100\n",
            "350/350 [==============================] - 29s 82ms/step - loss: 0.0093 - accuracy: 1.0000 - val_loss: 0.2780 - val_accuracy: 0.9205\n",
            "\n",
            "Epoch 00018: val_accuracy did not improve from 0.92045\n",
            "Epoch 19/100\n",
            "350/350 [==============================] - 29s 82ms/step - loss: 0.0073 - accuracy: 1.0000 - val_loss: 0.2514 - val_accuracy: 0.9205\n",
            "\n",
            "Epoch 00019: val_accuracy did not improve from 0.92045\n",
            "Epoch 20/100\n",
            "350/350 [==============================] - 29s 82ms/step - loss: 0.0073 - accuracy: 1.0000 - val_loss: 0.2570 - val_accuracy: 0.9205\n",
            "\n",
            "Epoch 00020: val_accuracy did not improve from 0.92045\n",
            "Epoch 21/100\n",
            "350/350 [==============================] - 29s 83ms/step - loss: 0.0065 - accuracy: 1.0000 - val_loss: 0.2362 - val_accuracy: 0.9205\n",
            "\n",
            "Epoch 00021: val_accuracy did not improve from 0.92045\n",
            "Epoch 22/100\n",
            "350/350 [==============================] - 29s 82ms/step - loss: 0.0055 - accuracy: 1.0000 - val_loss: 0.2573 - val_accuracy: 0.9205\n",
            "\n",
            "Epoch 00022: val_accuracy did not improve from 0.92045\n",
            "Epoch 23/100\n",
            "350/350 [==============================] - 29s 82ms/step - loss: 0.0055 - accuracy: 1.0000 - val_loss: 0.2619 - val_accuracy: 0.9205\n",
            "\n",
            "Epoch 00023: val_accuracy did not improve from 0.92045\n",
            "Epoch 24/100\n",
            "350/350 [==============================] - 29s 82ms/step - loss: 0.0047 - accuracy: 1.0000 - val_loss: 0.2759 - val_accuracy: 0.9205\n",
            "\n",
            "Epoch 00024: val_accuracy did not improve from 0.92045\n",
            "Epoch 25/100\n",
            "350/350 [==============================] - 29s 82ms/step - loss: 0.0042 - accuracy: 1.0000 - val_loss: 0.2706 - val_accuracy: 0.9205\n",
            "\n",
            "Epoch 00025: val_accuracy did not improve from 0.92045\n",
            "Epoch 26/100\n",
            "350/350 [==============================] - 29s 83ms/step - loss: 0.0038 - accuracy: 1.0000 - val_loss: 0.2690 - val_accuracy: 0.9318\n",
            "\n",
            "Epoch 00026: val_accuracy improved from 0.92045 to 0.93182, saving model to ldn3_23jun02_clahe.h5\n",
            "Epoch 27/100\n",
            "350/350 [==============================] - 29s 83ms/step - loss: 0.0034 - accuracy: 1.0000 - val_loss: 0.2790 - val_accuracy: 0.9205\n",
            "\n",
            "Epoch 00027: val_accuracy did not improve from 0.93182\n",
            "Epoch 28/100\n",
            "350/350 [==============================] - 29s 82ms/step - loss: 0.0033 - accuracy: 1.0000 - val_loss: 0.2731 - val_accuracy: 0.9205\n",
            "\n",
            "Epoch 00028: val_accuracy did not improve from 0.93182\n",
            "Epoch 29/100\n",
            "350/350 [==============================] - 29s 82ms/step - loss: 0.0030 - accuracy: 1.0000 - val_loss: 0.2767 - val_accuracy: 0.9205\n",
            "\n",
            "Epoch 00029: val_accuracy did not improve from 0.93182\n",
            "Epoch 30/100\n",
            "350/350 [==============================] - 29s 82ms/step - loss: 0.0028 - accuracy: 1.0000 - val_loss: 0.2845 - val_accuracy: 0.9205\n",
            "\n",
            "Epoch 00030: val_accuracy did not improve from 0.93182\n",
            "Epoch 31/100\n",
            "350/350 [==============================] - 29s 83ms/step - loss: 0.0029 - accuracy: 1.0000 - val_loss: 0.2756 - val_accuracy: 0.9205\n",
            "\n",
            "Epoch 00031: val_accuracy did not improve from 0.93182\n",
            "Epoch 32/100\n",
            "350/350 [==============================] - 29s 83ms/step - loss: 0.0024 - accuracy: 1.0000 - val_loss: 0.2704 - val_accuracy: 0.9318\n",
            "\n",
            "Epoch 00032: val_accuracy did not improve from 0.93182\n",
            "Epoch 33/100\n",
            "350/350 [==============================] - 29s 83ms/step - loss: 0.0023 - accuracy: 1.0000 - val_loss: 0.2715 - val_accuracy: 0.9318\n",
            "\n",
            "Epoch 00033: val_accuracy did not improve from 0.93182\n",
            "Epoch 34/100\n",
            "350/350 [==============================] - 29s 83ms/step - loss: 0.0020 - accuracy: 1.0000 - val_loss: 0.2890 - val_accuracy: 0.9318\n",
            "\n",
            "Epoch 00034: val_accuracy did not improve from 0.93182\n",
            "Epoch 35/100\n",
            "350/350 [==============================] - 29s 82ms/step - loss: 0.0020 - accuracy: 1.0000 - val_loss: 0.2861 - val_accuracy: 0.9318\n",
            "\n",
            "Epoch 00035: val_accuracy did not improve from 0.93182\n",
            "Epoch 36/100\n",
            "350/350 [==============================] - 29s 82ms/step - loss: 0.0018 - accuracy: 1.0000 - val_loss: 0.2812 - val_accuracy: 0.9318\n",
            "\n",
            "Epoch 00036: val_accuracy did not improve from 0.93182\n",
            "Epoch 37/100\n",
            "350/350 [==============================] - 30s 87ms/step - loss: 0.0017 - accuracy: 1.0000 - val_loss: 0.2798 - val_accuracy: 0.9318\n",
            "\n",
            "Epoch 00037: val_accuracy did not improve from 0.93182\n",
            "Epoch 38/100\n",
            "350/350 [==============================] - 29s 82ms/step - loss: 0.0016 - accuracy: 1.0000 - val_loss: 0.2843 - val_accuracy: 0.9318\n",
            "\n",
            "Epoch 00038: val_accuracy did not improve from 0.93182\n",
            "Epoch 39/100\n",
            "350/350 [==============================] - 28s 81ms/step - loss: 0.0015 - accuracy: 1.0000 - val_loss: 0.2813 - val_accuracy: 0.9318\n",
            "\n",
            "Epoch 00039: val_accuracy did not improve from 0.93182\n",
            "Epoch 40/100\n",
            "350/350 [==============================] - 29s 82ms/step - loss: 0.0014 - accuracy: 1.0000 - val_loss: 0.2840 - val_accuracy: 0.9318\n",
            "\n",
            "Epoch 00040: val_accuracy did not improve from 0.93182\n",
            "Epoch 41/100\n",
            "350/350 [==============================] - 28s 81ms/step - loss: 0.0015 - accuracy: 1.0000 - val_loss: 0.2831 - val_accuracy: 0.9318\n",
            "\n",
            "Epoch 00041: val_accuracy did not improve from 0.93182\n",
            "Epoch 42/100\n",
            "350/350 [==============================] - 28s 81ms/step - loss: 0.0013 - accuracy: 1.0000 - val_loss: 0.2840 - val_accuracy: 0.9318\n",
            "\n",
            "Epoch 00042: val_accuracy did not improve from 0.93182\n",
            "Epoch 43/100\n",
            "350/350 [==============================] - 28s 81ms/step - loss: 0.0014 - accuracy: 1.0000 - val_loss: 0.2846 - val_accuracy: 0.9318\n",
            "\n",
            "Epoch 00043: val_accuracy did not improve from 0.93182\n",
            "Epoch 44/100\n",
            "350/350 [==============================] - 28s 81ms/step - loss: 0.0014 - accuracy: 1.0000 - val_loss: 0.2846 - val_accuracy: 0.9318\n",
            "\n",
            "Epoch 00044: val_accuracy did not improve from 0.93182\n",
            "Epoch 45/100\n",
            "350/350 [==============================] - 28s 81ms/step - loss: 0.0012 - accuracy: 1.0000 - val_loss: 0.2872 - val_accuracy: 0.9318\n",
            "\n",
            "Epoch 00045: val_accuracy did not improve from 0.93182\n",
            "Epoch 46/100\n",
            "350/350 [==============================] - 28s 81ms/step - loss: 0.0011 - accuracy: 1.0000 - val_loss: 0.2935 - val_accuracy: 0.9318\n",
            "\n",
            "Epoch 00046: val_accuracy did not improve from 0.93182\n",
            "Epoch 47/100\n",
            "350/350 [==============================] - 28s 81ms/step - loss: 0.0011 - accuracy: 1.0000 - val_loss: 0.2916 - val_accuracy: 0.9318\n",
            "\n",
            "Epoch 00047: val_accuracy did not improve from 0.93182\n",
            "Epoch 48/100\n",
            "350/350 [==============================] - 28s 81ms/step - loss: 0.0011 - accuracy: 1.0000 - val_loss: 0.2899 - val_accuracy: 0.9318\n",
            "\n",
            "Epoch 00048: val_accuracy did not improve from 0.93182\n",
            "Epoch 49/100\n",
            "350/350 [==============================] - 28s 81ms/step - loss: 0.0011 - accuracy: 1.0000 - val_loss: 0.2997 - val_accuracy: 0.9318\n",
            "\n",
            "Epoch 00049: val_accuracy did not improve from 0.93182\n",
            "Epoch 50/100\n",
            "350/350 [==============================] - 28s 81ms/step - loss: 9.2686e-04 - accuracy: 1.0000 - val_loss: 0.3026 - val_accuracy: 0.9318\n",
            "\n",
            "Epoch 00050: val_accuracy did not improve from 0.93182\n",
            "Epoch 51/100\n",
            "350/350 [==============================] - 28s 81ms/step - loss: 8.6799e-04 - accuracy: 1.0000 - val_loss: 0.3015 - val_accuracy: 0.9318\n",
            "\n",
            "Epoch 00051: val_accuracy did not improve from 0.93182\n",
            "Epoch 52/100\n",
            "350/350 [==============================] - 28s 81ms/step - loss: 8.6416e-04 - accuracy: 1.0000 - val_loss: 0.3064 - val_accuracy: 0.9318\n",
            "\n",
            "Epoch 00052: val_accuracy did not improve from 0.93182\n",
            "Epoch 53/100\n",
            "350/350 [==============================] - 28s 81ms/step - loss: 9.1245e-04 - accuracy: 1.0000 - val_loss: 0.3095 - val_accuracy: 0.9318\n",
            "\n",
            "Epoch 00053: val_accuracy did not improve from 0.93182\n",
            "Epoch 00053: early stopping\n"
          ],
          "name": "stdout"
        }
      ]
    },
    {
      "cell_type": "code",
      "metadata": {
        "id": "jtaDRvxtYEBX"
      },
      "source": [
        "with open('ldn3_23jun02_clahe_his', 'wb') as file_pi:\n",
        "        pickle.dump(history.history, file_pi)"
      ],
      "execution_count": null,
      "outputs": []
    },
    {
      "cell_type": "code",
      "metadata": {
        "id": "N_4zOfGHpEMU",
        "colab": {
          "base_uri": "https://localhost:8080/",
          "height": 315
        },
        "outputId": "0da63a3c-96bd-4424-bd71-15d1a1025ee8"
      },
      "source": [
        "plt.plot(history.history['accuracy'])\n",
        "plt.plot(history.history['val_accuracy'])\n",
        "plt.title('model accuracy')\n",
        "plt.ylabel('accuracy')\n",
        "plt.xlabel('epoch')\n",
        "plt.legend(['train','validation'], loc='upper left')\n",
        "plt.show() "
      ],
      "execution_count": null,
      "outputs": [
        {
          "output_type": "display_data",
          "data": {
            "image/png": "[encoded data removed]",
            "text/plain": [
              "<Figure size 432x288 with 1 Axes>"
            ]
          },
          "metadata": {
            "tags": []
          }
        }
      ]
    },
    {
      "cell_type": "code",
      "metadata": {
        "id": "eVidLWcdK9RB",
        "colab": {
          "base_uri": "https://localhost:8080/",
          "height": 315
        },
        "outputId": "54ce52c3-b9fe-4495-9a10-ca6dcbee3757"
      },
      "source": [
        "plt.plot(history.history['loss'])\n",
        "plt.plot(history.history['val_loss'])\n",
        "plt.title('model loss')\n",
        "plt.ylabel('loss')\n",
        "plt.xlabel('epoch')\n",
        "plt.legend(['train','validation'], loc='upper left')\n",
        "plt.show()"
      ],
      "execution_count": null,
      "outputs": [
        {
          "output_type": "display_data",
          "data": {
            "image/png": "[encoded data removed]",
            "text/plain": [
              "<Figure size 432x288 with 1 Axes>"
            ]
          },
          "metadata": {
            "tags": []
          }
        }
      ]
    },
    {
      "cell_type": "code",
      "metadata": {
        "id": "zTvjM5JsBp7M",
        "colab": {
          "base_uri": "https://localhost:8080/",
          "height": 833
        },
        "outputId": "f3d13e6a-238e-441d-fcde-3cee6b43c1cf"
      },
      "source": [
        "model.summary()"
      ],
      "execution_count": null,
      "outputs": [
        {
          "output_type": "stream",
          "text": [
            "Model: \"sequential_3\"\n",
            "_________________________________________________________________\n",
            "Layer (type)                 Output Shape              Param #   \n",
            "=================================================================\n",
            "conv2d_13 (Conv2D)           (None, 256, 256, 8)       224       \n",
            "_________________________________________________________________\n",
            "batch_normalization_11 (Batc (None, 256, 256, 8)       32        \n",
            "_________________________________________________________________\n",
            "leaky_re_lu_11 (LeakyReLU)   (None, 256, 256, 8)       0         \n",
            "_________________________________________________________________\n",
            "max_pooling2d_5 (MaxPooling2 (None, 128, 128, 8)       0         \n",
            "_________________________________________________________________\n",
            "conv2d_14 (Conv2D)           (None, 128, 128, 16)      1168      \n",
            "_________________________________________________________________\n",
            "batch_normalization_12 (Batc (None, 128, 128, 16)      64        \n",
            "_________________________________________________________________\n",
            "leaky_re_lu_12 (LeakyReLU)   (None, 128, 128, 16)      0         \n",
            "_________________________________________________________________\n",
            "conv2d_15 (Conv2D)           (None, 128, 128, 16)      272       \n",
            "_________________________________________________________________\n",
            "batch_normalization_13 (Batc (None, 128, 128, 16)      64        \n",
            "_________________________________________________________________\n",
            "leaky_re_lu_13 (LeakyReLU)   (None, 128, 128, 16)      0         \n",
            "_________________________________________________________________\n",
            "conv2d_16 (Conv2D)           (None, 128, 128, 16)      2320      \n",
            "_________________________________________________________________\n",
            "batch_normalization_14 (Batc (None, 128, 128, 16)      64        \n",
            "_________________________________________________________________\n",
            "leaky_re_lu_14 (LeakyReLU)   (None, 128, 128, 16)      0         \n",
            "_________________________________________________________________\n",
            "max_pooling2d_6 (MaxPooling2 (None, 64, 64, 16)        0         \n",
            "_________________________________________________________________\n",
            "conv2d_17 (Conv2D)           (None, 64, 64, 32)        4640      \n",
            "_________________________________________________________________\n",
            "batch_normalization_15 (Batc (None, 64, 64, 32)        128       \n",
            "_________________________________________________________________\n",
            "leaky_re_lu_15 (LeakyReLU)   (None, 64, 64, 32)        0         \n",
            "_________________________________________________________________\n",
            "conv2d_18 (Conv2D)           (None, 64, 64, 2)         578       \n",
            "_________________________________________________________________\n",
            "flatten_3 (Flatten)          (None, 8192)              0         \n",
            "_________________________________________________________________\n",
            "dense_3 (Dense)              (None, 1)                 8193      \n",
            "=================================================================\n",
            "Total params: 17,747\n",
            "Trainable params: 17,571\n",
            "Non-trainable params: 176\n",
            "_________________________________________________________________\n"
          ],
          "name": "stdout"
        }
      ]
    },
    {
      "cell_type": "code",
      "metadata": {
        "id": "TPgYN5MKLBlm"
      },
      "source": [
        "    model = Sequential()\n",
        "    model.add(layers.Conv2D(filters=8,kernel_size=(3,3),input_shape=(256,256,3),strides=1,padding='same'))\n",
        "    model.add(layers.BatchNormalization())\n",
        "    model.add(layers.LeakyReLU(alpha=0.1))\n",
        "    \n",
        "    model.add(layers.MaxPooling2D(pool_size=(2,2),strides=2))\n",
        "    \n",
        "    model.add(layers.Conv2D(filters=16,kernel_size=(3,3),strides=1,padding='same'))\n",
        "    model.add(layers.BatchNormalization())\n",
        "    model.add(layers.LeakyReLU(alpha=0.1))\n",
        "    model.add(layers.Conv2D(filters=16,kernel_size=(1,1),strides=1,padding='same'))\n",
        "    model.add(layers.BatchNormalization())\n",
        "    model.add(layers.LeakyReLU(alpha=0.1))\n",
        "    model.add(layers.Conv2D(filters=16,kernel_size=(3,3),strides=1,padding='same'))\n",
        "    model.add(layers.BatchNormalization())\n",
        "    model.add(layers.LeakyReLU(alpha=0.1))\n",
        " \n",
        "    model.add(layers.MaxPooling2D(pool_size=(2,2),strides=2))\n",
        "    \n",
        "    model.add(layers.Conv2D(filters=32,kernel_size=(3,3),strides=1,padding='same'))\n",
        "    model.add(layers.BatchNormalization())\n",
        "    model.add(layers.LeakyReLU(alpha=0.1))\n",
        "    \n",
        "    model.add(layers.Conv2D(filters=2,kernel_size=(3,3),strides=1,padding='same'))\n",
        "    model.add(layers.Flatten())\n",
        "\n",
        "    #model.add(layers.Dense(64, activation='relu')) \n",
        "    model.add(layers.Dense(1, activation='sigmoid'))\n",
        "    model.compile(optimizer=opt, loss='binary_crossentropy', metrics=['accuracy'])\n",
        "    model.load_weights('ldn3_23jun02_clahe.h5')"
      ],
      "execution_count": null,
      "outputs": []
    },
    {
      "cell_type": "code",
      "metadata": {
        "id": "8PrE9ZQsLUBL"
      },
      "source": [
        "model.compile(loss='binary_crossentropy', optimizer=opt, metrics=['accuracy'])\n",
        "_, test_acc = model.evaluate(x_test, y_test, verbose=0)"
      ],
      "execution_count": null,
      "outputs": []
    },
    {
      "cell_type": "code",
      "metadata": {
        "id": "ob2A3VfJL1mN",
        "colab": {
          "base_uri": "https://localhost:8080/",
          "height": 51
        },
        "outputId": "ad2e2c03-fccf-4572-883b-9a97ae212bad"
      },
      "source": [
        "print(\"test accuracy: \",test_acc,)\n",
        "print(\"test loss    : \",_)"
      ],
      "execution_count": null,
      "outputs": [
        {
          "output_type": "stream",
          "text": [
            "test accuracy:  0.9666666388511658\n",
            "test loss    :  0.16337584120531876\n"
          ],
          "name": "stdout"
        }
      ]
    },
    {
      "cell_type": "code",
      "metadata": {
        "id": "xBnd86wbL5KI"
      },
      "source": [
        "y_pred=model.predict(x_test)"
      ],
      "execution_count": null,
      "outputs": []
    },
    {
      "cell_type": "code",
      "metadata": {
        "id": "vL2sy4m7MAHk",
        "colab": {
          "base_uri": "https://localhost:8080/",
          "height": 34
        },
        "outputId": "91944b64-d6be-4081-b824-813b20855ba8"
      },
      "source": [
        "y_pred.shape"
      ],
      "execution_count": null,
      "outputs": [
        {
          "output_type": "execute_result",
          "data": {
            "text/plain": [
              "(60, 1)"
            ]
          },
          "metadata": {
            "tags": []
          },
          "execution_count": 74
        }
      ]
    },
    {
      "cell_type": "code",
      "metadata": {
        "id": "qHRZOMEdx7tg"
      },
      "source": [
        "#sample_labels=enc.inverse_transform(y_pred)"
      ],
      "execution_count": null,
      "outputs": []
    },
    {
      "cell_type": "code",
      "metadata": {
        "id": "r3Ej5EaIFz3o",
        "colab": {
          "base_uri": "https://localhost:8080/",
          "height": 34
        },
        "outputId": "c6c3735a-dc02-406a-83d8-2f6fa6151c13"
      },
      "source": [
        "label = []\n",
        "for i in y_pred:\n",
        "  if i>0.5:\n",
        "    label.append(1)\n",
        "  else :\n",
        "    label.append(0)\n",
        "print(len(label))\n",
        "label = np.asarray(label)\n",
        "label=label.reshape(-1,1)"
      ],
      "execution_count": null,
      "outputs": [
        {
          "output_type": "stream",
          "text": [
            "60\n"
          ],
          "name": "stdout"
        }
      ]
    },
    {
      "cell_type": "code",
      "metadata": {
        "id": "MjrAcePmyeO8"
      },
      "source": [
        "from sklearn.metrics import accuracy_score"
      ],
      "execution_count": null,
      "outputs": []
    },
    {
      "cell_type": "code",
      "metadata": {
        "id": "P8t8oxvSxvrJ"
      },
      "source": [
        "\n",
        "test_acc=accuracy_score(y_test, label)"
      ],
      "execution_count": null,
      "outputs": []
    },
    {
      "cell_type": "code",
      "metadata": {
        "id": "FW5MmeR7zqDJ",
        "colab": {
          "base_uri": "https://localhost:8080/",
          "height": 34
        },
        "outputId": "d1901414-4410-49a8-e14b-fe7c1b634127"
      },
      "source": [
        "test_acc"
      ],
      "execution_count": null,
      "outputs": [
        {
          "output_type": "execute_result",
          "data": {
            "text/plain": [
              "0.9666666666666667"
            ]
          },
          "metadata": {
            "tags": []
          },
          "execution_count": 79
        }
      ]
    },
    {
      "cell_type": "code",
      "metadata": {
        "id": "Vtbu8Jenv_TR",
        "colab": {
          "base_uri": "https://localhost:8080/",
          "height": 34
        },
        "outputId": "c76fd626-31eb-48d6-c6a8-8ec346dc1ec9"
      },
      "source": [
        "label = []\n",
        "for i in y_pred:\n",
        "  if i>0.5:\n",
        "    label.append(1)\n",
        "  else :\n",
        "    label.append(0)\n",
        "print(len(label))\n",
        "label = np.asarray(label)\n",
        "label=label.reshape(-1,1)"
      ],
      "execution_count": null,
      "outputs": [
        {
          "output_type": "stream",
          "text": [
            "60\n"
          ],
          "name": "stdout"
        }
      ]
    },
    {
      "cell_type": "code",
      "metadata": {
        "id": "hU7m_ZeXMPl9"
      },
      "source": [
        "from sklearn.metrics import confusion_matrix\n",
        "cm = confusion_matrix(y_test,label)"
      ],
      "execution_count": null,
      "outputs": []
    },
    {
      "cell_type": "code",
      "metadata": {
        "id": "4wCTVeGbMcVo",
        "colab": {
          "base_uri": "https://localhost:8080/",
          "height": 481
        },
        "outputId": "0524bb4f-53ac-4e06-85a4-a888f1b085fb"
      },
      "source": [
        "from sklearn.metrics import confusion_matrix\n",
        "cm = confusion_matrix(y_test,label)\n",
        "import seaborn as sns\n",
        "df_cm = pd.DataFrame(cm, columns=['Viral','COVID-19'], index = ['Viral','COVID-19'])\n",
        "df_cm.index.name = 'Actual'\n",
        "df_cm.columns.name = 'Predicted'\n",
        "plt.figure(figsize = (10,7))\n",
        "sns.set(font_scale=1.4)#for label size\n",
        "sns.heatmap(df_cm, cmap=\"Blues\", annot=True,annot_kws={\"size\": 16},fmt='d')"
      ],
      "execution_count": null,
      "outputs": [
        {
          "output_type": "execute_result",
          "data": {
            "text/plain": [
              "<matplotlib.axes._subplots.AxesSubplot at 0x7fc9536cfe48>"
            ]
          },
          "metadata": {
            "tags": []
          },
          "execution_count": 82
        },
        {
          "output_type": "display_data",
          "data": {
            "image/png": "[encoded data removed]",
            "text/plain": [
              "<Figure size 720x504 with 2 Axes>"
            ]
          },
          "metadata": {
            "tags": []
          }
        }
      ]
    },
    {
      "cell_type": "code",
      "metadata": {
        "id": "7qmgr-RVNLF9"
      },
      "source": [
        "def confusion_metrics (conf_matrix):\n",
        "# save confusion matrix and slice into four pieces\n",
        "    TP = conf_matrix[1][1]\n",
        "    TN = conf_matrix[0][0]\n",
        "    FP = conf_matrix[0][1]\n",
        "    FN = conf_matrix[1][0]\n",
        "    print('True Positives:', TP)\n",
        "    print('True Negatives:', TN)\n",
        "    print('False Positives:', FP)\n",
        "    print('False Negatives:', FN)\n",
        "    \n",
        "    # calculate accuracy\n",
        "    conf_accuracy = (float (TP+TN) / float(TP + TN + FP + FN))\n",
        "    \n",
        "    # calculate mis-classification\n",
        "    conf_misclassification = 1- conf_accuracy\n",
        "    \n",
        "    # calculate the sensitivity\n",
        "    conf_sensitivity = (TP / float(TP + FN))\n",
        "    # calculate the specificity\n",
        "    conf_specificity = (TN / float(TN + FP))\n",
        "    \n",
        "    # calculate precision\n",
        "    conf_precision = (TN / float(TN + FP))\n",
        "    # calculate f_1 score\n",
        "    conf_f1 = 2 * ((conf_precision * conf_sensitivity) / (conf_precision + conf_sensitivity))\n",
        "    print('-'*50)\n",
        "    print(f'Accuracy: {round(conf_accuracy,2)}') \n",
        "    print(f'Mis-Classification: {round(conf_misclassification,2)}') \n",
        "    print(f'Sensitivity: {round(conf_sensitivity,2)}') \n",
        "    print(f'Specificity: {round(conf_specificity,2)}') \n",
        "    print(f'Precision: {round(conf_precision,2)}')\n",
        "    print(f'f_1 Score: {round(conf_f1,2)}')"
      ],
      "execution_count": null,
      "outputs": []
    },
    {
      "cell_type": "code",
      "metadata": {
        "id": "agvesgd1XI3e",
        "colab": {
          "base_uri": "https://localhost:8080/",
          "height": 204
        },
        "outputId": "9f17cf2a-0b74-4a1f-ef67-8823b627a06b"
      },
      "source": [
        "confusion_metrics(cm)"
      ],
      "execution_count": null,
      "outputs": [
        {
          "output_type": "stream",
          "text": [
            "True Positives: 30\n",
            "True Negatives: 28\n",
            "False Positives: 2\n",
            "False Negatives: 0\n",
            "--------------------------------------------------\n",
            "Accuracy: 0.97\n",
            "Mis-Classification: 0.03\n",
            "Sensitivity: 1.0\n",
            "Specificity: 0.93\n",
            "Precision: 0.93\n",
            "f_1 Score: 0.97\n"
          ],
          "name": "stdout"
        }
      ]
    },
    {
      "cell_type": "code",
      "metadata": {
        "id": "OBgSuRXtGHXZ"
      },
      "source": [
        ""
      ],
      "execution_count": null,
      "outputs": []
    }
  ]
}