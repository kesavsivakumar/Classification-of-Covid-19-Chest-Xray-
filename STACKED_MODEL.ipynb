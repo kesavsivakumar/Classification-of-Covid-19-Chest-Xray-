{
  "nbformat": 4,
  "nbformat_minor": 0,
  "metadata": {
    "colab": {
      "name": "STACKED_MODEL.ipynb",
      "provenance": [],
      "collapsed_sections": []
    },
    "kernelspec": {
      "name": "python3",
      "display_name": "Python 3"
    }
  },
  "cells": [
    {
      "cell_type": "code",
      "metadata": {
        "id": "QLolEWk7NuZD",
        "colab": {
          "base_uri": "https://localhost:8080/",
          "height": 34
        },
        "outputId": "37afbe9d-2d44-48cb-e25e-df9f1c18ffea"
      },
      "source": [
        "from google.colab import drive\n",
        "drive.mount('/content/drive')"
      ],
      "execution_count": null,
      "outputs": [
        {
          "output_type": "stream",
          "text": [
            "Drive already mounted at /content/drive; to attempt to forcibly remount, call drive.mount(\"/content/drive\", force_remount=True).\n"
          ],
          "name": "stdout"
        }
      ]
    },
    {
      "cell_type": "code",
      "metadata": {
        "id": "Yjtdw8K2NtzM",
        "colab": {
          "base_uri": "https://localhost:8080/",
          "height": 51
        },
        "outputId": "7b2b2e37-b8b1-4131-c295-3689c10118c5"
      },
      "source": [
        "cd drive\n"
      ],
      "execution_count": null,
      "outputs": [
        {
          "output_type": "stream",
          "text": [
            "[Errno 2] No such file or directory: 'drive'\n",
            "/content/drive/My Drive\n"
          ],
          "name": "stdout"
        }
      ]
    },
    {
      "cell_type": "code",
      "metadata": {
        "id": "ePePcCP_OHzw",
        "colab": {
          "base_uri": "https://localhost:8080/",
          "height": 51
        },
        "outputId": "f0d55cfa-0080-43d3-8cb9-e26faaecdddb"
      },
      "source": [
        "cd My Drive"
      ],
      "execution_count": null,
      "outputs": [
        {
          "output_type": "stream",
          "text": [
            "[Errno 2] No such file or directory: 'My Drive'\n",
            "/content/drive/My Drive\n"
          ],
          "name": "stdout"
        }
      ]
    },
    {
      "cell_type": "code",
      "metadata": {
        "id": "-lwLf61ocEpz"
      },
      "source": [
        "import glob\n",
        "import cv2\n",
        "import numpy as np\n"
      ],
      "execution_count": null,
      "outputs": []
    },
    {
      "cell_type": "code",
      "metadata": {
        "id": "i9MqnL6uu7fv"
      },
      "source": [
        "\n",
        "# stacked generalization with linear meta model on blobs dataset\n",
        "from sklearn.datasets import make_blobs\n",
        "from sklearn.metrics import accuracy_score\n",
        "from sklearn.linear_model import LogisticRegression\n",
        "from keras.models import load_model\n",
        "from keras.utils import to_categorical\n",
        "from numpy import dstack\n",
        "from keras.models import model_from_json\n",
        "\n",
        "# load models from file\n",
        "def load_all_models():\n",
        "  all_models = list()\n",
        "  for i in range(3):\n",
        "   # define filename for this ensembl\n",
        "   filename = 'models/model'+str(i+1)+'.h5'\n",
        "   # load json and create\n",
        "   json_file = open('/content/drive/My Drive/models/model'+str(i+1)+'.json', 'r')\n",
        "   loaded_model_json = json_file.read()\n",
        "   json_file.close()\n",
        "   model = model_from_json(loaded_model_json)\n",
        "   # load weights into new model\n",
        "   model.load_weights('/content/drive/My Drive/models/model'+str(i+1)+'.h5')\n",
        "   # add to list of members\n",
        "   all_models.append(model)\n",
        "   print('>loaded %s' % filename)\n",
        "  return all_models\n",
        "\n"
      ],
      "execution_count": null,
      "outputs": []
    },
    {
      "cell_type": "code",
      "metadata": {
        "id": "olpYFF-r1rmU"
      },
      "source": [
        "# create stacked model input dataset as outputs from the ensemble\n",
        "def stacked_dataset(members, inputX):\n",
        "\tstackX = None\n",
        "\tx=[]\n",
        "\tl=[]\n",
        "\tfor model in members:\n",
        "\t\t# make prediction\n",
        "\t\ty_pred= model.predict(inputX, verbose=0)\n",
        "\t\tlabel = []\n",
        "\t\tfor i in y_pred:\n",
        "\t\t\tif i>0.5:\n",
        "\t\t\t\tlabel.append(1)\n",
        "\t\t\telse :\n",
        "\t\t\t\tlabel.append(0)\n",
        "\t\tlabel=np.asarray(label)\n",
        "\t\tyhat=label.reshape(-1,1)\n",
        "\t\t# stack predictions into [rows, members, probabilities]\n",
        "\t\tif stackX is None:\n",
        "\t\t\tstackX = yhat\n",
        "\t\telse:\n",
        "\t\t\tstackX = dstack((stackX, yhat))\n",
        "\tst=np.asarray(stackX)\n",
        "\tstackX = stackX.reshape((stackX.shape[0], stackX.shape[1]*stackX.shape[2]))\n",
        "\tfor i in range(len(stackX)):\n",
        "\t\tif(stackX[i][0]==0):\n",
        "\t\t\tstackX[i][1],stackX[i][2]=0,0\n",
        "\tfor i in range(len(stackX)):\n",
        "\t\tif(stackX[i][1]==0):\n",
        "\t\t\tstackX[i][2]=0  \n",
        "\tfor i in range(len(stackX)):\n",
        "\t\tx.append(stackX[i][0]*1+stackX[i][1]*10+stackX[i][2]*100) \n",
        "\tfor i in x:\n",
        "\t\tif i==0:\n",
        "\t\t\tl.append(0)\n",
        "\t\telif i==1:\n",
        "\t\t\tl.append(1)\n",
        "\t\telif i==11:\n",
        "\t\t\tl.append(2)\n",
        "\t\telse:\n",
        "\t\t\tl.append(3)\n",
        "\tl=np.asarray(l)\n",
        "\tl=l.reshape(-1,1)\n",
        "\treturn l\n",
        "\t#return np.asarray(x),stackX,st\n",
        "\n"
      ],
      "execution_count": null,
      "outputs": []
    },
    {
      "cell_type": "code",
      "metadata": {
        "id": "t_Gq1DxS1wGW"
      },
      "source": [
        "# fit a model based on the outputs from the ensemble members\n",
        "def fit_stacked_model(members, inputX, inputy):\n",
        "\t# create dataset using ensemble\n",
        "\tstackedX = stacked_dataset(members, inputX)\n",
        "\t# fit standalone model\n",
        "\tmodel = LogisticRegression()\n",
        "\tmodel.fit(stackedX, inputy)\n",
        "\treturn model\n",
        "\n"
      ],
      "execution_count": null,
      "outputs": []
    },
    {
      "cell_type": "code",
      "metadata": {
        "id": "_rDXAD_Z12ql"
      },
      "source": [
        "# make a prediction with the stacked model\n",
        "def stacked_prediction(members, model, inputX):\n",
        "\t# create dataset using ensemble\n",
        "\tstackedX = stacked_dataset(members, inputX)\n",
        "\t# make a prediction\n",
        "\tyhat = model.predict(stackedX)\n",
        "\treturn yhat.reshape(-1,1)\n",
        "\n"
      ],
      "execution_count": null,
      "outputs": []
    },
    {
      "cell_type": "code",
      "metadata": {
        "id": "HPGaCy-018eZ",
        "colab": {
          "base_uri": "https://localhost:8080/",
          "height": 119
        },
        "outputId": "ef6d6e7f-0ce9-4818-c80f-12bb763d20ff"
      },
      "source": [
        "# generate 2d classification dataset\n",
        "x_test=[]\n",
        "y_test=[]\n",
        "\n",
        "x_normal = np.load('/content/drive/My Drive/data/x_normal.npy')\n",
        "\n",
        "x_viral = np.load('/content/drive/My Drive/data/x_viral.npy')\n",
        "\n",
        "x_bacterial = np.load('/content/drive/My Drive/data/x_bacterial.npy')\n",
        "\n",
        "x_covid=np.load('/content/drive/My Drive/data/x_covid.npy')\n",
        "n=np.zeros(shape=(70,1))\n",
        "v=np.zeros(shape=(70,1))\n",
        "b=np.zeros(shape=(70,1))\n",
        "c=np.zeros(shape=(70,1))\n",
        "\n",
        "for i in range(70):\n",
        "  b[i]=1\n",
        "  v[i]=2\n",
        "  c[i]=3\n",
        "\n",
        "\n",
        "x_test=np.concatenate((x_normal[1300:1170],x_bacterial[1300:170],x_viral[1100:1170],x_covid[159:229]))\n",
        "y_test=np.concatenate((n,b,v,c))\n",
        "\n",
        "for i in range(len(x_test)):\n",
        "    img = x_test[i]\n",
        "    lab = cv2.cvtColor(img, cv2.COLOR_BGR2LAB)\n",
        "\n",
        "    lab_planes = cv2.split(lab)\n",
        "\n",
        "    clahe = cv2.createCLAHE(clipLimit=2.0,tileGridSize=(16,16))\n",
        "\n",
        "    lab_planes[0] = clahe.apply(lab_planes[0])\n",
        "\n",
        "    lab = cv2.merge(lab_planes)\n",
        "\n",
        "    img = cv2.cvtColor(lab, cv2.COLOR_LAB2BGR) \n",
        "    x_test[i]=img\n",
        "\n",
        "print('Shape of train images: ', x_test[0].shape)\n",
        "x_test=np.array(x_test)\n",
        "print(x_test.shape)\n",
        "\t\t\t\t\n",
        "# split into train and test\n",
        "\n",
        "# load all models\n",
        "members = load_all_models()\n",
        "print('Loaded %d models' % len(members))\n",
        "st=stacked_dataset(members,x_test)\n",
        "\n",
        "\n"
      ],
      "execution_count": null,
      "outputs": [
        {
          "output_type": "stream",
          "text": [
            "Shape of train images:  (256, 256, 3)\n",
            "(280, 256, 256, 3)\n",
            ">loaded models/model1.h5\n",
            ">loaded models/model2.h5\n",
            ">loaded models/model3.h5\n",
            "Loaded 3 models\n"
          ],
          "name": "stdout"
        }
      ]
    },
    {
      "cell_type": "code",
      "metadata": {
        "id": "tj6M2hYjRuyT",
        "colab": {
          "base_uri": "https://localhost:8080/",
          "height": 1000
        },
        "outputId": "e6821776-49c7-4258-f6e5-8c4325f9827b"
      },
      "source": [
        "st\n"
      ],
      "execution_count": null,
      "outputs": [
        {
          "output_type": "execute_result",
          "data": {
            "text/plain": [
              "array([[0],\n",
              "       [0],\n",
              "       [0],\n",
              "       [0],\n",
              "       [0],\n",
              "       [0],\n",
              "       [0],\n",
              "       [0],\n",
              "       [1],\n",
              "       [0],\n",
              "       [0],\n",
              "       [0],\n",
              "       [0],\n",
              "       [0],\n",
              "       [3],\n",
              "       [2],\n",
              "       [0],\n",
              "       [0],\n",
              "       [0],\n",
              "       [3],\n",
              "       [0],\n",
              "       [0],\n",
              "       [2],\n",
              "       [0],\n",
              "       [0],\n",
              "       [0],\n",
              "       [0],\n",
              "       [2],\n",
              "       [1],\n",
              "       [0],\n",
              "       [2],\n",
              "       [0],\n",
              "       [0],\n",
              "       [0],\n",
              "       [0],\n",
              "       [0],\n",
              "       [0],\n",
              "       [0],\n",
              "       [0],\n",
              "       [1],\n",
              "       [0],\n",
              "       [0],\n",
              "       [0],\n",
              "       [0],\n",
              "       [0],\n",
              "       [2],\n",
              "       [1],\n",
              "       [2],\n",
              "       [0],\n",
              "       [0],\n",
              "       [0],\n",
              "       [0],\n",
              "       [0],\n",
              "       [0],\n",
              "       [1],\n",
              "       [0],\n",
              "       [0],\n",
              "       [0],\n",
              "       [0],\n",
              "       [0],\n",
              "       [0],\n",
              "       [0],\n",
              "       [2],\n",
              "       [0],\n",
              "       [0],\n",
              "       [0],\n",
              "       [0],\n",
              "       [0],\n",
              "       [2],\n",
              "       [2],\n",
              "       [2],\n",
              "       [1],\n",
              "       [1],\n",
              "       [1],\n",
              "       [1],\n",
              "       [1],\n",
              "       [1],\n",
              "       [1],\n",
              "       [1],\n",
              "       [1],\n",
              "       [1],\n",
              "       [1],\n",
              "       [2],\n",
              "       [2],\n",
              "       [1],\n",
              "       [2],\n",
              "       [0],\n",
              "       [1],\n",
              "       [1],\n",
              "       [1],\n",
              "       [1],\n",
              "       [0],\n",
              "       [1],\n",
              "       [1],\n",
              "       [2],\n",
              "       [1],\n",
              "       [2],\n",
              "       [1],\n",
              "       [3],\n",
              "       [1],\n",
              "       [1],\n",
              "       [1],\n",
              "       [1],\n",
              "       [1],\n",
              "       [0],\n",
              "       [2],\n",
              "       [2],\n",
              "       [1],\n",
              "       [1],\n",
              "       [1],\n",
              "       [2],\n",
              "       [0],\n",
              "       [1],\n",
              "       [1],\n",
              "       [1],\n",
              "       [1],\n",
              "       [2],\n",
              "       [2],\n",
              "       [2],\n",
              "       [1],\n",
              "       [1],\n",
              "       [1],\n",
              "       [0],\n",
              "       [1],\n",
              "       [3],\n",
              "       [1],\n",
              "       [1],\n",
              "       [1],\n",
              "       [1],\n",
              "       [0],\n",
              "       [1],\n",
              "       [1],\n",
              "       [0],\n",
              "       [1],\n",
              "       [0],\n",
              "       [0],\n",
              "       [1],\n",
              "       [2],\n",
              "       [1],\n",
              "       [1],\n",
              "       [2],\n",
              "       [2],\n",
              "       [2],\n",
              "       [2],\n",
              "       [1],\n",
              "       [2],\n",
              "       [2],\n",
              "       [2],\n",
              "       [2],\n",
              "       [2],\n",
              "       [2],\n",
              "       [1],\n",
              "       [2],\n",
              "       [1],\n",
              "       [2],\n",
              "       [2],\n",
              "       [2],\n",
              "       [0],\n",
              "       [2],\n",
              "       [2],\n",
              "       [1],\n",
              "       [2],\n",
              "       [1],\n",
              "       [1],\n",
              "       [0],\n",
              "       [2],\n",
              "       [0],\n",
              "       [1],\n",
              "       [2],\n",
              "       [2],\n",
              "       [2],\n",
              "       [0],\n",
              "       [2],\n",
              "       [2],\n",
              "       [1],\n",
              "       [1],\n",
              "       [2],\n",
              "       [2],\n",
              "       [2],\n",
              "       [2],\n",
              "       [2],\n",
              "       [1],\n",
              "       [1],\n",
              "       [2],\n",
              "       [0],\n",
              "       [1],\n",
              "       [2],\n",
              "       [2],\n",
              "       [2],\n",
              "       [2],\n",
              "       [0],\n",
              "       [0],\n",
              "       [2],\n",
              "       [2],\n",
              "       [2],\n",
              "       [0],\n",
              "       [2],\n",
              "       [2],\n",
              "       [1],\n",
              "       [0],\n",
              "       [2],\n",
              "       [1],\n",
              "       [2],\n",
              "       [2],\n",
              "       [1],\n",
              "       [2],\n",
              "       [1],\n",
              "       [2],\n",
              "       [1],\n",
              "       [2],\n",
              "       [3],\n",
              "       [3],\n",
              "       [3],\n",
              "       [3],\n",
              "       [1],\n",
              "       [3],\n",
              "       [3],\n",
              "       [3],\n",
              "       [3],\n",
              "       [3],\n",
              "       [3],\n",
              "       [3],\n",
              "       [3],\n",
              "       [3],\n",
              "       [3],\n",
              "       [3],\n",
              "       [3],\n",
              "       [3],\n",
              "       [3],\n",
              "       [3],\n",
              "       [3],\n",
              "       [3],\n",
              "       [3],\n",
              "       [3],\n",
              "       [3],\n",
              "       [3],\n",
              "       [3],\n",
              "       [3],\n",
              "       [3],\n",
              "       [3],\n",
              "       [3],\n",
              "       [3],\n",
              "       [3],\n",
              "       [1],\n",
              "       [3],\n",
              "       [3],\n",
              "       [3],\n",
              "       [1],\n",
              "       [3],\n",
              "       [3],\n",
              "       [3],\n",
              "       [3],\n",
              "       [3],\n",
              "       [3],\n",
              "       [3],\n",
              "       [3],\n",
              "       [3],\n",
              "       [3],\n",
              "       [3],\n",
              "       [3],\n",
              "       [3],\n",
              "       [3],\n",
              "       [3],\n",
              "       [3],\n",
              "       [3],\n",
              "       [3],\n",
              "       [1],\n",
              "       [1],\n",
              "       [3],\n",
              "       [1],\n",
              "       [3],\n",
              "       [3],\n",
              "       [3],\n",
              "       [3],\n",
              "       [3],\n",
              "       [3],\n",
              "       [3],\n",
              "       [3],\n",
              "       [3],\n",
              "       [3]])"
            ]
          },
          "metadata": {
            "tags": []
          },
          "execution_count": 51
        }
      ]
    },
    {
      "cell_type": "code",
      "metadata": {
        "id": "TZwgx15RXpM5",
        "colab": {
          "base_uri": "https://localhost:8080/",
          "height": 88
        },
        "outputId": "1d75bd84-9940-4257-9e92-2457cc41b02a"
      },
      "source": [
        "\n",
        "\n",
        "# evaluate standalone models on test dataset\n",
        "'''for model in members:\n",
        "\ttesty_enc = to_categorical(testy)\n",
        "\t_, acc = model.evaluate(testX, testy_enc, verbose=0)\n",
        "\tprint('Model Accuracy: %.3f' % acc)'''\n",
        "# fit stacked model using the ensemble\n",
        "y_test=y_test.reshape(-1,1)\n",
        "model = fit_stacked_model(members, x_test, y_test)\n",
        "# evaluate model on test set\n",
        "acc = accuracy_score(st,y_test)\n",
        "print('Stacked Test Accuracy: %.3f' % acc)"
      ],
      "execution_count": null,
      "outputs": [
        {
          "output_type": "stream",
          "text": [
            "Stacked Test Accuracy: 0.743\n"
          ],
          "name": "stdout"
        },
        {
          "output_type": "stream",
          "text": [
            "/usr/local/lib/python3.6/dist-packages/sklearn/utils/validation.py:760: DataConversionWarning: A column-vector y was passed when a 1d array was expected. Please change the shape of y to (n_samples, ), for example using ravel().\n",
            "  y = column_or_1d(y, warn=True)\n"
          ],
          "name": "stderr"
        }
      ]
    },
    {
      "cell_type": "code",
      "metadata": {
        "id": "NKI-aajzieRA"
      },
      "source": [
        "import pandas as pd\n",
        "import numpy as np\n",
        "import matplotlib.pyplot as plt"
      ],
      "execution_count": null,
      "outputs": []
    },
    {
      "cell_type": "code",
      "metadata": {
        "id": "xjtNFWrTinei",
        "colab": {
          "base_uri": "https://localhost:8080/",
          "height": 1000
        },
        "outputId": "b4154645-9706-42c9-8afb-f72131e4b70d"
      },
      "source": [
        "from sklearn.metrics import confusion_matrix\n",
        "cm = confusion_matrix(y_test,st)\n",
        "import seaborn as sns\n",
        "df_cm = pd.DataFrame(cm, columns=['Normal','Bacterial Pneumonia','Viral Pnenumonia','Covid-19'], index = ['Normal','Bacterial Pneumonia','Viral Pnenumonia','Covid-19'])\n",
        "df_cm.index.name = 'Actual'\n",
        "df_cm.columns.name = 'Predicted'\n",
        "plt.figure(figsize = (10,7))\n",
        "sns.set(font_scale=1.4)#for label size\n",
        "sns.heatmap(df_cm, cmap=\"Blues\", annot=True,annot_kws={\"size\": 16},fmt='d')\n",
        "\n",
        "\n",
        "\n",
        "def calc_metrics(cm):\n",
        "  fp_nor=cm[1][0]+cm[2][0]+cm[3][0]\n",
        "  fn_nor=cm[0][1]+cm[0][2]+cm[0][3]\n",
        "  tp_nor=cm[0][0]\n",
        "  tn_nor=np.sum(cm)-(tp_nor+fp_nor+fn_nor)\n",
        "  fp_bac=cm[0][1]+cm[2][1]+cm[3][1]\n",
        "  fn_bac=cm[1][0]+cm[1][2]+cm[1][3]\n",
        "  tp_bac=cm[1][1]\n",
        "  tn_bac=np.sum(cm)-(tp_bac+fp_bac+fn_bac)\n",
        "  fp_vir=cm[0][2]+cm[1][2]+cm[3][2]\n",
        "  fn_vir=cm[2][0]+cm[2][1]+cm[2][3]\n",
        "  tp_vir=cm[2][2]\n",
        "  tn_vir=np.sum(cm)-(tp_vir+fp_vir+fn_vir)\n",
        "  fp_cov=cm[0][2]+cm[1][2]+cm[3][2]\n",
        "  fn_cov=cm[2][0]+cm[2][1]+cm[2][3]\n",
        "  tp_cov=cm[3][3]\n",
        "  tn_cov=np.sum(cm)-(tp_cov+fp_cov+fn_cov)\n",
        "  \n",
        "\n",
        "  print(\"Normal : \")\n",
        "  print(\"-----------------------------------\")\n",
        "  print(\"TP : \",tp_nor)\n",
        "  print(\"TN : \",tn_nor)\n",
        "  print(\"FP : \",fp_nor)\n",
        "  print(\"FN : \",fn_nor)\n",
        "  print(\"sensitivity : \",tp_nor/(float)((tp_nor+fn_nor)))\n",
        "  print(\"specificity : \",tn_nor/(float)((tn_nor+fp_nor)))\n",
        "  print(\"-----------------------------------\")\n",
        "  print(\"Bacteria : \")\n",
        "  print(\"-----------------------------------\")\n",
        "  print(\"TP : \",tp_bac)\n",
        "  print(\"TN : \",tn_bac)\n",
        "  print(\"FP : \",fp_bac)\n",
        "  print(\"FN : \",fn_bac)\n",
        "  print(\"sensitivity : \",tp_bac/(float)((tp_bac+fn_bac)))\n",
        "  print(\"specificity : \",tn_bac/(float)((tn_bac+fp_bac)))\n",
        "  print(\"-----------------------------------\")\n",
        "  print(\"Viral : \")\n",
        "  print(\"-----------------------------------\")\n",
        "  print(\"TP : \",tp_vir)\n",
        "  print(\"TN : \",tn_vir)\n",
        "  print(\"FP : \",fp_vir)\n",
        "  print(\"FN : \",fn_vir)\n",
        "  print(\"sensitivity : \",tp_vir/(float)((tp_vir+fn_vir)))\n",
        "  print(\"specificity : \",tn_vir/(float)((tn_vir+fp_vir)))\n",
        "  print(\"-----------------------------------\")\n",
        "  print(\"COVID-19 : \")\n",
        "  print(\"-----------------------------------\")\n",
        "  print(\"TP : \",tp_cov)\n",
        "  print(\"TN : \",tn_cov)\n",
        "  print(\"FP : \",fp_cov)\n",
        "  print(\"FN : \",fn_cov)\n",
        "  print(\"sensitivity : \",tp_cov/(float)((tp_cov+fn_cov)))\n",
        "  print(\"specificity : \",tn_cov/(float)((tn_cov+fp_cov)))\n",
        "calc_metrics(cm)  \n"
      ],
      "execution_count": null,
      "outputs": [
        {
          "output_type": "stream",
          "text": [
            "Normal : \n",
            "-----------------------------------\n",
            "TP :  54\n",
            "TN :  192\n",
            "FP :  18\n",
            "FN :  16\n",
            "sensitivity :  0.7714285714285715\n",
            "specificity :  0.9142857142857143\n",
            "-----------------------------------\n",
            "Bacteria : \n",
            "-----------------------------------\n",
            "TP :  46\n",
            "TN :  182\n",
            "FP :  28\n",
            "FN :  24\n",
            "sensitivity :  0.6571428571428571\n",
            "specificity :  0.8666666666666667\n",
            "-----------------------------------\n",
            "Viral : \n",
            "-----------------------------------\n",
            "TP :  44\n",
            "TN :  188\n",
            "FP :  22\n",
            "FN :  26\n",
            "sensitivity :  0.6285714285714286\n",
            "specificity :  0.8952380952380953\n",
            "-----------------------------------\n",
            "COVID-19 : \n",
            "-----------------------------------\n",
            "TP :  64\n",
            "TN :  168\n",
            "FP :  22\n",
            "FN :  26\n",
            "sensitivity :  0.7111111111111111\n",
            "specificity :  0.8842105263157894\n"
          ],
          "name": "stdout"
        },
        {
          "output_type": "display_data",
          "data": {
            "image/png": "[encoded data removed]",
            "text/plain": [
              "<Figure size 720x504 with 2 Axes>"
            ]
          },
          "metadata": {
            "tags": []
          }
        }
      ]
    },
    {
      "cell_type": "code",
      "metadata": {
        "id": "NGhP997Uwp6L",
        "colab": {
          "base_uri": "https://localhost:8080/",
          "height": 122
        },
        "outputId": "1eadf7c1-bde7-4778-efc2-44b46f7f195c"
      },
      "source": [
        "n=np.zeros(shape=(20,1))\n",
        "v=np.zeros(shape=(20,1))\n",
        "b=np.zeros(shape=(20,1))\n",
        "c=np.zeros(shape=(20,1))\n",
        "\n",
        "for i in range(20):\n",
        "  b[i]=1\n",
        "  v[i]=2\n",
        "  c[i]=3\n",
        "\n",
        "\n",
        "x_test=np.concatenate((x_normal[900:920],x_bacterial[1000:1020],x_viral[1000:1020],x_covid[199:219]))\n",
        "y_test=np.concatenate((n,b,v,c))\n",
        "\n",
        "for i in range(len(x_test)):\n",
        "    img = x_test[i]\n",
        "    lab = cv2.cvtColor(img, cv2.COLOR_BGR2LAB)\n",
        "\n",
        "    lab_planes = cv2.split(lab)\n",
        "\n",
        "    clahe = cv2.createCLAHE(clipLimit=2.0,tileGridSize=(16,16))\n",
        "\n",
        "    lab_planes[0] = clahe.apply(lab_planes[0])\n",
        "\n",
        "    lab = cv2.merge(lab_planes)\n",
        "\n",
        "    img = cv2.cvtColor(lab, cv2.COLOR_LAB2BGR) \n",
        "    x_test[i]=img\n",
        "\n",
        "t=stacked_dataset(members,x_test)\n",
        "\n",
        "\n",
        "print('Shape of train images: ', x_test[0].shape)\n",
        "x_test=np.array(x_test)\n",
        "print(x_test.shape)\n",
        "# evaluate standalone models on test dataset\n",
        "'''for model in members:\n",
        "\ttesty_enc = to_categorical(testy)\n",
        "\t_, acc = model.evaluate(testX, testy_enc, verbose=0)\n",
        "\tprint('Model Accuracy: %.3f' % acc)'''\n",
        "# fit stacked model using the ensemble\n",
        "y_test=y_test.reshape(-1,1)\n",
        "model = fit_stacked_model(members, x_test, y_test)\n",
        "# evaluate model on test set\n",
        "acc = accuracy_score(t,y_test)\n",
        "print('Stacked Test Accuracy: %.3f' % acc)"
      ],
      "execution_count": null,
      "outputs": [
        {
          "output_type": "stream",
          "text": [
            "Shape of train images:  (256, 256, 3)\n",
            "(80, 256, 256, 3)\n",
            "Stacked Test Accuracy: 0.750\n"
          ],
          "name": "stdout"
        },
        {
          "output_type": "stream",
          "text": [
            "/usr/local/lib/python3.6/dist-packages/sklearn/utils/validation.py:760: DataConversionWarning: A column-vector y was passed when a 1d array was expected. Please change the shape of y to (n_samples, ), for example using ravel().\n",
            "  y = column_or_1d(y, warn=True)\n"
          ],
          "name": "stderr"
        }
      ]
    },
    {
      "cell_type": "code",
      "metadata": {
        "id": "vq61QCun30_O"
      },
      "source": [
        ""
      ],
      "execution_count": null,
      "outputs": []
    }
  ]
}