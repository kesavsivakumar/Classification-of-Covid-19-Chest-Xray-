{
  "nbformat": 4,
  "nbformat_minor": 0,
  "metadata": {
    "colab": {
      "name": "BinaryClassifier_nor vs inf_DarkCovidNet.ipynb",
      "provenance": [],
      "collapsed_sections": []
    },
    "kernelspec": {
      "name": "python3",
      "display_name": "Python 3"
    }
  },
  "cells": [
    {
      "cell_type": "code",
      "metadata": {
        "id": "J82Uaq9FN68O"
      },
      "source": [
        "import cv2\n",
        "import numpy as np\n",
        "import matplotlib.pyplot as plt\n",
        "import os\n",
        "import glob\n",
        "import pandas as pd"
      ],
      "execution_count": null,
      "outputs": []
    },
    {
      "cell_type": "code",
      "metadata": {
        "id": "hqCPmoStOEM7",
        "outputId": "90c28304-022f-43a1-e42b-fc10860a515e",
        "colab": {
          "base_uri": "https://localhost:8080/",
          "height": 122
        }
      },
      "source": [
        "from google.colab import drive\n",
        "drive.mount('/content/drive')"
      ],
      "execution_count": null,
      "outputs": [
        {
          "output_type": "stream",
          "text": [
            "Go to this URL in a browser: https://accounts.google.com/o/oauth2/auth?client_id=947318989803-6bn6qk8qdgf4n4g3pfee6491hc0brc4i.apps.googleusercontent.com&redirect_uri=urn%3aietf%3awg%3aoauth%3a2.0%3aoob&response_type=code&scope=email%20https%3a%2f%2fwww.googleapis.com%2fauth%2fdocs.test%20https%3a%2f%2fwww.googleapis.com%2fauth%2fdrive%20https%3a%2f%2fwww.googleapis.com%2fauth%2fdrive.photos.readonly%20https%3a%2f%2fwww.googleapis.com%2fauth%2fpeopleapi.readonly\n",
            "\n",
            "Enter your authorization code:\n",
            "··········\n",
            "Mounted at /content/drive\n"
          ],
          "name": "stdout"
        }
      ]
    },
    {
      "cell_type": "code",
      "metadata": {
        "id": "drSGmeMbOQZq",
        "outputId": "9012a5a4-c9eb-4f0a-9c8f-34a82db7a14b",
        "colab": {
          "base_uri": "https://localhost:8080/",
          "height": 34
        }
      },
      "source": [
        "cd drive\n"
      ],
      "execution_count": null,
      "outputs": [
        {
          "output_type": "stream",
          "text": [
            "/content/drive\n"
          ],
          "name": "stdout"
        }
      ]
    },
    {
      "cell_type": "code",
      "metadata": {
        "id": "Cj6Rdqc1OUcr",
        "outputId": "79c42bc8-3412-412d-ac61-326a89f6eeab",
        "colab": {
          "base_uri": "https://localhost:8080/",
          "height": 34
        }
      },
      "source": [
        "cd My Drive"
      ],
      "execution_count": null,
      "outputs": [
        {
          "output_type": "stream",
          "text": [
            "/content/drive/My Drive\n"
          ],
          "name": "stdout"
        }
      ]
    },
    {
      "cell_type": "code",
      "metadata": {
        "id": "8aFD6LQz3QVl"
      },
      "source": [
        "INPUT_SIZE = (256, 256)\n",
        "mapping = {'normal': 0, 'bacterial': 1, 'viral': 2}"
      ],
      "execution_count": null,
      "outputs": []
    },
    {
      "cell_type": "markdown",
      "metadata": {
        "id": "2isVbVHs0rI0"
      },
      "source": [
        "Load x_train, y_train"
      ]
    },
    {
      "cell_type": "code",
      "metadata": {
        "id": "t-CgXcWBBv3W"
      },
      "source": [
        "x_normal = np.load('/content/drive/My Drive/data/x_normal.npy')\n",
        "y_normal = np.load('/content/drive/My Drive/data/y_normal.npy')\n",
        "x_viral = np.load('/content/drive/My Drive/data/x_viral.npy')\n",
        "y_viral = np.load('/content/drive/My Drive/data/y_viral.npy')\n",
        "x_bacterial = np.load('/content/drive/My Drive/data/x_bacterial.npy')\n",
        "y_bacterial = np.load('/content/drive/My Drive/data/y_bacterial.npy')\n",
        "x_covid=np.load('/content/drive/My Drive/data/x_covid.npy')\n",
        "y_covid=np.load('/content/drive/My Drive/data/y_covid.npy')"
      ],
      "execution_count": null,
      "outputs": []
    },
    {
      "cell_type": "code",
      "metadata": {
        "id": "58jG6hZmGOOo"
      },
      "source": [
        "import random"
      ],
      "execution_count": null,
      "outputs": []
    },
    {
      "cell_type": "code",
      "metadata": {
        "id": "3cuSAGdFCtkq"
      },
      "source": [
        "X=[]\n",
        "y=[]\n",
        "\n",
        "nums = random.sample(range(0, 1504), 550)\n",
        "for i in nums:\n",
        "  X.append(x_normal[i])\n",
        "  y.append(0)\n",
        "nums = random.sample(range(0, 1504), 250)\n",
        "for i in nums:\n",
        "  X.append(x_bacterial[i])\n",
        "  y.append(1)\n",
        "nums = random.sample(range(0, 1504), 150)\n",
        "for i in nums:\n",
        "  X.append(x_viral[i])\n",
        "  y.append(1)\n",
        "nums = random.sample(range(0, 239), 150)\n",
        "for i in nums:\n",
        "  X.append(x_covid[i])\n",
        "  y.append(1)    "
      ],
      "execution_count": null,
      "outputs": []
    },
    {
      "cell_type": "code",
      "metadata": {
        "id": "44SIbDczHzBQ"
      },
      "source": [
        "\n",
        "X=np.asarray(X)\n",
        "y=np.asarray(y)"
      ],
      "execution_count": null,
      "outputs": []
    },
    {
      "cell_type": "markdown",
      "metadata": {
        "id": "V7ap_B1cl2tB"
      },
      "source": [
        "Model for hist"
      ]
    },
    {
      "cell_type": "code",
      "metadata": {
        "id": "6ueC6xGtlr43",
        "outputId": "c90fda2a-ca55-4c14-d017-df706ec65f87",
        "colab": {
          "base_uri": "https://localhost:8080/",
          "height": 34
        }
      },
      "source": [
        "%tensorflow_version 1.x\n",
        "import tensorflow as tf"
      ],
      "execution_count": null,
      "outputs": [
        {
          "output_type": "stream",
          "text": [
            "TensorFlow 1.x selected.\n"
          ],
          "name": "stdout"
        }
      ]
    },
    {
      "cell_type": "code",
      "metadata": {
        "id": "KpGo-5_nl8QX",
        "outputId": "5f32659a-ebc7-4b8e-9a7a-1cad81e19519",
        "colab": {
          "base_uri": "https://localhost:8080/",
          "height": 34
        }
      },
      "source": [
        "from keras.models import Sequential\n",
        "from keras import layers\n",
        "from keras.optimizers import adam\n",
        "from keras.callbacks import EarlyStopping\n",
        "from keras.callbacks import ModelCheckpoint"
      ],
      "execution_count": null,
      "outputs": [
        {
          "output_type": "stream",
          "text": [
            "Using TensorFlow backend.\n"
          ],
          "name": "stderr"
        }
      ]
    },
    {
      "cell_type": "code",
      "metadata": {
        "id": "ARq1VxfQmD89"
      },
      "source": [
        "from keras.layers import GlobalMaxPooling2D"
      ],
      "execution_count": null,
      "outputs": []
    },
    {
      "cell_type": "code",
      "metadata": {
        "id": "mehd1sJAZ2kF"
      },
      "source": [
        ""
      ],
      "execution_count": null,
      "outputs": []
    },
    {
      "cell_type": "code",
      "metadata": {
        "id": "m2GH0v0qmHAt"
      },
      "source": [
        "model = Sequential()\n",
        "model.add(layers.Conv2D(filters=8,kernel_size=(3,3),input_shape=(256,256,3),strides=1,padding='same'))\n",
        "model.add(layers.BatchNormalization())\n",
        "model.add(layers.LeakyReLU(alpha=0.1))\n",
        "\n",
        "model.add(layers.MaxPooling2D(pool_size=(2,2),strides=2))\n",
        "\n",
        "model.add(layers.Conv2D(filters=16,kernel_size=(3,3),strides=1,padding='same'))\n",
        "model.add(layers.BatchNormalization())\n",
        "model.add(layers.LeakyReLU(alpha=0.1))\n",
        "\n",
        "model.add(layers.MaxPooling2D(pool_size=(2,2),strides=2))\n",
        "\n",
        "model.add(layers.Conv2D(filters=32,kernel_size=(3,3),strides=1,padding='same'))\n",
        "model.add(layers.BatchNormalization())\n",
        "model.add(layers.LeakyReLU(alpha=0.1))\n",
        "model.add(layers.Conv2D(filters=32,kernel_size=(1,1),strides=1,padding='same'))\n",
        "model.add(layers.BatchNormalization())\n",
        "model.add(layers.LeakyReLU(alpha=0.1))\n",
        "model.add(layers.Conv2D(filters=32,kernel_size=(3,3),strides=1,padding='same'))\n",
        "model.add(layers.BatchNormalization())\n",
        "model.add(layers.LeakyReLU(alpha=0.1))\n",
        "\n",
        "model.add(layers.MaxPooling2D(pool_size=(2,2),strides=2))\n",
        "\n",
        "model.add(layers.Conv2D(filters=64,kernel_size=(3,3),strides=1,padding='same'))\n",
        "model.add(layers.BatchNormalization())\n",
        "model.add(layers.LeakyReLU(alpha=0.1))\n",
        "model.add(layers.Conv2D(filters=64,kernel_size=(1,1),strides=1,padding='same'))\n",
        "model.add(layers.BatchNormalization())\n",
        "model.add(layers.LeakyReLU(alpha=0.1))\n",
        "model.add(layers.Conv2D(filters=64,kernel_size=(3,3),strides=1,padding='same'))\n",
        "model.add(layers.BatchNormalization())\n",
        "model.add(layers.LeakyReLU(alpha=0.1))\n",
        "\n",
        "model.add(layers.MaxPooling2D(pool_size=(2,2),strides=2))\n",
        "\n",
        "model.add(layers.Conv2D(filters=128,kernel_size=(3,3),strides=1,padding='same'))\n",
        "model.add(layers.BatchNormalization())\n",
        "model.add(layers.LeakyReLU(alpha=0.1))\n",
        "model.add(layers.Conv2D(filters=128,kernel_size=(1,1),strides=1,padding='same'))\n",
        "model.add(layers.BatchNormalization())\n",
        "model.add(layers.LeakyReLU(alpha=0.1))\n",
        "model.add(layers.Conv2D(filters=128,kernel_size=(3,3),strides=1,padding='same'))\n",
        "model.add(layers.BatchNormalization())\n",
        "model.add(layers.LeakyReLU(alpha=0.1))\n",
        "\n",
        "model.add(layers.MaxPooling2D(pool_size=(2,2),strides=2))\n",
        "\n",
        "model.add(layers.Conv2D(filters=256,kernel_size=(3,3),strides=1,padding='same'))\n",
        "model.add(layers.BatchNormalization())\n",
        "model.add(layers.LeakyReLU(alpha=0.1))\n",
        "model.add(layers.Conv2D(filters=256,kernel_size=(1,1),strides=1,padding='same'))\n",
        "model.add(layers.BatchNormalization())\n",
        "model.add(layers.LeakyReLU(alpha=0.1))\n",
        "model.add(layers.Conv2D(filters=256,kernel_size=(3,3),strides=1,padding='same'))\n",
        "model.add(layers.BatchNormalization())\n",
        "model.add(layers.LeakyReLU(alpha=0.1))\n",
        "\n",
        "model.add(layers.Conv2D(filters=128,kernel_size=(3,3),strides=1,padding='same'))\n",
        "model.add(layers.BatchNormalization())\n",
        "model.add(layers.LeakyReLU(alpha=0.1))\n",
        "\n",
        "model.add(layers.Conv2D(filters=256,kernel_size=(3,3),strides=1,padding='same'))\n",
        "model.add(layers.BatchNormalization())\n",
        "model.add(layers.LeakyReLU(alpha=0.1))\n",
        "\n",
        "model.add(layers.Conv2D(filters=3,kernel_size=(3,3),strides=1,padding='same'))\n",
        "\n",
        "model.add(layers.Flatten())\n",
        "\n",
        "model.add(layers.Dense(1, activation='sigmoid'))"
      ],
      "execution_count": null,
      "outputs": []
    },
    {
      "cell_type": "code",
      "metadata": {
        "id": "W00gTFco3vIn"
      },
      "source": [
        "model.compile(optimizer='adam', loss='binary_crossentropy', metrics=['accuracy'])\n"
      ],
      "execution_count": null,
      "outputs": []
    },
    {
      "cell_type": "markdown",
      "metadata": {
        "id": "5a4rpDgv0zv3"
      },
      "source": [
        "Encodey_train"
      ]
    },
    {
      "cell_type": "markdown",
      "metadata": {
        "id": "PfPHYtPE4-iy"
      },
      "source": [
        ""
      ]
    },
    {
      "cell_type": "code",
      "metadata": {
        "id": "o0zz7O1EmLV0",
        "outputId": "ffc7782b-43dc-4657-e194-cab8885de661",
        "colab": {
          "base_uri": "https://localhost:8080/",
          "height": 34
        }
      },
      "source": [
        "'''from sklearn.preprocessing import OneHotEncoder\n",
        "enc = OneHotEncoder(handle_unknown='ignore')\n",
        "y=np.asarray(y)\n",
        "y=y.reshape(-1,1)\n",
        "yfunc=enc.fit(y)'''"
      ],
      "execution_count": null,
      "outputs": [
        {
          "output_type": "execute_result",
          "data": {
            "text/plain": [
              "\"from sklearn.preprocessing import OneHotEncoder\\nenc = OneHotEncoder(handle_unknown='ignore')\\ny=np.asarray(y)\\ny=y.reshape(-1,1)\\nyfunc=enc.fit(y)\""
            ]
          },
          "metadata": {
            "tags": []
          },
          "execution_count": 18
        }
      ]
    },
    {
      "cell_type": "code",
      "metadata": {
        "id": "fLDazMUVma3f"
      },
      "source": [
        "#y_binary=enc.transform(y).toarray()"
      ],
      "execution_count": null,
      "outputs": []
    },
    {
      "cell_type": "code",
      "metadata": {
        "id": "2iVwDURlHhLk"
      },
      "source": [
        "#y_binary"
      ],
      "execution_count": null,
      "outputs": []
    },
    {
      "cell_type": "code",
      "metadata": {
        "id": "mbc4c3jaYvtK"
      },
      "source": [
        "#y_test_binary=enc.transform(y_test).toarray()"
      ],
      "execution_count": null,
      "outputs": []
    },
    {
      "cell_type": "markdown",
      "metadata": {
        "id": "mm0LjEp006d8"
      },
      "source": [
        "Reshape x_train for giving input to conv layers"
      ]
    },
    {
      "cell_type": "code",
      "metadata": {
        "id": "zwD6fIadmnib",
        "outputId": "a851d07b-522f-4357-b73e-a8081a3c48d6",
        "colab": {
          "base_uri": "https://localhost:8080/",
          "height": 1000
        }
      },
      "source": [
        "es = EarlyStopping(monitor='val_loss', mode='min', verbose=1, patience=32)\n",
        "mc = ModelCheckpoint('darkcovidnetmodel.h5', monitor='val_accuracy', mode='max', verbose=1, save_best_only=True)\n",
        "history=model.fit(X,y,batch_size=16,epochs=100,callbacks=[es,mc],validation_split=0.2)"
      ],
      "execution_count": null,
      "outputs": [
        {
          "output_type": "stream",
          "text": [
            "WARNING:tensorflow:From /usr/local/lib/python3.6/dist-packages/keras/backend/tensorflow_backend.py:422: The name tf.global_variables is deprecated. Please use tf.compat.v1.global_variables instead.\n",
            "\n",
            "Train on 880 samples, validate on 220 samples\n",
            "Epoch 1/100\n",
            "880/880 [==============================] - 107s 122ms/step - loss: 0.4536 - accuracy: 0.8648 - val_loss: 0.0033 - val_accuracy: 1.0000\n",
            "\n",
            "Epoch 00001: val_accuracy improved from -inf to 1.00000, saving model to darkcovidnetmodel.h5\n",
            "Epoch 2/100\n",
            "880/880 [==============================] - 106s 121ms/step - loss: 0.2017 - accuracy: 0.9352 - val_loss: 0.0310 - val_accuracy: 1.0000\n",
            "\n",
            "Epoch 00002: val_accuracy did not improve from 1.00000\n",
            "Epoch 3/100\n",
            "880/880 [==============================] - 104s 118ms/step - loss: 0.1456 - accuracy: 0.9466 - val_loss: 0.0153 - val_accuracy: 1.0000\n",
            "\n",
            "Epoch 00003: val_accuracy did not improve from 1.00000\n",
            "Epoch 4/100\n",
            "880/880 [==============================] - 105s 119ms/step - loss: 0.1327 - accuracy: 0.9511 - val_loss: 0.5859 - val_accuracy: 0.7727\n",
            "\n",
            "Epoch 00004: val_accuracy did not improve from 1.00000\n",
            "Epoch 5/100\n",
            "880/880 [==============================] - 105s 120ms/step - loss: 0.0921 - accuracy: 0.9659 - val_loss: 0.0316 - val_accuracy: 0.9909\n",
            "\n",
            "Epoch 00005: val_accuracy did not improve from 1.00000\n",
            "Epoch 6/100\n",
            "880/880 [==============================] - 104s 119ms/step - loss: 0.0522 - accuracy: 0.9784 - val_loss: 2.3590 - val_accuracy: 0.4591\n",
            "\n",
            "Epoch 00006: val_accuracy did not improve from 1.00000\n",
            "Epoch 7/100\n",
            "880/880 [==============================] - 105s 120ms/step - loss: 0.1034 - accuracy: 0.9568 - val_loss: 3.0597 - val_accuracy: 0.4864\n",
            "\n",
            "Epoch 00007: val_accuracy did not improve from 1.00000\n",
            "Epoch 8/100\n",
            "880/880 [==============================] - 107s 122ms/step - loss: 0.1065 - accuracy: 0.9591 - val_loss: 6.3391 - val_accuracy: 0.2636\n",
            "\n",
            "Epoch 00008: val_accuracy did not improve from 1.00000\n",
            "Epoch 9/100\n",
            "880/880 [==============================] - 105s 119ms/step - loss: 0.0257 - accuracy: 0.9920 - val_loss: 16.2291 - val_accuracy: 0.0636\n",
            "\n",
            "Epoch 00009: val_accuracy did not improve from 1.00000\n",
            "Epoch 10/100\n",
            "880/880 [==============================] - 104s 118ms/step - loss: 0.0506 - accuracy: 0.9807 - val_loss: 3.7363 - val_accuracy: 0.4091\n",
            "\n",
            "Epoch 00010: val_accuracy did not improve from 1.00000\n",
            "Epoch 11/100\n",
            "880/880 [==============================] - 104s 118ms/step - loss: 0.0379 - accuracy: 0.9875 - val_loss: 1.1049 - val_accuracy: 0.7818\n",
            "\n",
            "Epoch 00011: val_accuracy did not improve from 1.00000\n",
            "Epoch 12/100\n",
            "880/880 [==============================] - 104s 118ms/step - loss: 0.0223 - accuracy: 0.9943 - val_loss: 1.4489 - val_accuracy: 0.7136\n",
            "\n",
            "Epoch 00012: val_accuracy did not improve from 1.00000\n",
            "Epoch 13/100\n",
            "880/880 [==============================] - 104s 118ms/step - loss: 0.0036 - accuracy: 0.9977 - val_loss: 2.1293 - val_accuracy: 0.5636\n",
            "\n",
            "Epoch 00013: val_accuracy did not improve from 1.00000\n",
            "Epoch 14/100\n",
            "880/880 [==============================] - 106s 121ms/step - loss: 0.0183 - accuracy: 0.9932 - val_loss: 1.8873 - val_accuracy: 0.7045\n",
            "\n",
            "Epoch 00014: val_accuracy did not improve from 1.00000\n",
            "Epoch 15/100\n",
            "880/880 [==============================] - 105s 119ms/step - loss: 0.0779 - accuracy: 0.9773 - val_loss: 1.4019 - val_accuracy: 0.7182\n",
            "\n",
            "Epoch 00015: val_accuracy did not improve from 1.00000\n",
            "Epoch 16/100\n",
            "880/880 [==============================] - 104s 119ms/step - loss: 0.1234 - accuracy: 0.9523 - val_loss: 56.3115 - val_accuracy: 0.0045\n",
            "\n",
            "Epoch 00016: val_accuracy did not improve from 1.00000\n",
            "Epoch 17/100\n",
            "880/880 [==============================] - 105s 119ms/step - loss: 0.0364 - accuracy: 0.9898 - val_loss: 1.9135 - val_accuracy: 0.6318\n",
            "\n",
            "Epoch 00017: val_accuracy did not improve from 1.00000\n",
            "Epoch 18/100\n",
            "880/880 [==============================] - 105s 119ms/step - loss: 0.0250 - accuracy: 0.9920 - val_loss: 3.6427 - val_accuracy: 0.4500\n",
            "\n",
            "Epoch 00018: val_accuracy did not improve from 1.00000\n",
            "Epoch 19/100\n",
            "880/880 [==============================] - 105s 120ms/step - loss: 0.0214 - accuracy: 0.9932 - val_loss: 0.7704 - val_accuracy: 0.7773\n",
            "\n",
            "Epoch 00019: val_accuracy did not improve from 1.00000\n",
            "Epoch 20/100\n",
            "880/880 [==============================] - 107s 122ms/step - loss: 0.0082 - accuracy: 0.9977 - val_loss: 1.6392 - val_accuracy: 0.6909\n",
            "\n",
            "Epoch 00020: val_accuracy did not improve from 1.00000\n",
            "Epoch 21/100\n",
            "880/880 [==============================] - 105s 119ms/step - loss: 0.0034 - accuracy: 0.9989 - val_loss: 1.3214 - val_accuracy: 0.7682\n",
            "\n",
            "Epoch 00021: val_accuracy did not improve from 1.00000\n",
            "Epoch 22/100\n",
            "880/880 [==============================] - 105s 120ms/step - loss: 0.0013 - accuracy: 1.0000 - val_loss: 2.3735 - val_accuracy: 0.6318\n",
            "\n",
            "Epoch 00022: val_accuracy did not improve from 1.00000\n",
            "Epoch 23/100\n",
            "880/880 [==============================] - 106s 120ms/step - loss: 3.3127e-04 - accuracy: 1.0000 - val_loss: 2.1695 - val_accuracy: 0.6682\n",
            "\n",
            "Epoch 00023: val_accuracy did not improve from 1.00000\n",
            "Epoch 24/100\n",
            "880/880 [==============================] - 106s 120ms/step - loss: 5.9726e-04 - accuracy: 1.0000 - val_loss: 1.3851 - val_accuracy: 0.7682\n",
            "\n",
            "Epoch 00024: val_accuracy did not improve from 1.00000\n",
            "Epoch 25/100\n",
            "880/880 [==============================] - 108s 123ms/step - loss: 3.2843e-05 - accuracy: 1.0000 - val_loss: 1.7109 - val_accuracy: 0.7273\n",
            "\n",
            "Epoch 00025: val_accuracy did not improve from 1.00000\n",
            "Epoch 26/100\n",
            "880/880 [==============================] - 105s 119ms/step - loss: 7.3076e-05 - accuracy: 1.0000 - val_loss: 2.1465 - val_accuracy: 0.6773\n",
            "\n",
            "Epoch 00026: val_accuracy did not improve from 1.00000\n",
            "Epoch 27/100\n",
            "880/880 [==============================] - 105s 119ms/step - loss: 4.9538e-05 - accuracy: 1.0000 - val_loss: 2.2387 - val_accuracy: 0.6682\n",
            "\n",
            "Epoch 00027: val_accuracy did not improve from 1.00000\n",
            "Epoch 28/100\n",
            "880/880 [==============================] - 105s 119ms/step - loss: 3.3581e-05 - accuracy: 1.0000 - val_loss: 2.3457 - val_accuracy: 0.6682\n",
            "\n",
            "Epoch 00028: val_accuracy did not improve from 1.00000\n",
            "Epoch 29/100\n",
            "880/880 [==============================] - 105s 119ms/step - loss: 3.3377e-05 - accuracy: 1.0000 - val_loss: 2.4265 - val_accuracy: 0.6682\n",
            "\n",
            "Epoch 00029: val_accuracy did not improve from 1.00000\n",
            "Epoch 30/100\n",
            "880/880 [==============================] - 105s 119ms/step - loss: 1.3710e-05 - accuracy: 1.0000 - val_loss: 2.4562 - val_accuracy: 0.6682\n",
            "\n",
            "Epoch 00030: val_accuracy did not improve from 1.00000\n",
            "Epoch 31/100\n",
            "880/880 [==============================] - 107s 122ms/step - loss: 1.7010e-05 - accuracy: 1.0000 - val_loss: 2.5047 - val_accuracy: 0.6682\n",
            "\n",
            "Epoch 00031: val_accuracy did not improve from 1.00000\n",
            "Epoch 32/100\n",
            "880/880 [==============================] - 105s 119ms/step - loss: 1.9396e-05 - accuracy: 1.0000 - val_loss: 2.5219 - val_accuracy: 0.6636\n",
            "\n",
            "Epoch 00032: val_accuracy did not improve from 1.00000\n",
            "Epoch 33/100\n",
            "880/880 [==============================] - 105s 119ms/step - loss: 2.4636e-05 - accuracy: 1.0000 - val_loss: 2.4636 - val_accuracy: 0.6773\n",
            "\n",
            "Epoch 00033: val_accuracy did not improve from 1.00000\n",
            "Epoch 00033: early stopping\n"
          ],
          "name": "stdout"
        }
      ]
    },
    {
      "cell_type": "code",
      "metadata": {
        "id": "RBlFF7c4WlqW",
        "outputId": "133fda3e-247f-412a-94a6-822730929656",
        "colab": {
          "base_uri": "https://localhost:8080/",
          "height": 54
        }
      },
      "source": [
        "# list all data in history\n",
        "print(history.history['accuracy'])"
      ],
      "execution_count": null,
      "outputs": [
        {
          "output_type": "stream",
          "text": [
            "[0.86477274, 0.9352273, 0.9465909, 0.95113635, 0.96590906, 0.9784091, 0.95681816, 0.9590909, 0.99204546, 0.98068184, 0.9875, 0.9943182, 0.9977273, 0.9931818, 0.97727275, 0.9522727, 0.98977274, 0.99204546, 0.9931818, 0.9977273, 0.99886364, 1.0, 1.0, 1.0, 1.0, 1.0, 1.0, 1.0, 1.0, 1.0, 1.0, 1.0, 1.0]\n"
          ],
          "name": "stdout"
        }
      ]
    },
    {
      "cell_type": "code",
      "metadata": {
        "id": "h_XIVxitjfgs"
      },
      "source": [
        "import pickle\n",
        "with open('BinaryDCN6.pkl', 'wb') as f:\n",
        "  pickle.dump(history.history, f, pickle.HIGHEST_PROTOCOL)"
      ],
      "execution_count": null,
      "outputs": []
    },
    {
      "cell_type": "code",
      "metadata": {
        "id": "9MLAi4gmW1fC",
        "outputId": "cc83f5bd-b86c-4538-8a77-b0af699307c1",
        "colab": {
          "base_uri": "https://localhost:8080/",
          "height": 295
        }
      },
      "source": [
        "plt.plot(history.history['accuracy'])\n",
        "plt.plot(history.history['val_accuracy'])\n",
        "plt.title('DarkCovidNet Bacterial vs Viral ')\n",
        "plt.ylabel('accuracy')\n",
        "plt.xlabel('epoch')\n",
        "plt.legend(['train'], loc='upper left')\n",
        "plt.show()"
      ],
      "execution_count": null,
      "outputs": [
        {
          "output_type": "display_data",
          "data": {
            "image/png": "[encoded data removed]",
            "text/plain": [
              "<Figure size 432x288 with 1 Axes>"
            ]
          },
          "metadata": {
            "tags": [],
            "needs_background": "light"
          }
        }
      ]
    },
    {
      "cell_type": "code",
      "metadata": {
        "id": "34Ke-dnnZ_v2",
        "outputId": "aeebb981-b84d-41b1-a8bb-fe4d4f82f2a0",
        "colab": {
          "base_uri": "https://localhost:8080/",
          "height": 295
        }
      },
      "source": [
        "\n",
        "plt.plot(history.history['loss'])\n",
        "plt.plot(history.history['val_loss'])\n",
        "plt.title('DarkCovidNet Viral vs COVID-19 loss')\n",
        "plt.ylabel('loss')\n",
        "plt.xlabel('epoch')\n",
        "plt.legend(['train'], loc='upper left')\n",
        "plt.show()"
      ],
      "execution_count": null,
      "outputs": [
        {
          "output_type": "display_data",
          "data": {
            "image/png": "[encoded data removed]",
            "text/plain": [
              "<Figure size 432x288 with 1 Axes>"
            ]
          },
          "metadata": {
            "tags": [],
            "needs_background": "light"
          }
        }
      ]
    },
    {
      "cell_type": "markdown",
      "metadata": {
        "id": "fG-E-Oxc1FbW"
      },
      "source": [
        "save model"
      ]
    },
    {
      "cell_type": "code",
      "metadata": {
        "id": "Ykk2i77ckMZf"
      },
      "source": [
        "model_json = model.to_json()\n",
        "with open(\"binarydarkcovidnet_norvsinf.json\", \"w\") as json_file:\n",
        "    json_file.write(model_json)\n",
        "# serialize weights to HDF5\n",
        "model.save_weights(\"binarydarkcovidnet_norvsinf.h5\")"
      ],
      "execution_count": null,
      "outputs": []
    },
    {
      "cell_type": "markdown",
      "metadata": {
        "id": "ey4bX5Ow1G3x"
      },
      "source": [
        "load model"
      ]
    },
    {
      "cell_type": "code",
      "metadata": {
        "id": "sdILAvE_crHs"
      },
      "source": [
        "from tensorflow.keras.models import model_from_json\n",
        "json_file = open('binarydarkcovidnet_norvsinf.json', 'r')\n",
        "loaded_model_json = json_file.read()\n",
        "json_file.close()\n",
        "loaded_model = model_from_json(loaded_model_json)\n",
        "# load weights into new model\n",
        "loaded_model.load_weights(\"binarydarkcovidnet_norvsinf.h5\")"
      ],
      "execution_count": null,
      "outputs": []
    },
    {
      "cell_type": "code",
      "metadata": {
        "id": "G9cSDaVPvv8A"
      },
      "source": [
        "testacc=[]\n",
        "spec= []\n",
        "sens=[]\n"
      ],
      "execution_count": null,
      "outputs": []
    },
    {
      "cell_type": "markdown",
      "metadata": {
        "id": "GGnZrKE71IyV"
      },
      "source": [
        "load x_test, y_test"
      ]
    },
    {
      "cell_type": "code",
      "metadata": {
        "id": "ODUOYEpEY9y4"
      },
      "source": [
        ""
      ],
      "execution_count": null,
      "outputs": []
    },
    {
      "cell_type": "code",
      "metadata": {
        "id": "RAYcOzNd9Oob"
      },
      "source": [
        "n=np.zeros(shape=(100,1))\n",
        "c=np.ones(shape=(150,1))\n",
        "\n",
        "\n",
        "\n",
        "x_test=np.concatenate((x_normal[1000:1050],x_bacterial[1000:1050],x_viral[1000:1050],x_covid[175:225]))\n",
        "y_test=np.concatenate((n[0:50],c[0:150]))\n"
      ],
      "execution_count": null,
      "outputs": []
    },
    {
      "cell_type": "code",
      "metadata": {
        "id": "OxBtghFvbay0"
      },
      "source": [
        "loaded_model.compile(loss='binary_crossentropy', optimizer='adam', metrics=['accuracy'])\n",
        "_, test_acc = loaded_model.evaluate(x_test, y_test, verbose=0)"
      ],
      "execution_count": null,
      "outputs": []
    },
    {
      "cell_type": "code",
      "metadata": {
        "id": "2gZMjnYq0bko",
        "outputId": "e7e17f3a-097b-40f9-cdd2-a12e83586578",
        "colab": {
          "base_uri": "https://localhost:8080/",
          "height": 51
        }
      },
      "source": [
        "print('accuracy: ',test_acc,)\n",
        "print('loss:',_)"
      ],
      "execution_count": null,
      "outputs": [
        {
          "output_type": "stream",
          "text": [
            "accuracy:  0.85\n",
            "loss: 0.9531159710884094\n"
          ],
          "name": "stdout"
        }
      ]
    },
    {
      "cell_type": "code",
      "metadata": {
        "id": "2UFcgQzlbMIS"
      },
      "source": [
        "y_pred=model.predict(x_test)"
      ],
      "execution_count": null,
      "outputs": []
    },
    {
      "cell_type": "code",
      "metadata": {
        "id": "UTFdmsBzbbgh"
      },
      "source": [
        "sample_labels = []\n",
        "for i in y_pred:\n",
        "  if i>0.5:\n",
        "    sample_labels.append(1)\n",
        "  else :\n",
        "    sample_labels.append(0) "
      ],
      "execution_count": null,
      "outputs": []
    },
    {
      "cell_type": "code",
      "metadata": {
        "id": "--wpvAhcXhfr"
      },
      "source": [
        "import sklearn\n",
        "test_acc=sklearn.metrics.accuracy_score(y_test, sample_labels)"
      ],
      "execution_count": null,
      "outputs": []
    },
    {
      "cell_type": "code",
      "metadata": {
        "id": "QfUG8MsgXr1r",
        "outputId": "1f465239-c53b-469c-850a-a42fc189a70f",
        "colab": {
          "base_uri": "https://localhost:8080/",
          "height": 34
        }
      },
      "source": [
        "test_acc"
      ],
      "execution_count": null,
      "outputs": [
        {
          "output_type": "execute_result",
          "data": {
            "text/plain": [
              "0.85"
            ]
          },
          "metadata": {
            "tags": []
          },
          "execution_count": 311
        }
      ]
    },
    {
      "cell_type": "code",
      "metadata": {
        "id": "BJOu4FyXaXVA",
        "outputId": "8723fd7a-5d7f-4caf-f894-375c45ecc8b4",
        "colab": {
          "base_uri": "https://localhost:8080/",
          "height": 577
        }
      },
      "source": [
        "from sklearn.metrics import confusion_matrix\n",
        "cm = confusion_matrix(y_test,sample_labels)\n",
        "import seaborn as sns\n",
        "df_cm = pd.DataFrame(cm, columns=['Normal','infected'], index = ['Normal','infected'])\n",
        "df_cm.index.name = 'Actual'\n",
        "df_cm.columns.name = 'Predicted'\n",
        "plt.figure(figsize = (10,7))\n",
        "sns.set(font_scale=1.4)#for label size\n",
        "sns.heatmap(df_cm, cmap=\"Blues\", annot=True,annot_kws={\"size\": 16},fmt='d')\n",
        "\n",
        "\n",
        "\n",
        "\n",
        "fp=cm[1][0]\n",
        "fn=cm[0][1]\n",
        "tp=cm[0][0]\n",
        "tn=cm[1][1]\n",
        "print(\"-----------------------------------\")\n",
        "print(\"TP : \",tp)\n",
        "print(\"TN : \",tn)\n",
        "print(\"FP : \",fp)\n",
        "print(\"FN : \",fn)\n",
        "print(\"sensitivity : \",tp/(float)((tp+fn)))\n",
        "print(\"specificity : \",tn/(float)((tn+fp)))\n",
        "sn=tp/(float)((tp+fn))\n",
        "sp=tn/(float)((tn+fp))\n"
      ],
      "execution_count": null,
      "outputs": [
        {
          "output_type": "stream",
          "text": [
            "-----------------------------------\n",
            "TP :  48\n",
            "TN :  122\n",
            "FP :  28\n",
            "FN :  2\n",
            "sensitivity :  0.96\n",
            "specificity :  0.8133333333333334\n"
          ],
          "name": "stdout"
        },
        {
          "output_type": "display_data",
          "data": {
            "image/png": "[encoded data removed]",
            "text/plain": [
              "<Figure size 720x504 with 2 Axes>"
            ]
          },
          "metadata": {
            "tags": []
          }
        }
      ]
    },
    {
      "cell_type": "code",
      "metadata": {
        "id": "SFsWZ_Qg5KMd",
        "outputId": "2e53e030-e20a-41ce-f7fa-ca66d57baf4e",
        "colab": {
          "base_uri": "https://localhost:8080/",
          "height": 340
        }
      },
      "source": [
        "testacc"
      ],
      "execution_count": null,
      "outputs": [
        {
          "output_type": "execute_result",
          "data": {
            "text/plain": [
              "[0.7833333333333333,\n",
              " 0.775,\n",
              " 0.79,\n",
              " 0.9,\n",
              " 0.84,\n",
              " 0.87,\n",
              " 0.8375,\n",
              " 0.7625,\n",
              " 0.7833333333333333,\n",
              " 0.775,\n",
              " 0.775,\n",
              " 0.775,\n",
              " 0.775,\n",
              " 0.775,\n",
              " 0.775,\n",
              " 0.775,\n",
              " 0.775,\n",
              " 0.8666666666666667,\n",
              " 0.85]"
            ]
          },
          "metadata": {
            "tags": []
          },
          "execution_count": 313
        }
      ]
    },
    {
      "cell_type": "code",
      "metadata": {
        "id": "wfkPqZRyvtBV"
      },
      "source": [
        "testacc.append(test_acc)\n",
        "sens.append(sn)\n",
        "spec.append(sp)\n"
      ],
      "execution_count": null,
      "outputs": []
    },
    {
      "cell_type": "code",
      "metadata": {
        "id": "30ed7oM06obY",
        "outputId": "2e3ef40e-b6e7-4645-d3c0-f38972925d44",
        "colab": {
          "base_uri": "https://localhost:8080/",
          "height": 54
        }
      },
      "source": [
        "print(sens,spec)"
      ],
      "execution_count": null,
      "outputs": [
        {
          "output_type": "stream",
          "text": [
            "[1.0, 0.95, 0.95, 0.95, 0.975, 1.0, 1.0, 1.0, 1.0, 0.95, 0.95, 0.95, 0.95, 0.95, 0.95, 0.95, 0.95, 0.95, 0.95, 0.96] [0.675, 0.7166666666666667, 0.75, 0.8833333333333333, 0.75, 0.8375, 0.7833333333333333, 0.6833333333333333, 0.675, 0.716666666667, 0.716666666667, 0.716666666667, 0.716666666667, 0.716666666667, 0.716666666667, 0.716666666667, 0.716666666667, 0.825, 0.8, 0.8133333333333334]\n"
          ],
          "name": "stdout"
        }
      ]
    },
    {
      "cell_type": "code",
      "metadata": {
        "id": "__J_DJRu-_sE",
        "outputId": "e91b4370-5036-42ee-a4ae-b15db8e42dd0",
        "colab": {
          "base_uri": "https://localhost:8080/",
          "height": 34
        }
      },
      "source": [
        "len(testacc)"
      ],
      "execution_count": null,
      "outputs": [
        {
          "output_type": "execute_result",
          "data": {
            "text/plain": [
              "20"
            ]
          },
          "metadata": {
            "tags": []
          },
          "execution_count": 316
        }
      ]
    },
    {
      "cell_type": "code",
      "metadata": {
        "id": "h8u-7-4tByd7",
        "outputId": "81a2da5a-b7de-4987-ac91-6b90967e1162",
        "colab": {
          "base_uri": "https://localhost:8080/",
          "height": 34
        }
      },
      "source": [
        "len(sens)"
      ],
      "execution_count": null,
      "outputs": [
        {
          "output_type": "execute_result",
          "data": {
            "text/plain": [
              "20"
            ]
          },
          "metadata": {
            "tags": []
          },
          "execution_count": 317
        }
      ]
    },
    {
      "cell_type": "code",
      "metadata": {
        "id": "3wdCvR6KCE6s"
      },
      "source": [
        "dic={'test_acc':testacc, 'sens':sens,'spec':spec}"
      ],
      "execution_count": null,
      "outputs": []
    },
    {
      "cell_type": "code",
      "metadata": {
        "id": "LWSuiujGCS9Y"
      },
      "source": [
        "import pickle\n",
        "with open('Boxplot_norvsinf_darkcovidnet.pkl', 'wb') as f:\n",
        "  pickle.dump(dic, f, pickle.HIGHEST_PROTOCOL)"
      ],
      "execution_count": null,
      "outputs": []
    },
    {
      "cell_type": "markdown",
      "metadata": {
        "id": "vOZxg5kI1fIa"
      },
      "source": [
        "Predicting a sample image"
      ]
    },
    {
      "cell_type": "code",
      "metadata": {
        "id": "t_RB_yt21j46"
      },
      "source": [
        "img = cv2.imread('/content/drive/My Drive/data/train/viral/viral0148.jpeg',0)\n",
        "img = cv2.resize(img,(256,256))\n",
        "img=np.uint8(cv2.normalize(img, None, 0, 255, cv2.NORM_MINMAX))\n",
        "img = cv2.equalizeHist(img)\n",
        "img = np.power(img, gamma) "
      ],
      "execution_count": null,
      "outputs": []
    },
    {
      "cell_type": "code",
      "metadata": {
        "id": "RojpoAiN2BgH"
      },
      "source": [
        "img=np.expand_dims(img,axis=(0,3))"
      ],
      "execution_count": null,
      "outputs": []
    },
    {
      "cell_type": "code",
      "metadata": {
        "id": "73pc3lmO2d3t"
      },
      "source": [
        "img.shape"
      ],
      "execution_count": null,
      "outputs": []
    },
    {
      "cell_type": "code",
      "metadata": {
        "id": "Qh3t8PJs2FIf"
      },
      "source": [
        "pred1=loaded_model.predict(img)\n",
        "pred1_label=enc.inverse_transform(pred1)\n",
        "for key in mapping.keys():\n",
        "  if(mapping[key]==pred1_label[0][0]):\n",
        "    print(key)"
      ],
      "execution_count": null,
      "outputs": []
    },
    {
      "cell_type": "markdown",
      "metadata": {
        "id": "DcimaziXrua9"
      },
      "source": [
        "Predicting Test samples and confusion matrix"
      ]
    },
    {
      "cell_type": "code",
      "metadata": {
        "id": "zCC-hmFAqbMx"
      },
      "source": [
        "from sklearn.metrics import confusion_matrix\n",
        "\n"
      ],
      "execution_count": null,
      "outputs": []
    }
  ]
}