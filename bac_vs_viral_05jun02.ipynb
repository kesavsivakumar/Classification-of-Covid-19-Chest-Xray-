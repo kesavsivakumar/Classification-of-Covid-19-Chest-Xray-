{
  "nbformat": 4,
  "nbformat_minor": 0,
  "metadata": {
    "colab": {
      "name": "bac vs viral 05jun02.ipynb",
      "provenance": [],
      "collapsed_sections": []
    },
    "kernelspec": {
      "name": "python3",
      "display_name": "Python 3"
    }
  },
  "cells": [
    {
      "cell_type": "code",
      "metadata": {
        "id": "J82Uaq9FN68O"
      },
      "source": [
        "import cv2\n",
        "import numpy as np\n",
        "import matplotlib.pyplot as plt\n",
        "import os\n",
        "import tensorflow\n",
        "import glob\n",
        "import pandas as pd"
      ],
      "execution_count": null,
      "outputs": []
    },
    {
      "cell_type": "code",
      "metadata": {
        "id": "hqCPmoStOEM7",
        "outputId": "a59ceab0-5c93-4d96-a11a-29c0c5111d8b",
        "colab": {
          "base_uri": "https://localhost:8080/",
          "height": 122
        }
      },
      "source": [
        "from google.colab import drive\n",
        "drive.mount('/content/drive')"
      ],
      "execution_count": null,
      "outputs": [
        {
          "output_type": "stream",
          "text": [
            "Go to this URL in a browser: https://accounts.google.com/o/oauth2/auth?client_id=947318989803-6bn6qk8qdgf4n4g3pfee6491hc0brc4i.apps.googleusercontent.com&redirect_uri=urn%3aietf%3awg%3aoauth%3a2.0%3aoob&response_type=code&scope=email%20https%3a%2f%2fwww.googleapis.com%2fauth%2fdocs.test%20https%3a%2f%2fwww.googleapis.com%2fauth%2fdrive%20https%3a%2f%2fwww.googleapis.com%2fauth%2fdrive.photos.readonly%20https%3a%2f%2fwww.googleapis.com%2fauth%2fpeopleapi.readonly\n",
            "\n",
            "Enter your authorization code:\n",
            "··········\n",
            "Mounted at /content/drive\n"
          ],
          "name": "stdout"
        }
      ]
    },
    {
      "cell_type": "code",
      "metadata": {
        "id": "drSGmeMbOQZq",
        "outputId": "e10e2bf2-c767-41c9-b8b6-98211fb33599",
        "colab": {
          "base_uri": "https://localhost:8080/",
          "height": 34
        }
      },
      "source": [
        "cd drive"
      ],
      "execution_count": null,
      "outputs": [
        {
          "output_type": "stream",
          "text": [
            "/content/drive\n"
          ],
          "name": "stdout"
        }
      ]
    },
    {
      "cell_type": "code",
      "metadata": {
        "id": "Cj6Rdqc1OUcr",
        "outputId": "2d767e44-2822-4176-8131-55aa21936958",
        "colab": {
          "base_uri": "https://localhost:8080/",
          "height": 34
        }
      },
      "source": [
        "cd My Drive"
      ],
      "execution_count": null,
      "outputs": [
        {
          "output_type": "stream",
          "text": [
            "/content/drive/My Drive\n"
          ],
          "name": "stdout"
        }
      ]
    },
    {
      "cell_type": "code",
      "metadata": {
        "id": "FW4HRLOnURCk",
        "outputId": "7671d4d9-c282-43db-d534-f5011fff00e8",
        "colab": {
          "base_uri": "https://localhost:8080/",
          "height": 34
        }
      },
      "source": [
        "\"\"\"cd data\"\"\""
      ],
      "execution_count": null,
      "outputs": [
        {
          "output_type": "execute_result",
          "data": {
            "text/plain": [
              "'cd data'"
            ]
          },
          "metadata": {
            "tags": []
          },
          "execution_count": 5
        }
      ]
    },
    {
      "cell_type": "code",
      "metadata": {
        "id": "UGLrFj81I_wz",
        "outputId": "b3f0c300-d129-4b8f-cd4e-aa16d6fb3d77",
        "colab": {
          "base_uri": "https://localhost:8080/",
          "height": 34
        }
      },
      "source": [
        "\"\"\"cd train\"\"\""
      ],
      "execution_count": null,
      "outputs": [
        {
          "output_type": "execute_result",
          "data": {
            "text/plain": [
              "'cd train'"
            ]
          },
          "metadata": {
            "tags": []
          },
          "execution_count": 6
        }
      ]
    },
    {
      "cell_type": "code",
      "metadata": {
        "id": "bSm0h5uJ46Jc",
        "outputId": "aea8aa45-09f4-4d08-bf9b-78796e85797d",
        "colab": {
          "base_uri": "https://localhost:8080/",
          "height": 34
        }
      },
      "source": [
        "cd data"
      ],
      "execution_count": null,
      "outputs": [
        {
          "output_type": "stream",
          "text": [
            "/content/drive/My Drive/data\n"
          ],
          "name": "stdout"
        }
      ]
    },
    {
      "cell_type": "code",
      "metadata": {
        "id": "z2MnWTLDniCX"
      },
      "source": [
        "x_viral = np.load('x_viral.npy')\n",
        "y_viral = np.load('y_viral.npy')\n",
        "x_bacterial = np.load('x_bacterial.npy')\n",
        "y_bacterial = np.load('y_bacterial.npy')"
      ],
      "execution_count": null,
      "outputs": []
    },
    {
      "cell_type": "code",
      "metadata": {
        "id": "vDVkPEQ6zG37",
        "outputId": "6f8bee9f-004c-418a-c700-f96b37e942e2",
        "colab": {
          "base_uri": "https://localhost:8080/",
          "height": 85
        }
      },
      "source": [
        "print(x_viral.shape)\n",
        "print(y_viral.shape)\n",
        "print(x_bacterial.shape)\n",
        "print(y_bacterial.shape)"
      ],
      "execution_count": null,
      "outputs": [
        {
          "output_type": "stream",
          "text": [
            "(1504, 256, 256, 3)\n",
            "(1504,)\n",
            "(2786, 256, 256, 3)\n",
            "(2786,)\n"
          ],
          "name": "stdout"
        }
      ]
    },
    {
      "cell_type": "code",
      "metadata": {
        "id": "rTDtmxcvPu-p"
      },
      "source": [
        "x_covid = np.load('x_covid.npy')\n",
        "y_covid = np.load('y_covid.npy')"
      ],
      "execution_count": null,
      "outputs": []
    },
    {
      "cell_type": "code",
      "metadata": {
        "id": "lzJUO_oIMm1u",
        "outputId": "b3995378-487b-43af-9157-099082d31205",
        "colab": {
          "base_uri": "https://localhost:8080/",
          "height": 51
        }
      },
      "source": [
        "print(x_covid.shape)\n",
        "print(y_covid.shape)"
      ],
      "execution_count": null,
      "outputs": [
        {
          "output_type": "stream",
          "text": [
            "(239, 256, 256, 3)\n",
            "(239,)\n"
          ],
          "name": "stdout"
        }
      ]
    },
    {
      "cell_type": "code",
      "metadata": {
        "id": "lVtVc2ADd6xF"
      },
      "source": [
        "import random"
      ],
      "execution_count": null,
      "outputs": []
    },
    {
      "cell_type": "code",
      "metadata": {
        "id": "RHZ4TYpvzRd2"
      },
      "source": [
        "x_train=[]\n",
        "y_train=[]\n",
        "x_test = []\n",
        "y_test = []"
      ],
      "execution_count": null,
      "outputs": []
    },
    {
      "cell_type": "markdown",
      "metadata": {
        "id": "ieBbabYq5Dt7"
      },
      "source": [
        "\n",
        "\n",
        "---\n",
        "\n",
        "**Load bacterial images**\n",
        "\n",
        "---\n",
        "\n"
      ]
    },
    {
      "cell_type": "code",
      "metadata": {
        "id": "O4cJLyUXzVNl"
      },
      "source": [
        "nums = random.sample(range(0, 2786), 600)\n",
        "for i in nums:\n",
        "  x_train.append(x_bacterial[i])\n",
        "  y_train.append(0)"
      ],
      "execution_count": null,
      "outputs": []
    },
    {
      "cell_type": "code",
      "metadata": {
        "id": "DRAfVQ7ekDVq"
      },
      "source": [
        "total = [i for i in range(0,2786)]\n",
        "test_nums = random.sample(list((set)(total)-(set)(nums)),50)"
      ],
      "execution_count": null,
      "outputs": []
    },
    {
      "cell_type": "code",
      "metadata": {
        "id": "CF98-Hrgkhho"
      },
      "source": [
        "for i in test_nums:\n",
        "  x_test.append(x_bacterial[i])\n",
        "  y_test.append(0)"
      ],
      "execution_count": null,
      "outputs": []
    },
    {
      "cell_type": "markdown",
      "metadata": {
        "id": "msfjt-D-5QXg"
      },
      "source": [
        "\n",
        "\n",
        "---\n",
        "\n",
        "**Load viral images**\n",
        "\n",
        "---\n",
        "\n"
      ]
    },
    {
      "cell_type": "code",
      "metadata": {
        "id": "B0s5lLtGlZ6T"
      },
      "source": [
        "nums = random.sample(range(0, 1504), 361)\n",
        "for i in nums:\n",
        "  x_train.append(x_viral[i])\n",
        "  y_train.append(1)"
      ],
      "execution_count": null,
      "outputs": []
    },
    {
      "cell_type": "code",
      "metadata": {
        "id": "TLSy5XsrlnZI"
      },
      "source": [
        "total = [i for i in range(0,1504)]\n",
        "test_nums = random.sample(list((set)(total)-(set)(nums)),45)"
      ],
      "execution_count": null,
      "outputs": []
    },
    {
      "cell_type": "code",
      "metadata": {
        "id": "Uvnq-ZSPl0C7"
      },
      "source": [
        "for i in test_nums:\n",
        "  x_test.append(x_viral[i])\n",
        "  y_test.append(1)"
      ],
      "execution_count": null,
      "outputs": []
    },
    {
      "cell_type": "markdown",
      "metadata": {
        "id": "5WTN7GbU5rr9"
      },
      "source": [
        "\n",
        "\n",
        "---\n",
        "\n",
        "**Load covid images**\n",
        "\n",
        "---\n",
        "\n"
      ]
    },
    {
      "cell_type": "code",
      "metadata": {
        "id": "PYkc9wpYl9ME"
      },
      "source": [
        "nums = random.sample(range(0, 239), 234)\n",
        "for i in nums:\n",
        "  x_train.append(x_covid[i])\n",
        "  y_train.append(1)"
      ],
      "execution_count": null,
      "outputs": []
    },
    {
      "cell_type": "code",
      "metadata": {
        "id": "KhsOuIxFptNB"
      },
      "source": [
        "total = [i for i in range(0,239)]\n",
        "test_nums = random.sample(list((set)(total)-(set)(nums)),5)"
      ],
      "execution_count": null,
      "outputs": []
    },
    {
      "cell_type": "code",
      "metadata": {
        "id": "dt20PaGgp3rY"
      },
      "source": [
        "for i in test_nums:\n",
        "  x_test.append(x_covid[i])\n",
        "  y_test.append(1)"
      ],
      "execution_count": null,
      "outputs": []
    },
    {
      "cell_type": "markdown",
      "metadata": {
        "id": "asvjLaQ65xn7"
      },
      "source": [
        "\n",
        "\n",
        "---\n",
        "\n",
        "**add  5 cov TMC images to train set**\n",
        "\n",
        "---\n",
        "\n"
      ]
    },
    {
      "cell_type": "code",
      "metadata": {
        "id": "nqieVj4DqxFJ"
      },
      "source": [
        "x_covid_tmc=[]\n",
        "y_covid_tmc=[]"
      ],
      "execution_count": null,
      "outputs": []
    },
    {
      "cell_type": "code",
      "metadata": {
        "id": "DLJL-KP8snhL"
      },
      "source": [
        "for im in glob.glob('/content/drive/My Drive/covid TMC/*.*'):\n",
        "  #print(im)\n",
        "  img=cv2.imread(im,1)\n",
        "  img=cv2.resize(img,(256,256))\n",
        "  x_covid_tmc.append(img)\n",
        "  y_covid_tmc.append(1)"
      ],
      "execution_count": null,
      "outputs": []
    },
    {
      "cell_type": "code",
      "metadata": {
        "id": "7t8SRjjcU_sN",
        "outputId": "c9713638-d54d-4d31-abbe-1e5452ca960b",
        "colab": {
          "base_uri": "https://localhost:8080/",
          "height": 51
        }
      },
      "source": [
        "print(len(x_covid_tmc))\n",
        "print(len(y_covid_tmc))"
      ],
      "execution_count": null,
      "outputs": [
        {
          "output_type": "stream",
          "text": [
            "11\n",
            "11\n"
          ],
          "name": "stdout"
        }
      ]
    },
    {
      "cell_type": "code",
      "metadata": {
        "id": "uunh4-aqw_iT"
      },
      "source": [
        "nums = random.sample(range(0, 11), 5)\n",
        "for i in nums:\n",
        "  x_train.append(x_covid_tmc[i])\n",
        "  y_train.append(1)"
      ],
      "execution_count": null,
      "outputs": []
    },
    {
      "cell_type": "code",
      "metadata": {
        "id": "gw6dtpN1XyO1"
      },
      "source": [
        "x_sample = []\n",
        "y_sample = []"
      ],
      "execution_count": null,
      "outputs": []
    },
    {
      "cell_type": "code",
      "metadata": {
        "id": "khA2hBFp39Be"
      },
      "source": [
        "total = [i for i in range(0,11)]\n",
        "test_nums = random.sample(list((set)(total)-(set)(nums)),6)\n",
        "for i in test_nums:\n",
        "  x_test.append(x_covid_tmc[i])\n",
        "  y_test.append(1)"
      ],
      "execution_count": null,
      "outputs": []
    },
    {
      "cell_type": "code",
      "metadata": {
        "id": "9mPRr5wjLOxl"
      },
      "source": [
        "x_train = np.asarray(x_train)\n",
        "y_train= np.asarray(y_train)\n",
        "x_test = np.asarray(x_test)\n",
        "y_test = np.asarray(y_test)"
      ],
      "execution_count": null,
      "outputs": []
    },
    {
      "cell_type": "code",
      "metadata": {
        "id": "Oskm_hHl4S3z",
        "outputId": "b0af78d3-05a3-4711-be1e-bee6c71b6dd9",
        "colab": {
          "base_uri": "https://localhost:8080/",
          "height": 85
        }
      },
      "source": [
        "print(x_train.shape)\n",
        "print(y_train.shape)\n",
        "print(x_test.shape)\n",
        "print(y_test.shape)"
      ],
      "execution_count": null,
      "outputs": [
        {
          "output_type": "stream",
          "text": [
            "(1200, 256, 256, 3)\n",
            "(1200,)\n",
            "(106, 256, 256, 3)\n",
            "(106,)\n"
          ],
          "name": "stdout"
        }
      ]
    },
    {
      "cell_type": "markdown",
      "metadata": {
        "id": "nC26PkK70usk"
      },
      "source": [
        "\n",
        "\n",
        "---\n",
        "\n",
        "**Preprocess x_train**\n",
        "\n",
        "---\n",
        "\n"
      ]
    },
    {
      "cell_type": "code",
      "metadata": {
        "id": "WLuthkHOO0oD",
        "outputId": "b24cabfb-3db4-4b22-d76a-e5c96bb03667",
        "colab": {
          "base_uri": "https://localhost:8080/",
          "height": 231
        }
      },
      "source": [
        "for i in range(2400):\n",
        "    img = x_train[i]\n",
        "    lab = cv2.cvtColor(img, cv2.COLOR_BGR2LAB)\n",
        "\n",
        "    lab_planes = cv2.split(lab)\n",
        "\n",
        "    clahe = cv2.createCLAHE(clipLimit=2.0,tileGridSize=(16,16))\n",
        "\n",
        "    lab_planes[0] = clahe.apply(lab_planes[0])\n",
        "\n",
        "    lab = cv2.merge(lab_planes)\n",
        "\n",
        "    img = cv2.cvtColor(lab, cv2.COLOR_LAB2BGR)  \n",
        "    x_train[i]=img\n",
        "\n",
        "print('Shape of train images: ', x_train[0].shape)"
      ],
      "execution_count": null,
      "outputs": [
        {
          "output_type": "error",
          "ename": "IndexError",
          "evalue": "ignored",
          "traceback": [
            "\u001b[0;31m---------------------------------------------------------------------------\u001b[0m",
            "\u001b[0;31mIndexError\u001b[0m                                Traceback (most recent call last)",
            "\u001b[0;32m<ipython-input-31-d3476ba156d6>\u001b[0m in \u001b[0;36m<module>\u001b[0;34m()\u001b[0m\n\u001b[1;32m      1\u001b[0m \u001b[0;32mfor\u001b[0m \u001b[0mi\u001b[0m \u001b[0;32min\u001b[0m \u001b[0mrange\u001b[0m\u001b[0;34m(\u001b[0m\u001b[0;36m2400\u001b[0m\u001b[0;34m)\u001b[0m\u001b[0;34m:\u001b[0m\u001b[0;34m\u001b[0m\u001b[0;34m\u001b[0m\u001b[0m\n\u001b[0;32m----> 2\u001b[0;31m     \u001b[0mimg\u001b[0m \u001b[0;34m=\u001b[0m \u001b[0mx_train\u001b[0m\u001b[0;34m[\u001b[0m\u001b[0mi\u001b[0m\u001b[0;34m]\u001b[0m\u001b[0;34m\u001b[0m\u001b[0;34m\u001b[0m\u001b[0m\n\u001b[0m\u001b[1;32m      3\u001b[0m     \u001b[0mlab\u001b[0m \u001b[0;34m=\u001b[0m \u001b[0mcv2\u001b[0m\u001b[0;34m.\u001b[0m\u001b[0mcvtColor\u001b[0m\u001b[0;34m(\u001b[0m\u001b[0mimg\u001b[0m\u001b[0;34m,\u001b[0m \u001b[0mcv2\u001b[0m\u001b[0;34m.\u001b[0m\u001b[0mCOLOR_BGR2LAB\u001b[0m\u001b[0;34m)\u001b[0m\u001b[0;34m\u001b[0m\u001b[0;34m\u001b[0m\u001b[0m\n\u001b[1;32m      4\u001b[0m \u001b[0;34m\u001b[0m\u001b[0m\n\u001b[1;32m      5\u001b[0m     \u001b[0mlab_planes\u001b[0m \u001b[0;34m=\u001b[0m \u001b[0mcv2\u001b[0m\u001b[0;34m.\u001b[0m\u001b[0msplit\u001b[0m\u001b[0;34m(\u001b[0m\u001b[0mlab\u001b[0m\u001b[0;34m)\u001b[0m\u001b[0;34m\u001b[0m\u001b[0;34m\u001b[0m\u001b[0m\n",
            "\u001b[0;31mIndexError\u001b[0m: index 1200 is out of bounds for axis 0 with size 1200"
          ]
        }
      ]
    },
    {
      "cell_type": "markdown",
      "metadata": {
        "id": "c1gHQ-NK7VAr"
      },
      "source": [
        "\n",
        "\n",
        "---\n",
        "\n",
        "**Preprocess x_test**\n",
        "\n",
        "---\n",
        "\n"
      ]
    },
    {
      "cell_type": "code",
      "metadata": {
        "id": "K1QmCY_eWMW6"
      },
      "source": [
        "for i in range(300):\n",
        "    img = x_test[i]\n",
        "    lab = cv2.cvtColor(img, cv2.COLOR_BGR2LAB)\n",
        "\n",
        "    lab_planes = cv2.split(lab)\n",
        "\n",
        "    clahe = cv2.createCLAHE(clipLimit=2.0,tileGridSize=(16,16))\n",
        "\n",
        "    lab_planes[0] = clahe.apply(lab_planes[0])\n",
        "\n",
        "    lab = cv2.merge(lab_planes)\n",
        "\n",
        "    img = cv2.cvtColor(lab, cv2.COLOR_LAB2BGR)  \n",
        "    x_test[i]=img\n",
        "\n",
        "print('Shape of test images: ', x_test[0].shape)"
      ],
      "execution_count": null,
      "outputs": []
    },
    {
      "cell_type": "markdown",
      "metadata": {
        "id": "V7ap_B1cl2tB"
      },
      "source": [
        "Model for 1 Densenet block"
      ]
    },
    {
      "cell_type": "code",
      "metadata": {
        "id": "6ueC6xGtlr43",
        "colab": {
          "base_uri": "https://localhost:8080/",
          "height": 34
        },
        "outputId": "7e9023f2-24d8-4a10-c650-455d7eb2aa32"
      },
      "source": [
        "%tensorflow_version 1.x\n",
        "import tensorflow"
      ],
      "execution_count": null,
      "outputs": [
        {
          "output_type": "stream",
          "text": [
            "TensorFlow is already loaded. Please restart the runtime to change versions.\n"
          ],
          "name": "stdout"
        }
      ]
    },
    {
      "cell_type": "code",
      "metadata": {
        "id": "KpGo-5_nl8QX",
        "outputId": "d228e3ff-47a5-4987-f166-abdc57b4ab08",
        "colab": {
          "base_uri": "https://localhost:8080/",
          "height": 34
        }
      },
      "source": [
        "from keras.models import Sequential\n",
        "from keras import layers\n",
        "from keras.optimizers import adam\n",
        "from keras.callbacks import EarlyStopping\n",
        "from keras.callbacks import ModelCheckpoint"
      ],
      "execution_count": null,
      "outputs": [
        {
          "output_type": "stream",
          "text": [
            "Using TensorFlow backend.\n"
          ],
          "name": "stderr"
        }
      ]
    },
    {
      "cell_type": "code",
      "metadata": {
        "id": "UxA1kLZHmGiS"
      },
      "source": [
        "model = Sequential()\n",
        "model.add(layers.Conv2D(filters=8,kernel_size=(3,3),input_shape=(256,256,3),strides=1,padding='same'))\n",
        "model.add(layers.BatchNormalization())\n",
        "model.add(layers.LeakyReLU(alpha=0.1))\n",
        "\n",
        "model.add(layers.MaxPooling2D(pool_size=(2,2),strides=2))\n",
        "\n",
        "model.add(layers.Conv2D(filters=16,kernel_size=(3,3),strides=1,padding='same'))\n",
        "model.add(layers.BatchNormalization())\n",
        "model.add(layers.LeakyReLU(alpha=0.1))\n",
        "\n",
        "model.add(layers.MaxPooling2D(pool_size=(2,2),strides=2))\n",
        "\n",
        "model.add(layers.Conv2D(filters=32,kernel_size=(3,3),strides=1,padding='same'))\n",
        "model.add(layers.BatchNormalization())\n",
        "model.add(layers.LeakyReLU(alpha=0.1))\n",
        "model.add(layers.Conv2D(filters=32,kernel_size=(1,1),strides=1,padding='same'))\n",
        "model.add(layers.BatchNormalization())\n",
        "model.add(layers.LeakyReLU(alpha=0.1))\n",
        "model.add(layers.Conv2D(filters=32,kernel_size=(3,3),strides=1,padding='same'))\n",
        "model.add(layers.BatchNormalization())\n",
        "model.add(layers.LeakyReLU(alpha=0.1))\n",
        "\n",
        "model.add(layers.MaxPooling2D(pool_size=(2,2),strides=2))\n",
        "\n",
        "model.add(layers.Conv2D(filters=16,kernel_size=(3,3),strides=1,padding='same'))\n",
        "model.add(layers.BatchNormalization())\n",
        "model.add(layers.LeakyReLU(alpha=0.1))\n",
        "\n",
        "model.add(layers.Conv2D(filters=32,kernel_size=(3,3),strides=1,padding='same'))\n",
        "model.add(layers.BatchNormalization())\n",
        "model.add(layers.LeakyReLU(alpha=0.1))\n",
        "\n",
        "model.add(layers.Conv2D(filters=2,kernel_size=(3,3),strides=1,padding='same'))\n",
        " \n",
        "model.add(layers.Flatten())\n",
        " \n",
        "model.add(layers.Dense(1, activation='sigmoid'))"
      ],
      "execution_count": null,
      "outputs": []
    },
    {
      "cell_type": "code",
      "metadata": {
        "id": "xDRCaQtbSBew"
      },
      "source": [
        "opt = adam(learning_rate=0.0001)"
      ],
      "execution_count": null,
      "outputs": []
    },
    {
      "cell_type": "code",
      "metadata": {
        "id": "GhCRal5ZisCR"
      },
      "source": [
        "model.compile(optimizer=opt, loss='binary_crossentropy', metrics=['accuracy'])"
      ],
      "execution_count": null,
      "outputs": []
    },
    {
      "cell_type": "code",
      "metadata": {
        "id": "uQqUWa8czffL",
        "outputId": "a3301b43-1fa3-4999-ab33-e082dc4b2e6d",
        "colab": {
          "base_uri": "https://localhost:8080/",
          "height": 1000
        }
      },
      "source": [
        "es = EarlyStopping(monitor='val_loss', mode='min', verbose=1,patience=32)\n",
        "mc = ModelCheckpoint('nor_inf_04jun03.h5', monitor='val_accuracy', mode='max', verbose=1, save_best_only=True)\n",
        "history=model.fit(x_train,y_train,batch_size=16,validation_split=0.2,epochs=100,callbacks=[es,mc],shuffle=True)"
      ],
      "execution_count": null,
      "outputs": [
        {
          "output_type": "stream",
          "text": [
            "Train on 960 samples, validate on 240 samples\n",
            "Epoch 1/100\n",
            "960/960 [==============================] - 74s 77ms/step - loss: 0.6843 - accuracy: 0.6146 - val_loss: 0.7915 - val_accuracy: 0.1125\n",
            "\n",
            "Epoch 00001: val_accuracy improved from -inf to 0.11250, saving model to nor_inf_04jun03.h5\n",
            "Epoch 2/100\n",
            "960/960 [==============================] - 71s 74ms/step - loss: 0.5517 - accuracy: 0.7271 - val_loss: 0.8297 - val_accuracy: 0.1542\n",
            "\n",
            "Epoch 00002: val_accuracy improved from 0.11250 to 0.15417, saving model to nor_inf_04jun03.h5\n",
            "Epoch 3/100\n",
            "960/960 [==============================] - 71s 74ms/step - loss: 0.4768 - accuracy: 0.7896 - val_loss: 0.9339 - val_accuracy: 0.1375\n",
            "\n",
            "Epoch 00003: val_accuracy did not improve from 0.15417\n",
            "Epoch 4/100\n",
            "960/960 [==============================] - 73s 76ms/step - loss: 0.4215 - accuracy: 0.8250 - val_loss: 1.0067 - val_accuracy: 0.1875\n",
            "\n",
            "Epoch 00004: val_accuracy improved from 0.15417 to 0.18750, saving model to nor_inf_04jun03.h5\n",
            "Epoch 5/100\n",
            "960/960 [==============================] - 71s 74ms/step - loss: 0.3739 - accuracy: 0.8552 - val_loss: 0.9034 - val_accuracy: 0.3167\n",
            "\n",
            "Epoch 00005: val_accuracy improved from 0.18750 to 0.31667, saving model to nor_inf_04jun03.h5\n",
            "Epoch 6/100\n",
            "960/960 [==============================] - 71s 74ms/step - loss: 0.3362 - accuracy: 0.8844 - val_loss: 1.0759 - val_accuracy: 0.2708\n",
            "\n",
            "Epoch 00006: val_accuracy did not improve from 0.31667\n",
            "Epoch 7/100\n",
            "960/960 [==============================] - 71s 73ms/step - loss: 0.2993 - accuracy: 0.9135 - val_loss: 1.0631 - val_accuracy: 0.3292\n",
            "\n",
            "Epoch 00007: val_accuracy improved from 0.31667 to 0.32917, saving model to nor_inf_04jun03.h5\n",
            "Epoch 8/100\n",
            "960/960 [==============================] - 71s 74ms/step - loss: 0.2648 - accuracy: 0.9365 - val_loss: 1.0869 - val_accuracy: 0.3333\n",
            "\n",
            "Epoch 00008: val_accuracy improved from 0.32917 to 0.33333, saving model to nor_inf_04jun03.h5\n",
            "Epoch 9/100\n",
            "960/960 [==============================] - 71s 73ms/step - loss: 0.2375 - accuracy: 0.9375 - val_loss: 1.1588 - val_accuracy: 0.3000\n",
            "\n",
            "Epoch 00009: val_accuracy did not improve from 0.33333\n",
            "Epoch 10/100\n",
            "960/960 [==============================] - 71s 74ms/step - loss: 0.2161 - accuracy: 0.9604 - val_loss: 1.2142 - val_accuracy: 0.3167\n",
            "\n",
            "Epoch 00010: val_accuracy did not improve from 0.33333\n",
            "Epoch 11/100\n",
            "960/960 [==============================] - 71s 74ms/step - loss: 0.1850 - accuracy: 0.9729 - val_loss: 1.0741 - val_accuracy: 0.4042\n",
            "\n",
            "Epoch 00011: val_accuracy improved from 0.33333 to 0.40417, saving model to nor_inf_04jun03.h5\n",
            "Epoch 12/100\n",
            "960/960 [==============================] - 73s 76ms/step - loss: 0.1611 - accuracy: 0.9781 - val_loss: 1.1830 - val_accuracy: 0.3708\n",
            "\n",
            "Epoch 00012: val_accuracy did not improve from 0.40417\n",
            "Epoch 13/100\n",
            "960/960 [==============================] - 70s 73ms/step - loss: 0.1410 - accuracy: 0.9854 - val_loss: 1.3561 - val_accuracy: 0.2875\n",
            "\n",
            "Epoch 00013: val_accuracy did not improve from 0.40417\n",
            "Epoch 14/100\n",
            "960/960 [==============================] - 70s 73ms/step - loss: 0.1255 - accuracy: 0.9927 - val_loss: 1.2985 - val_accuracy: 0.3542\n",
            "\n",
            "Epoch 00014: val_accuracy did not improve from 0.40417\n",
            "Epoch 15/100\n",
            "960/960 [==============================] - 71s 74ms/step - loss: 0.1081 - accuracy: 0.9979 - val_loss: 1.3423 - val_accuracy: 0.3625\n",
            "\n",
            "Epoch 00015: val_accuracy did not improve from 0.40417\n",
            "Epoch 16/100\n",
            "960/960 [==============================] - 71s 74ms/step - loss: 0.0960 - accuracy: 0.9969 - val_loss: 1.3475 - val_accuracy: 0.3667\n",
            "\n",
            "Epoch 00016: val_accuracy did not improve from 0.40417\n",
            "Epoch 17/100\n",
            "960/960 [==============================] - 70s 73ms/step - loss: 0.0888 - accuracy: 0.9948 - val_loss: 1.3321 - val_accuracy: 0.3958\n",
            "\n",
            "Epoch 00017: val_accuracy did not improve from 0.40417\n",
            "Epoch 18/100\n",
            "960/960 [==============================] - 70s 73ms/step - loss: 0.0773 - accuracy: 0.9969 - val_loss: 1.5025 - val_accuracy: 0.3083\n",
            "\n",
            "Epoch 00018: val_accuracy did not improve from 0.40417\n",
            "Epoch 19/100\n",
            "960/960 [==============================] - 70s 73ms/step - loss: 0.0641 - accuracy: 1.0000 - val_loss: 1.4191 - val_accuracy: 0.3750\n",
            "\n",
            "Epoch 00019: val_accuracy did not improve from 0.40417\n",
            "Epoch 20/100\n",
            "960/960 [==============================] - 70s 73ms/step - loss: 0.0558 - accuracy: 1.0000 - val_loss: 1.4826 - val_accuracy: 0.3625\n",
            "\n",
            "Epoch 00020: val_accuracy did not improve from 0.40417\n",
            "Epoch 21/100\n",
            "960/960 [==============================] - 73s 76ms/step - loss: 0.0482 - accuracy: 1.0000 - val_loss: 1.3565 - val_accuracy: 0.4250\n",
            "\n",
            "Epoch 00021: val_accuracy improved from 0.40417 to 0.42500, saving model to nor_inf_04jun03.h5\n",
            "Epoch 22/100\n",
            "960/960 [==============================] - 70s 73ms/step - loss: 0.0435 - accuracy: 1.0000 - val_loss: 1.4186 - val_accuracy: 0.4167\n",
            "\n",
            "Epoch 00022: val_accuracy did not improve from 0.42500\n",
            "Epoch 23/100\n",
            "960/960 [==============================] - 70s 73ms/step - loss: 0.0387 - accuracy: 1.0000 - val_loss: 1.6162 - val_accuracy: 0.3500\n",
            "\n",
            "Epoch 00023: val_accuracy did not improve from 0.42500\n",
            "Epoch 24/100\n",
            "960/960 [==============================] - 70s 73ms/step - loss: 0.0364 - accuracy: 1.0000 - val_loss: 1.5308 - val_accuracy: 0.3833\n",
            "\n",
            "Epoch 00024: val_accuracy did not improve from 0.42500\n",
            "Epoch 25/100\n",
            "960/960 [==============================] - 70s 73ms/step - loss: 0.0314 - accuracy: 1.0000 - val_loss: 1.6706 - val_accuracy: 0.3458\n",
            "\n",
            "Epoch 00025: val_accuracy did not improve from 0.42500\n",
            "Epoch 26/100\n",
            "960/960 [==============================] - 70s 73ms/step - loss: 0.0280 - accuracy: 1.0000 - val_loss: 1.5921 - val_accuracy: 0.3833\n",
            "\n",
            "Epoch 00026: val_accuracy did not improve from 0.42500\n",
            "Epoch 27/100\n",
            "960/960 [==============================] - 70s 73ms/step - loss: 0.0234 - accuracy: 1.0000 - val_loss: 1.5691 - val_accuracy: 0.3917\n",
            "\n",
            "Epoch 00027: val_accuracy did not improve from 0.42500\n",
            "Epoch 28/100\n",
            "960/960 [==============================] - 70s 73ms/step - loss: 0.0207 - accuracy: 1.0000 - val_loss: 1.6858 - val_accuracy: 0.3667\n",
            "\n",
            "Epoch 00028: val_accuracy did not improve from 0.42500\n",
            "Epoch 29/100\n",
            "960/960 [==============================] - 70s 73ms/step - loss: 0.0190 - accuracy: 1.0000 - val_loss: 1.8763 - val_accuracy: 0.3208\n",
            "\n",
            "Epoch 00029: val_accuracy did not improve from 0.42500\n",
            "Epoch 30/100\n",
            "960/960 [==============================] - 73s 76ms/step - loss: 0.0177 - accuracy: 1.0000 - val_loss: 1.7764 - val_accuracy: 0.3458\n",
            "\n",
            "Epoch 00030: val_accuracy did not improve from 0.42500\n",
            "Epoch 31/100\n",
            "960/960 [==============================] - 70s 73ms/step - loss: 0.0160 - accuracy: 1.0000 - val_loss: 1.8524 - val_accuracy: 0.3417\n",
            "\n",
            "Epoch 00031: val_accuracy did not improve from 0.42500\n",
            "Epoch 32/100\n",
            "960/960 [==============================] - 70s 73ms/step - loss: 0.0157 - accuracy: 1.0000 - val_loss: 1.8959 - val_accuracy: 0.3167\n",
            "\n",
            "Epoch 00032: val_accuracy did not improve from 0.42500\n",
            "Epoch 33/100\n",
            "960/960 [==============================] - 71s 74ms/step - loss: 0.0133 - accuracy: 1.0000 - val_loss: 1.8250 - val_accuracy: 0.3375\n",
            "\n",
            "Epoch 00033: val_accuracy did not improve from 0.42500\n",
            "Epoch 00033: early stopping\n"
          ],
          "name": "stdout"
        }
      ]
    },
    {
      "cell_type": "code",
      "metadata": {
        "id": "-xeXepYLsWT6",
        "outputId": "06b15818-1f80-4589-d21f-10b815b0c78a",
        "colab": {
          "base_uri": "https://localhost:8080/",
          "height": 295
        }
      },
      "source": [
        "plt.plot(history.history['accuracy'])\n",
        "plt.plot(history.history['val_accuracy'])\n",
        "plt.title('model accuracy')\n",
        "plt.ylabel('accuracy')\n",
        "plt.xlabel('epoch')\n",
        "plt.legend(['train'], loc='upper left')\n",
        "plt.show() "
      ],
      "execution_count": null,
      "outputs": [
        {
          "output_type": "display_data",
          "data": {
            "image/png": "[encoded data removed]",
            "text/plain": [
              "<Figure size 432x288 with 1 Axes>"
            ]
          },
          "metadata": {
            "tags": [],
            "needs_background": "light"
          }
        }
      ]
    },
    {
      "cell_type": "code",
      "metadata": {
        "id": "Cowf-HazuukX",
        "outputId": "c4a24b4d-ba12-4e4f-a2ba-6465dff8f7eb",
        "colab": {
          "base_uri": "https://localhost:8080/",
          "height": 295
        }
      },
      "source": [
        "plt.plot(history.history['loss'])\n",
        "plt.plot(history.history['val_loss'])\n",
        "plt.title('model loss')\n",
        "plt.ylabel('loss')\n",
        "plt.xlabel('epoch')\n",
        "plt.legend(['train'], loc='upper left')\n",
        "plt.show()"
      ],
      "execution_count": null,
      "outputs": [
        {
          "output_type": "display_data",
          "data": {
            "image/png": "[encoded data removed]",
            "text/plain": [
              "<Figure size 432x288 with 1 Axes>"
            ]
          },
          "metadata": {
            "tags": [],
            "needs_background": "light"
          }
        }
      ]
    },
    {
      "cell_type": "code",
      "metadata": {
        "id": "j6H36uf4n-QR"
      },
      "source": [
        ""
      ],
      "execution_count": null,
      "outputs": []
    },
    {
      "cell_type": "code",
      "metadata": {
        "id": "CbFvolPKvUY3"
      },
      "source": [
        "model = Sequential()\n",
        "model.add(layers.Conv2D(filters=8,kernel_size=(3,3),input_shape=(256,256,3),strides=1,padding='same'))\n",
        "model.add(layers.BatchNormalization())\n",
        "model.add(layers.LeakyReLU(alpha=0.1))\n",
        "\n",
        "model.add(layers.MaxPooling2D(pool_size=(2,2),strides=2))\n",
        "\n",
        "model.add(layers.Conv2D(filters=16,kernel_size=(3,3),strides=1,padding='same'))\n",
        "model.add(layers.BatchNormalization())\n",
        "model.add(layers.LeakyReLU(alpha=0.1))\n",
        "\n",
        "model.add(layers.MaxPooling2D(pool_size=(2,2),strides=2))\n",
        "\n",
        "model.add(layers.Conv2D(filters=32,kernel_size=(3,3),strides=1,padding='same'))\n",
        "model.add(layers.BatchNormalization())\n",
        "model.add(layers.LeakyReLU(alpha=0.1))\n",
        "model.add(layers.Conv2D(filters=32,kernel_size=(1,1),strides=1,padding='same'))\n",
        "model.add(layers.BatchNormalization())\n",
        "model.add(layers.LeakyReLU(alpha=0.1))\n",
        "model.add(layers.Conv2D(filters=32,kernel_size=(3,3),strides=1,padding='same'))\n",
        "model.add(layers.BatchNormalization())\n",
        "model.add(layers.LeakyReLU(alpha=0.1))\n",
        "\n",
        "model.add(layers.MaxPooling2D(pool_size=(2,2),strides=2))\n",
        "\n",
        "model.add(layers.Conv2D(filters=16,kernel_size=(3,3),strides=1,padding='same'))\n",
        "model.add(layers.BatchNormalization())\n",
        "model.add(layers.LeakyReLU(alpha=0.1))\n",
        "\n",
        "model.add(layers.Conv2D(filters=32,kernel_size=(3,3),strides=1,padding='same'))\n",
        "model.add(layers.BatchNormalization())\n",
        "model.add(layers.LeakyReLU(alpha=0.1))\n",
        "\n",
        "model.add(layers.Conv2D(filters=2,kernel_size=(3,3),strides=1,padding='same'))\n",
        " \n",
        "model.add(layers.Flatten())\n",
        " \n",
        "model.add(layers.Dense(1, activation='sigmoid'))\n",
        "model.load_weights('nor_inf_04jun03.h5')"
      ],
      "execution_count": null,
      "outputs": []
    },
    {
      "cell_type": "code",
      "metadata": {
        "id": "zvj1ibXg0GMk"
      },
      "source": [
        "model.compile(loss='binary_crossentropy', optimizer='adam', metrics=['accuracy'])\n",
        "_, test_acc = model.evaluate(x_test, y_test, verbose=0)"
      ],
      "execution_count": null,
      "outputs": []
    },
    {
      "cell_type": "code",
      "metadata": {
        "id": "1LS0CkKA0J7K",
        "outputId": "a713d193-1a17-427e-f96e-661239d735a5",
        "colab": {
          "base_uri": "https://localhost:8080/",
          "height": 51
        }
      },
      "source": [
        "print(\"test accuracy: \",test_acc,)\n",
        "print(\"test loss    : \",_)"
      ],
      "execution_count": null,
      "outputs": [
        {
          "output_type": "stream",
          "text": [
            "test accuracy:  0.699999988079071\n",
            "test loss    :  0.5968639992177487\n"
          ],
          "name": "stdout"
        }
      ]
    },
    {
      "cell_type": "code",
      "metadata": {
        "id": "Rb2sZDPe4dw2"
      },
      "source": [
        "y_pred=model.predict(x_test)"
      ],
      "execution_count": null,
      "outputs": []
    },
    {
      "cell_type": "code",
      "metadata": {
        "id": "0v45NC3z2L2B",
        "outputId": "a69b7f76-c5ea-4331-c863-83f384db9727",
        "colab": {
          "base_uri": "https://localhost:8080/",
          "height": 34
        }
      },
      "source": [
        "y_pred.shape"
      ],
      "execution_count": null,
      "outputs": [
        {
          "output_type": "execute_result",
          "data": {
            "text/plain": [
              "(300, 1)"
            ]
          },
          "metadata": {
            "tags": []
          },
          "execution_count": 47
        }
      ]
    },
    {
      "cell_type": "code",
      "metadata": {
        "id": "BGiSlBbM2KGT"
      },
      "source": [
        "y_pred[0]\n",
        "classes = np.argmax(y_pred,axis=-1)"
      ],
      "execution_count": null,
      "outputs": []
    },
    {
      "cell_type": "code",
      "metadata": {
        "id": "nhBq6GsKNoT4"
      },
      "source": [
        "(type)(classes)\n",
        "classes.shape"
      ],
      "execution_count": null,
      "outputs": []
    },
    {
      "cell_type": "code",
      "metadata": {
        "id": "ItqJoIy_3G9i",
        "outputId": "f546476c-511a-4bd6-f595-539327d66374",
        "colab": {
          "base_uri": "https://localhost:8080/",
          "height": 34
        }
      },
      "source": [
        "label = []\n",
        "for i in y_pred:\n",
        "  if i>0.5:\n",
        "    label.append(1)\n",
        "  else :\n",
        "    label.append(0)\n",
        "print(len(label))\n",
        "label = np.asarray(label)\n",
        "label=label.reshape(-1,1)"
      ],
      "execution_count": null,
      "outputs": [
        {
          "output_type": "stream",
          "text": [
            "300\n"
          ],
          "name": "stdout"
        }
      ]
    },
    {
      "cell_type": "code",
      "metadata": {
        "id": "V9DSqX4ekAFM"
      },
      "source": [
        "y_test=np.asarray(y_test)"
      ],
      "execution_count": null,
      "outputs": []
    },
    {
      "cell_type": "code",
      "metadata": {
        "id": "6JQsumDZkV1N"
      },
      "source": [
        "print(y_test[0])\n",
        "print(y_pred[0])"
      ],
      "execution_count": null,
      "outputs": []
    },
    {
      "cell_type": "code",
      "metadata": {
        "id": "cVRopZwj0NdQ",
        "outputId": "5b60bc0f-bd3b-4fbf-cc69-96c5d1aa6cd7",
        "colab": {
          "base_uri": "https://localhost:8080/",
          "height": 51
        }
      },
      "source": [
        "from sklearn.metrics import confusion_matrix\n",
        "print(confusion_matrix(y_test,label))"
      ],
      "execution_count": null,
      "outputs": [
        {
          "output_type": "stream",
          "text": [
            "[[150   0]\n",
            " [ 90  60]]\n"
          ],
          "name": "stdout"
        }
      ]
    },
    {
      "cell_type": "markdown",
      "metadata": {
        "id": "Dy7kzgt9A_VK"
      },
      "source": [
        "TMC XRAY images"
      ]
    },
    {
      "cell_type": "code",
      "metadata": {
        "id": "eGx-0At1Bg-Z",
        "outputId": "d8c51896-0ece-4bcf-c840-04499ff71466",
        "colab": {
          "base_uri": "https://localhost:8080/",
          "height": 50
        }
      },
      "source": [
        "print(len(x_samples))\n",
        "print(len(y_samples))"
      ],
      "execution_count": null,
      "outputs": [
        {
          "output_type": "stream",
          "text": [
            "8\n",
            "8\n"
          ],
          "name": "stdout"
        }
      ]
    },
    {
      "cell_type": "code",
      "metadata": {
        "id": "oQOoEuCQBnfE"
      },
      "source": [
        "for i in range(8):\n",
        "    img = x_samples[i]\n",
        "    lab = cv2.cvtColor(img, cv2.COLOR_BGR2LAB)\n",
        "\n",
        "    lab_planes = cv2.split(lab)\n",
        "\n",
        "    clahe = cv2.createCLAHE(clipLimit=2.0,tileGridSize=(16,16))\n",
        "\n",
        "    lab_planes[0] = clahe.apply(lab_planes[0])\n",
        "\n",
        "    lab = cv2.merge(lab_planes)\n",
        "\n",
        "    img = cv2.cvtColor(lab, cv2.COLOR_LAB2BGR) \n",
        "    \"\"\"img = np.power(img, gamma)\"\"\" \n",
        "    x_samples[i]=img"
      ],
      "execution_count": null,
      "outputs": []
    },
    {
      "cell_type": "code",
      "metadata": {
        "id": "eeRazE34CJsO",
        "outputId": "6feff53e-5c1c-4c89-a5a9-01ba6ac36e22",
        "colab": {
          "base_uri": "https://localhost:8080/",
          "height": 34
        }
      },
      "source": [
        "print('Shape of sample images: ', x_samples[0].shape)"
      ],
      "execution_count": null,
      "outputs": [
        {
          "output_type": "stream",
          "text": [
            "Shape of sample images:  (256, 256, 3)\n"
          ],
          "name": "stdout"
        }
      ]
    },
    {
      "cell_type": "code",
      "metadata": {
        "id": "FL9M3M32CL5D",
        "outputId": "3412e89a-9b02-4ed1-ae13-e233e99aff6d",
        "colab": {
          "base_uri": "https://localhost:8080/",
          "height": 34
        }
      },
      "source": [
        "x_samples=np.array(x_samples)\n",
        "print(x_samples.shape)"
      ],
      "execution_count": null,
      "outputs": [
        {
          "output_type": "stream",
          "text": [
            "(8, 256, 256, 3)\n"
          ],
          "name": "stdout"
        }
      ]
    },
    {
      "cell_type": "code",
      "metadata": {
        "id": "HhP9PcWhCnLh"
      },
      "source": [
        "y_samples_pred=model.predict(x_samples)"
      ],
      "execution_count": null,
      "outputs": []
    },
    {
      "cell_type": "code",
      "metadata": {
        "id": "MSMM1CfmCs6_",
        "outputId": "52f7f98a-6d63-41e1-a2c1-2928b804bf35",
        "colab": {
          "base_uri": "https://localhost:8080/",
          "height": 34
        }
      },
      "source": [
        "sample_labels = []\n",
        "for i in y_samples_pred:\n",
        "  if i>0.5:\n",
        "    sample_labels.append('infected')\n",
        "  else :\n",
        "    sample_labels.append('normal') \n",
        "print(len(sample_labels))\n",
        "sample_labels = np.asarray(sample_labels)\n",
        "sample_labels=sample_labels.reshape(-1,1)"
      ],
      "execution_count": null,
      "outputs": [
        {
          "output_type": "stream",
          "text": [
            "8\n"
          ],
          "name": "stdout"
        }
      ]
    },
    {
      "cell_type": "code",
      "metadata": {
        "id": "Y1yEIQM8Ds7D",
        "outputId": "c033c2d0-1f0e-4e99-fcb0-bee9d8c9942e",
        "colab": {
          "base_uri": "https://localhost:8080/",
          "height": 151
        }
      },
      "source": [
        "print(y_samples_pred)"
      ],
      "execution_count": null,
      "outputs": [
        {
          "output_type": "stream",
          "text": [
            "[[1.       ]\n",
            " [1.       ]\n",
            " [0.9999982]\n",
            " [1.       ]\n",
            " [1.       ]\n",
            " [1.       ]\n",
            " [1.       ]\n",
            " [1.       ]]\n"
          ],
          "name": "stdout"
        }
      ]
    },
    {
      "cell_type": "code",
      "metadata": {
        "id": "z8ueqkP-DY-X",
        "outputId": "707689e7-2609-4eea-f7af-1f9b0cfe02a9",
        "colab": {
          "base_uri": "https://localhost:8080/",
          "height": 34
        }
      },
      "source": [
        "print(sample_labels.shape)"
      ],
      "execution_count": null,
      "outputs": [
        {
          "output_type": "stream",
          "text": [
            "(8, 1)\n"
          ],
          "name": "stdout"
        }
      ]
    },
    {
      "cell_type": "code",
      "metadata": {
        "id": "cEZnXmUvCVB6",
        "outputId": "c648e7ad-4d54-492f-cd92-c185e1c05b2c",
        "colab": {
          "base_uri": "https://localhost:8080/",
          "height": 151
        }
      },
      "source": [
        "print(sample_labels)"
      ],
      "execution_count": null,
      "outputs": [
        {
          "output_type": "stream",
          "text": [
            "[['infected']\n",
            " ['infected']\n",
            " ['infected']\n",
            " ['infected']\n",
            " ['infected']\n",
            " ['infected']\n",
            " ['infected']\n",
            " ['infected']]\n"
          ],
          "name": "stdout"
        }
      ]
    }
  ]
}