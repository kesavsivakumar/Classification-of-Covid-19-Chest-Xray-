{
  "nbformat": 4,
  "nbformat_minor": 0,
  "metadata": {
    "colab": {
      "name": "BinaryClassifier_covidvsviral_DarkCovidNet.ipynb",
      "provenance": [],
      "collapsed_sections": []
    },
    "kernelspec": {
      "name": "python3",
      "display_name": "Python 3"
    }
  },
  "cells": [
    {
      "cell_type": "code",
      "metadata": {
        "id": "J82Uaq9FN68O"
      },
      "source": [
        "import cv2\n",
        "import numpy as np\n",
        "import matplotlib.pyplot as plt\n",
        "import os\n",
        "import glob\n",
        "import pandas as pd"
      ],
      "execution_count": null,
      "outputs": []
    },
    {
      "cell_type": "code",
      "metadata": {
        "id": "hqCPmoStOEM7",
        "outputId": "b3f5f739-d7dc-4e13-f7f5-21cb85bdd18d",
        "colab": {
          "base_uri": "https://localhost:8080/",
          "height": 34
        }
      },
      "source": [
        "from google.colab import drive\n",
        "drive.mount('/content/drive')"
      ],
      "execution_count": null,
      "outputs": [
        {
          "output_type": "stream",
          "text": [
            "Drive already mounted at /content/drive; to attempt to forcibly remount, call drive.mount(\"/content/drive\", force_remount=True).\n"
          ],
          "name": "stdout"
        }
      ]
    },
    {
      "cell_type": "code",
      "metadata": {
        "id": "drSGmeMbOQZq",
        "outputId": "1c610cb8-8b23-4de2-cfbc-b559119d656f",
        "colab": {
          "base_uri": "https://localhost:8080/",
          "height": 51
        }
      },
      "source": [
        "cd drive\n"
      ],
      "execution_count": null,
      "outputs": [
        {
          "output_type": "stream",
          "text": [
            "[Errno 2] No such file or directory: 'drive'\n",
            "/content/drive/My Drive\n"
          ],
          "name": "stdout"
        }
      ]
    },
    {
      "cell_type": "code",
      "metadata": {
        "id": "Cj6Rdqc1OUcr",
        "outputId": "e800c58b-0b2e-4bc4-e148-5240050a14d6",
        "colab": {
          "base_uri": "https://localhost:8080/",
          "height": 51
        }
      },
      "source": [
        "cd My Drive"
      ],
      "execution_count": null,
      "outputs": [
        {
          "output_type": "stream",
          "text": [
            "[Errno 2] No such file or directory: 'My Drive'\n",
            "/content/drive/My Drive\n"
          ],
          "name": "stdout"
        }
      ]
    },
    {
      "cell_type": "code",
      "metadata": {
        "id": "8aFD6LQz3QVl"
      },
      "source": [
        "INPUT_SIZE = (256, 256)\n",
        "mapping = {'normal': 0, 'bacterial': 1, 'viral': 2}"
      ],
      "execution_count": null,
      "outputs": []
    },
    {
      "cell_type": "markdown",
      "metadata": {
        "id": "2isVbVHs0rI0"
      },
      "source": [
        "Load x_train, y_train"
      ]
    },
    {
      "cell_type": "code",
      "metadata": {
        "id": "t-CgXcWBBv3W"
      },
      "source": [
        "x_normal = np.load('/content/drive/My Drive/data/x_normal.npy')\n",
        "y_normal = np.load('/content/drive/My Drive/data/y_normal.npy')\n",
        "x_viral = np.load('/content/drive/My Drive/data/x_viral.npy')\n",
        "y_viral = np.load('/content/drive/My Drive/data/y_viral.npy')\n",
        "x_bacterial = np.load('/content/drive/My Drive/data/x_bacterial.npy')\n",
        "y_bacterial = np.load('/content/drive/My Drive/data/y_bacterial.npy')\n",
        "x_covid=np.load('/content/drive/My Drive/data/x_covid.npy')\n",
        "y_covid=np.load('/content/drive/My Drive/data/y_covid.npy')"
      ],
      "execution_count": null,
      "outputs": []
    },
    {
      "cell_type": "code",
      "metadata": {
        "id": "58jG6hZmGOOo"
      },
      "source": [
        "import random"
      ],
      "execution_count": null,
      "outputs": []
    },
    {
      "cell_type": "code",
      "metadata": {
        "id": "3cuSAGdFCtkq"
      },
      "source": [
        "X=[]\n",
        "y=[]\n",
        "\n",
        "nums = random.sample(range(0, 1504), 500)\n",
        "for i in nums:\n",
        "  X.append(x_viral[i])\n",
        "  y.append(0)\n",
        "nums = random.sample(range(0, 239), 239)\n",
        "for i in nums:\n",
        "  X.append(x_covid[i])\n",
        "  y.append(1)    "
      ],
      "execution_count": null,
      "outputs": []
    },
    {
      "cell_type": "code",
      "metadata": {
        "id": "44SIbDczHzBQ"
      },
      "source": [
        "\n",
        "X=np.asarray(X)\n",
        "y=np.asarray(y)"
      ],
      "execution_count": null,
      "outputs": []
    },
    {
      "cell_type": "code",
      "metadata": {
        "id": "znyrTMcsZY_G",
        "outputId": "14e37a4e-71bb-495f-d933-4ea5cdd26217",
        "colab": {
          "base_uri": "https://localhost:8080/",
          "height": 34
        }
      },
      "source": [
        "for i in range(len(X)):\n",
        "    img = X[i]\n",
        "    lab = cv2.cvtColor(img, cv2.COLOR_BGR2LAB)\n",
        "\n",
        "    lab_planes = cv2.split(lab)\n",
        "\n",
        "    clahe = cv2.createCLAHE(clipLimit=2.0,tileGridSize=(16,16))\n",
        "\n",
        "    lab_planes[0] = clahe.apply(lab_planes[0])\n",
        "\n",
        "    lab = cv2.merge(lab_planes)\n",
        "\n",
        "    img = cv2.cvtColor(lab, cv2.COLOR_LAB2BGR)  \n",
        "    X[i]=img\n",
        "\n",
        "print('Shape of train images: ', X[0].shape)"
      ],
      "execution_count": null,
      "outputs": [
        {
          "output_type": "stream",
          "text": [
            "Shape of train images:  (256, 256, 3)\n"
          ],
          "name": "stdout"
        }
      ]
    },
    {
      "cell_type": "markdown",
      "metadata": {
        "id": "V7ap_B1cl2tB"
      },
      "source": [
        "Model for hist"
      ]
    },
    {
      "cell_type": "code",
      "metadata": {
        "id": "6ueC6xGtlr43"
      },
      "source": [
        "%tensorflow_version 1.x\n",
        "import tensorflow as tf"
      ],
      "execution_count": null,
      "outputs": []
    },
    {
      "cell_type": "code",
      "metadata": {
        "id": "KpGo-5_nl8QX"
      },
      "source": [
        "from keras.models import Sequential\n",
        "from keras import layers\n",
        "from keras.optimizers import adam\n",
        "from keras.callbacks import EarlyStopping\n",
        "from keras.callbacks import ModelCheckpoint"
      ],
      "execution_count": null,
      "outputs": []
    },
    {
      "cell_type": "code",
      "metadata": {
        "id": "ARq1VxfQmD89"
      },
      "source": [
        "from keras.layers import GlobalMaxPooling2D"
      ],
      "execution_count": null,
      "outputs": []
    },
    {
      "cell_type": "code",
      "metadata": {
        "id": "mehd1sJAZ2kF"
      },
      "source": [
        ""
      ],
      "execution_count": null,
      "outputs": []
    },
    {
      "cell_type": "code",
      "metadata": {
        "id": "m2GH0v0qmHAt",
        "outputId": "e173eac9-66c3-4f2d-b307-0d232a9d00e8",
        "colab": {
          "base_uri": "https://localhost:8080/",
          "height": 122
        }
      },
      "source": [
        "model = Sequential()\n",
        "model.add(layers.Conv2D(filters=8,kernel_size=(3,3),input_shape=(256,256,3),strides=1,padding='same'))\n",
        "model.add(layers.BatchNormalization())\n",
        "model.add(layers.LeakyReLU(alpha=0.1))\n",
        "\n",
        "model.add(layers.MaxPooling2D(pool_size=(2,2),strides=2))\n",
        "\n",
        "model.add(layers.Conv2D(filters=16,kernel_size=(3,3),strides=1,padding='same'))\n",
        "model.add(layers.BatchNormalization())\n",
        "model.add(layers.LeakyReLU(alpha=0.1))\n",
        "\n",
        "model.add(layers.MaxPooling2D(pool_size=(2,2),strides=2))\n",
        "\n",
        "model.add(layers.Conv2D(filters=32,kernel_size=(3,3),strides=1,padding='same'))\n",
        "model.add(layers.BatchNormalization())\n",
        "model.add(layers.LeakyReLU(alpha=0.1))\n",
        "model.add(layers.Conv2D(filters=32,kernel_size=(1,1),strides=1,padding='same'))\n",
        "model.add(layers.BatchNormalization())\n",
        "model.add(layers.LeakyReLU(alpha=0.1))\n",
        "model.add(layers.Conv2D(filters=32,kernel_size=(3,3),strides=1,padding='same'))\n",
        "model.add(layers.BatchNormalization())\n",
        "model.add(layers.LeakyReLU(alpha=0.1))\n",
        "\n",
        "model.add(layers.MaxPooling2D(pool_size=(2,2),strides=2))\n",
        "\n",
        "model.add(layers.Conv2D(filters=64,kernel_size=(3,3),strides=1,padding='same'))\n",
        "model.add(layers.BatchNormalization())\n",
        "model.add(layers.LeakyReLU(alpha=0.1))\n",
        "model.add(layers.Conv2D(filters=64,kernel_size=(1,1),strides=1,padding='same'))\n",
        "model.add(layers.BatchNormalization())\n",
        "model.add(layers.LeakyReLU(alpha=0.1))\n",
        "model.add(layers.Conv2D(filters=64,kernel_size=(3,3),strides=1,padding='same'))\n",
        "model.add(layers.BatchNormalization())\n",
        "model.add(layers.LeakyReLU(alpha=0.1))\n",
        "\n",
        "model.add(layers.MaxPooling2D(pool_size=(2,2),strides=2))\n",
        "\n",
        "model.add(layers.Conv2D(filters=128,kernel_size=(3,3),strides=1,padding='same'))\n",
        "model.add(layers.BatchNormalization())\n",
        "model.add(layers.LeakyReLU(alpha=0.1))\n",
        "model.add(layers.Conv2D(filters=128,kernel_size=(1,1),strides=1,padding='same'))\n",
        "model.add(layers.BatchNormalization())\n",
        "model.add(layers.LeakyReLU(alpha=0.1))\n",
        "model.add(layers.Conv2D(filters=128,kernel_size=(3,3),strides=1,padding='same'))\n",
        "model.add(layers.BatchNormalization())\n",
        "model.add(layers.LeakyReLU(alpha=0.1))\n",
        "\n",
        "model.add(layers.MaxPooling2D(pool_size=(2,2),strides=2))\n",
        "\n",
        "model.add(layers.Conv2D(filters=256,kernel_size=(3,3),strides=1,padding='same'))\n",
        "model.add(layers.BatchNormalization())\n",
        "model.add(layers.LeakyReLU(alpha=0.1))\n",
        "model.add(layers.Conv2D(filters=256,kernel_size=(1,1),strides=1,padding='same'))\n",
        "model.add(layers.BatchNormalization())\n",
        "model.add(layers.LeakyReLU(alpha=0.1))\n",
        "model.add(layers.Conv2D(filters=256,kernel_size=(3,3),strides=1,padding='same'))\n",
        "model.add(layers.BatchNormalization())\n",
        "model.add(layers.LeakyReLU(alpha=0.1))\n",
        "\n",
        "model.add(layers.Conv2D(filters=128,kernel_size=(3,3),strides=1,padding='same'))\n",
        "model.add(layers.BatchNormalization())\n",
        "model.add(layers.LeakyReLU(alpha=0.1))\n",
        "\n",
        "model.add(layers.Conv2D(filters=256,kernel_size=(3,3),strides=1,padding='same'))\n",
        "model.add(layers.BatchNormalization())\n",
        "model.add(layers.LeakyReLU(alpha=0.1))\n",
        "\n",
        "model.add(layers.Conv2D(filters=3,kernel_size=(3,3),strides=1,padding='same'))\n",
        "\n",
        "model.add(layers.Flatten())\n",
        "\n",
        "model.add(layers.Dense(1, activation='sigmoid'))"
      ],
      "execution_count": null,
      "outputs": [
        {
          "output_type": "stream",
          "text": [
            "WARNING:tensorflow:From /tensorflow-1.15.2/python3.6/tensorflow_core/python/ops/resource_variable_ops.py:1630: calling BaseResourceVariable.__init__ (from tensorflow.python.ops.resource_variable_ops) with constraint is deprecated and will be removed in a future version.\n",
            "Instructions for updating:\n",
            "If using Keras pass *_constraint arguments to layers.\n",
            "WARNING:tensorflow:From /usr/local/lib/python3.6/dist-packages/keras/backend/tensorflow_backend.py:4070: The name tf.nn.max_pool is deprecated. Please use tf.nn.max_pool2d instead.\n",
            "\n"
          ],
          "name": "stdout"
        }
      ]
    },
    {
      "cell_type": "code",
      "metadata": {
        "id": "W00gTFco3vIn",
        "outputId": "bf4f883d-e514-4154-9726-5ccd990021e6",
        "colab": {
          "base_uri": "https://localhost:8080/",
          "height": 88
        }
      },
      "source": [
        "model.compile(optimizer='adam', loss='binary_crossentropy', metrics=['accuracy'])\n"
      ],
      "execution_count": null,
      "outputs": [
        {
          "output_type": "stream",
          "text": [
            "WARNING:tensorflow:From /tensorflow-1.15.2/python3.6/tensorflow_core/python/ops/nn_impl.py:183: where (from tensorflow.python.ops.array_ops) is deprecated and will be removed in a future version.\n",
            "Instructions for updating:\n",
            "Use tf.where in 2.0, which has the same broadcast rule as np.where\n"
          ],
          "name": "stdout"
        }
      ]
    },
    {
      "cell_type": "markdown",
      "metadata": {
        "id": "5a4rpDgv0zv3"
      },
      "source": [
        "Encodey_train"
      ]
    },
    {
      "cell_type": "markdown",
      "metadata": {
        "id": "PfPHYtPE4-iy"
      },
      "source": [
        ""
      ]
    },
    {
      "cell_type": "code",
      "metadata": {
        "id": "o0zz7O1EmLV0",
        "outputId": "9aababb0-7565-4efe-9ce3-478f22ce609b",
        "colab": {
          "base_uri": "https://localhost:8080/",
          "height": 34
        }
      },
      "source": [
        "'''from sklearn.preprocessing import OneHotEncoder\n",
        "enc = OneHotEncoder(handle_unknown='ignore')\n",
        "y=np.asarray(y)\n",
        "y=y.reshape(-1,1)\n",
        "yfunc=enc.fit(y)'''"
      ],
      "execution_count": null,
      "outputs": [
        {
          "output_type": "execute_result",
          "data": {
            "text/plain": [
              "\"from sklearn.preprocessing import OneHotEncoder\\nenc = OneHotEncoder(handle_unknown='ignore')\\ny=np.asarray(y)\\ny=y.reshape(-1,1)\\nyfunc=enc.fit(y)\""
            ]
          },
          "metadata": {
            "tags": []
          },
          "execution_count": 16
        }
      ]
    },
    {
      "cell_type": "code",
      "metadata": {
        "id": "fLDazMUVma3f"
      },
      "source": [
        "#y_binary=enc.transform(y).toarray()"
      ],
      "execution_count": null,
      "outputs": []
    },
    {
      "cell_type": "code",
      "metadata": {
        "id": "2iVwDURlHhLk"
      },
      "source": [
        "#y_binary"
      ],
      "execution_count": null,
      "outputs": []
    },
    {
      "cell_type": "code",
      "metadata": {
        "id": "mbc4c3jaYvtK"
      },
      "source": [
        "#y_test_binary=enc.transform(y_test).toarray()"
      ],
      "execution_count": null,
      "outputs": []
    },
    {
      "cell_type": "code",
      "metadata": {
        "id": "qSLwx4BVC1zc"
      },
      "source": [
        "n=np.zeros(shape=(20,1))\n",
        "v=np.zeros(shape=(20,1))\n",
        "b=np.zeros(shape=(20,1))\n",
        "c=np.zeros(shape=(20,1))\n",
        "\n",
        "for i in range(20):\n",
        "  v[i]=0\n",
        "  c[i]=1\n",
        "\n",
        "\n",
        "x_test=np.concatenate((x_viral[1100:1120],x_covid[209:219]))\n",
        "y_test=np.concatenate((v,c))\n"
      ],
      "execution_count": null,
      "outputs": []
    },
    {
      "cell_type": "markdown",
      "metadata": {
        "id": "mm0LjEp006d8"
      },
      "source": [
        "Reshape x_train for giving input to conv layers"
      ]
    },
    {
      "cell_type": "code",
      "metadata": {
        "id": "zwD6fIadmnib"
      },
      "source": [
        "es = EarlyStopping(monitor='val_loss', mode='min', verbose=1, patience=32)\n",
        "mc = ModelCheckpoint('darkcovidnetmodel.h5', monitor='val_accuracy', mode='max', verbose=1, save_best_only=True)\n",
        "history=model.fit(X,y,batch_size=16,epochs=100,callbacks=[es,mc],validation_split=0.2)"
      ],
      "execution_count": null,
      "outputs": []
    },
    {
      "cell_type": "code",
      "metadata": {
        "id": "RBlFF7c4WlqW",
        "outputId": "acfc39f9-6fff-4d14-f0a5-3fdcbdbc3681",
        "colab": {
          "base_uri": "https://localhost:8080/",
          "height": 54
        }
      },
      "source": [
        "# list all data in history\n",
        "print(history.history['accuracy'])"
      ],
      "execution_count": null,
      "outputs": [
        {
          "output_type": "stream",
          "text": [
            "[0.9001692, 0.9458545, 0.96954316, 0.9763113, 0.98477155, 0.9966159, 0.99492383, 0.9915398, 0.9915398, 0.98815566, 0.9813875, 0.9729272, 0.9915398, 0.9864636, 0.9712352, 0.98477155, 1.0, 1.0, 1.0, 1.0, 1.0, 1.0, 1.0, 1.0, 1.0, 1.0, 1.0, 1.0, 1.0, 1.0, 1.0, 1.0, 1.0, 1.0, 1.0, 1.0, 1.0, 1.0, 1.0, 1.0, 1.0]\n"
          ],
          "name": "stdout"
        }
      ]
    },
    {
      "cell_type": "code",
      "metadata": {
        "id": "h_XIVxitjfgs"
      },
      "source": [
        "import pickle\n",
        "with open('BinaryDCN6.pkl', 'wb') as f:\n",
        "  pickle.dump(history.history, f, pickle.HIGHEST_PROTOCOL)"
      ],
      "execution_count": null,
      "outputs": []
    },
    {
      "cell_type": "code",
      "metadata": {
        "id": "9MLAi4gmW1fC",
        "outputId": "a5d8aa4c-ea50-47b3-807f-e8cf5cf15b6e",
        "colab": {
          "base_uri": "https://localhost:8080/",
          "height": 295
        }
      },
      "source": [
        "plt.plot(history.history['accuracy'])\n",
        "plt.plot(history.history['val_accuracy'])\n",
        "plt.title('DarkCovidNet Viral vs COVID-19')\n",
        "plt.ylabel('accuracy')\n",
        "plt.xlabel('epoch')\n",
        "plt.legend(['train'], loc='upper left')\n",
        "plt.show()"
      ],
      "execution_count": null,
      "outputs": [
        {
          "output_type": "display_data",
          "data": {
            "image/png": "[encoded data removed]",
            "text/plain": [
              "<Figure size 432x288 with 1 Axes>"
            ]
          },
          "metadata": {
            "tags": [],
            "needs_background": "light"
          }
        }
      ]
    },
    {
      "cell_type": "code",
      "metadata": {
        "id": "34Ke-dnnZ_v2",
        "outputId": "cd970c0c-f811-4600-e37a-3c3efd18320c",
        "colab": {
          "base_uri": "https://localhost:8080/",
          "height": 295
        }
      },
      "source": [
        "plt.plot(history.history['loss'])\n",
        "plt.plot(history.history['val_loss'])\n",
        "plt.title('DarkCovidNet Viral vs COVID-19 loss')\n",
        "plt.ylabel('loss')\n",
        "plt.xlabel('epoch')\n",
        "plt.legend(['train'], loc='upper left')\n",
        "plt.show()"
      ],
      "execution_count": null,
      "outputs": [
        {
          "output_type": "display_data",
          "data": {
            "image/png": "[encoded data removed]",
            "text/plain": [
              "<Figure size 432x288 with 1 Axes>"
            ]
          },
          "metadata": {
            "tags": [],
            "needs_background": "light"
          }
        }
      ]
    },
    {
      "cell_type": "markdown",
      "metadata": {
        "id": "fG-E-Oxc1FbW"
      },
      "source": [
        "save model"
      ]
    },
    {
      "cell_type": "code",
      "metadata": {
        "id": "Ykk2i77ckMZf"
      },
      "source": [
        "model_json = model.to_json()\n",
        "with open(\"binarydarkcovidnet_covidvsviral.json\", \"w\") as json_file:\n",
        "    json_file.write(model_json)\n",
        "# serialize weights to HDF5\n",
        "model.save_weights(\"binarydarkcovidnet_covidvsviral.h5\")"
      ],
      "execution_count": null,
      "outputs": []
    },
    {
      "cell_type": "markdown",
      "metadata": {
        "id": "ey4bX5Ow1G3x"
      },
      "source": [
        "load model"
      ]
    },
    {
      "cell_type": "code",
      "metadata": {
        "id": "sdILAvE_crHs"
      },
      "source": [
        "from tensorflow.keras.models import model_from_json\n",
        "json_file = open('binarydarkcovidnet_model.json', 'r')\n",
        "loaded_model_json = json_file.read()\n",
        "json_file.close()\n",
        "loaded_model = model_from_json(loaded_model_json)\n",
        "# load weights into new model\n",
        "loaded_model.load_weights(\"darkcovidnet.h5\")"
      ],
      "execution_count": null,
      "outputs": []
    },
    {
      "cell_type": "code",
      "metadata": {
        "id": "GoA_aMz6vzH2"
      },
      "source": [
        "testacc=[]\n",
        "sens=[]\n",
        "spec=[]"
      ],
      "execution_count": null,
      "outputs": []
    },
    {
      "cell_type": "markdown",
      "metadata": {
        "id": "GGnZrKE71IyV"
      },
      "source": [
        "load x_test, y_test"
      ]
    },
    {
      "cell_type": "code",
      "metadata": {
        "id": "ODUOYEpEY9y4"
      },
      "source": [
        "\n",
        "\n",
        "v=np.zeros(shape=(40,1))\n",
        "c=np.zeros(shape=(40,1))\n",
        "\n",
        "for i in range(40):\n",
        "  v[i]=0\n",
        "  c[i]=1\n",
        "\n",
        "\n",
        "x_test=np.concatenate((x_viral[1300:1340],x_covid[90:130]))\n",
        "y_test=np.concatenate((v,c))\n"
      ],
      "execution_count": null,
      "outputs": []
    },
    {
      "cell_type": "code",
      "metadata": {
        "id": "OxBtghFvbay0"
      },
      "source": [
        "loaded_model.compile(loss='binary_crossentropy', optimizer='adam', metrics=['accuracy'])\n",
        "_, test_acc = loaded_model.evaluate(x_test, y_test, verbose=0)"
      ],
      "execution_count": null,
      "outputs": []
    },
    {
      "cell_type": "code",
      "metadata": {
        "id": "2gZMjnYq0bko",
        "outputId": "ee96b32a-663f-45d5-ba82-c72a8ad085c3",
        "colab": {
          "base_uri": "https://localhost:8080/",
          "height": 51
        }
      },
      "source": [
        "print('accuracy: ',test_acc,)\n",
        "print('loss:',_)"
      ],
      "execution_count": null,
      "outputs": [
        {
          "output_type": "stream",
          "text": [
            "accuracy:  0.4\n",
            "loss: 2.3617337226867674\n"
          ],
          "name": "stdout"
        }
      ]
    },
    {
      "cell_type": "code",
      "metadata": {
        "id": "2UFcgQzlbMIS"
      },
      "source": [
        "y_pred=model.predict(x_test)\n"
      ],
      "execution_count": null,
      "outputs": []
    },
    {
      "cell_type": "code",
      "metadata": {
        "id": "UTFdmsBzbbgh"
      },
      "source": [
        "sample_labels = []\n",
        "for i in y_pred:\n",
        "  if i>0.5:\n",
        "    sample_labels.append(1)\n",
        "  else :\n",
        "    sample_labels.append(0) "
      ],
      "execution_count": null,
      "outputs": []
    },
    {
      "cell_type": "code",
      "metadata": {
        "id": "X-s-CIxDti4o"
      },
      "source": [
        "import sklearn\n",
        "test_acc=sklearn.metrics.accuracy_score(y_test, sample_labels)"
      ],
      "execution_count": null,
      "outputs": []
    },
    {
      "cell_type": "code",
      "metadata": {
        "id": "KsESKZCwvCP5",
        "colab": {
          "base_uri": "https://localhost:8080/",
          "height": 34
        },
        "outputId": "c63cc658-f52c-433f-f737-ea189d9bfd56"
      },
      "source": [
        "test_acc"
      ],
      "execution_count": null,
      "outputs": [
        {
          "output_type": "execute_result",
          "data": {
            "text/plain": [
              "0.7625"
            ]
          },
          "metadata": {
            "tags": []
          },
          "execution_count": 262
        }
      ]
    },
    {
      "cell_type": "code",
      "metadata": {
        "id": "BJOu4FyXaXVA",
        "outputId": "ac440ecb-82f8-45f0-c29d-a6d82e9179ed",
        "colab": {
          "base_uri": "https://localhost:8080/",
          "height": 577
        }
      },
      "source": [
        "from sklearn.metrics import confusion_matrix\n",
        "cm = confusion_matrix(y_test,sample_labels)\n",
        "import seaborn as sns\n",
        "df_cm = pd.DataFrame(cm, columns=['Viral Pneumonia','Covid Pnenumonia'], index =['Viral Pneumonia','Covid Pnenumonia'])\n",
        "df_cm.index.name = 'Actual'\n",
        "df_cm.columns.name = 'Predicted'\n",
        "plt.figure(figsize = (10,7))\n",
        "sns.set(font_scale=1.4)#for label size\n",
        "sns.heatmap(df_cm, cmap=\"Blues\", annot=True,annot_kws={\"size\": 16},fmt='d')\n",
        "\n",
        "\n",
        "\n",
        "\n",
        "fp=cm[1][0]\n",
        "fn=cm[0][1]\n",
        "tp=cm[0][0]\n",
        "tn=cm[1][1]\n",
        "print(\"-----------------------------------\")\n",
        "print(\"TP : \",tp)\n",
        "print(\"TN : \",tn)\n",
        "print(\"FP : \",fp)\n",
        "print(\"FN : \",fn)\n",
        "print(\"sensitivity : \",tp/(float)((tp+fn)))\n",
        "print(\"specificity : \",tn/(float)((tn+fp)))\n",
        "sn=tp/(float)((tp+fn))\n",
        "sp=tn/(float)((tn+fp))\n"
      ],
      "execution_count": null,
      "outputs": [
        {
          "output_type": "stream",
          "text": [
            "-----------------------------------\n",
            "TP :  23\n",
            "TN :  38\n",
            "FP :  2\n",
            "FN :  17\n",
            "sensitivity :  0.575\n",
            "specificity :  0.95\n"
          ],
          "name": "stdout"
        },
        {
          "output_type": "display_data",
          "data": {
            "image/png": "[encoded data removed]",
            "text/plain": [
              "<Figure size 720x504 with 2 Axes>"
            ]
          },
          "metadata": {
            "tags": []
          }
        }
      ]
    },
    {
      "cell_type": "code",
      "metadata": {
        "id": "79JFjCJzvwG-"
      },
      "source": [
        "testacc.append(test_acc)\n",
        "sens.append(sn)\n",
        "spec.append(sp)"
      ],
      "execution_count": null,
      "outputs": []
    },
    {
      "cell_type": "code",
      "metadata": {
        "id": "pvtW4NiSw9hk",
        "colab": {
          "base_uri": "https://localhost:8080/",
          "height": 85
        },
        "outputId": "7f04d4af-89f5-40c8-acf1-0fef4dca926e"
      },
      "source": [
        "print(len(testacc))\n",
        "print(testacc)\n",
        "print(sens)\n",
        "print(spec)"
      ],
      "execution_count": null,
      "outputs": [
        {
          "output_type": "stream",
          "text": [
            "20\n",
            "[0.95, 0.7875, 0.85, 0.875, 0.85, 0.85, 0.925, 0.8875, 0.875, 0.7875, 0.8625, 0.8375, 0.7625, 0.7875, 0.8375, 0.7625, 0.7625, 0.7625, 0.7625, 0.7625]\n",
            "[0.9, 0.575, 0.7, 0.75, 0.7, 0.7, 0.85, 0.775, 0.75, 0.575, 0.725, 0.725, 0.575, 0.575, 0.725, 0.575, 0.575, 0.575, 0.575, 0.575]\n",
            "[1.0, 1.0, 1.0, 1.0, 1.0, 1.0, 1.0, 1.0, 1.0, 1.0, 1.0, 0.95, 0.95, 1.0, 0.95, 0.95, 0.95, 0.95, 0.95, 0.95]\n"
          ],
          "name": "stdout"
        }
      ]
    },
    {
      "cell_type": "code",
      "metadata": {
        "id": "3Y73wt0RwFNp"
      },
      "source": [
        "dic={'test_acc':testacc, 'sens':sens,'spec':spec}\n",
        "import pickle\n",
        "with open('Boxplot_virvscovid_darkcovidnet.pkl', 'wb') as f:\n",
        "  pickle.dump(dic, f, pickle.HIGHEST_PROTOCOL)"
      ],
      "execution_count": null,
      "outputs": []
    },
    {
      "cell_type": "code",
      "metadata": {
        "id": "RojpoAiN2BgH"
      },
      "source": [
        "img=np.expand_dims(img,axis=(0,3))"
      ],
      "execution_count": null,
      "outputs": []
    },
    {
      "cell_type": "code",
      "metadata": {
        "id": "73pc3lmO2d3t"
      },
      "source": [
        "img.shape"
      ],
      "execution_count": null,
      "outputs": []
    },
    {
      "cell_type": "code",
      "metadata": {
        "id": "Qh3t8PJs2FIf"
      },
      "source": [
        "pred1=loaded_model.predict(img)\n",
        "pred1_label=enc.inverse_transform(pred1)\n",
        "for key in mapping.keys():\n",
        "  if(mapping[key]==pred1_label[0][0]):\n",
        "    print(key)"
      ],
      "execution_count": null,
      "outputs": []
    },
    {
      "cell_type": "markdown",
      "metadata": {
        "id": "DcimaziXrua9"
      },
      "source": [
        "Predicting Test samples and confusion matrix"
      ]
    },
    {
      "cell_type": "code",
      "metadata": {
        "id": "zCC-hmFAqbMx"
      },
      "source": [
        "from sklearn.metrics import confusion_matrix\n",
        "\n"
      ],
      "execution_count": null,
      "outputs": []
    }
  ]
}