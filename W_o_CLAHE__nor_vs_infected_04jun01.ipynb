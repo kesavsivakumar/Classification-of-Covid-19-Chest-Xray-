{
  "nbformat": 4,
  "nbformat_minor": 0,
  "metadata": {
    "colab": {
      "name": "W-o_CLAHE _nor vs infected 04jun01.ipynb",
      "provenance": [],
      "collapsed_sections": []
    },
    "kernelspec": {
      "name": "python3",
      "display_name": "Python 3"
    }
  },
  "cells": [
    {
      "cell_type": "code",
      "metadata": {
        "id": "J82Uaq9FN68O"
      },
      "source": [
        "import cv2\n",
        "import numpy as np\n",
        "import matplotlib.pyplot as plt\n",
        "import os\n",
        "import tensorflow\n",
        "import glob\n",
        "import pandas as pd"
      ],
      "execution_count": null,
      "outputs": []
    },
    {
      "cell_type": "code",
      "metadata": {
        "id": "hqCPmoStOEM7",
        "outputId": "385ee3f4-d203-492a-982f-f08cbc3d96fe",
        "colab": {
          "base_uri": "https://localhost:8080/",
          "height": 122
        }
      },
      "source": [
        "from google.colab import drive\n",
        "drive.mount('/content/drive')"
      ],
      "execution_count": null,
      "outputs": [
        {
          "output_type": "stream",
          "text": [
            "Go to this URL in a browser: https://accounts.google.com/o/oauth2/auth?client_id=947318989803-6bn6qk8qdgf4n4g3pfee6491hc0brc4i.apps.googleusercontent.com&redirect_uri=urn%3aietf%3awg%3aoauth%3a2.0%3aoob&response_type=code&scope=email%20https%3a%2f%2fwww.googleapis.com%2fauth%2fdocs.test%20https%3a%2f%2fwww.googleapis.com%2fauth%2fdrive%20https%3a%2f%2fwww.googleapis.com%2fauth%2fdrive.photos.readonly%20https%3a%2f%2fwww.googleapis.com%2fauth%2fpeopleapi.readonly\n",
            "\n",
            "Enter your authorization code:\n",
            "··········\n",
            "Mounted at /content/drive\n"
          ],
          "name": "stdout"
        }
      ]
    },
    {
      "cell_type": "code",
      "metadata": {
        "id": "drSGmeMbOQZq",
        "outputId": "a3a288ae-feeb-41d7-f147-61f9975fa403",
        "colab": {
          "base_uri": "https://localhost:8080/",
          "height": 51
        }
      },
      "source": [
        "cd drive\n"
      ],
      "execution_count": null,
      "outputs": [
        {
          "output_type": "stream",
          "text": [
            "[Errno 2] No such file or directory: 'drive'\n",
            "/content/drive\n"
          ],
          "name": "stdout"
        }
      ]
    },
    {
      "cell_type": "code",
      "metadata": {
        "id": "Cj6Rdqc1OUcr",
        "outputId": "62a0faed-ca94-4e7c-b87c-21fdf0aa0e49",
        "colab": {
          "base_uri": "https://localhost:8080/",
          "height": 34
        }
      },
      "source": [
        "cd My Drive"
      ],
      "execution_count": null,
      "outputs": [
        {
          "output_type": "stream",
          "text": [
            "/content/drive/My Drive\n"
          ],
          "name": "stdout"
        }
      ]
    },
    {
      "cell_type": "code",
      "metadata": {
        "id": "FW4HRLOnURCk",
        "outputId": "57ef56d6-6af0-4298-8db7-971fe6619d47",
        "colab": {
          "base_uri": "https://localhost:8080/",
          "height": 34
        }
      },
      "source": [
        "\"\"\"cd data\"\"\""
      ],
      "execution_count": null,
      "outputs": [
        {
          "output_type": "execute_result",
          "data": {
            "text/plain": [
              "'cd data'"
            ]
          },
          "metadata": {
            "tags": []
          },
          "execution_count": 8
        }
      ]
    },
    {
      "cell_type": "code",
      "metadata": {
        "id": "UGLrFj81I_wz",
        "outputId": "24970149-9165-4372-9c0d-f1bb1f187d53",
        "colab": {
          "base_uri": "https://localhost:8080/",
          "height": 34
        }
      },
      "source": [
        "\"\"\"cd train\"\"\""
      ],
      "execution_count": null,
      "outputs": [
        {
          "output_type": "execute_result",
          "data": {
            "text/plain": [
              "'cd train'"
            ]
          },
          "metadata": {
            "tags": []
          },
          "execution_count": 9
        }
      ]
    },
    {
      "cell_type": "code",
      "metadata": {
        "id": "-VtrJw6tUTMq",
        "outputId": "1eb29018-d5f0-4355-dff3-140bd1dd542d",
        "colab": {
          "base_uri": "https://localhost:8080/",
          "height": 54
        }
      },
      "source": [
        "\"\"\"train_filepath = 'train_split.txt'\n",
        "test_filepath = 'test_split.txt'\n",
        "file = open(train_filepath, 'r') \n",
        "trainfiles = file.readlines() \n",
        "file = open(test_filepath, 'r')\n",
        "testfiles = file.readlines()\"\"\""
      ],
      "execution_count": null,
      "outputs": [
        {
          "output_type": "execute_result",
          "data": {
            "text/plain": [
              "\"train_filepath = 'train_split.txt'\\ntest_filepath = 'test_split.txt'\\nfile = open(train_filepath, 'r') \\ntrainfiles = file.readlines() \\nfile = open(test_filepath, 'r')\\ntestfiles = file.readlines()\""
            ]
          },
          "metadata": {
            "tags": []
          },
          "execution_count": 10
        }
      ]
    },
    {
      "cell_type": "code",
      "metadata": {
        "id": "wX1j3UKmUgvD",
        "outputId": "3f664084-9fed-45d3-975b-3aa60d180c04",
        "colab": {
          "base_uri": "https://localhost:8080/",
          "height": 34
        }
      },
      "source": [
        "\"\"\"print('Total samples for train: ', len(trainfiles))\n",
        "print('Total samples for test: ', len(testfiles))\"\"\""
      ],
      "execution_count": null,
      "outputs": [
        {
          "output_type": "execute_result",
          "data": {
            "text/plain": [
              "\"print('Total samples for train: ', len(trainfiles))\\nprint('Total samples for test: ', len(testfiles))\""
            ]
          },
          "metadata": {
            "tags": []
          },
          "execution_count": 11
        }
      ]
    },
    {
      "cell_type": "code",
      "metadata": {
        "id": "QrFTHqcXVCaz",
        "outputId": "23814626-56be-48d9-9b90-2512d2e63217",
        "colab": {
          "base_uri": "https://localhost:8080/",
          "height": 34
        }
      },
      "source": [
        "\"\"\"INPUT_SIZE = (256, 256)\n",
        "mapping = {'normal': 0, 'bacteria': 1, 'viral': 2, 'COVID-19': 3}\"\"\""
      ],
      "execution_count": null,
      "outputs": [
        {
          "output_type": "execute_result",
          "data": {
            "text/plain": [
              "\"INPUT_SIZE = (256, 256)\\nmapping = {'normal': 0, 'bacteria': 1, 'viral': 2, 'COVID-19': 3}\""
            ]
          },
          "metadata": {
            "tags": []
          },
          "execution_count": 12
        }
      ]
    },
    {
      "cell_type": "code",
      "metadata": {
        "id": "Yzry4uKdXX9u",
        "outputId": "07f72c83-30ea-4978-c20b-6a0bbdc0e994",
        "colab": {
          "base_uri": "https://localhost:8080/",
          "height": 54
        }
      },
      "source": [
        "\"\"\"x_normal=[]\n",
        "y_normal=[]\n",
        "for i in range(len(testfiles)):\n",
        "    test_i = testfiles[i].split()\n",
        "    if(test_i[2]=='normal'):\n",
        "        imgpath = test_i[1]\n",
        "        img = cv2.imread(imgpath,1)\n",
        "        img = cv2.resize(img, INPUT_SIZE) # resize\n",
        "        x_normal.append(img)\n",
        "        y_normal.append(mapping[test_i[2]])\"\"\""
      ],
      "execution_count": null,
      "outputs": [
        {
          "output_type": "execute_result",
          "data": {
            "text/plain": [
              "\"x_normal=[]\\ny_normal=[]\\nfor i in range(len(testfiles)):\\n    test_i = testfiles[i].split()\\n    if(test_i[2]=='normal'):\\n        imgpath = test_i[1]\\n        img = cv2.imread(imgpath,1)\\n        img = cv2.resize(img, INPUT_SIZE) # resize\\n        x_normal.append(img)\\n        y_normal.append(mapping[test_i[2]])\""
            ]
          },
          "metadata": {
            "tags": []
          },
          "execution_count": 13
        }
      ]
    },
    {
      "cell_type": "code",
      "metadata": {
        "id": "4RoDVT--Luy9",
        "outputId": "7d578e98-1399-4320-eb47-c0c03dd9f8e0",
        "colab": {
          "base_uri": "https://localhost:8080/",
          "height": 34
        }
      },
      "source": [
        "\"\"\"print(len(x_normal))\n",
        "print(len(y_normal))\"\"\""
      ],
      "execution_count": null,
      "outputs": [
        {
          "output_type": "execute_result",
          "data": {
            "text/plain": [
              "'print(len(x_normal))\\nprint(len(y_normal))'"
            ]
          },
          "metadata": {
            "tags": []
          },
          "execution_count": 14
        }
      ]
    },
    {
      "cell_type": "code",
      "metadata": {
        "id": "N8nSkHxcUj8Y",
        "outputId": "fd3ec67a-5168-4dfc-f8f0-2106b5184513",
        "colab": {
          "base_uri": "https://localhost:8080/",
          "height": 54
        }
      },
      "source": [
        "\"\"\"for i in range(len(trainfiles)):\n",
        "    train_i = trainfiles[i].split()\n",
        "    if(train_i[2]=='normal'):\n",
        "        imgpath = train_i[1]\n",
        "        img = cv2.imread(imgpath,1)\n",
        "        img = cv2.resize(img, INPUT_SIZE) # resize\n",
        "        x_normal.append(img)\n",
        "        y_normal.append(mapping[train_i[2]])\"\"\""
      ],
      "execution_count": null,
      "outputs": [
        {
          "output_type": "execute_result",
          "data": {
            "text/plain": [
              "\"for i in range(len(trainfiles)):\\n    train_i = trainfiles[i].split()\\n    if(train_i[2]=='normal'):\\n        imgpath = train_i[1]\\n        img = cv2.imread(imgpath,1)\\n        img = cv2.resize(img, INPUT_SIZE) # resize\\n        x_normal.append(img)\\n        y_normal.append(mapping[train_i[2]])\""
            ]
          },
          "metadata": {
            "tags": []
          },
          "execution_count": 15
        }
      ]
    },
    {
      "cell_type": "code",
      "metadata": {
        "id": "aRA_oFaRrL4w",
        "outputId": "074077ec-bc8a-4ee1-eb18-7d48203188d0",
        "colab": {
          "base_uri": "https://localhost:8080/",
          "height": 54
        }
      },
      "source": [
        "\"\"\"x_viral=[]\n",
        "y_viral=[]\n",
        "for i in range(len(testfiles)):\n",
        "    test_i = testfiles[i].split()\n",
        "    if(test_i[2]=='viral'):\n",
        "        imgpath = test_i[1]\n",
        "        img = cv2.imread(imgpath,1)\n",
        "        img = cv2.resize(img, INPUT_SIZE) # resize\n",
        "        x_viral.append(img)\n",
        "        y_viral.append(mapping[test_i[2]])\"\"\""
      ],
      "execution_count": null,
      "outputs": [
        {
          "output_type": "execute_result",
          "data": {
            "text/plain": [
              "\"x_viral=[]\\ny_viral=[]\\nfor i in range(len(testfiles)):\\n    test_i = testfiles[i].split()\\n    if(test_i[2]=='viral'):\\n        imgpath = test_i[1]\\n        img = cv2.imread(imgpath,1)\\n        img = cv2.resize(img, INPUT_SIZE) # resize\\n        x_viral.append(img)\\n        y_viral.append(mapping[test_i[2]])\""
            ]
          },
          "metadata": {
            "tags": []
          },
          "execution_count": 16
        }
      ]
    },
    {
      "cell_type": "code",
      "metadata": {
        "id": "qTg_Z3CpcPzT",
        "outputId": "a8bc1071-5ab1-4a70-fea5-ea97bbc6474f",
        "colab": {
          "base_uri": "https://localhost:8080/",
          "height": 54
        }
      },
      "source": [
        "\"\"\"for i in range(len(trainfiles)):\n",
        "    train_i = trainfiles[i].split()\n",
        "    if(train_i[2]=='viral'):\n",
        "        imgpath = train_i[1]\n",
        "        img = cv2.imread(imgpath,1)\n",
        "        img = cv2.resize(img, INPUT_SIZE) # resize\n",
        "        x_viral.append(img)\n",
        "        y_viral.append(mapping[test_i[2]])\"\"\""
      ],
      "execution_count": null,
      "outputs": [
        {
          "output_type": "execute_result",
          "data": {
            "text/plain": [
              "\"for i in range(len(trainfiles)):\\n    train_i = trainfiles[i].split()\\n    if(train_i[2]=='viral'):\\n        imgpath = train_i[1]\\n        img = cv2.imread(imgpath,1)\\n        img = cv2.resize(img, INPUT_SIZE) # resize\\n        x_viral.append(img)\\n        y_viral.append(mapping[test_i[2]])\""
            ]
          },
          "metadata": {
            "tags": []
          },
          "execution_count": 17
        }
      ]
    },
    {
      "cell_type": "code",
      "metadata": {
        "id": "CKZbasEpcaiu",
        "outputId": "242c8354-610e-4fe3-d63f-9bda21ca769d",
        "colab": {
          "base_uri": "https://localhost:8080/",
          "height": 34
        }
      },
      "source": [
        "\"\"\"print(len(x_viral))\n",
        "print(len(y_viral))\"\"\""
      ],
      "execution_count": null,
      "outputs": [
        {
          "output_type": "execute_result",
          "data": {
            "text/plain": [
              "'print(len(x_viral))\\nprint(len(y_viral))'"
            ]
          },
          "metadata": {
            "tags": []
          },
          "execution_count": 18
        }
      ]
    },
    {
      "cell_type": "code",
      "metadata": {
        "id": "F15xI_dZfCb1",
        "outputId": "7d949a6a-18fe-4d6f-cccc-0b6962900c7b",
        "colab": {
          "base_uri": "https://localhost:8080/",
          "height": 54
        }
      },
      "source": [
        "\"\"\"x_normal = np.array(x_normal)\n",
        "y_normal = np.array(y_normal)\n",
        "x_viral = np.array(x_viral)\n",
        "y_viral = np.array(y_viral)\n",
        "np.save('x_normal.npy', x_normal,allow_pickle=False)\n",
        "np.save('y_normal.npy', y_normal)\n",
        "np.save('x_viral.npy', x_viral,allow_pickle=False)\n",
        "np.save('y_viral.npy', y_viral)\"\"\""
      ],
      "execution_count": null,
      "outputs": [
        {
          "output_type": "execute_result",
          "data": {
            "text/plain": [
              "\"x_normal = np.array(x_normal)\\ny_normal = np.array(y_normal)\\nx_viral = np.array(x_viral)\\ny_viral = np.array(y_viral)\\nnp.save('x_normal.npy', x_normal,allow_pickle=False)\\nnp.save('y_normal.npy', y_normal)\\nnp.save('x_viral.npy', x_viral,allow_pickle=False)\\nnp.save('y_viral.npy', y_viral)\""
            ]
          },
          "metadata": {
            "tags": []
          },
          "execution_count": 19
        }
      ]
    },
    {
      "cell_type": "code",
      "metadata": {
        "id": "xN-8XiXFgDkL",
        "outputId": "1c71737b-9822-4a0f-8fce-1af3ec672d5f",
        "colab": {
          "base_uri": "https://localhost:8080/",
          "height": 54
        }
      },
      "source": [
        "\"\"\"x_bacterial=[]\n",
        "y_bacterial=[]\n",
        "for i in range(len(testfiles)):\n",
        "    test_i = testfiles[i].split()\n",
        "    if(test_i[2]=='bacteria'):\n",
        "        imgpath = test_i[1]\n",
        "        img = cv2.imread(imgpath,1)\n",
        "        img = cv2.resize(img, INPUT_SIZE) # resize\n",
        "        x_bacterial.append(img)\n",
        "        y_bacterial.append(mapping[test_i[2]])\"\"\""
      ],
      "execution_count": null,
      "outputs": [
        {
          "output_type": "execute_result",
          "data": {
            "text/plain": [
              "\"x_bacterial=[]\\ny_bacterial=[]\\nfor i in range(len(testfiles)):\\n    test_i = testfiles[i].split()\\n    if(test_i[2]=='bacteria'):\\n        imgpath = test_i[1]\\n        img = cv2.imread(imgpath,1)\\n        img = cv2.resize(img, INPUT_SIZE) # resize\\n        x_bacterial.append(img)\\n        y_bacterial.append(mapping[test_i[2]])\""
            ]
          },
          "metadata": {
            "tags": []
          },
          "execution_count": 20
        }
      ]
    },
    {
      "cell_type": "code",
      "metadata": {
        "id": "Iqbval_qgQcz",
        "outputId": "44ed3a1a-2018-4396-deed-226d92548940",
        "colab": {
          "base_uri": "https://localhost:8080/",
          "height": 34
        }
      },
      "source": [
        "\"\"\"print(len(x_bacterial))\n",
        "print(len(y_bacterial))\"\"\""
      ],
      "execution_count": null,
      "outputs": [
        {
          "output_type": "execute_result",
          "data": {
            "text/plain": [
              "'print(len(x_bacterial))\\nprint(len(y_bacterial))'"
            ]
          },
          "metadata": {
            "tags": []
          },
          "execution_count": 21
        }
      ]
    },
    {
      "cell_type": "code",
      "metadata": {
        "id": "DfrjCPMjgY7O",
        "outputId": "a3287ddc-af94-4fa7-9af8-bb3e511ecc8d",
        "colab": {
          "base_uri": "https://localhost:8080/",
          "height": 54
        }
      },
      "source": [
        "\"\"\"for i in range(len(trainfiles)):\n",
        "    train_i = trainfiles[i].split()\n",
        "    if(train_i[2]=='bacteria'):\n",
        "        imgpath = train_i[1]\n",
        "        img = cv2.imread(imgpath,1)\n",
        "        img = cv2.resize(img, INPUT_SIZE) # resize\n",
        "        x_bacterial.append(img)\n",
        "        y_bacterial.append(mapping[test_i[2]])\"\"\""
      ],
      "execution_count": null,
      "outputs": [
        {
          "output_type": "execute_result",
          "data": {
            "text/plain": [
              "\"for i in range(len(trainfiles)):\\n    train_i = trainfiles[i].split()\\n    if(train_i[2]=='bacteria'):\\n        imgpath = train_i[1]\\n        img = cv2.imread(imgpath,1)\\n        img = cv2.resize(img, INPUT_SIZE) # resize\\n        x_bacterial.append(img)\\n        y_bacterial.append(mapping[test_i[2]])\""
            ]
          },
          "metadata": {
            "tags": []
          },
          "execution_count": 22
        }
      ]
    },
    {
      "cell_type": "code",
      "metadata": {
        "id": "Xv-RWiRnghz4",
        "outputId": "ffc64b98-5821-4ef5-8f6a-8d74c48a7568",
        "colab": {
          "base_uri": "https://localhost:8080/",
          "height": 34
        }
      },
      "source": [
        "\"\"\"print(len(x_bacterial))\n",
        "print(len(y_bacterial))\"\"\""
      ],
      "execution_count": null,
      "outputs": [
        {
          "output_type": "execute_result",
          "data": {
            "text/plain": [
              "'print(len(x_bacterial))\\nprint(len(y_bacterial))'"
            ]
          },
          "metadata": {
            "tags": []
          },
          "execution_count": 23
        }
      ]
    },
    {
      "cell_type": "code",
      "metadata": {
        "id": "reKb_07Egm4u",
        "outputId": "d9a44bae-a32f-40e0-a690-ea603a54d9c8",
        "colab": {
          "base_uri": "https://localhost:8080/",
          "height": 54
        }
      },
      "source": [
        "\"\"\"x_bacterial = np.array(x_bacterial)\n",
        "y_bacterial = np.array(y_bacterial)\n",
        "np.save('x_bacterial.npy', x_bacterial,allow_pickle=False)\n",
        "np.save('y_bacterial.npy', y_bacterial)\"\"\""
      ],
      "execution_count": null,
      "outputs": [
        {
          "output_type": "execute_result",
          "data": {
            "text/plain": [
              "\"x_bacterial = np.array(x_bacterial)\\ny_bacterial = np.array(y_bacterial)\\nnp.save('x_bacterial.npy', x_bacterial,allow_pickle=False)\\nnp.save('y_bacterial.npy', y_bacterial)\""
            ]
          },
          "metadata": {
            "tags": []
          },
          "execution_count": 24
        }
      ]
    },
    {
      "cell_type": "code",
      "metadata": {
        "id": "bSm0h5uJ46Jc",
        "outputId": "529ce7cd-d7a2-463a-9c87-82b99bdf5742",
        "colab": {
          "base_uri": "https://localhost:8080/",
          "height": 34
        }
      },
      "source": [
        "cd data"
      ],
      "execution_count": null,
      "outputs": [
        {
          "output_type": "stream",
          "text": [
            "/content/drive/My Drive/data\n"
          ],
          "name": "stdout"
        }
      ]
    },
    {
      "cell_type": "code",
      "metadata": {
        "id": "z2MnWTLDniCX"
      },
      "source": [
        "x_normal = np.load('x_normal.npy')\n",
        "y_normal = np.load('y_normal.npy')\n",
        "x_viral = np.load('x_viral.npy')\n",
        "y_viral = np.load('y_viral.npy')\n",
        "x_bacterial = np.load('x_bacterial.npy')\n",
        "y_bacterial = np.load('y_bacterial.npy')"
      ],
      "execution_count": null,
      "outputs": []
    },
    {
      "cell_type": "code",
      "metadata": {
        "id": "vDVkPEQ6zG37",
        "outputId": "167c0c13-d47b-4aee-e1da-01f8cb751982",
        "colab": {
          "base_uri": "https://localhost:8080/",
          "height": 119
        }
      },
      "source": [
        "print(x_normal.shape)\n",
        "print(y_normal.shape)\n",
        "print(x_viral.shape)\n",
        "print(y_viral.shape)\n",
        "print(x_bacterial.shape)\n",
        "print(y_bacterial.shape)"
      ],
      "execution_count": null,
      "outputs": [
        {
          "output_type": "stream",
          "text": [
            "(1583, 256, 256, 3)\n",
            "(1583,)\n",
            "(1504, 256, 256, 3)\n",
            "(1504,)\n",
            "(2786, 256, 256, 3)\n",
            "(2786,)\n"
          ],
          "name": "stdout"
        }
      ]
    },
    {
      "cell_type": "code",
      "metadata": {
        "id": "rTDtmxcvPu-p"
      },
      "source": [
        "x_covid = np.load('x_covid.npy')\n",
        "y_covid = np.load('y_covid.npy')"
      ],
      "execution_count": null,
      "outputs": []
    },
    {
      "cell_type": "code",
      "metadata": {
        "id": "lzJUO_oIMm1u",
        "outputId": "4bae32b6-90c9-4c07-f667-e6d532c5753a",
        "colab": {
          "base_uri": "https://localhost:8080/",
          "height": 51
        }
      },
      "source": [
        "print(x_covid.shape)\n",
        "print(y_covid.shape)"
      ],
      "execution_count": null,
      "outputs": [
        {
          "output_type": "stream",
          "text": [
            "(239, 256, 256, 3)\n",
            "(239,)\n"
          ],
          "name": "stdout"
        }
      ]
    },
    {
      "cell_type": "code",
      "metadata": {
        "id": "lVtVc2ADd6xF"
      },
      "source": [
        "import random"
      ],
      "execution_count": null,
      "outputs": []
    },
    {
      "cell_type": "code",
      "metadata": {
        "id": "RHZ4TYpvzRd2"
      },
      "source": [
        "x_train=[]\n",
        "y_train=[]\n"
      ],
      "execution_count": null,
      "outputs": []
    },
    {
      "cell_type": "code",
      "metadata": {
        "id": "CZzM_d-Vt79t"
      },
      "source": [
        "x_test = []\n",
        "y_test = []"
      ],
      "execution_count": null,
      "outputs": []
    },
    {
      "cell_type": "markdown",
      "metadata": {
        "id": "ieBbabYq5Dt7"
      },
      "source": [
        "\n",
        "\n",
        "---\n",
        "\n",
        "**Load bacterial images**\n",
        "\n",
        "---\n",
        "\n"
      ]
    },
    {
      "cell_type": "code",
      "metadata": {
        "id": "O4cJLyUXzVNl"
      },
      "source": [
        "nums = random.sample(range(0, 2786), 600)\n",
        "for i in nums:\n",
        "  x_train.append(x_bacterial[i])\n",
        "  y_train.append(1)"
      ],
      "execution_count": null,
      "outputs": []
    },
    {
      "cell_type": "code",
      "metadata": {
        "id": "DRAfVQ7ekDVq"
      },
      "source": [
        "total = [i for i in range(0,2786)]\n",
        "test_nums = random.sample(list((set)(total)-(set)(nums)),20)"
      ],
      "execution_count": null,
      "outputs": []
    },
    {
      "cell_type": "code",
      "metadata": {
        "id": "CF98-Hrgkhho"
      },
      "source": [
        "for i in test_nums:\n",
        "  x_test.append(x_bacterial[i])\n",
        "  y_test.append(1)"
      ],
      "execution_count": null,
      "outputs": []
    },
    {
      "cell_type": "markdown",
      "metadata": {
        "id": "msfjt-D-5QXg"
      },
      "source": [
        "\n",
        "\n",
        "---\n",
        "\n",
        "**Load viral images**\n",
        "\n",
        "---\n",
        "\n"
      ]
    },
    {
      "cell_type": "code",
      "metadata": {
        "id": "B0s5lLtGlZ6T"
      },
      "source": [
        "nums = random.sample(range(0, 1504), 361)\n",
        "for i in nums:\n",
        "  x_train.append(x_viral[i])\n",
        "  y_train.append(1)"
      ],
      "execution_count": null,
      "outputs": []
    },
    {
      "cell_type": "code",
      "metadata": {
        "id": "TLSy5XsrlnZI"
      },
      "source": [
        "total = [i for i in range(0,1504)]\n",
        "test_nums = random.sample(list((set)(total)-(set)(nums)),20)"
      ],
      "execution_count": null,
      "outputs": []
    },
    {
      "cell_type": "code",
      "metadata": {
        "id": "Uvnq-ZSPl0C7"
      },
      "source": [
        "for i in test_nums:\n",
        "  x_test.append(x_viral[i])\n",
        "  y_test.append(1)"
      ],
      "execution_count": null,
      "outputs": []
    },
    {
      "cell_type": "markdown",
      "metadata": {
        "id": "5WTN7GbU5rr9"
      },
      "source": [
        "\n",
        "\n",
        "---\n",
        "\n",
        "**Load covid images**\n",
        "\n",
        "---\n",
        "\n"
      ]
    },
    {
      "cell_type": "code",
      "metadata": {
        "id": "PYkc9wpYl9ME"
      },
      "source": [
        "nums = random.sample(range(0, 239), 234)\n",
        "for i in nums:\n",
        "  x_train.append(x_covid[i])\n",
        "  y_train.append(1)"
      ],
      "execution_count": null,
      "outputs": []
    },
    {
      "cell_type": "code",
      "metadata": {
        "id": "KhsOuIxFptNB",
        "colab": {
          "base_uri": "https://localhost:8080/",
          "height": 299
        },
        "outputId": "0b74500b-2184-41ff-9023-1eb5b8d7065a"
      },
      "source": [
        "total = [i for i in range(0,239)]\n",
        "test_nums = random.sample(list((set)(total)-(set)(nums)),20)"
      ],
      "execution_count": null,
      "outputs": [
        {
          "output_type": "error",
          "ename": "ValueError",
          "evalue": "ignored",
          "traceback": [
            "\u001b[0;31m---------------------------------------------------------------------------\u001b[0m",
            "\u001b[0;31mValueError\u001b[0m                                Traceback (most recent call last)",
            "\u001b[0;32m<ipython-input-157-7dbcdbe428f6>\u001b[0m in \u001b[0;36m<module>\u001b[0;34m()\u001b[0m\n\u001b[1;32m      1\u001b[0m \u001b[0mtotal\u001b[0m \u001b[0;34m=\u001b[0m \u001b[0;34m[\u001b[0m\u001b[0mi\u001b[0m \u001b[0;32mfor\u001b[0m \u001b[0mi\u001b[0m \u001b[0;32min\u001b[0m \u001b[0mrange\u001b[0m\u001b[0;34m(\u001b[0m\u001b[0;36m0\u001b[0m\u001b[0;34m,\u001b[0m\u001b[0;36m239\u001b[0m\u001b[0;34m)\u001b[0m\u001b[0;34m]\u001b[0m\u001b[0;34m\u001b[0m\u001b[0;34m\u001b[0m\u001b[0m\n\u001b[0;32m----> 2\u001b[0;31m \u001b[0mtest_nums\u001b[0m \u001b[0;34m=\u001b[0m \u001b[0mrandom\u001b[0m\u001b[0;34m.\u001b[0m\u001b[0msample\u001b[0m\u001b[0;34m(\u001b[0m\u001b[0mlist\u001b[0m\u001b[0;34m(\u001b[0m\u001b[0;34m(\u001b[0m\u001b[0mset\u001b[0m\u001b[0;34m)\u001b[0m\u001b[0;34m(\u001b[0m\u001b[0mtotal\u001b[0m\u001b[0;34m)\u001b[0m\u001b[0;34m-\u001b[0m\u001b[0;34m(\u001b[0m\u001b[0mset\u001b[0m\u001b[0;34m)\u001b[0m\u001b[0;34m(\u001b[0m\u001b[0mnums\u001b[0m\u001b[0;34m)\u001b[0m\u001b[0;34m)\u001b[0m\u001b[0;34m,\u001b[0m\u001b[0;36m20\u001b[0m\u001b[0;34m)\u001b[0m\u001b[0;34m\u001b[0m\u001b[0;34m\u001b[0m\u001b[0m\n\u001b[0m",
            "\u001b[0;32m/usr/lib/python3.6/random.py\u001b[0m in \u001b[0;36msample\u001b[0;34m(self, population, k)\u001b[0m\n\u001b[1;32m    318\u001b[0m         \u001b[0mn\u001b[0m \u001b[0;34m=\u001b[0m \u001b[0mlen\u001b[0m\u001b[0;34m(\u001b[0m\u001b[0mpopulation\u001b[0m\u001b[0;34m)\u001b[0m\u001b[0;34m\u001b[0m\u001b[0;34m\u001b[0m\u001b[0m\n\u001b[1;32m    319\u001b[0m         \u001b[0;32mif\u001b[0m \u001b[0;32mnot\u001b[0m \u001b[0;36m0\u001b[0m \u001b[0;34m<=\u001b[0m \u001b[0mk\u001b[0m \u001b[0;34m<=\u001b[0m \u001b[0mn\u001b[0m\u001b[0;34m:\u001b[0m\u001b[0;34m\u001b[0m\u001b[0;34m\u001b[0m\u001b[0m\n\u001b[0;32m--> 320\u001b[0;31m             \u001b[0;32mraise\u001b[0m \u001b[0mValueError\u001b[0m\u001b[0;34m(\u001b[0m\u001b[0;34m\"Sample larger than population or is negative\"\u001b[0m\u001b[0;34m)\u001b[0m\u001b[0;34m\u001b[0m\u001b[0;34m\u001b[0m\u001b[0m\n\u001b[0m\u001b[1;32m    321\u001b[0m         \u001b[0mresult\u001b[0m \u001b[0;34m=\u001b[0m \u001b[0;34m[\u001b[0m\u001b[0;32mNone\u001b[0m\u001b[0;34m]\u001b[0m \u001b[0;34m*\u001b[0m \u001b[0mk\u001b[0m\u001b[0;34m\u001b[0m\u001b[0;34m\u001b[0m\u001b[0m\n\u001b[1;32m    322\u001b[0m         \u001b[0msetsize\u001b[0m \u001b[0;34m=\u001b[0m \u001b[0;36m21\u001b[0m        \u001b[0;31m# size of a small set minus size of an empty list\u001b[0m\u001b[0;34m\u001b[0m\u001b[0;34m\u001b[0m\u001b[0m\n",
            "\u001b[0;31mValueError\u001b[0m: Sample larger than population or is negative"
          ]
        }
      ]
    },
    {
      "cell_type": "code",
      "metadata": {
        "id": "dt20PaGgp3rY",
        "colab": {
          "base_uri": "https://localhost:8080/",
          "height": 197
        },
        "outputId": "376efaf0-2d6a-462e-87d9-2ca8685ac908"
      },
      "source": [
        "for i in test_nums:\n",
        "  x_test.append(x_covid[i])\n",
        "  y_test.append(1)"
      ],
      "execution_count": null,
      "outputs": [
        {
          "output_type": "error",
          "ename": "IndexError",
          "evalue": "ignored",
          "traceback": [
            "\u001b[0;31m---------------------------------------------------------------------------\u001b[0m",
            "\u001b[0;31mIndexError\u001b[0m                                Traceback (most recent call last)",
            "\u001b[0;32m<ipython-input-158-86d9c254266e>\u001b[0m in \u001b[0;36m<module>\u001b[0;34m()\u001b[0m\n\u001b[1;32m      1\u001b[0m \u001b[0;32mfor\u001b[0m \u001b[0mi\u001b[0m \u001b[0;32min\u001b[0m \u001b[0mtest_nums\u001b[0m\u001b[0;34m:\u001b[0m\u001b[0;34m\u001b[0m\u001b[0;34m\u001b[0m\u001b[0m\n\u001b[0;32m----> 2\u001b[0;31m   \u001b[0mx_test\u001b[0m\u001b[0;34m.\u001b[0m\u001b[0mappend\u001b[0m\u001b[0;34m(\u001b[0m\u001b[0mx_covid\u001b[0m\u001b[0;34m[\u001b[0m\u001b[0mi\u001b[0m\u001b[0;34m]\u001b[0m\u001b[0;34m)\u001b[0m\u001b[0;34m\u001b[0m\u001b[0;34m\u001b[0m\u001b[0m\n\u001b[0m\u001b[1;32m      3\u001b[0m   \u001b[0my_test\u001b[0m\u001b[0;34m.\u001b[0m\u001b[0mappend\u001b[0m\u001b[0;34m(\u001b[0m\u001b[0;36m1\u001b[0m\u001b[0;34m)\u001b[0m\u001b[0;34m\u001b[0m\u001b[0;34m\u001b[0m\u001b[0m\n",
            "\u001b[0;31mIndexError\u001b[0m: index 798 is out of bounds for axis 0 with size 239"
          ]
        }
      ]
    },
    {
      "cell_type": "markdown",
      "metadata": {
        "id": "YwN70e2U5uiW"
      },
      "source": [
        "\n",
        "\n",
        "---\n",
        "\n",
        "**Load normal images**\n",
        "\n",
        "---\n",
        "\n"
      ]
    },
    {
      "cell_type": "code",
      "metadata": {
        "id": "RRT720jsqNwA"
      },
      "source": [
        "nums = random.sample(range(0, 1583), 1195)\n",
        "for i in nums:\n",
        "  x_train.append(x_normal[i])\n",
        "  y_train.append(0)"
      ],
      "execution_count": null,
      "outputs": []
    },
    {
      "cell_type": "code",
      "metadata": {
        "id": "OdV4D0GBqjse"
      },
      "source": [
        "total = [i for i in range(0,1583)]\n",
        "test_nums = random.sample(list((set)(total)-(set)(nums)),20)"
      ],
      "execution_count": null,
      "outputs": []
    },
    {
      "cell_type": "code",
      "metadata": {
        "id": "qYgMKb26qqUa"
      },
      "source": [
        "for i in test_nums:\n",
        "  x_test.append(x_normal[i])\n",
        "  y_test.append(0)"
      ],
      "execution_count": null,
      "outputs": []
    },
    {
      "cell_type": "markdown",
      "metadata": {
        "id": "asvjLaQ65xn7"
      },
      "source": [
        "\n",
        "\n",
        "---\n",
        "\n",
        "**add 5 nor and 5 cov TMC images to train set**\n",
        "\n",
        "---\n",
        "\n"
      ]
    },
    {
      "cell_type": "code",
      "metadata": {
        "id": "nqieVj4DqxFJ"
      },
      "source": [
        "x_normal_tmc=[]\n",
        "y_normal_tmc=[]\n",
        "x_covid_tmc=[]\n",
        "y_covid_tmc=[]"
      ],
      "execution_count": null,
      "outputs": []
    },
    {
      "cell_type": "code",
      "metadata": {
        "id": "7rtEaLzLrBZ_"
      },
      "source": [
        "for im in glob.glob('/content/drive/My Drive/normal TMC/*.*'):\n",
        "  #print(im)\n",
        "  img=cv2.imread(im,1)\n",
        "  img=cv2.resize(img,(256,256))\n",
        "  x_normal_tmc.append(img)\n",
        "  y_normal_tmc.append(0)"
      ],
      "execution_count": null,
      "outputs": []
    },
    {
      "cell_type": "code",
      "metadata": {
        "id": "DLJL-KP8snhL"
      },
      "source": [
        "for im in glob.glob('/content/drive/My Drive/covid TMC/*.*'):\n",
        "  #print(im)\n",
        "  img=cv2.imread(im,1)\n",
        "  img=cv2.resize(img,(256,256))\n",
        "  x_covid_tmc.append(img)\n",
        "  y_covid_tmc.append(1)"
      ],
      "execution_count": null,
      "outputs": []
    },
    {
      "cell_type": "code",
      "metadata": {
        "id": "7t8SRjjcU_sN",
        "outputId": "d6d7dc7a-9808-40f3-9ac2-a0c85f530030",
        "colab": {
          "base_uri": "https://localhost:8080/",
          "height": 85
        }
      },
      "source": [
        "print(len(x_normal_tmc))\n",
        "print(len(y_normal_tmc))\n",
        "print(len(x_covid_tmc))\n",
        "print(len(y_covid_tmc))"
      ],
      "execution_count": null,
      "outputs": [
        {
          "output_type": "stream",
          "text": [
            "0\n",
            "0\n",
            "11\n",
            "11\n"
          ],
          "name": "stdout"
        }
      ]
    },
    {
      "cell_type": "code",
      "metadata": {
        "id": "w34ziVQof_QZ",
        "outputId": "d283dd8a-25b9-4e61-d280-f2ac743764f8",
        "colab": {
          "base_uri": "https://localhost:8080/",
          "height": 214
        }
      },
      "source": [
        "nums = random.sample(range(0, 10), 5)\n",
        "for i in nums:\n",
        "  x_train.append(x_normal_tmc[i])\n",
        "  y_train.append(0)"
      ],
      "execution_count": null,
      "outputs": [
        {
          "output_type": "error",
          "ename": "IndexError",
          "evalue": "ignored",
          "traceback": [
            "\u001b[0;31m---------------------------------------------------------------------------\u001b[0m",
            "\u001b[0;31mIndexError\u001b[0m                                Traceback (most recent call last)",
            "\u001b[0;32m<ipython-input-166-323d36200587>\u001b[0m in \u001b[0;36m<module>\u001b[0;34m()\u001b[0m\n\u001b[1;32m      1\u001b[0m \u001b[0mnums\u001b[0m \u001b[0;34m=\u001b[0m \u001b[0mrandom\u001b[0m\u001b[0;34m.\u001b[0m\u001b[0msample\u001b[0m\u001b[0;34m(\u001b[0m\u001b[0mrange\u001b[0m\u001b[0;34m(\u001b[0m\u001b[0;36m0\u001b[0m\u001b[0;34m,\u001b[0m \u001b[0;36m10\u001b[0m\u001b[0;34m)\u001b[0m\u001b[0;34m,\u001b[0m \u001b[0;36m5\u001b[0m\u001b[0;34m)\u001b[0m\u001b[0;34m\u001b[0m\u001b[0;34m\u001b[0m\u001b[0m\n\u001b[1;32m      2\u001b[0m \u001b[0;32mfor\u001b[0m \u001b[0mi\u001b[0m \u001b[0;32min\u001b[0m \u001b[0mnums\u001b[0m\u001b[0;34m:\u001b[0m\u001b[0;34m\u001b[0m\u001b[0;34m\u001b[0m\u001b[0m\n\u001b[0;32m----> 3\u001b[0;31m   \u001b[0mx_train\u001b[0m\u001b[0;34m.\u001b[0m\u001b[0mappend\u001b[0m\u001b[0;34m(\u001b[0m\u001b[0mx_normal_tmc\u001b[0m\u001b[0;34m[\u001b[0m\u001b[0mi\u001b[0m\u001b[0;34m]\u001b[0m\u001b[0;34m)\u001b[0m\u001b[0;34m\u001b[0m\u001b[0;34m\u001b[0m\u001b[0m\n\u001b[0m\u001b[1;32m      4\u001b[0m   \u001b[0my_train\u001b[0m\u001b[0;34m.\u001b[0m\u001b[0mappend\u001b[0m\u001b[0;34m(\u001b[0m\u001b[0;36m0\u001b[0m\u001b[0;34m)\u001b[0m\u001b[0;34m\u001b[0m\u001b[0;34m\u001b[0m\u001b[0m\n",
            "\u001b[0;31mIndexError\u001b[0m: list index out of range"
          ]
        }
      ]
    },
    {
      "cell_type": "code",
      "metadata": {
        "id": "DeHXD-cBu0sm"
      },
      "source": [
        "total = [i for i in range(0,10)]\n",
        "test_nums = random.sample(list((set)(total)-(set)(nums)),5)"
      ],
      "execution_count": null,
      "outputs": []
    },
    {
      "cell_type": "code",
      "metadata": {
        "id": "JVMKBOnLw6l1",
        "colab": {
          "base_uri": "https://localhost:8080/",
          "height": 214
        },
        "outputId": "e28932d8-c504-47c9-9eee-fa02da744156"
      },
      "source": [
        "x_sample=[]\n",
        "y_sample=[]\n",
        "for i in test_nums:\n",
        "  x_sample.append(x_normal_tmc[i])\n",
        "  y_sample.append(0)"
      ],
      "execution_count": null,
      "outputs": [
        {
          "output_type": "error",
          "ename": "IndexError",
          "evalue": "ignored",
          "traceback": [
            "\u001b[0;31m---------------------------------------------------------------------------\u001b[0m",
            "\u001b[0;31mIndexError\u001b[0m                                Traceback (most recent call last)",
            "\u001b[0;32m<ipython-input-168-badcedb5ce51>\u001b[0m in \u001b[0;36m<module>\u001b[0;34m()\u001b[0m\n\u001b[1;32m      2\u001b[0m \u001b[0my_sample\u001b[0m\u001b[0;34m=\u001b[0m\u001b[0;34m[\u001b[0m\u001b[0;34m]\u001b[0m\u001b[0;34m\u001b[0m\u001b[0;34m\u001b[0m\u001b[0m\n\u001b[1;32m      3\u001b[0m \u001b[0;32mfor\u001b[0m \u001b[0mi\u001b[0m \u001b[0;32min\u001b[0m \u001b[0mtest_nums\u001b[0m\u001b[0;34m:\u001b[0m\u001b[0;34m\u001b[0m\u001b[0;34m\u001b[0m\u001b[0m\n\u001b[0;32m----> 4\u001b[0;31m   \u001b[0mx_sample\u001b[0m\u001b[0;34m.\u001b[0m\u001b[0mappend\u001b[0m\u001b[0;34m(\u001b[0m\u001b[0mx_normal_tmc\u001b[0m\u001b[0;34m[\u001b[0m\u001b[0mi\u001b[0m\u001b[0;34m]\u001b[0m\u001b[0;34m)\u001b[0m\u001b[0;34m\u001b[0m\u001b[0;34m\u001b[0m\u001b[0m\n\u001b[0m\u001b[1;32m      5\u001b[0m   \u001b[0my_sample\u001b[0m\u001b[0;34m.\u001b[0m\u001b[0mappend\u001b[0m\u001b[0;34m(\u001b[0m\u001b[0;36m0\u001b[0m\u001b[0;34m)\u001b[0m\u001b[0;34m\u001b[0m\u001b[0;34m\u001b[0m\u001b[0m\n",
            "\u001b[0;31mIndexError\u001b[0m: list index out of range"
          ]
        }
      ]
    },
    {
      "cell_type": "code",
      "metadata": {
        "id": "uunh4-aqw_iT"
      },
      "source": [
        "nums = random.sample(range(0, 11), 5)\n",
        "for i in nums:\n",
        "  x_train.append(x_covid_tmc[i])\n",
        "  y_train.append(1)"
      ],
      "execution_count": null,
      "outputs": []
    },
    {
      "cell_type": "code",
      "metadata": {
        "id": "khA2hBFp39Be"
      },
      "source": [
        "total = [i for i in range(0,11)]\n",
        "test_nums = random.sample(list((set)(total)-(set)(nums)),6)\n",
        "for i in test_nums:\n",
        "  x_sample.append(x_covid_tmc[i])\n",
        "  y_sample.append(1)"
      ],
      "execution_count": null,
      "outputs": []
    },
    {
      "cell_type": "code",
      "metadata": {
        "id": "9mPRr5wjLOxl"
      },
      "source": [
        "x_train = np.asarray(x_train)\n",
        "y_train= np.asarray(y_train)\n",
        "x_test = np.asarray(x_test)\n",
        "y_test = np.asarray(y_test)"
      ],
      "execution_count": null,
      "outputs": []
    },
    {
      "cell_type": "code",
      "metadata": {
        "id": "Oskm_hHl4S3z",
        "outputId": "15e70e95-4fa8-4414-df3d-3e4e9f8a1291",
        "colab": {
          "base_uri": "https://localhost:8080/",
          "height": 85
        }
      },
      "source": [
        "print(x_train.shape)\n",
        "print(y_train.shape)\n",
        "print(x_test.shape)\n",
        "print(y_test.shape)"
      ],
      "execution_count": null,
      "outputs": [
        {
          "output_type": "stream",
          "text": [
            "(2395, 256, 256, 3)\n",
            "(2395,)\n",
            "(60, 256, 256, 3)\n",
            "(60,)\n"
          ],
          "name": "stdout"
        }
      ]
    },
    {
      "cell_type": "markdown",
      "metadata": {
        "id": "nC26PkK70usk"
      },
      "source": [
        "\n",
        "\n",
        "---\n",
        "\n",
        "**Preprocess x_train**\n",
        "\n",
        "---\n",
        "\n"
      ]
    },
    {
      "cell_type": "code",
      "metadata": {
        "id": "WLuthkHOO0oD",
        "outputId": "3dedb622-93bd-45aa-e3a3-a033603b342b",
        "colab": {
          "base_uri": "https://localhost:8080/",
          "height": 54
        }
      },
      "source": [
        "\"\"\"for i in range(2400):\n",
        "    img = x_train[i]\n",
        "    lab = cv2.cvtColor(img, cv2.COLOR_BGR2LAB)\n",
        "\n",
        "    lab_planes = cv2.split(lab)\n",
        "\n",
        "    clahe = cv2.createCLAHE(clipLimit=2.0,tileGridSize=(16,16))\n",
        "\n",
        "    lab_planes[0] = clahe.apply(lab_planes[0])\n",
        "\n",
        "    lab = cv2.merge(lab_planes)\n",
        "\n",
        "    img = cv2.cvtColor(lab, cv2.COLOR_LAB2BGR)  \n",
        "    x_train[i]=img\n",
        "\n",
        "print('Shape of train images: ', x_train[0].shape)\"\"\""
      ],
      "execution_count": null,
      "outputs": [
        {
          "output_type": "execute_result",
          "data": {
            "text/plain": [
              "\"for i in range(2400):\\n    img = x_train[i]\\n    lab = cv2.cvtColor(img, cv2.COLOR_BGR2LAB)\\n\\n    lab_planes = cv2.split(lab)\\n\\n    clahe = cv2.createCLAHE(clipLimit=2.0,tileGridSize=(16,16))\\n\\n    lab_planes[0] = clahe.apply(lab_planes[0])\\n\\n    lab = cv2.merge(lab_planes)\\n\\n    img = cv2.cvtColor(lab, cv2.COLOR_LAB2BGR)  \\n    x_train[i]=img\\n\\nprint('Shape of train images: ', x_train[0].shape)\""
            ]
          },
          "metadata": {
            "tags": []
          },
          "execution_count": 173
        }
      ]
    },
    {
      "cell_type": "markdown",
      "metadata": {
        "id": "c1gHQ-NK7VAr"
      },
      "source": [
        "\n",
        "\n",
        "---\n",
        "\n",
        "**Preprocess x_test**\n",
        "\n",
        "---\n",
        "\n"
      ]
    },
    {
      "cell_type": "code",
      "metadata": {
        "id": "K1QmCY_eWMW6",
        "outputId": "e42b76df-17a0-4baa-e4d9-b1c81e3e1b6f",
        "colab": {
          "base_uri": "https://localhost:8080/",
          "height": 54
        }
      },
      "source": [
        "\"\"\"for i in range(300):\n",
        "    img = x_test[i]\n",
        "    lab = cv2.cvtColor(img, cv2.COLOR_BGR2LAB)\n",
        "\n",
        "    lab_planes = cv2.split(lab)\n",
        "\n",
        "    clahe = cv2.createCLAHE(clipLimit=2.0,tileGridSize=(16,16))\n",
        "\n",
        "    lab_planes[0] = clahe.apply(lab_planes[0])\n",
        "\n",
        "    lab = cv2.merge(lab_planes)\n",
        "\n",
        "    img = cv2.cvtColor(lab, cv2.COLOR_LAB2BGR)  \n",
        "    x_test[i]=img\n",
        "\n",
        "print('Shape of test images: ', x_test[0].shape)\"\"\""
      ],
      "execution_count": null,
      "outputs": [
        {
          "output_type": "execute_result",
          "data": {
            "text/plain": [
              "\"for i in range(300):\\n    img = x_test[i]\\n    lab = cv2.cvtColor(img, cv2.COLOR_BGR2LAB)\\n\\n    lab_planes = cv2.split(lab)\\n\\n    clahe = cv2.createCLAHE(clipLimit=2.0,tileGridSize=(16,16))\\n\\n    lab_planes[0] = clahe.apply(lab_planes[0])\\n\\n    lab = cv2.merge(lab_planes)\\n\\n    img = cv2.cvtColor(lab, cv2.COLOR_LAB2BGR)  \\n    x_test[i]=img\\n\\nprint('Shape of test images: ', x_test[0].shape)\""
            ]
          },
          "metadata": {
            "tags": []
          },
          "execution_count": 174
        }
      ]
    },
    {
      "cell_type": "markdown",
      "metadata": {
        "id": "V7ap_B1cl2tB"
      },
      "source": [
        "Model for 1 Densenet block"
      ]
    },
    {
      "cell_type": "code",
      "metadata": {
        "id": "6ueC6xGtlr43",
        "outputId": "9e8f28b0-9cf4-43d2-fc0f-54fede1eae97",
        "colab": {
          "base_uri": "https://localhost:8080/",
          "height": 34
        }
      },
      "source": [
        "%tensorflow_version 1.x\n",
        "import tensorflow"
      ],
      "execution_count": null,
      "outputs": [
        {
          "output_type": "stream",
          "text": [
            "TensorFlow is already loaded. Please restart the runtime to change versions.\n"
          ],
          "name": "stdout"
        }
      ]
    },
    {
      "cell_type": "code",
      "metadata": {
        "id": "KpGo-5_nl8QX"
      },
      "source": [
        "from keras.models import Sequential\n",
        "from keras import layers\n",
        "from keras.optimizers import adam\n",
        "from keras.callbacks import EarlyStopping\n",
        "from keras.callbacks import ModelCheckpoint"
      ],
      "execution_count": null,
      "outputs": []
    },
    {
      "cell_type": "code",
      "metadata": {
        "id": "UxA1kLZHmGiS"
      },
      "source": [
        "model = Sequential()\n",
        "model.add(layers.Conv2D(filters=8,kernel_size=(3,3),input_shape=(256,256,3),strides=1,padding='same'))\n",
        "model.add(layers.BatchNormalization())\n",
        "model.add(layers.LeakyReLU(alpha=0.1))\n",
        "\n",
        "model.add(layers.MaxPooling2D(pool_size=(2,2),strides=2))\n",
        "\n",
        "model.add(layers.Conv2D(filters=16,kernel_size=(3,3),strides=1,padding='same'))\n",
        "model.add(layers.BatchNormalization())\n",
        "model.add(layers.LeakyReLU(alpha=0.1))\n",
        "\n",
        "model.add(layers.MaxPooling2D(pool_size=(2,2),strides=2))\n",
        "\n",
        "model.add(layers.Conv2D(filters=32,kernel_size=(3,3),strides=1,padding='same'))\n",
        "model.add(layers.BatchNormalization())\n",
        "model.add(layers.LeakyReLU(alpha=0.1))\n",
        "model.add(layers.Conv2D(filters=32,kernel_size=(1,1),strides=1,padding='same'))\n",
        "model.add(layers.BatchNormalization())\n",
        "model.add(layers.LeakyReLU(alpha=0.1))\n",
        "model.add(layers.Conv2D(filters=32,kernel_size=(3,3),strides=1,padding='same'))\n",
        "model.add(layers.BatchNormalization())\n",
        "model.add(layers.LeakyReLU(alpha=0.1))\n",
        "\n",
        "model.add(layers.MaxPooling2D(pool_size=(2,2),strides=2))\n",
        "\n",
        "model.add(layers.Conv2D(filters=16,kernel_size=(3,3),strides=1,padding='same'))\n",
        "model.add(layers.BatchNormalization())\n",
        "model.add(layers.LeakyReLU(alpha=0.1))\n",
        "\n",
        "model.add(layers.Conv2D(filters=32,kernel_size=(3,3),strides=1,padding='same'))\n",
        "model.add(layers.BatchNormalization())\n",
        "model.add(layers.LeakyReLU(alpha=0.1))\n",
        "\n",
        "model.add(layers.Conv2D(filters=2,kernel_size=(3,3),strides=1,padding='same'))\n",
        " \n",
        "model.add(layers.Flatten())\n",
        "model.add(layers.Dense(64, activation='relu')) \n",
        "model.add(layers.Dense(1, activation='sigmoid'))"
      ],
      "execution_count": null,
      "outputs": []
    },
    {
      "cell_type": "code",
      "metadata": {
        "id": "xDRCaQtbSBew"
      },
      "source": [
        "opt = adam(learning_rate=0.0001)"
      ],
      "execution_count": null,
      "outputs": []
    },
    {
      "cell_type": "code",
      "metadata": {
        "id": "GhCRal5ZisCR"
      },
      "source": [
        "model.compile(optimizer=opt, loss='binary_crossentropy', metrics=['accuracy'])"
      ],
      "execution_count": null,
      "outputs": []
    },
    {
      "cell_type": "code",
      "metadata": {
        "id": "uQqUWa8czffL",
        "outputId": "1ded8d91-974e-40a2-9e10-fcee34532397",
        "colab": {
          "base_uri": "https://localhost:8080/",
          "height": 1000
        }
      },
      "source": [
        "es = EarlyStopping(monitor='val_loss', mode='min', verbose=1,patience=32)\n",
        "mc = ModelCheckpoint('nor_inf_04jun03.h5', monitor='val_accuracy', mode='max', verbose=1, save_best_only=True)\n",
        "history=model.fit(x_train,y_train,batch_size=16,validation_split=0.2,epochs=100,callbacks=[es,mc],shuffle=True)"
      ],
      "execution_count": null,
      "outputs": [
        {
          "output_type": "stream",
          "text": [
            "Train on 1916 samples, validate on 479 samples\n",
            "Epoch 1/100\n",
            "1916/1916 [==============================] - 142s 74ms/step - loss: 0.3237 - accuracy: 0.8606 - val_loss: 0.4673 - val_accuracy: 0.8810\n",
            "\n",
            "Epoch 00001: val_accuracy improved from -inf to 0.88100, saving model to nor_inf_04jun03.h5\n",
            "Epoch 2/100\n",
            "1916/1916 [==============================] - 139s 72ms/step - loss: 0.1592 - accuracy: 0.9431 - val_loss: 0.1945 - val_accuracy: 0.9457\n",
            "\n",
            "Epoch 00002: val_accuracy improved from 0.88100 to 0.94572, saving model to nor_inf_04jun03.h5\n",
            "Epoch 3/100\n",
            "1916/1916 [==============================] - 140s 73ms/step - loss: 0.1108 - accuracy: 0.9588 - val_loss: 0.2167 - val_accuracy: 0.9186\n",
            "\n",
            "Epoch 00003: val_accuracy did not improve from 0.94572\n",
            "Epoch 4/100\n",
            "1916/1916 [==============================] - 138s 72ms/step - loss: 0.0767 - accuracy: 0.9781 - val_loss: 0.1993 - val_accuracy: 0.9248\n",
            "\n",
            "Epoch 00004: val_accuracy did not improve from 0.94572\n",
            "Epoch 5/100\n",
            "1916/1916 [==============================] - 139s 72ms/step - loss: 0.0548 - accuracy: 0.9838 - val_loss: 0.2767 - val_accuracy: 0.9081\n",
            "\n",
            "Epoch 00005: val_accuracy did not improve from 0.94572\n",
            "Epoch 6/100\n",
            "1916/1916 [==============================] - 139s 72ms/step - loss: 0.0392 - accuracy: 0.9906 - val_loss: 0.1546 - val_accuracy: 0.9374\n",
            "\n",
            "Epoch 00006: val_accuracy did not improve from 0.94572\n",
            "Epoch 7/100\n",
            "1916/1916 [==============================] - 141s 73ms/step - loss: 0.0274 - accuracy: 0.9958 - val_loss: 0.1114 - val_accuracy: 0.9624\n",
            "\n",
            "Epoch 00007: val_accuracy improved from 0.94572 to 0.96242, saving model to nor_inf_04jun03.h5\n",
            "Epoch 8/100\n",
            "1916/1916 [==============================] - 139s 73ms/step - loss: 0.0218 - accuracy: 0.9984 - val_loss: 0.1576 - val_accuracy: 0.9395\n",
            "\n",
            "Epoch 00008: val_accuracy did not improve from 0.96242\n",
            "Epoch 9/100\n",
            "1916/1916 [==============================] - 139s 73ms/step - loss: 0.0160 - accuracy: 0.9990 - val_loss: 0.2000 - val_accuracy: 0.9248\n",
            "\n",
            "Epoch 00009: val_accuracy did not improve from 0.96242\n",
            "Epoch 10/100\n",
            "1916/1916 [==============================] - 139s 73ms/step - loss: 0.0126 - accuracy: 0.9995 - val_loss: 0.1882 - val_accuracy: 0.9353\n",
            "\n",
            "Epoch 00010: val_accuracy did not improve from 0.96242\n",
            "Epoch 11/100\n",
            "1916/1916 [==============================] - 141s 74ms/step - loss: 0.0096 - accuracy: 0.9995 - val_loss: 0.2126 - val_accuracy: 0.9290\n",
            "\n",
            "Epoch 00011: val_accuracy did not improve from 0.96242\n",
            "Epoch 12/100\n",
            "1916/1916 [==============================] - 140s 73ms/step - loss: 0.0073 - accuracy: 1.0000 - val_loss: 0.2256 - val_accuracy: 0.9228\n",
            "\n",
            "Epoch 00012: val_accuracy did not improve from 0.96242\n",
            "Epoch 13/100\n",
            "1916/1916 [==============================] - 139s 73ms/step - loss: 0.0056 - accuracy: 1.0000 - val_loss: 0.2684 - val_accuracy: 0.9186\n",
            "\n",
            "Epoch 00013: val_accuracy did not improve from 0.96242\n",
            "Epoch 14/100\n",
            "1916/1916 [==============================] - 139s 73ms/step - loss: 0.0043 - accuracy: 1.0000 - val_loss: 0.2555 - val_accuracy: 0.9207\n",
            "\n",
            "Epoch 00014: val_accuracy did not improve from 0.96242\n",
            "Epoch 15/100\n",
            "1916/1916 [==============================] - 139s 73ms/step - loss: 0.0052 - accuracy: 0.9995 - val_loss: 0.1998 - val_accuracy: 0.9332\n",
            "\n",
            "Epoch 00015: val_accuracy did not improve from 0.96242\n",
            "Epoch 16/100\n",
            "1916/1916 [==============================] - 141s 73ms/step - loss: 0.0029 - accuracy: 1.0000 - val_loss: 0.2288 - val_accuracy: 0.9332\n",
            "\n",
            "Epoch 00016: val_accuracy did not improve from 0.96242\n",
            "Epoch 17/100\n",
            "1916/1916 [==============================] - 139s 72ms/step - loss: 0.0022 - accuracy: 1.0000 - val_loss: 0.2741 - val_accuracy: 0.9228\n",
            "\n",
            "Epoch 00017: val_accuracy did not improve from 0.96242\n",
            "Epoch 18/100\n",
            "1916/1916 [==============================] - 139s 73ms/step - loss: 0.0024 - accuracy: 1.0000 - val_loss: 0.1618 - val_accuracy: 0.9562\n",
            "\n",
            "Epoch 00018: val_accuracy did not improve from 0.96242\n",
            "Epoch 19/100\n",
            "1916/1916 [==============================] - 140s 73ms/step - loss: 0.0028 - accuracy: 0.9995 - val_loss: 0.2421 - val_accuracy: 0.9353\n",
            "\n",
            "Epoch 00019: val_accuracy did not improve from 0.96242\n",
            "Epoch 20/100\n",
            "1916/1916 [==============================] - 141s 74ms/step - loss: 0.0015 - accuracy: 1.0000 - val_loss: 0.2517 - val_accuracy: 0.9332\n",
            "\n",
            "Epoch 00020: val_accuracy did not improve from 0.96242\n",
            "Epoch 21/100\n",
            "1916/1916 [==============================] - 140s 73ms/step - loss: 0.0015 - accuracy: 1.0000 - val_loss: 0.2979 - val_accuracy: 0.9207\n",
            "\n",
            "Epoch 00021: val_accuracy did not improve from 0.96242\n",
            "Epoch 22/100\n",
            "1916/1916 [==============================] - 139s 72ms/step - loss: 0.0011 - accuracy: 1.0000 - val_loss: 0.2440 - val_accuracy: 0.9374\n",
            "\n",
            "Epoch 00022: val_accuracy did not improve from 0.96242\n",
            "Epoch 23/100\n",
            "1916/1916 [==============================] - 140s 73ms/step - loss: 0.0012 - accuracy: 1.0000 - val_loss: 0.2324 - val_accuracy: 0.9395\n",
            "\n",
            "Epoch 00023: val_accuracy did not improve from 0.96242\n",
            "Epoch 24/100\n",
            "1916/1916 [==============================] - 140s 73ms/step - loss: 0.0011 - accuracy: 1.0000 - val_loss: 0.2357 - val_accuracy: 0.9436\n",
            "\n",
            "Epoch 00024: val_accuracy did not improve from 0.96242\n",
            "Epoch 25/100\n",
            "1916/1916 [==============================] - 141s 73ms/step - loss: 9.3655e-04 - accuracy: 1.0000 - val_loss: 0.3056 - val_accuracy: 0.9269\n",
            "\n",
            "Epoch 00025: val_accuracy did not improve from 0.96242\n",
            "Epoch 26/100\n",
            "1916/1916 [==============================] - 139s 73ms/step - loss: 6.2319e-04 - accuracy: 1.0000 - val_loss: 0.2620 - val_accuracy: 0.9395\n",
            "\n",
            "Epoch 00026: val_accuracy did not improve from 0.96242\n",
            "Epoch 27/100\n",
            "1916/1916 [==============================] - 139s 72ms/step - loss: 0.0012 - accuracy: 1.0000 - val_loss: 0.3415 - val_accuracy: 0.9207\n",
            "\n",
            "Epoch 00027: val_accuracy did not improve from 0.96242\n",
            "Epoch 28/100\n",
            "1916/1916 [==============================] - 139s 73ms/step - loss: 6.0847e-04 - accuracy: 1.0000 - val_loss: 0.2475 - val_accuracy: 0.9436\n",
            "\n",
            "Epoch 00028: val_accuracy did not improve from 0.96242\n",
            "Epoch 29/100\n",
            "1916/1916 [==============================] - 140s 73ms/step - loss: 4.0742e-04 - accuracy: 1.0000 - val_loss: 0.2951 - val_accuracy: 0.9311\n",
            "\n",
            "Epoch 00029: val_accuracy did not improve from 0.96242\n",
            "Epoch 30/100\n",
            "1916/1916 [==============================] - 140s 73ms/step - loss: 4.1864e-04 - accuracy: 1.0000 - val_loss: 0.3179 - val_accuracy: 0.9311\n",
            "\n",
            "Epoch 00030: val_accuracy did not improve from 0.96242\n",
            "Epoch 31/100\n",
            "1916/1916 [==============================] - 142s 74ms/step - loss: 5.0046e-04 - accuracy: 1.0000 - val_loss: 0.3179 - val_accuracy: 0.9290\n",
            "\n",
            "Epoch 00031: val_accuracy did not improve from 0.96242\n",
            "Epoch 32/100\n",
            "1916/1916 [==============================] - 144s 75ms/step - loss: 3.2912e-04 - accuracy: 1.0000 - val_loss: 0.3096 - val_accuracy: 0.9311\n",
            "\n",
            "Epoch 00032: val_accuracy did not improve from 0.96242\n",
            "Epoch 33/100\n",
            "1916/1916 [==============================] - 146s 76ms/step - loss: 3.0217e-04 - accuracy: 1.0000 - val_loss: 0.3124 - val_accuracy: 0.9290\n",
            "\n",
            "Epoch 00033: val_accuracy did not improve from 0.96242\n",
            "Epoch 34/100\n",
            "1916/1916 [==============================] - 145s 76ms/step - loss: 3.3356e-04 - accuracy: 1.0000 - val_loss: 0.2915 - val_accuracy: 0.9353\n",
            "\n",
            "Epoch 00034: val_accuracy did not improve from 0.96242\n",
            "Epoch 35/100\n",
            "1916/1916 [==============================] - 141s 74ms/step - loss: 2.4320e-04 - accuracy: 1.0000 - val_loss: 0.2995 - val_accuracy: 0.9353\n",
            "\n",
            "Epoch 00035: val_accuracy did not improve from 0.96242\n",
            "Epoch 36/100\n",
            "1916/1916 [==============================] - 140s 73ms/step - loss: 2.5558e-04 - accuracy: 1.0000 - val_loss: 0.3040 - val_accuracy: 0.9311\n",
            "\n",
            "Epoch 00036: val_accuracy did not improve from 0.96242\n",
            "Epoch 37/100\n",
            "1916/1916 [==============================] - 140s 73ms/step - loss: 2.1331e-04 - accuracy: 1.0000 - val_loss: 0.3240 - val_accuracy: 0.9311\n",
            "\n",
            "Epoch 00037: val_accuracy did not improve from 0.96242\n",
            "Epoch 38/100\n",
            "1916/1916 [==============================] - 141s 74ms/step - loss: 1.9491e-04 - accuracy: 1.0000 - val_loss: 0.4427 - val_accuracy: 0.9144\n",
            "\n",
            "Epoch 00038: val_accuracy did not improve from 0.96242\n",
            "Epoch 39/100\n",
            "1916/1916 [==============================] - 140s 73ms/step - loss: 1.9814e-04 - accuracy: 1.0000 - val_loss: 0.3389 - val_accuracy: 0.9269\n",
            "\n",
            "Epoch 00039: val_accuracy did not improve from 0.96242\n",
            "Epoch 00039: early stopping\n"
          ],
          "name": "stdout"
        }
      ]
    },
    {
      "cell_type": "code",
      "metadata": {
        "id": "-xeXepYLsWT6",
        "outputId": "6bbdd62a-455c-48da-a964-1aaeee59c434",
        "colab": {
          "base_uri": "https://localhost:8080/",
          "height": 315
        }
      },
      "source": [
        "plt.plot(history.history['accuracy'])\n",
        "plt.plot(history.history['val_accuracy'])\n",
        "plt.title('model accuracy')\n",
        "plt.ylabel('accuracy')\n",
        "plt.xlabel('epoch')\n",
        "plt.legend(['train','validation'], loc='upper left')\n",
        "plt.show() "
      ],
      "execution_count": null,
      "outputs": [
        {
          "output_type": "display_data",
          "data": {
            "image/png": "[encoded data removed]",
            "text/plain": [
              "<Figure size 432x288 with 1 Axes>"
            ]
          },
          "metadata": {
            "tags": []
          }
        }
      ]
    },
    {
      "cell_type": "code",
      "metadata": {
        "id": "Cowf-HazuukX",
        "outputId": "834a4c2a-7eba-4a33-ed4d-1c93c496cd65",
        "colab": {
          "base_uri": "https://localhost:8080/",
          "height": 315
        }
      },
      "source": [
        "plt.plot(history.history['loss'])\n",
        "plt.plot(history.history['val_loss'])\n",
        "plt.title('model loss')\n",
        "plt.ylabel('loss')\n",
        "plt.xlabel('epoch')\n",
        "plt.legend(['train','validation'], loc='upper left')\n",
        "plt.show()"
      ],
      "execution_count": null,
      "outputs": [
        {
          "output_type": "display_data",
          "data": {
            "image/png": "[encoded data removed]",
            "text/plain": [
              "<Figure size 432x288 with 1 Axes>"
            ]
          },
          "metadata": {
            "tags": []
          }
        }
      ]
    },
    {
      "cell_type": "code",
      "metadata": {
        "id": "j6H36uf4n-QR"
      },
      "source": [
        "S"
      ],
      "execution_count": null,
      "outputs": []
    },
    {
      "cell_type": "code",
      "metadata": {
        "id": "zvj1ibXg0GMk"
      },
      "source": [
        "model.compile(loss='binary_crossentropy', optimizer='adam', metrics=['accuracy'])\n",
        "_, test_acc = model.evaluate(x_test, y_test, verbose=0)"
      ],
      "execution_count": null,
      "outputs": []
    },
    {
      "cell_type": "code",
      "metadata": {
        "id": "1LS0CkKA0J7K",
        "outputId": "326f7ba1-9440-495c-f329-0cc5ff0f11a3",
        "colab": {
          "base_uri": "https://localhost:8080/",
          "height": 51
        }
      },
      "source": [
        "print(\"test accuracy: \",test_acc,)\n",
        "print(\"test loss    : \",_)"
      ],
      "execution_count": null,
      "outputs": [
        {
          "output_type": "stream",
          "text": [
            "test accuracy:  0.987500011920929\n",
            "test loss    :  0.0371291565708816\n"
          ],
          "name": "stdout"
        }
      ]
    },
    {
      "cell_type": "code",
      "metadata": {
        "id": "Rb2sZDPe4dw2"
      },
      "source": [
        "y_pred=model.predict(x_test)"
      ],
      "execution_count": null,
      "outputs": []
    },
    {
      "cell_type": "code",
      "metadata": {
        "id": "0v45NC3z2L2B",
        "outputId": "18e06ff6-ca76-4d51-95bd-6dfdcd4d13c5",
        "colab": {
          "base_uri": "https://localhost:8080/",
          "height": 34
        }
      },
      "source": [
        "y_pred.shape"
      ],
      "execution_count": null,
      "outputs": [
        {
          "output_type": "execute_result",
          "data": {
            "text/plain": [
              "(80, 1)"
            ]
          },
          "metadata": {
            "tags": []
          },
          "execution_count": 99
        }
      ]
    },
    {
      "cell_type": "code",
      "metadata": {
        "id": "BGiSlBbM2KGT"
      },
      "source": [
        "y_pred[0]\n",
        "classes = np.argmax(y_pred,axis=-1)"
      ],
      "execution_count": null,
      "outputs": []
    },
    {
      "cell_type": "code",
      "metadata": {
        "id": "nhBq6GsKNoT4",
        "colab": {
          "base_uri": "https://localhost:8080/",
          "height": 34
        },
        "outputId": "95aeda4f-a1a6-44c3-8b2b-a718820cb09e"
      },
      "source": [
        "(type)(classes)\n",
        "classes.shape"
      ],
      "execution_count": null,
      "outputs": [
        {
          "output_type": "execute_result",
          "data": {
            "text/plain": [
              "(80,)"
            ]
          },
          "metadata": {
            "tags": []
          },
          "execution_count": 101
        }
      ]
    },
    {
      "cell_type": "code",
      "metadata": {
        "id": "ItqJoIy_3G9i",
        "outputId": "43822699-a5c1-40b2-9387-1f4070bdead3",
        "colab": {
          "base_uri": "https://localhost:8080/",
          "height": 34
        }
      },
      "source": [
        "label = []\n",
        "for i in y_pred:\n",
        "  if i>0.5:\n",
        "    label.append(1)\n",
        "  else :\n",
        "    label.append(0)\n",
        "print(len(label))\n",
        "label = np.asarray(label)\n",
        "label=label.reshape(-1,1)"
      ],
      "execution_count": null,
      "outputs": [
        {
          "output_type": "stream",
          "text": [
            "80\n"
          ],
          "name": "stdout"
        }
      ]
    },
    {
      "cell_type": "code",
      "metadata": {
        "id": "V9DSqX4ekAFM"
      },
      "source": [
        "y_test=np.asarray(y_test)"
      ],
      "execution_count": null,
      "outputs": []
    },
    {
      "cell_type": "code",
      "metadata": {
        "id": "dmSkKsysjiVY"
      },
      "source": [
        "from sklearn.metrics import accuracy_score\n",
        "test_acc=accuracy_score(y_test, label)"
      ],
      "execution_count": null,
      "outputs": []
    },
    {
      "cell_type": "code",
      "metadata": {
        "id": "eV-boy6yjl0F",
        "colab": {
          "base_uri": "https://localhost:8080/",
          "height": 34
        },
        "outputId": "3265031c-cf37-459e-ec79-da5d0aa85afb"
      },
      "source": [
        "test_acc"
      ],
      "execution_count": null,
      "outputs": [
        {
          "output_type": "execute_result",
          "data": {
            "text/plain": [
              "0.9875"
            ]
          },
          "metadata": {
            "tags": []
          },
          "execution_count": 105
        }
      ]
    },
    {
      "cell_type": "code",
      "metadata": {
        "id": "6JQsumDZkV1N",
        "colab": {
          "base_uri": "https://localhost:8080/",
          "height": 51
        },
        "outputId": "42dd242e-91ed-4842-ee89-b1cd0746aa4e"
      },
      "source": [
        "print(y_test[0])\n",
        "print(y_pred[0])"
      ],
      "execution_count": null,
      "outputs": [
        {
          "output_type": "stream",
          "text": [
            "1\n",
            "[0.9999996]\n"
          ],
          "name": "stdout"
        }
      ]
    },
    {
      "cell_type": "code",
      "metadata": {
        "id": "cVRopZwj0NdQ",
        "outputId": "706db14d-4ad4-431f-affe-25e7a0f84f66",
        "colab": {
          "base_uri": "https://localhost:8080/",
          "height": 51
        }
      },
      "source": [
        "from sklearn.metrics import confusion_matrix\n",
        "print(confusion_matrix(y_test,label))"
      ],
      "execution_count": null,
      "outputs": [
        {
          "output_type": "stream",
          "text": [
            "[[20  0]\n",
            " [ 1 59]]\n"
          ],
          "name": "stdout"
        }
      ]
    },
    {
      "cell_type": "code",
      "metadata": {
        "id": "69blQI7vHiu7"
      },
      "source": [
        "cm = confusion_matrix(y_test,label)"
      ],
      "execution_count": null,
      "outputs": []
    },
    {
      "cell_type": "code",
      "metadata": {
        "id": "oQT-uDWSHnWW",
        "outputId": "fdbe0d4e-5af8-44c0-fcec-da3c6a3fd03c",
        "colab": {
          "base_uri": "https://localhost:8080/",
          "height": 34
        }
      },
      "source": [
        "cm.dtype"
      ],
      "execution_count": null,
      "outputs": [
        {
          "output_type": "execute_result",
          "data": {
            "text/plain": [
              "dtype('int64')"
            ]
          },
          "metadata": {
            "tags": []
          },
          "execution_count": 109
        }
      ]
    },
    {
      "cell_type": "code",
      "metadata": {
        "id": "L5zbmCrzFScV",
        "outputId": "1d42a878-9841-42ba-bcd3-5038bcd83111",
        "colab": {
          "base_uri": "https://localhost:8080/",
          "height": 529
        }
      },
      "source": [
        "import seaborn as sns\n",
        "df_cm = pd.DataFrame(cm, columns=['Normal','Pneumonia'], index = ['Normal','Pneumonia'])\n",
        "df_cm.index.name = 'Actual'\n",
        "df_cm.columns.name = 'Predicted'\n",
        "plt.figure(figsize = (10,7))\n",
        "sns.set(font_scale=1.4)#for label size\n",
        "sns.heatmap(df_cm, cmap=\"Blues\", annot=True,annot_kws={\"size\": 16},fmt='d')"
      ],
      "execution_count": null,
      "outputs": [
        {
          "output_type": "stream",
          "text": [
            "/usr/local/lib/python3.6/dist-packages/statsmodels/tools/_testing.py:19: FutureWarning: pandas.util.testing is deprecated. Use the functions in the public API at pandas.testing instead.\n",
            "  import pandas.util.testing as tm\n"
          ],
          "name": "stderr"
        },
        {
          "output_type": "execute_result",
          "data": {
            "text/plain": [
              "<matplotlib.axes._subplots.AxesSubplot at 0x7fdfecc2ab00>"
            ]
          },
          "metadata": {
            "tags": []
          },
          "execution_count": 78
        },
        {
          "output_type": "display_data",
          "data": {
            "image/png": "[encoded data removed]",
            "text/plain": [
              "<Figure size 720x504 with 2 Axes>"
            ]
          },
          "metadata": {
            "tags": [],
            "needs_background": "light"
          }
        }
      ]
    },
    {
      "cell_type": "code",
      "metadata": {
        "id": "K7kwD5toXo0C"
      },
      "source": [
        "def confusion_metrics (conf_matrix):\n",
        "# save confusion matrix and slice into four pieces\n",
        "    TP = conf_matrix[1][1]\n",
        "    TN = conf_matrix[0][0]\n",
        "    FP = conf_matrix[0][1]\n",
        "    FN = conf_matrix[1][0]\n",
        "    print('True Positives:', TP)\n",
        "    print('True Negatives:', TN)\n",
        "    print('False Positives:', FP)\n",
        "    print('False Negatives:', FN)\n",
        "    \n",
        "    # calculate accuracy\n",
        "    conf_accuracy = (float (TP+TN) / float(TP + TN + FP + FN))\n",
        "    \n",
        "    # calculate mis-classification\n",
        "    conf_misclassification = 1- conf_accuracy\n",
        "    \n",
        "    # calculate the sensitivity\n",
        "    conf_sensitivity = (TP / float(TP + FN))\n",
        "    # calculate the specificity\n",
        "    conf_specificity = (TN / float(TN + FP))\n",
        "    \n",
        "    # calculate precision\n",
        "    conf_precision = (TN / float(TN + FP))\n",
        "    # calculate f_1 score\n",
        "    conf_f1 = 2 * ((conf_precision * conf_sensitivity) / (conf_precision + conf_sensitivity))\n",
        "    print('-'*50)\n",
        "    print(f'Accuracy: {round(conf_accuracy,2)}') \n",
        "    print(f'Mis-Classification: {round(conf_misclassification,2)}') \n",
        "    print(f'Sensitivity: {round(conf_sensitivity,2)}') \n",
        "    print(f'Specificity: {round(conf_specificity,2)}') \n",
        "    print(f'Precision: {round(conf_precision,2)}')\n",
        "    print(f'f_1 Score: {round(conf_f1,2)}')"
      ],
      "execution_count": null,
      "outputs": []
    },
    {
      "cell_type": "code",
      "metadata": {
        "id": "PkzC9NPjY1X_",
        "outputId": "e323adbf-d6ef-4ffd-cc7c-d8099237ccdd",
        "colab": {
          "base_uri": "https://localhost:8080/",
          "height": 204
        }
      },
      "source": [
        "confusion_metrics(cm)"
      ],
      "execution_count": null,
      "outputs": [
        {
          "output_type": "stream",
          "text": [
            "True Positives: 146\n",
            "True Negatives: 135\n",
            "False Positives: 15\n",
            "False Negatives: 4\n",
            "--------------------------------------------------\n",
            "Accuracy: 0.94\n",
            "Mis-Classification: 0.06\n",
            "Sensitivity: 0.97\n",
            "Specificity: 0.9\n",
            "Precision: 0.9\n",
            "f_1 Score: 0.94\n"
          ],
          "name": "stdout"
        }
      ]
    },
    {
      "cell_type": "markdown",
      "metadata": {
        "id": "Dy7kzgt9A_VK"
      },
      "source": [
        "TMC XRAY images"
      ]
    },
    {
      "cell_type": "code",
      "metadata": {
        "id": "eGx-0At1Bg-Z",
        "outputId": "4c8fe6d8-f004-4eb1-ff2d-8b7b35434fab",
        "colab": {
          "base_uri": "https://localhost:8080/",
          "height": 180
        }
      },
      "source": [
        "print(len(x_samples))\n",
        "print(len(y_samples))"
      ],
      "execution_count": null,
      "outputs": [
        {
          "output_type": "error",
          "ename": "NameError",
          "evalue": "ignored",
          "traceback": [
            "\u001b[0;31m---------------------------------------------------------------------------\u001b[0m",
            "\u001b[0;31mNameError\u001b[0m                                 Traceback (most recent call last)",
            "\u001b[0;32m<ipython-input-81-5ff132e6cf39>\u001b[0m in \u001b[0;36m<module>\u001b[0;34m()\u001b[0m\n\u001b[0;32m----> 1\u001b[0;31m \u001b[0mprint\u001b[0m\u001b[0;34m(\u001b[0m\u001b[0mlen\u001b[0m\u001b[0;34m(\u001b[0m\u001b[0mx_samples\u001b[0m\u001b[0;34m)\u001b[0m\u001b[0;34m)\u001b[0m\u001b[0;34m\u001b[0m\u001b[0;34m\u001b[0m\u001b[0m\n\u001b[0m\u001b[1;32m      2\u001b[0m \u001b[0mprint\u001b[0m\u001b[0;34m(\u001b[0m\u001b[0mlen\u001b[0m\u001b[0;34m(\u001b[0m\u001b[0my_samples\u001b[0m\u001b[0;34m)\u001b[0m\u001b[0;34m)\u001b[0m\u001b[0;34m\u001b[0m\u001b[0;34m\u001b[0m\u001b[0m\n",
            "\u001b[0;31mNameError\u001b[0m: name 'x_samples' is not defined"
          ]
        }
      ]
    },
    {
      "cell_type": "code",
      "metadata": {
        "id": "oQOoEuCQBnfE",
        "colab": {
          "base_uri": "https://localhost:8080/",
          "height": 231
        },
        "outputId": "5ad140ea-6e0b-46a0-ec7e-fc3f28e4f755"
      },
      "source": [
        "for i in range(11):\n",
        "    img = x_sample[i]\n",
        "    lab = cv2.cvtColor(img, cv2.COLOR_BGR2LAB)\n",
        "\n",
        "    lab_planes = cv2.split(lab)\n",
        "\n",
        "    clahe = cv2.createCLAHE(clipLimit=2.0,tileGridSize=(16,16))\n",
        "\n",
        "    lab_planes[0] = clahe.apply(lab_planes[0])\n",
        "\n",
        "    lab = cv2.merge(lab_planes)\n",
        "\n",
        "    img = cv2.cvtColor(lab, cv2.COLOR_LAB2BGR) \n",
        "    \"\"\"img = np.power(img, gamma)\"\"\" \n",
        "    x_sample[i]=img"
      ],
      "execution_count": null,
      "outputs": [
        {
          "output_type": "error",
          "ename": "NameError",
          "evalue": "ignored",
          "traceback": [
            "\u001b[0;31m---------------------------------------------------------------------------\u001b[0m",
            "\u001b[0;31mNameError\u001b[0m                                 Traceback (most recent call last)",
            "\u001b[0;32m<ipython-input-82-10f02e516605>\u001b[0m in \u001b[0;36m<module>\u001b[0;34m()\u001b[0m\n\u001b[1;32m      1\u001b[0m \u001b[0;32mfor\u001b[0m \u001b[0mi\u001b[0m \u001b[0;32min\u001b[0m \u001b[0mrange\u001b[0m\u001b[0;34m(\u001b[0m\u001b[0;36m11\u001b[0m\u001b[0;34m)\u001b[0m\u001b[0;34m:\u001b[0m\u001b[0;34m\u001b[0m\u001b[0;34m\u001b[0m\u001b[0m\n\u001b[0;32m----> 2\u001b[0;31m     \u001b[0mimg\u001b[0m \u001b[0;34m=\u001b[0m \u001b[0mx_sample\u001b[0m\u001b[0;34m[\u001b[0m\u001b[0mi\u001b[0m\u001b[0;34m]\u001b[0m\u001b[0;34m\u001b[0m\u001b[0;34m\u001b[0m\u001b[0m\n\u001b[0m\u001b[1;32m      3\u001b[0m     \u001b[0mlab\u001b[0m \u001b[0;34m=\u001b[0m \u001b[0mcv2\u001b[0m\u001b[0;34m.\u001b[0m\u001b[0mcvtColor\u001b[0m\u001b[0;34m(\u001b[0m\u001b[0mimg\u001b[0m\u001b[0;34m,\u001b[0m \u001b[0mcv2\u001b[0m\u001b[0;34m.\u001b[0m\u001b[0mCOLOR_BGR2LAB\u001b[0m\u001b[0;34m)\u001b[0m\u001b[0;34m\u001b[0m\u001b[0;34m\u001b[0m\u001b[0m\n\u001b[1;32m      4\u001b[0m \u001b[0;34m\u001b[0m\u001b[0m\n\u001b[1;32m      5\u001b[0m     \u001b[0mlab_planes\u001b[0m \u001b[0;34m=\u001b[0m \u001b[0mcv2\u001b[0m\u001b[0;34m.\u001b[0m\u001b[0msplit\u001b[0m\u001b[0;34m(\u001b[0m\u001b[0mlab\u001b[0m\u001b[0;34m)\u001b[0m\u001b[0;34m\u001b[0m\u001b[0;34m\u001b[0m\u001b[0m\n",
            "\u001b[0;31mNameError\u001b[0m: name 'x_sample' is not defined"
          ]
        }
      ]
    },
    {
      "cell_type": "code",
      "metadata": {
        "id": "eeRazE34CJsO",
        "outputId": "660c34dc-deb6-4b39-b338-7ded2de3a30d",
        "colab": {
          "base_uri": "https://localhost:8080/",
          "height": 163
        }
      },
      "source": [
        "print('Shape of sample images: ', x_sample[0].shape)"
      ],
      "execution_count": null,
      "outputs": [
        {
          "output_type": "error",
          "ename": "NameError",
          "evalue": "ignored",
          "traceback": [
            "\u001b[0;31m---------------------------------------------------------------------------\u001b[0m",
            "\u001b[0;31mNameError\u001b[0m                                 Traceback (most recent call last)",
            "\u001b[0;32m<ipython-input-83-85674b7bcb8c>\u001b[0m in \u001b[0;36m<module>\u001b[0;34m()\u001b[0m\n\u001b[0;32m----> 1\u001b[0;31m \u001b[0mprint\u001b[0m\u001b[0;34m(\u001b[0m\u001b[0;34m'Shape of sample images: '\u001b[0m\u001b[0;34m,\u001b[0m \u001b[0mx_sample\u001b[0m\u001b[0;34m[\u001b[0m\u001b[0;36m0\u001b[0m\u001b[0;34m]\u001b[0m\u001b[0;34m.\u001b[0m\u001b[0mshape\u001b[0m\u001b[0;34m)\u001b[0m\u001b[0;34m\u001b[0m\u001b[0;34m\u001b[0m\u001b[0m\n\u001b[0m",
            "\u001b[0;31mNameError\u001b[0m: name 'x_sample' is not defined"
          ]
        }
      ]
    },
    {
      "cell_type": "code",
      "metadata": {
        "id": "FL9M3M32CL5D",
        "outputId": "c1f2fed0-9528-4d22-d8a7-56b1df5641fb",
        "colab": {
          "base_uri": "https://localhost:8080/",
          "height": 34
        }
      },
      "source": [
        "x_sample=np.array(x_sample)\n",
        "print(x_sample.shape)"
      ],
      "execution_count": null,
      "outputs": [
        {
          "output_type": "stream",
          "text": [
            "(11, 256, 256, 3)\n"
          ],
          "name": "stdout"
        }
      ]
    },
    {
      "cell_type": "code",
      "metadata": {
        "id": "HhP9PcWhCnLh"
      },
      "source": [
        "y_samples_pred=model.predict(x_sample)"
      ],
      "execution_count": null,
      "outputs": []
    },
    {
      "cell_type": "code",
      "metadata": {
        "id": "MSMM1CfmCs6_",
        "outputId": "84d864b4-0e69-4a97-8f0a-a3414376f7e7",
        "colab": {
          "base_uri": "https://localhost:8080/",
          "height": 34
        }
      },
      "source": [
        "sample_labels = []\n",
        "for i in y_samples_pred:\n",
        "  if i>0.5:\n",
        "    sample_labels.append('pneumonia')\n",
        "  else :\n",
        "    sample_labels.append('normal') \n",
        "print(len(sample_labels))\n",
        "sample_labels = np.asarray(sample_labels)\n",
        "sample_labels=sample_labels.reshape(-1,1)"
      ],
      "execution_count": null,
      "outputs": [
        {
          "output_type": "stream",
          "text": [
            "11\n"
          ],
          "name": "stdout"
        }
      ]
    },
    {
      "cell_type": "code",
      "metadata": {
        "id": "Y1yEIQM8Ds7D",
        "outputId": "39f3b3b9-19ea-4673-e497-dabe5559375b",
        "colab": {
          "base_uri": "https://localhost:8080/",
          "height": 206
        }
      },
      "source": [
        "print(y_samples_pred)"
      ],
      "execution_count": null,
      "outputs": [
        {
          "output_type": "stream",
          "text": [
            "[[0.79246235]\n",
            " [0.7074275 ]\n",
            " [0.63579756]\n",
            " [0.75605726]\n",
            " [0.64951336]\n",
            " [0.99146724]\n",
            " [0.9295063 ]\n",
            " [0.92848265]\n",
            " [0.9966371 ]\n",
            " [0.8434264 ]\n",
            " [0.9966371 ]]\n"
          ],
          "name": "stdout"
        }
      ]
    },
    {
      "cell_type": "code",
      "metadata": {
        "id": "z8ueqkP-DY-X",
        "outputId": "d448d922-7824-4397-b2bb-bc8d4a3144c9",
        "colab": {
          "base_uri": "https://localhost:8080/",
          "height": 34
        }
      },
      "source": [
        "print(sample_labels.shape)"
      ],
      "execution_count": null,
      "outputs": [
        {
          "output_type": "stream",
          "text": [
            "(11, 1)\n"
          ],
          "name": "stdout"
        }
      ]
    },
    {
      "cell_type": "code",
      "metadata": {
        "id": "cEZnXmUvCVB6",
        "outputId": "7ba66de3-089e-4258-ad23-10c35ca287c5",
        "colab": {
          "base_uri": "https://localhost:8080/",
          "height": 206
        }
      },
      "source": [
        "print(sample_labels)"
      ],
      "execution_count": null,
      "outputs": [
        {
          "output_type": "stream",
          "text": [
            "[['pneumonia']\n",
            " ['pneumonia']\n",
            " ['pneumonia']\n",
            " ['pneumonia']\n",
            " ['pneumonia']\n",
            " ['pneumonia']\n",
            " ['pneumonia']\n",
            " ['pneumonia']\n",
            " ['pneumonia']\n",
            " ['pneumonia']\n",
            " ['pneumonia']]\n"
          ],
          "name": "stdout"
        }
      ]
    }
  ]
}