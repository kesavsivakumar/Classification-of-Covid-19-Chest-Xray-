{
  "nbformat": 4,
  "nbformat_minor": 0,
  "metadata": {
    "colab": {
      "name": "single_unit_four_class.ipynb",
      "provenance": [],
      "collapsed_sections": []
    },
    "kernelspec": {
      "name": "python3",
      "display_name": "Python 3"
    }
  },
  "cells": [
    {
      "cell_type": "code",
      "metadata": {
        "id": "UvDwAAtl7sgN"
      },
      "source": [
        "import cv2\n",
        "import numpy as np\n",
        "import matplotlib.pyplot as plt\n",
        "import os\n",
        "import tensorflow\n",
        "import glob\n",
        "import pickle"
      ],
      "execution_count": null,
      "outputs": []
    },
    {
      "cell_type": "code",
      "metadata": {
        "id": "AnXI4TC873L9"
      },
      "source": [
        "from google.colab import drive\n",
        "drive.mount('/content/drive')"
      ],
      "execution_count": null,
      "outputs": []
    },
    {
      "cell_type": "code",
      "metadata": {
        "id": "1PjbCETF76_o",
        "outputId": "6d50fcf9-5225-47d9-f5a6-44940848e87c",
        "colab": {
          "base_uri": "https://localhost:8080/",
          "height": 34
        }
      },
      "source": [
        "cd drive"
      ],
      "execution_count": null,
      "outputs": [
        {
          "output_type": "stream",
          "text": [
            "/content/drive\n"
          ],
          "name": "stdout"
        }
      ]
    },
    {
      "cell_type": "code",
      "metadata": {
        "id": "POEzVppk8EJY",
        "outputId": "f3700e8e-8fa7-4a21-cbeb-d92d0e7a5477",
        "colab": {
          "base_uri": "https://localhost:8080/",
          "height": 34
        }
      },
      "source": [
        "cd My Drive"
      ],
      "execution_count": null,
      "outputs": [
        {
          "output_type": "stream",
          "text": [
            "/content/drive/My Drive\n"
          ],
          "name": "stdout"
        }
      ]
    },
    {
      "cell_type": "code",
      "metadata": {
        "id": "RAOwetVe5G8I",
        "outputId": "4604c080-4d07-482b-dfa0-aa205e7eb842",
        "colab": {
          "base_uri": "https://localhost:8080/",
          "height": 34
        }
      },
      "source": [
        "cd data"
      ],
      "execution_count": null,
      "outputs": [
        {
          "output_type": "stream",
          "text": [
            "/content/drive/My Drive/data\n"
          ],
          "name": "stdout"
        }
      ]
    },
    {
      "cell_type": "code",
      "metadata": {
        "id": "SO6YAzNZ3bsl"
      },
      "source": [
        "x_normal = np.load('x_normal.npy')\n",
        "y_normal = np.load('y_normal.npy')\n",
        "x_viral = np.load('x_viral.npy')\n",
        "y_viral = np.load('y_viral.npy')\n",
        "x_bacterial = np.load('x_bacterial.npy')\n",
        "y_bacterial = np.load('y_bacterial.npy')\n",
        "x_covid = np.load('x_covid.npy')\n",
        "y_covid = np.load('y_covid.npy')"
      ],
      "execution_count": null,
      "outputs": []
    },
    {
      "cell_type": "code",
      "metadata": {
        "id": "08EW481n5dZ_",
        "outputId": "e9e404f7-d58a-4761-f4bd-4245a28bf6f9",
        "colab": {
          "base_uri": "https://localhost:8080/",
          "height": 153
        }
      },
      "source": [
        "print(x_normal.shape)\n",
        "print(y_normal.shape)\n",
        "print(x_viral.shape)\n",
        "print(y_viral.shape)\n",
        "print(x_bacterial.shape)\n",
        "print(y_bacterial.shape)\n",
        "print(x_covid.shape)\n",
        "print(y_covid.shape)"
      ],
      "execution_count": null,
      "outputs": [
        {
          "output_type": "stream",
          "text": [
            "(1583, 256, 256, 3)\n",
            "(1583,)\n",
            "(1504, 256, 256, 3)\n",
            "(1504,)\n",
            "(2786, 256, 256, 3)\n",
            "(2786,)\n",
            "(239, 256, 256, 3)\n",
            "(239,)\n"
          ],
          "name": "stdout"
        }
      ]
    },
    {
      "cell_type": "code",
      "metadata": {
        "id": "HcctO90z6xs2"
      },
      "source": [
        "import random\n",
        "x_train=[]\n",
        "y_train=[]\n",
        "x_test = []\n",
        "y_test = []"
      ],
      "execution_count": null,
      "outputs": []
    },
    {
      "cell_type": "code",
      "metadata": {
        "id": "AlrYjGRz67XQ"
      },
      "source": [
        "nums = random.sample(range(0, 2786), 219)\n",
        "for i in nums:\n",
        "  x_train.append(x_bacterial[i])\n",
        "  y_train.append(1)\n",
        "\n",
        "total = [i for i in range(0,2786)]\n",
        "test_nums = random.sample(list((set)(total)-(set)(nums)),20)\n",
        "\n",
        "for i in test_nums:\n",
        "  x_test.append(x_bacterial[i])\n",
        "  y_test.append(1)"
      ],
      "execution_count": null,
      "outputs": []
    },
    {
      "cell_type": "code",
      "metadata": {
        "id": "J5o5_xOy7HPZ"
      },
      "source": [
        "nums = random.sample(range(0, 1504), 219)\n",
        "for i in nums:\n",
        "  x_train.append(x_viral[i])\n",
        "  y_train.append(2)\n",
        "\n",
        "total = [i for i in range(0,1504)]\n",
        "test_nums = random.sample(list((set)(total)-(set)(nums)),20)\n",
        "\n",
        "for i in test_nums:\n",
        "  x_test.append(x_viral[i])\n",
        "  y_test.append(2)"
      ],
      "execution_count": null,
      "outputs": []
    },
    {
      "cell_type": "code",
      "metadata": {
        "id": "b4S_MWzz7k2V"
      },
      "source": [
        "nums = random.sample(range(0, 239), 219)\n",
        "for i in nums:\n",
        "  x_train.append(x_covid[i])\n",
        "  y_train.append(3)\n",
        "\n",
        "total = [i for i in range(0,239)]\n",
        "test_nums = random.sample(list((set)(total)-(set)(nums)),20)\n",
        "\n",
        "for i in test_nums:\n",
        "  x_test.append(x_covid[i])\n",
        "  y_test.append(3)"
      ],
      "execution_count": null,
      "outputs": []
    },
    {
      "cell_type": "code",
      "metadata": {
        "id": "psqfzptI7zzz"
      },
      "source": [
        "nums = random.sample(range(0, 1583), 219)\n",
        "for i in nums:\n",
        "  x_train.append(x_normal[i])\n",
        "  y_train.append(0)\n",
        "\n",
        "total = [i for i in range(0,1583)]\n",
        "test_nums = random.sample(list((set)(total)-(set)(nums)),20)\n",
        "\n",
        "for i in test_nums:\n",
        "  x_test.append(x_normal[i])\n",
        "  y_test.append(0)"
      ],
      "execution_count": null,
      "outputs": []
    },
    {
      "cell_type": "code",
      "metadata": {
        "id": "j_64yKM08yHw",
        "outputId": "21cc2669-9d4e-4769-e029-022eb6a1acce",
        "colab": {
          "base_uri": "https://localhost:8080/",
          "height": 85
        }
      },
      "source": [
        "print(len(x_train))\n",
        "print(len(y_train))\n",
        "print(len(x_test))\n",
        "print(len(y_test))"
      ],
      "execution_count": null,
      "outputs": [
        {
          "output_type": "stream",
          "text": [
            "876\n",
            "876\n",
            "80\n",
            "80\n"
          ],
          "name": "stdout"
        }
      ]
    },
    {
      "cell_type": "code",
      "metadata": {
        "id": "g8Wsxu3n9Ji2"
      },
      "source": [
        "x_train = np.asarray(x_train)\n",
        "y_train= np.asarray(y_train)\n",
        "x_test = np.asarray(x_test)\n",
        "y_test = np.asarray(y_test)"
      ],
      "execution_count": null,
      "outputs": []
    },
    {
      "cell_type": "code",
      "metadata": {
        "id": "MwJ-bF-L8uN0",
        "outputId": "2a679878-9944-4280-d37f-19cee0a71f6e",
        "colab": {
          "base_uri": "https://localhost:8080/",
          "height": 34
        }
      },
      "source": [
        "for i in range(876):\n",
        "    img = x_train[i]\n",
        "    lab = cv2.cvtColor(img, cv2.COLOR_BGR2LAB)\n",
        "\n",
        "    lab_planes = cv2.split(lab)\n",
        "\n",
        "    clahe = cv2.createCLAHE(clipLimit=2.0,tileGridSize=(16,16))\n",
        "\n",
        "    lab_planes[0] = clahe.apply(lab_planes[0])\n",
        "\n",
        "    lab = cv2.merge(lab_planes)\n",
        "\n",
        "    img = cv2.cvtColor(lab, cv2.COLOR_LAB2BGR)  \n",
        "    x_train[i]=img\n",
        "\n",
        "print('Shape of train images: ', x_train[0].shape)"
      ],
      "execution_count": null,
      "outputs": [
        {
          "output_type": "stream",
          "text": [
            "Shape of train images:  (256, 256, 3)\n"
          ],
          "name": "stdout"
        }
      ]
    },
    {
      "cell_type": "code",
      "metadata": {
        "id": "ymLf56R18pxP",
        "outputId": "e893cdf7-a2d7-4fe7-89e8-b6f551f0b53e",
        "colab": {
          "base_uri": "https://localhost:8080/",
          "height": 34
        }
      },
      "source": [
        "for i in range(80):\n",
        "    img = x_test[i]\n",
        "    lab = cv2.cvtColor(img, cv2.COLOR_BGR2LAB)\n",
        "\n",
        "    lab_planes = cv2.split(lab)\n",
        "\n",
        "    clahe = cv2.createCLAHE(clipLimit=2.0,tileGridSize=(16,16))\n",
        "\n",
        "    lab_planes[0] = clahe.apply(lab_planes[0])\n",
        "\n",
        "    lab = cv2.merge(lab_planes)\n",
        "\n",
        "    img = cv2.cvtColor(lab, cv2.COLOR_LAB2BGR)  \n",
        "    x_test[i]=img\n",
        "\n",
        "print('Shape of test images: ', x_test[0].shape)"
      ],
      "execution_count": null,
      "outputs": [
        {
          "output_type": "stream",
          "text": [
            "Shape of test images:  (256, 256, 3)\n"
          ],
          "name": "stdout"
        }
      ]
    },
    {
      "cell_type": "code",
      "metadata": {
        "id": "SU9BtfLgQkTP",
        "outputId": "31385a98-6f60-4050-c0fe-cba876b70559",
        "colab": {
          "base_uri": "https://localhost:8080/",
          "height": 34
        }
      },
      "source": [
        "from keras.models import Sequential\n",
        "from keras import layers\n",
        "from keras.optimizers import adam\n",
        "from keras.callbacks import EarlyStopping\n",
        "from keras.callbacks import ModelCheckpoint"
      ],
      "execution_count": null,
      "outputs": [
        {
          "output_type": "stream",
          "text": [
            "Using TensorFlow backend.\n"
          ],
          "name": "stderr"
        }
      ]
    },
    {
      "cell_type": "code",
      "metadata": {
        "id": "kEwmd9ggQm8s"
      },
      "source": [
        "model = Sequential()\n",
        "model.add(layers.Conv2D(filters=8,kernel_size=(3,3),input_shape=(256,256,3),strides=1,padding='same'))\n",
        "model.add(layers.BatchNormalization())\n",
        "model.add(layers.LeakyReLU(alpha=0.1))\n",
        "\n",
        "model.add(layers.MaxPooling2D(pool_size=(2,2),strides=2))\n",
        "\n",
        "model.add(layers.Conv2D(filters=16,kernel_size=(3,3),strides=1,padding='same'))\n",
        "model.add(layers.BatchNormalization())\n",
        "model.add(layers.LeakyReLU(alpha=0.1))\n",
        "model.add(layers.Conv2D(filters=16,kernel_size=(1,1),strides=1,padding='same'))\n",
        "model.add(layers.BatchNormalization())\n",
        "model.add(layers.LeakyReLU(alpha=0.1))\n",
        "model.add(layers.Conv2D(filters=16,kernel_size=(3,3),strides=1,padding='same'))\n",
        "model.add(layers.BatchNormalization())\n",
        "model.add(layers.LeakyReLU(alpha=0.1))\n",
        "\n",
        "model.add(layers.MaxPooling2D(pool_size=(2,2),strides=2))\n",
        "\n",
        "model.add(layers.Conv2D(filters=32,kernel_size=(3,3),strides=1,padding='same'))\n",
        "model.add(layers.BatchNormalization())\n",
        "model.add(layers.LeakyReLU(alpha=0.1))\n",
        "\n",
        "model.add(layers.Conv2D(filters=4,kernel_size=(3,3),strides=1,padding='same'))\n",
        " \n",
        "model.add(layers.Flatten())\n",
        " \n",
        "model.add(layers.Dense(4, activation='softmax'))"
      ],
      "execution_count": null,
      "outputs": []
    },
    {
      "cell_type": "code",
      "metadata": {
        "id": "QwuHjJ8sQtI3"
      },
      "source": [
        "from sklearn.preprocessing import OneHotEncoder\n",
        "enc = OneHotEncoder(handle_unknown='ignore')\n",
        "y=y_train.reshape(-1,1)\n",
        "yfunc=enc.fit(y)\n",
        "y_binary=enc.transform(y).toarray()\n",
        "y_test=y_test.reshape(-1,1)\n",
        "y_test=enc.transform(y_test).toarray()"
      ],
      "execution_count": null,
      "outputs": []
    },
    {
      "cell_type": "code",
      "metadata": {
        "id": "DYSjk-tFVFOd",
        "outputId": "2114e6e2-57a8-4bce-f624-78425e567840",
        "colab": {
          "base_uri": "https://localhost:8080/",
          "height": 34
        }
      },
      "source": [
        "print(x_train.shape,y_binary.shape)\n"
      ],
      "execution_count": null,
      "outputs": [
        {
          "output_type": "stream",
          "text": [
            "(876, 256, 256, 3) (876, 4)\n"
          ],
          "name": "stdout"
        }
      ]
    },
    {
      "cell_type": "code",
      "metadata": {
        "id": "hqLCKBkKZ-e_"
      },
      "source": [
        "opt = adam(learning_rate=0.0001)"
      ],
      "execution_count": null,
      "outputs": []
    },
    {
      "cell_type": "code",
      "metadata": {
        "id": "UfSStPVdBFol"
      },
      "source": [
        "model.compile(optimizer=opt, loss='categorical_crossentropy', metrics=['accuracy'])"
      ],
      "execution_count": null,
      "outputs": []
    },
    {
      "cell_type": "code",
      "metadata": {
        "id": "Arwbt5LXUSJi",
        "outputId": "f3396322-f331-4c71-8f27-d1b01200b2cb",
        "colab": {
          "base_uri": "https://localhost:8080/",
          "height": 1000
        }
      },
      "source": [
        "es = EarlyStopping(monitor='val_loss', mode='min', verbose=1,patience=32)\n",
        "mc = ModelCheckpoint('single_unit_four_class09jun01.h5', monitor='val_accuracy',mode='max', verbose=1, save_best_only=True)\n",
        "history=model.fit(x_train,y_binary,batch_size=16,epochs=100, validation_split=0.2,callbacks=[es,mc],shuffle=True)"
      ],
      "execution_count": null,
      "outputs": [
        {
          "output_type": "stream",
          "text": [
            "Train on 700 samples, validate on 176 samples\n",
            "Epoch 1/100\n",
            "700/700 [==============================] - 63s 91ms/step - loss: 1.1723 - accuracy: 0.5400 - val_loss: 0.8320 - val_accuracy: 0.7443\n",
            "\n",
            "Epoch 00001: val_accuracy improved from -inf to 0.74432, saving model to single_unit_four_class09jun01.h5\n",
            "Epoch 2/100\n",
            "700/700 [==============================] - 59s 84ms/step - loss: 0.5467 - accuracy: 0.7757 - val_loss: 1.2657 - val_accuracy: 0.3693\n",
            "\n",
            "Epoch 00002: val_accuracy did not improve from 0.74432\n",
            "Epoch 3/100\n",
            "700/700 [==============================] - 58s 83ms/step - loss: 0.3876 - accuracy: 0.8529 - val_loss: 2.2874 - val_accuracy: 0.0455\n",
            "\n",
            "Epoch 00003: val_accuracy did not improve from 0.74432\n",
            "Epoch 4/100\n",
            "700/700 [==============================] - 59s 84ms/step - loss: 0.2715 - accuracy: 0.9071 - val_loss: 2.6785 - val_accuracy: 0.0341\n",
            "\n",
            "Epoch 00004: val_accuracy did not improve from 0.74432\n",
            "Epoch 5/100\n",
            "700/700 [==============================] - 59s 84ms/step - loss: 0.1985 - accuracy: 0.9457 - val_loss: 1.9065 - val_accuracy: 0.2216\n",
            "\n",
            "Epoch 00005: val_accuracy did not improve from 0.74432\n",
            "Epoch 6/100\n",
            "700/700 [==============================] - 59s 84ms/step - loss: 0.1476 - accuracy: 0.9743 - val_loss: 1.9793 - val_accuracy: 0.2670\n",
            "\n",
            "Epoch 00006: val_accuracy did not improve from 0.74432\n",
            "Epoch 7/100\n",
            "700/700 [==============================] - 59s 84ms/step - loss: 0.1054 - accuracy: 0.9886 - val_loss: 1.7159 - val_accuracy: 0.3580\n",
            "\n",
            "Epoch 00007: val_accuracy did not improve from 0.74432\n",
            "Epoch 8/100\n",
            "700/700 [==============================] - 59s 84ms/step - loss: 0.0843 - accuracy: 0.9943 - val_loss: 1.4206 - val_accuracy: 0.5057\n",
            "\n",
            "Epoch 00008: val_accuracy did not improve from 0.74432\n",
            "Epoch 9/100\n",
            "700/700 [==============================] - 59s 84ms/step - loss: 0.0670 - accuracy: 0.9986 - val_loss: 1.3337 - val_accuracy: 0.5170\n",
            "\n",
            "Epoch 00009: val_accuracy did not improve from 0.74432\n",
            "Epoch 10/100\n",
            "700/700 [==============================] - 59s 84ms/step - loss: 0.0524 - accuracy: 1.0000 - val_loss: 1.3856 - val_accuracy: 0.5170\n",
            "\n",
            "Epoch 00010: val_accuracy did not improve from 0.74432\n",
            "Epoch 11/100\n",
            "700/700 [==============================] - 61s 87ms/step - loss: 0.0427 - accuracy: 1.0000 - val_loss: 1.4947 - val_accuracy: 0.5000\n",
            "\n",
            "Epoch 00011: val_accuracy did not improve from 0.74432\n",
            "Epoch 12/100\n",
            "700/700 [==============================] - 59s 84ms/step - loss: 0.0352 - accuracy: 1.0000 - val_loss: 1.7642 - val_accuracy: 0.4375\n",
            "\n",
            "Epoch 00012: val_accuracy did not improve from 0.74432\n",
            "Epoch 13/100\n",
            "700/700 [==============================] - 59s 84ms/step - loss: 0.0290 - accuracy: 1.0000 - val_loss: 1.7804 - val_accuracy: 0.4489\n",
            "\n",
            "Epoch 00013: val_accuracy did not improve from 0.74432\n",
            "Epoch 14/100\n",
            "700/700 [==============================] - 58s 84ms/step - loss: 0.0264 - accuracy: 1.0000 - val_loss: 1.7907 - val_accuracy: 0.4489\n",
            "\n",
            "Epoch 00014: val_accuracy did not improve from 0.74432\n",
            "Epoch 15/100\n",
            "700/700 [==============================] - 58s 83ms/step - loss: 0.0235 - accuracy: 1.0000 - val_loss: 1.6808 - val_accuracy: 0.4830\n",
            "\n",
            "Epoch 00015: val_accuracy did not improve from 0.74432\n",
            "Epoch 16/100\n",
            "700/700 [==============================] - 58s 83ms/step - loss: 0.0196 - accuracy: 1.0000 - val_loss: 1.7187 - val_accuracy: 0.4773\n",
            "\n",
            "Epoch 00016: val_accuracy did not improve from 0.74432\n",
            "Epoch 17/100\n",
            "700/700 [==============================] - 58s 83ms/step - loss: 0.0175 - accuracy: 1.0000 - val_loss: 1.7060 - val_accuracy: 0.4886\n",
            "\n",
            "Epoch 00017: val_accuracy did not improve from 0.74432\n",
            "Epoch 18/100\n",
            "700/700 [==============================] - 58s 84ms/step - loss: 0.0154 - accuracy: 1.0000 - val_loss: 1.7590 - val_accuracy: 0.4830\n",
            "\n",
            "Epoch 00018: val_accuracy did not improve from 0.74432\n",
            "Epoch 19/100\n",
            "700/700 [==============================] - 58s 83ms/step - loss: 0.0136 - accuracy: 1.0000 - val_loss: 1.6451 - val_accuracy: 0.5000\n",
            "\n",
            "Epoch 00019: val_accuracy did not improve from 0.74432\n",
            "Epoch 20/100\n",
            "700/700 [==============================] - 59s 84ms/step - loss: 0.0121 - accuracy: 1.0000 - val_loss: 1.8228 - val_accuracy: 0.4886\n",
            "\n",
            "Epoch 00020: val_accuracy did not improve from 0.74432\n",
            "Epoch 21/100\n",
            "700/700 [==============================] - 58s 83ms/step - loss: 0.0106 - accuracy: 1.0000 - val_loss: 1.7910 - val_accuracy: 0.4886\n",
            "\n",
            "Epoch 00021: val_accuracy did not improve from 0.74432\n",
            "Epoch 22/100\n",
            "700/700 [==============================] - 60s 86ms/step - loss: 0.0099 - accuracy: 1.0000 - val_loss: 1.8230 - val_accuracy: 0.4886\n",
            "\n",
            "Epoch 00022: val_accuracy did not improve from 0.74432\n",
            "Epoch 23/100\n",
            "700/700 [==============================] - 58s 83ms/step - loss: 0.0093 - accuracy: 1.0000 - val_loss: 1.8138 - val_accuracy: 0.4943\n",
            "\n",
            "Epoch 00023: val_accuracy did not improve from 0.74432\n",
            "Epoch 24/100\n",
            "700/700 [==============================] - 59s 84ms/step - loss: 0.0088 - accuracy: 1.0000 - val_loss: 1.7872 - val_accuracy: 0.5000\n",
            "\n",
            "Epoch 00024: val_accuracy did not improve from 0.74432\n",
            "Epoch 25/100\n",
            "700/700 [==============================] - 58s 83ms/step - loss: 0.0074 - accuracy: 1.0000 - val_loss: 1.9624 - val_accuracy: 0.4886\n",
            "\n",
            "Epoch 00025: val_accuracy did not improve from 0.74432\n",
            "Epoch 26/100\n",
            "700/700 [==============================] - 59s 84ms/step - loss: 0.0072 - accuracy: 1.0000 - val_loss: 1.8469 - val_accuracy: 0.5000\n",
            "\n",
            "Epoch 00026: val_accuracy did not improve from 0.74432\n",
            "Epoch 27/100\n",
            "700/700 [==============================] - 58s 83ms/step - loss: 0.0064 - accuracy: 1.0000 - val_loss: 2.0006 - val_accuracy: 0.4773\n",
            "\n",
            "Epoch 00027: val_accuracy did not improve from 0.74432\n",
            "Epoch 28/100\n",
            "700/700 [==============================] - 58s 83ms/step - loss: 0.0062 - accuracy: 1.0000 - val_loss: 1.9284 - val_accuracy: 0.4886\n",
            "\n",
            "Epoch 00028: val_accuracy did not improve from 0.74432\n",
            "Epoch 29/100\n",
            "700/700 [==============================] - 58s 83ms/step - loss: 0.0059 - accuracy: 1.0000 - val_loss: 1.8643 - val_accuracy: 0.5000\n",
            "\n",
            "Epoch 00029: val_accuracy did not improve from 0.74432\n",
            "Epoch 30/100\n",
            "700/700 [==============================] - 58s 83ms/step - loss: 0.0053 - accuracy: 1.0000 - val_loss: 1.9756 - val_accuracy: 0.4886\n",
            "\n",
            "Epoch 00030: val_accuracy did not improve from 0.74432\n",
            "Epoch 31/100\n",
            "700/700 [==============================] - 58s 84ms/step - loss: 0.0047 - accuracy: 1.0000 - val_loss: 1.9861 - val_accuracy: 0.4886\n",
            "\n",
            "Epoch 00031: val_accuracy did not improve from 0.74432\n",
            "Epoch 32/100\n",
            "700/700 [==============================] - 60s 86ms/step - loss: 0.0044 - accuracy: 1.0000 - val_loss: 1.9988 - val_accuracy: 0.4943\n",
            "\n",
            "Epoch 00032: val_accuracy did not improve from 0.74432\n",
            "Epoch 33/100\n",
            "700/700 [==============================] - 59s 84ms/step - loss: 0.0043 - accuracy: 1.0000 - val_loss: 1.9428 - val_accuracy: 0.5000\n",
            "\n",
            "Epoch 00033: val_accuracy did not improve from 0.74432\n",
            "Epoch 00033: early stopping\n"
          ],
          "name": "stdout"
        }
      ]
    },
    {
      "cell_type": "code",
      "metadata": {
        "id": "N_4zOfGHpEMU",
        "outputId": "a7cdfb88-55ad-4b5c-b77b-764895520786",
        "colab": {
          "base_uri": "https://localhost:8080/",
          "height": 295
        }
      },
      "source": [
        "plt.plot(history.history['accuracy'])\n",
        "plt.plot(history.history['val_accuracy'])\n",
        "plt.title('model accuracy')\n",
        "plt.ylabel('accuracy')\n",
        "plt.xlabel('epoch')\n",
        "plt.legend(['train'], loc='upper left')\n",
        "plt.show() "
      ],
      "execution_count": null,
      "outputs": [
        {
          "output_type": "display_data",
          "data": {
            "image/png": "[encoded data removed]",
            "text/plain": [
              "<Figure size 432x288 with 1 Axes>"
            ]
          },
          "metadata": {
            "tags": [],
            "needs_background": "light"
          }
        }
      ]
    },
    {
      "cell_type": "code",
      "metadata": {
        "id": "eVidLWcdK9RB",
        "outputId": "41a86a9b-daf6-4e7a-ed08-3e96f256796f",
        "colab": {
          "base_uri": "https://localhost:8080/",
          "height": 295
        }
      },
      "source": [
        "plt.plot(history.history['loss'])\n",
        "plt.plot(history.history['val_loss'])\n",
        "plt.title('model loss')\n",
        "plt.ylabel('loss')\n",
        "plt.xlabel('epoch')\n",
        "plt.legend(['train'], loc='upper left')\n",
        "plt.show()"
      ],
      "execution_count": null,
      "outputs": [
        {
          "output_type": "display_data",
          "data": {
            "image/png": "[encoded data removed]",
            "text/plain": [
              "<Figure size 432x288 with 1 Axes>"
            ]
          },
          "metadata": {
            "tags": [],
            "needs_background": "light"
          }
        }
      ]
    },
    {
      "cell_type": "code",
      "metadata": {
        "id": "TPgYN5MKLBlm"
      },
      "source": [
        "model = Sequential()\n",
        "model.add(layers.Conv2D(filters=8,kernel_size=(3,3),input_shape=(256,256,3),strides=1,padding='same'))\n",
        "model.add(layers.BatchNormalization())\n",
        "model.add(layers.LeakyReLU(alpha=0.1))\n",
        "\n",
        "model.add(layers.MaxPooling2D(pool_size=(2,2),strides=2))\n",
        "\n",
        "model.add(layers.Conv2D(filters=16,kernel_size=(3,3),strides=1,padding='same'))\n",
        "model.add(layers.BatchNormalization())\n",
        "model.add(layers.LeakyReLU(alpha=0.1))\n",
        "model.add(layers.Conv2D(filters=16,kernel_size=(1,1),strides=1,padding='same'))\n",
        "model.add(layers.BatchNormalization())\n",
        "model.add(layers.LeakyReLU(alpha=0.1))\n",
        "model.add(layers.Conv2D(filters=16,kernel_size=(3,3),strides=1,padding='same'))\n",
        "model.add(layers.BatchNormalization())\n",
        "model.add(layers.LeakyReLU(alpha=0.1))\n",
        "\n",
        "model.add(layers.MaxPooling2D(pool_size=(2,2),strides=2))\n",
        "\n",
        "model.add(layers.Conv2D(filters=32,kernel_size=(3,3),strides=1,padding='same'))\n",
        "model.add(layers.BatchNormalization())\n",
        "model.add(layers.LeakyReLU(alpha=0.1))\n",
        "\n",
        "model.add(layers.Conv2D(filters=4,kernel_size=(3,3),strides=1,padding='same'))\n",
        " \n",
        "model.add(layers.Flatten())\n",
        " \n",
        "model.add(layers.Dense(4, activation='softmax'))\n",
        "model.load_weights('single_unit_four_class09jun01.h5')\n"
      ],
      "execution_count": null,
      "outputs": []
    },
    {
      "cell_type": "code",
      "metadata": {
        "id": "ZGIv7au9LtCB"
      },
      "source": [
        "from sklearn.preprocessing import OneHotEncoder\n",
        "enc = OneHotEncoder(handle_unknown='ignore')\n",
        "y=y_test.reshape(-1,1)\n",
        "yfunc=enc.fit(y)\n",
        "y_binary=enc.transform(y).toarray()"
      ],
      "execution_count": null,
      "outputs": []
    },
    {
      "cell_type": "code",
      "metadata": {
        "id": "8PrE9ZQsLUBL"
      },
      "source": [
        "model.compile(loss='categorical_crossentropy', optimizer=opt, metrics=['accuracy'])\n",
        "_, test_acc = model.evaluate(x_test, y_test, verbose=0)"
      ],
      "execution_count": null,
      "outputs": []
    },
    {
      "cell_type": "code",
      "metadata": {
        "id": "ob2A3VfJL1mN",
        "outputId": "84d2ef79-8bc9-4904-b41d-99eacc85f18c",
        "colab": {
          "base_uri": "https://localhost:8080/",
          "height": 51
        }
      },
      "source": [
        "print(\"test accuracy: \",test_acc,)\n",
        "print(\"test loss    : \",_)"
      ],
      "execution_count": null,
      "outputs": [
        {
          "output_type": "stream",
          "text": [
            "test accuracy:  0.5375000238418579\n",
            "test loss    :  1.392874574661255\n"
          ],
          "name": "stdout"
        }
      ]
    },
    {
      "cell_type": "code",
      "metadata": {
        "id": "xBnd86wbL5KI"
      },
      "source": [
        "y_pred=model.predict(x_test)"
      ],
      "execution_count": null,
      "outputs": []
    },
    {
      "cell_type": "code",
      "metadata": {
        "id": "vL2sy4m7MAHk",
        "outputId": "7530d3b6-49ba-427b-bc72-b302c71e3631",
        "colab": {
          "base_uri": "https://localhost:8080/",
          "height": 34
        }
      },
      "source": [
        "y_pred.shape"
      ],
      "execution_count": null,
      "outputs": [
        {
          "output_type": "execute_result",
          "data": {
            "text/plain": [
              "(80, 4)"
            ]
          },
          "metadata": {
            "tags": []
          },
          "execution_count": 36
        }
      ]
    },
    {
      "cell_type": "code",
      "metadata": {
        "id": "3R66fq_dMG9A"
      },
      "source": [
        "classes = np.argmax(y_pred,axis=-1)"
      ],
      "execution_count": null,
      "outputs": []
    },
    {
      "cell_type": "code",
      "metadata": {
        "id": "vhlvl4i5MKQ7",
        "colab": {
          "base_uri": "https://localhost:8080/",
          "height": 85
        },
        "outputId": "9c8f91b7-0151-4d10-da4e-40fadf4f33ef"
      },
      "source": [
        "classes\n"
      ],
      "execution_count": null,
      "outputs": [
        {
          "output_type": "execute_result",
          "data": {
            "text/plain": [
              "array([1, 3, 1, 3, 3, 1, 1, 1, 3, 3, 1, 3, 1, 0, 0, 1, 0, 1, 3, 0, 1, 1,\n",
              "       1, 1, 0, 3, 0, 0, 1, 0, 0, 0, 1, 0, 3, 0, 1, 3, 1, 3, 3, 3, 3, 3,\n",
              "       3, 3, 3, 3, 3, 3, 0, 3, 3, 3, 1, 3, 3, 3, 3, 3, 0, 0, 0, 0, 0, 0,\n",
              "       0, 0, 0, 1, 3, 0, 0, 1, 0, 0, 0, 0, 1, 0])"
            ]
          },
          "metadata": {
            "tags": []
          },
          "execution_count": 40
        }
      ]
    },
    {
      "cell_type": "code",
      "metadata": {
        "id": "Ocyci4IGzQiX"
      },
      "source": [
        "y_test=enc.inverse_transform(y_test)"
      ],
      "execution_count": null,
      "outputs": []
    },
    {
      "cell_type": "code",
      "metadata": {
        "id": "hU7m_ZeXMPl9"
      },
      "source": [
        "from sklearn.metrics import confusion_matrix\n",
        "cm = confusion_matrix(y_test,classes)"
      ],
      "execution_count": null,
      "outputs": []
    },
    {
      "cell_type": "code",
      "metadata": {
        "id": "4wCTVeGbMcVo",
        "colab": {
          "base_uri": "https://localhost:8080/",
          "height": 535
        },
        "outputId": "cc667c9d-4ac1-4c85-f50a-1e4020df07e7"
      },
      "source": [
        "import seaborn as sns\n",
        "import pandas as pd\n",
        "df_cm = pd.DataFrame(cm, columns=['Normal','Bacterial','Viral','COVID-19'], index = ['Normal','Bacterial','Viral','COVID-19'])\n",
        "df_cm.index.name = 'Actual'\n",
        "df_cm.columns.name = 'Predicted'\n",
        "plt.figure(figsize = (10,7))\n",
        "sns.set(font_scale=1.4)#for label size\n",
        "sns.heatmap(df_cm, cmap=\"Blues\", annot=True,annot_kws={\"size\": 16},fmt='d')"
      ],
      "execution_count": null,
      "outputs": [
        {
          "output_type": "stream",
          "text": [
            "/usr/local/lib/python3.6/dist-packages/statsmodels/tools/_testing.py:19: FutureWarning: pandas.util.testing is deprecated. Use the functions in the public API at pandas.testing instead.\n",
            "  import pandas.util.testing as tm\n"
          ],
          "name": "stderr"
        },
        {
          "output_type": "execute_result",
          "data": {
            "text/plain": [
              "<matplotlib.axes._subplots.AxesSubplot at 0x7f29ef8d3160>"
            ]
          },
          "metadata": {
            "tags": []
          },
          "execution_count": 44
        },
        {
          "output_type": "display_data",
          "data": {
            "image/png": "[encoded data removed]",
            "text/plain": [
              "<Figure size 720x504 with 2 Axes>"
            ]
          },
          "metadata": {
            "tags": [],
            "needs_background": "light"
          }
        }
      ]
    },
    {
      "cell_type": "code",
      "metadata": {
        "id": "M64nDuibKRlu"
      },
      "source": [
        ""
      ],
      "execution_count": null,
      "outputs": []
    },
    {
      "cell_type": "code",
      "metadata": {
        "id": "7qmgr-RVNLF9"
      },
      "source": [
        "def calc_metrics(cm):\n",
        "  tp_nor=cm[0][0]\n",
        "  fp_nor=cm[1][0]+cm[2][0]+cm[3][0]\n",
        "  fn_nor=cm[0][1]+cm[0][2]+cm[0][3]\n",
        "  tn_nor=np.sum(cm)-(tp_nor+fp_nor+fn_nor)\n",
        "  tp_bac=cm[1][1]\n",
        "  fp_bac=cm[0][1]+cm[2][1]+cm[3][1]\n",
        "  fn_bac=cm[1][0]+cm[1][2]+cm[1][3]\n",
        "  tn_bac=np.sum(cm)-(tp_bac+fp_bac+fn_bac)\n",
        "  tp_vir=cm[2][2]\n",
        "  fp_vir=cm[0][2]+cm[1][2]+cm[3][2]\n",
        "  fn_vir=cm[2][0]+cm[2][1]+cm[2][3]\n",
        "  tn_vir=np.sum(cm)-(tp_vir+fp_vir+fn_vir)\n",
        "  tp_cov=cm[3][3]\n",
        "  fp_cov=cm[0][3]+cm[1][3]+cm[2][3]\n",
        "  fn_cov=cm[3][0]+cm[3][1]+cm[3][2]\n",
        "  tn_cov=np.sum(cm)-(tp_cov+fp_cov+fn_cov)\n",
        "\n",
        "  print(\"Normal : \")\n",
        "  print(\"-----------------------------------\")\n",
        "  print(\"TP : \",tp_nor)\n",
        "  print(\"TN : \",tn_nor)\n",
        "  print(\"FP : \",fp_nor)\n",
        "  print(\"FN : \",fn_nor)\n",
        "  print(\"sensitivity : \",tp_nor/(float)((tp_nor+fn_nor)))\n",
        "  print(\"specificity : \",tn_nor/(float)((tn_nor+fp_nor)))\n",
        "  print(\"-----------------------------------\")\n",
        "  print(\"Bacteria : \")\n",
        "  print(\"-----------------------------------\")\n",
        "  print(\"TP : \",tp_bac)\n",
        "  print(\"TN : \",tn_bac)\n",
        "  print(\"FP : \",fp_bac)\n",
        "  print(\"FN : \",fn_bac)\n",
        "  print(\"sensitivity : \",tp_bac/(float)((tp_bac+fn_bac)))\n",
        "  print(\"specificity : \",tn_bac/(float)((tn_bac+fp_bac)))\n",
        "  print(\"-----------------------------------\")\n",
        "  print(\"Viral : \")\n",
        "  print(\"-----------------------------------\")\n",
        "  print(\"TP : \",tp_vir)\n",
        "  print(\"TN : \",tn_vir)\n",
        "  print(\"FP : \",fp_vir)\n",
        "  print(\"FN : \",fn_vir)\n",
        "  print(\"sensitivity : \",tp_vir/(float)((tp_vir+fn_vir)))\n",
        "  print(\"specificity : \",tn_vir/(float)((tn_vir+fp_vir)))\n",
        "  print(\"-----------------------------------\")\n",
        "  print(\"COVID-19 : \")\n",
        "  print(\"-----------------------------------\")\n",
        "  print(\"TP : \",tp_cov)\n",
        "  print(\"TN : \",tn_cov)\n",
        "  print(\"FP : \",fp_cov)\n",
        "  print(\"FN : \",fn_cov)\n",
        "  print(\"sensitivity : \",tp_cov/(float)((tp_cov+fn_cov)))\n",
        "  print(\"specificity : \",tn_cov/(float)((tn_cov+fp_cov)))\n"
      ],
      "execution_count": null,
      "outputs": []
    },
    {
      "cell_type": "code",
      "metadata": {
        "id": "agvesgd1XI3e",
        "outputId": "85f492ce-ce72-4730-a48d-e62a90171b3f",
        "colab": {
          "base_uri": "https://localhost:8080/",
          "height": 612
        }
      },
      "source": [
        "calc_metrics(cm)"
      ],
      "execution_count": null,
      "outputs": [
        {
          "output_type": "stream",
          "text": [
            "Normal : \n",
            "-----------------------------------\n",
            "TP :  16\n",
            "TN :  47\n",
            "FP :  13\n",
            "FN :  4\n",
            "sensitivity :  0.8\n",
            "specificity :  0.7833333333333333\n",
            "-----------------------------------\n",
            "Bacteria : \n",
            "-----------------------------------\n",
            "TP :  9\n",
            "TN :  48\n",
            "FP :  12\n",
            "FN :  11\n",
            "sensitivity :  0.45\n",
            "specificity :  0.8\n",
            "-----------------------------------\n",
            "Viral : \n",
            "-----------------------------------\n",
            "TP :  0\n",
            "TN :  60\n",
            "FP :  0\n",
            "FN :  20\n",
            "sensitivity :  0.0\n",
            "specificity :  1.0\n",
            "-----------------------------------\n",
            "COVID-19 : \n",
            "-----------------------------------\n",
            "TP :  18\n",
            "TN :  48\n",
            "FP :  12\n",
            "FN :  2\n",
            "sensitivity :  0.9\n",
            "specificity :  0.8\n"
          ],
          "name": "stdout"
        }
      ]
    },
    {
      "cell_type": "code",
      "metadata": {
        "id": "fvJK0SHnzg7b"
      },
      "source": [
        ""
      ],
      "execution_count": null,
      "outputs": []
    }
  ]
}