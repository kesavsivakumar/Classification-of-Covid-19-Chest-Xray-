{
  "nbformat": 4,
  "nbformat_minor": 0,
  "metadata": {
    "colab": {
      "name": "BinaryClassifier_Bac vsviral_DarkCovidNet.ipynb",
      "provenance": [],
      "collapsed_sections": []
    },
    "kernelspec": {
      "name": "python3",
      "display_name": "Python 3"
    }
  },
  "cells": [
    {
      "cell_type": "code",
      "metadata": {
        "id": "J82Uaq9FN68O"
      },
      "source": [
        "import cv2\n",
        "import numpy as np\n",
        "import matplotlib.pyplot as plt\n",
        "import os\n",
        "import glob\n",
        "import pandas as pd"
      ],
      "execution_count": null,
      "outputs": []
    },
    {
      "cell_type": "code",
      "metadata": {
        "id": "hqCPmoStOEM7",
        "outputId": "aa82b1bd-e917-4132-d109-97a432fade53",
        "colab": {
          "base_uri": "https://localhost:8080/",
          "height": 122
        }
      },
      "source": [
        "from google.colab import drive\n",
        "drive.mount('/content/drive')"
      ],
      "execution_count": null,
      "outputs": [
        {
          "output_type": "stream",
          "text": [
            "Go to this URL in a browser: https://accounts.google.com/o/oauth2/auth?client_id=947318989803-6bn6qk8qdgf4n4g3pfee6491hc0brc4i.apps.googleusercontent.com&redirect_uri=urn%3aietf%3awg%3aoauth%3a2.0%3aoob&response_type=code&scope=email%20https%3a%2f%2fwww.googleapis.com%2fauth%2fdocs.test%20https%3a%2f%2fwww.googleapis.com%2fauth%2fdrive%20https%3a%2f%2fwww.googleapis.com%2fauth%2fdrive.photos.readonly%20https%3a%2f%2fwww.googleapis.com%2fauth%2fpeopleapi.readonly\n",
            "\n",
            "Enter your authorization code:\n",
            "··········\n",
            "Mounted at /content/drive\n"
          ],
          "name": "stdout"
        }
      ]
    },
    {
      "cell_type": "code",
      "metadata": {
        "id": "drSGmeMbOQZq",
        "outputId": "ca1f593b-36b2-4b24-b0b4-7e0647577a95",
        "colab": {
          "base_uri": "https://localhost:8080/",
          "height": 34
        }
      },
      "source": [
        "cd drive\n"
      ],
      "execution_count": null,
      "outputs": [
        {
          "output_type": "stream",
          "text": [
            "/content/drive\n"
          ],
          "name": "stdout"
        }
      ]
    },
    {
      "cell_type": "code",
      "metadata": {
        "id": "Cj6Rdqc1OUcr",
        "outputId": "cbec13de-c36c-4e89-8d91-2f1a747e6bfb",
        "colab": {
          "base_uri": "https://localhost:8080/",
          "height": 34
        }
      },
      "source": [
        "cd My Drive"
      ],
      "execution_count": null,
      "outputs": [
        {
          "output_type": "stream",
          "text": [
            "/content/drive/My Drive\n"
          ],
          "name": "stdout"
        }
      ]
    },
    {
      "cell_type": "code",
      "metadata": {
        "id": "8aFD6LQz3QVl"
      },
      "source": [
        "INPUT_SIZE = (256, 256)\n",
        "mapping = {'normal': 0, 'bacterial': 1, 'viral': 2}"
      ],
      "execution_count": null,
      "outputs": []
    },
    {
      "cell_type": "markdown",
      "metadata": {
        "id": "2isVbVHs0rI0"
      },
      "source": [
        "Load x_train, y_train"
      ]
    },
    {
      "cell_type": "code",
      "metadata": {
        "id": "t-CgXcWBBv3W"
      },
      "source": [
        "x_normal = np.load('/content/drive/My Drive/data/x_normal.npy')\n",
        "y_normal = np.load('/content/drive/My Drive/data/y_normal.npy')\n",
        "x_viral = np.load('/content/drive/My Drive/data/x_viral.npy')\n",
        "y_viral = np.load('/content/drive/My Drive/data/y_viral.npy')\n",
        "x_bacterial = np.load('/content/drive/My Drive/data/x_bacterial.npy')\n",
        "y_bacterial = np.load('/content/drive/My Drive/data/y_bacterial.npy')\n",
        "x_covid=np.load('/content/drive/My Drive/data/x_covid.npy')\n",
        "y_covid=np.load('/content/drive/My Drive/data/y_covid.npy')"
      ],
      "execution_count": null,
      "outputs": []
    },
    {
      "cell_type": "code",
      "metadata": {
        "id": "58jG6hZmGOOo"
      },
      "source": [
        "import random"
      ],
      "execution_count": null,
      "outputs": []
    },
    {
      "cell_type": "code",
      "metadata": {
        "id": "3cuSAGdFCtkq"
      },
      "source": [
        "X=[]\n",
        "y=[]\n",
        "\n",
        "nums = random.sample(range(0, 1504), 500)\n",
        "for i in nums:\n",
        "  X.append(x_bacterial[i])\n",
        "  y.append(0)\n",
        "nums = random.sample(range(0, 1504), 500)\n",
        "for i in nums:\n",
        "  X.append(x_viral[i])\n",
        "  y.append(1)\n",
        "nums = random.sample(range(0, 239), 150)\n",
        "for i in nums:\n",
        "  X.append(x_covid[i])\n",
        "  y.append(1)    "
      ],
      "execution_count": null,
      "outputs": []
    },
    {
      "cell_type": "code",
      "metadata": {
        "id": "44SIbDczHzBQ"
      },
      "source": [
        "\n",
        "X=np.asarray(X)\n",
        "y=np.asarray(y)"
      ],
      "execution_count": null,
      "outputs": []
    },
    {
      "cell_type": "code",
      "metadata": {
        "id": "znyrTMcsZY_G",
        "outputId": "c7d2463a-7816-437f-8051-1c0594ac2d71",
        "colab": {
          "base_uri": "https://localhost:8080/",
          "height": 34
        }
      },
      "source": [
        "for i in range(len(X)):\n",
        "    img = X[i]\n",
        "    lab = cv2.cvtColor(img, cv2.COLOR_BGR2LAB)\n",
        "\n",
        "    lab_planes = cv2.split(lab)\n",
        "\n",
        "    clahe = cv2.createCLAHE(clipLimit=2.0,tileGridSize=(16,16))\n",
        "\n",
        "    lab_planes[0] = clahe.apply(lab_planes[0])\n",
        "\n",
        "    lab = cv2.merge(lab_planes)\n",
        "\n",
        "    img = cv2.cvtColor(lab, cv2.COLOR_LAB2BGR)  \n",
        "    X[i]=img\n",
        "\n",
        "print('Shape of train images: ', X[0].shape)"
      ],
      "execution_count": null,
      "outputs": [
        {
          "output_type": "stream",
          "text": [
            "Shape of train images:  (256, 256, 3)\n"
          ],
          "name": "stdout"
        }
      ]
    },
    {
      "cell_type": "markdown",
      "metadata": {
        "id": "V7ap_B1cl2tB"
      },
      "source": [
        "Model for hist"
      ]
    },
    {
      "cell_type": "code",
      "metadata": {
        "id": "6ueC6xGtlr43",
        "outputId": "214d40cb-40c3-4115-a24c-a1581d5d1e5f",
        "colab": {
          "base_uri": "https://localhost:8080/",
          "height": 34
        }
      },
      "source": [
        "%tensorflow_version 1.x\n",
        "import tensorflow as tf"
      ],
      "execution_count": null,
      "outputs": [
        {
          "output_type": "stream",
          "text": [
            "TensorFlow 1.x selected.\n"
          ],
          "name": "stdout"
        }
      ]
    },
    {
      "cell_type": "code",
      "metadata": {
        "id": "KpGo-5_nl8QX",
        "outputId": "84864c65-a8aa-4002-cd25-9e61a409b3d6",
        "colab": {
          "base_uri": "https://localhost:8080/",
          "height": 34
        }
      },
      "source": [
        "from keras.models import Sequential\n",
        "from keras import layers\n",
        "from keras.optimizers import adam\n",
        "from keras.callbacks import EarlyStopping\n",
        "from keras.callbacks import ModelCheckpoint"
      ],
      "execution_count": null,
      "outputs": [
        {
          "output_type": "stream",
          "text": [
            "Using TensorFlow backend.\n"
          ],
          "name": "stderr"
        }
      ]
    },
    {
      "cell_type": "code",
      "metadata": {
        "id": "ARq1VxfQmD89"
      },
      "source": [
        "from keras.layers import GlobalMaxPooling2D"
      ],
      "execution_count": null,
      "outputs": []
    },
    {
      "cell_type": "code",
      "metadata": {
        "id": "mehd1sJAZ2kF"
      },
      "source": [
        ""
      ],
      "execution_count": null,
      "outputs": []
    },
    {
      "cell_type": "code",
      "metadata": {
        "id": "m2GH0v0qmHAt",
        "outputId": "682d2bdb-c308-4703-f3aa-127792f76347",
        "colab": {
          "base_uri": "https://localhost:8080/",
          "height": 122
        }
      },
      "source": [
        "model = Sequential()\n",
        "model.add(layers.Conv2D(filters=8,kernel_size=(3,3),input_shape=(256,256,3),strides=1,padding='same'))\n",
        "model.add(layers.BatchNormalization())\n",
        "model.add(layers.LeakyReLU(alpha=0.1))\n",
        "\n",
        "model.add(layers.MaxPooling2D(pool_size=(2,2),strides=2))\n",
        "\n",
        "model.add(layers.Conv2D(filters=16,kernel_size=(3,3),strides=1,padding='same'))\n",
        "model.add(layers.BatchNormalization())\n",
        "model.add(layers.LeakyReLU(alpha=0.1))\n",
        "\n",
        "model.add(layers.MaxPooling2D(pool_size=(2,2),strides=2))\n",
        "\n",
        "model.add(layers.Conv2D(filters=32,kernel_size=(3,3),strides=1,padding='same'))\n",
        "model.add(layers.BatchNormalization())\n",
        "model.add(layers.LeakyReLU(alpha=0.1))\n",
        "model.add(layers.Conv2D(filters=32,kernel_size=(1,1),strides=1,padding='same'))\n",
        "model.add(layers.BatchNormalization())\n",
        "model.add(layers.LeakyReLU(alpha=0.1))\n",
        "model.add(layers.Conv2D(filters=32,kernel_size=(3,3),strides=1,padding='same'))\n",
        "model.add(layers.BatchNormalization())\n",
        "model.add(layers.LeakyReLU(alpha=0.1))\n",
        "\n",
        "model.add(layers.MaxPooling2D(pool_size=(2,2),strides=2))\n",
        "\n",
        "model.add(layers.Conv2D(filters=64,kernel_size=(3,3),strides=1,padding='same'))\n",
        "model.add(layers.BatchNormalization())\n",
        "model.add(layers.LeakyReLU(alpha=0.1))\n",
        "model.add(layers.Conv2D(filters=64,kernel_size=(1,1),strides=1,padding='same'))\n",
        "model.add(layers.BatchNormalization())\n",
        "model.add(layers.LeakyReLU(alpha=0.1))\n",
        "model.add(layers.Conv2D(filters=64,kernel_size=(3,3),strides=1,padding='same'))\n",
        "model.add(layers.BatchNormalization())\n",
        "model.add(layers.LeakyReLU(alpha=0.1))\n",
        "\n",
        "model.add(layers.MaxPooling2D(pool_size=(2,2),strides=2))\n",
        "\n",
        "model.add(layers.Conv2D(filters=128,kernel_size=(3,3),strides=1,padding='same'))\n",
        "model.add(layers.BatchNormalization())\n",
        "model.add(layers.LeakyReLU(alpha=0.1))\n",
        "model.add(layers.Conv2D(filters=128,kernel_size=(1,1),strides=1,padding='same'))\n",
        "model.add(layers.BatchNormalization())\n",
        "model.add(layers.LeakyReLU(alpha=0.1))\n",
        "model.add(layers.Conv2D(filters=128,kernel_size=(3,3),strides=1,padding='same'))\n",
        "model.add(layers.BatchNormalization())\n",
        "model.add(layers.LeakyReLU(alpha=0.1))\n",
        "\n",
        "model.add(layers.MaxPooling2D(pool_size=(2,2),strides=2))\n",
        "\n",
        "model.add(layers.Conv2D(filters=256,kernel_size=(3,3),strides=1,padding='same'))\n",
        "model.add(layers.BatchNormalization())\n",
        "model.add(layers.LeakyReLU(alpha=0.1))\n",
        "model.add(layers.Conv2D(filters=256,kernel_size=(1,1),strides=1,padding='same'))\n",
        "model.add(layers.BatchNormalization())\n",
        "model.add(layers.LeakyReLU(alpha=0.1))\n",
        "model.add(layers.Conv2D(filters=256,kernel_size=(3,3),strides=1,padding='same'))\n",
        "model.add(layers.BatchNormalization())\n",
        "model.add(layers.LeakyReLU(alpha=0.1))\n",
        "\n",
        "model.add(layers.Conv2D(filters=128,kernel_size=(3,3),strides=1,padding='same'))\n",
        "model.add(layers.BatchNormalization())\n",
        "model.add(layers.LeakyReLU(alpha=0.1))\n",
        "\n",
        "model.add(layers.Conv2D(filters=256,kernel_size=(3,3),strides=1,padding='same'))\n",
        "model.add(layers.BatchNormalization())\n",
        "model.add(layers.LeakyReLU(alpha=0.1))\n",
        "\n",
        "model.add(layers.Conv2D(filters=3,kernel_size=(3,3),strides=1,padding='same'))\n",
        "\n",
        "model.add(layers.Flatten())\n",
        "\n",
        "model.add(layers.Dense(1, activation='sigmoid'))"
      ],
      "execution_count": null,
      "outputs": [
        {
          "output_type": "stream",
          "text": [
            "WARNING:tensorflow:From /tensorflow-1.15.2/python3.6/tensorflow_core/python/ops/resource_variable_ops.py:1630: calling BaseResourceVariable.__init__ (from tensorflow.python.ops.resource_variable_ops) with constraint is deprecated and will be removed in a future version.\n",
            "Instructions for updating:\n",
            "If using Keras pass *_constraint arguments to layers.\n",
            "WARNING:tensorflow:From /usr/local/lib/python3.6/dist-packages/keras/backend/tensorflow_backend.py:4070: The name tf.nn.max_pool is deprecated. Please use tf.nn.max_pool2d instead.\n",
            "\n"
          ],
          "name": "stdout"
        }
      ]
    },
    {
      "cell_type": "code",
      "metadata": {
        "id": "W00gTFco3vIn",
        "outputId": "54f6d728-e5cc-4a22-caba-25dcdc6ea8dd",
        "colab": {
          "base_uri": "https://localhost:8080/",
          "height": 88
        }
      },
      "source": [
        "model.compile(optimizer='adam', loss='binary_crossentropy', metrics=['accuracy'])\n"
      ],
      "execution_count": null,
      "outputs": [
        {
          "output_type": "stream",
          "text": [
            "WARNING:tensorflow:From /tensorflow-1.15.2/python3.6/tensorflow_core/python/ops/nn_impl.py:183: where (from tensorflow.python.ops.array_ops) is deprecated and will be removed in a future version.\n",
            "Instructions for updating:\n",
            "Use tf.where in 2.0, which has the same broadcast rule as np.where\n"
          ],
          "name": "stdout"
        }
      ]
    },
    {
      "cell_type": "markdown",
      "metadata": {
        "id": "5a4rpDgv0zv3"
      },
      "source": [
        "Encodey_train"
      ]
    },
    {
      "cell_type": "markdown",
      "metadata": {
        "id": "PfPHYtPE4-iy"
      },
      "source": [
        ""
      ]
    },
    {
      "cell_type": "code",
      "metadata": {
        "id": "o0zz7O1EmLV0",
        "outputId": "15b9a459-dcb1-4e51-8cda-62e3ff488144",
        "colab": {
          "base_uri": "https://localhost:8080/",
          "height": 34
        }
      },
      "source": [
        "'''from sklearn.preprocessing import OneHotEncoder\n",
        "enc = OneHotEncoder(handle_unknown='ignore')\n",
        "y=np.asarray(y)\n",
        "y=y.reshape(-1,1)\n",
        "yfunc=enc.fit(y)'''"
      ],
      "execution_count": null,
      "outputs": [
        {
          "output_type": "execute_result",
          "data": {
            "text/plain": [
              "\"from sklearn.preprocessing import OneHotEncoder\\nenc = OneHotEncoder(handle_unknown='ignore')\\ny=np.asarray(y)\\ny=y.reshape(-1,1)\\nyfunc=enc.fit(y)\""
            ]
          },
          "metadata": {
            "tags": []
          },
          "execution_count": 17
        }
      ]
    },
    {
      "cell_type": "code",
      "metadata": {
        "id": "fLDazMUVma3f"
      },
      "source": [
        "#y_binary=enc.transform(y).toarray()"
      ],
      "execution_count": null,
      "outputs": []
    },
    {
      "cell_type": "code",
      "metadata": {
        "id": "2iVwDURlHhLk"
      },
      "source": [
        "#y_binary"
      ],
      "execution_count": null,
      "outputs": []
    },
    {
      "cell_type": "code",
      "metadata": {
        "id": "mbc4c3jaYvtK"
      },
      "source": [
        "#y_test_binary=enc.transform(y_test).toarray()"
      ],
      "execution_count": null,
      "outputs": []
    },
    {
      "cell_type": "code",
      "metadata": {
        "id": "qSLwx4BVC1zc"
      },
      "source": [
        "n=np.zeros(shape=(20,1))\n",
        "v=np.zeros(shape=(20,1))\n",
        "b=np.zeros(shape=(20,1))\n",
        "c=np.zeros(shape=(20,1))\n",
        "\n",
        "for i in range(20):\n",
        "  v[i]=0\n",
        "  c[i]=1\n",
        "\n",
        "\n",
        "x_test=np.concatenate((x_bacterial[1060:1080],x_viral[1060:1070],x_covid[229:239]))\n",
        "y_test=np.concatenate((v,c))\n"
      ],
      "execution_count": null,
      "outputs": []
    },
    {
      "cell_type": "markdown",
      "metadata": {
        "id": "mm0LjEp006d8"
      },
      "source": [
        "Reshape x_train for giving input to conv layers"
      ]
    },
    {
      "cell_type": "code",
      "metadata": {
        "id": "zwD6fIadmnib"
      },
      "source": [
        "es = EarlyStopping(monitor='val_loss', mode='min', verbose=1, patience=32)\n",
        "mc = ModelCheckpoint('darkcovidnetmodel.h5', monitor='val_accuracy', mode='max', verbose=1, save_best_only=True)\n",
        "history=model.fit(X,y,batch_size=16,epochs=100,callbacks=[es,mc],validation_split=0.2)"
      ],
      "execution_count": null,
      "outputs": []
    },
    {
      "cell_type": "code",
      "metadata": {
        "id": "RBlFF7c4WlqW",
        "colab": {
          "base_uri": "https://localhost:8080/",
          "height": 54
        },
        "outputId": "03cc94ba-69d9-424a-afaf-e2b41173adfa"
      },
      "source": [
        "# list all data in history\n",
        "print(history.history['accuracy'])"
      ],
      "execution_count": null,
      "outputs": [
        {
          "output_type": "stream",
          "text": [
            "[0.6152174, 0.6815217, 0.7804348, 0.7521739, 0.8097826, 0.8206522, 0.82391304, 0.8543478, 0.8891304, 0.90869564, 0.95108694, 0.93043476, 0.9576087, 0.9782609, 0.9521739, 0.9652174, 0.9673913, 0.9717391, 0.9880435, 0.9945652, 0.9902174, 0.9673913, 0.976087, 0.9804348, 0.9804348, 0.96304345, 0.9695652, 0.9956522, 0.99891305, 1.0, 1.0, 1.0, 1.0, 1.0]\n"
          ],
          "name": "stdout"
        }
      ]
    },
    {
      "cell_type": "code",
      "metadata": {
        "id": "h_XIVxitjfgs"
      },
      "source": [
        "import pickle\n",
        "with open('BinaryDCN6.pkl', 'wb') as f:\n",
        "  pickle.dump(history.history, f, pickle.HIGHEST_PROTOCOL)"
      ],
      "execution_count": null,
      "outputs": []
    },
    {
      "cell_type": "code",
      "metadata": {
        "id": "9MLAi4gmW1fC",
        "colab": {
          "base_uri": "https://localhost:8080/",
          "height": 315
        },
        "outputId": "3a7e0348-afe5-4f19-cc72-114556f4a0f6"
      },
      "source": [
        "plt.plot(history.history['accuracy'])\n",
        "plt.plot(history.history['val_accuracy'])\n",
        "plt.title('DarkCovidNet Bacterial vs Viral ')\n",
        "plt.ylabel('accuracy')\n",
        "plt.xlabel('epoch')\n",
        "plt.legend(['train'], loc='upper left')\n",
        "plt.show()"
      ],
      "execution_count": null,
      "outputs": [
        {
          "output_type": "display_data",
          "data": {
            "image/png": "[encoded data removed]",
            "text/plain": [
              "<Figure size 432x288 with 1 Axes>"
            ]
          },
          "metadata": {
            "tags": []
          }
        }
      ]
    },
    {
      "cell_type": "code",
      "metadata": {
        "id": "34Ke-dnnZ_v2",
        "outputId": "77018d78-4f7e-4d17-aee0-143a4ce7e21c",
        "colab": {
          "base_uri": "https://localhost:8080/",
          "height": 315
        }
      },
      "source": [
        "\n",
        "plt.plot(history.history['loss'])\n",
        "plt.plot(history.history['val_loss'])\n",
        "plt.title('DarkCovidNet Viral vs COVID-19 loss')\n",
        "plt.ylabel('loss')\n",
        "plt.xlabel('epoch')\n",
        "plt.legend(['train'], loc='upper left')\n",
        "plt.show()"
      ],
      "execution_count": null,
      "outputs": [
        {
          "output_type": "display_data",
          "data": {
            "image/png": "[encoded data removed]",
            "text/plain": [
              "<Figure size 432x288 with 1 Axes>"
            ]
          },
          "metadata": {
            "tags": []
          }
        }
      ]
    },
    {
      "cell_type": "markdown",
      "metadata": {
        "id": "fG-E-Oxc1FbW"
      },
      "source": [
        "save model"
      ]
    },
    {
      "cell_type": "code",
      "metadata": {
        "id": "Ykk2i77ckMZf"
      },
      "source": [
        "model_json = model.to_json()\n",
        "with open(\"binarydarkcovidnet_bacvsviral.json\", \"w\") as json_file:\n",
        "    json_file.write(model_json)\n",
        "# serialize weights to HDF5\n",
        "model.save_weights(\"binarydarkcovidnet_bacvsviral.h5\")"
      ],
      "execution_count": null,
      "outputs": []
    },
    {
      "cell_type": "markdown",
      "metadata": {
        "id": "ey4bX5Ow1G3x"
      },
      "source": [
        "load model"
      ]
    },
    {
      "cell_type": "code",
      "metadata": {
        "id": "sdILAvE_crHs"
      },
      "source": [
        "from tensorflow.keras.models import model_from_json\n",
        "json_file = open('binarydarkcovidnet_bacvsviral.json', 'r')\n",
        "loaded_model_json = json_file.read()\n",
        "json_file.close()\n",
        "loaded_model = model_from_json(loaded_model_json)\n",
        "# load weights into new model\n",
        "loaded_model.load_weights(\"binarydarkcovidnet_bacvsviral.h5\")"
      ],
      "execution_count": null,
      "outputs": []
    },
    {
      "cell_type": "code",
      "metadata": {
        "id": "G9cSDaVPvv8A"
      },
      "source": [
        "testacc=[0.725, 0.725, 0.625, 0.675, 0.775, 0.575, 0.6, 0.475, 0.725, 0.675, 0.7, 0.7, 0.6, 0.675, 0.65, 0.65, 0.775]\n",
        "spec= [0.6, 0.65, 0.55, 0.6, 0.45, 0.35, 0.45, 0.6, 0.6, 0.6, 0.55, 0.5, 0.55, 0.6, 0.6, 0.65, 0.4]\n",
        "sens=[0.85, 0.6, 0.8, 0.95, 0.7, 0.85, 0.5, 0.85, 0.75, 0.8, 0.85, 0.7, 0.8, 0.7, 0.7, 0.9, 0.6]\n"
      ],
      "execution_count": null,
      "outputs": []
    },
    {
      "cell_type": "markdown",
      "metadata": {
        "id": "GGnZrKE71IyV"
      },
      "source": [
        "load x_test, y_test"
      ]
    },
    {
      "cell_type": "code",
      "metadata": {
        "id": "ODUOYEpEY9y4"
      },
      "source": [
        ""
      ],
      "execution_count": null,
      "outputs": []
    },
    {
      "cell_type": "code",
      "metadata": {
        "id": "RAYcOzNd9Oob"
      },
      "source": [
        "n=np.zeros(shape=(20,1))\n",
        "v=np.zeros(shape=(20,1))\n",
        "b=np.zeros(shape=(20,1))\n",
        "c=np.zeros(shape=(20,1))\n",
        "\n",
        "for i in range(20):\n",
        "  v[i]=0\n",
        "  c[i]=1\n",
        "\n",
        "\n",
        "x_test=np.concatenate((x_bacterial[1175:1195],x_viral[1075:1080],x_covid[200:215]))\n",
        "y_test=np.concatenate((v,c))\n"
      ],
      "execution_count": null,
      "outputs": []
    },
    {
      "cell_type": "code",
      "metadata": {
        "id": "OxBtghFvbay0"
      },
      "source": [
        "loaded_model.compile(loss='binary_crossentropy', optimizer='adam', metrics=['accuracy'])\n",
        "_, test_acc = loaded_model.evaluate(x_test, y_test, verbose=0)"
      ],
      "execution_count": null,
      "outputs": []
    },
    {
      "cell_type": "code",
      "metadata": {
        "id": "2UFcgQzlbMIS"
      },
      "source": [
        "y_pred=model.predict(x_test)"
      ],
      "execution_count": null,
      "outputs": []
    },
    {
      "cell_type": "code",
      "metadata": {
        "id": "UTFdmsBzbbgh"
      },
      "source": [
        "sample_labels = []\n",
        "for i in y_pred:\n",
        "  if i>0.5:\n",
        "    sample_labels.append(1)\n",
        "  else :\n",
        "    sample_labels.append(0) "
      ],
      "execution_count": null,
      "outputs": []
    },
    {
      "cell_type": "code",
      "metadata": {
        "id": "2gZMjnYq0bko",
        "outputId": "de9cf2c6-2131-4ef1-fe51-c75cc9410ca5",
        "colab": {
          "base_uri": "https://localhost:8080/",
          "height": 51
        }
      },
      "source": [
        "print('accuracy: ',test_acc,)\n",
        "print('loss:',_)"
      ],
      "execution_count": null,
      "outputs": [
        {
          "output_type": "stream",
          "text": [
            "accuracy:  0.625\n",
            "loss: 1.6435880184173584\n"
          ],
          "name": "stdout"
        }
      ]
    },
    {
      "cell_type": "code",
      "metadata": {
        "id": "BJOu4FyXaXVA",
        "outputId": "4139b4fb-39b5-434c-851d-81944415626e",
        "colab": {
          "base_uri": "https://localhost:8080/",
          "height": 583
        }
      },
      "source": [
        "from sklearn.metrics import confusion_matrix\n",
        "cm = confusion_matrix(y_test,sample_labels)\n",
        "import seaborn as sns\n",
        "df_cm = pd.DataFrame(cm, columns=['Bacterial Pneumonia','Viral Pnenumonia'], index = ['Bacterial Pneumonia','Viral Pnenumonia'])\n",
        "df_cm.index.name = 'Actual'\n",
        "df_cm.columns.name = 'Predicted'\n",
        "plt.figure(figsize = (10,7))\n",
        "sns.set(font_scale=1.4)#for label size\n",
        "sns.heatmap(df_cm, cmap=\"Blues\", annot=True,annot_kws={\"size\": 16},fmt='d')\n",
        "\n",
        "\n",
        "\n",
        "\n",
        "fp=cm[1][0]\n",
        "fn=cm[0][1]\n",
        "tp=cm[0][0]\n",
        "tn=cm[1][1]\n",
        "print(\"-----------------------------------\")\n",
        "print(\"TP : \",tp)\n",
        "print(\"TN : \",tn)\n",
        "print(\"FP : \",fp)\n",
        "print(\"FN : \",fn)\n",
        "print(\"sensitivity : \",tp/(float)((tp+fn)))\n",
        "print(\"specificity : \",tn/(float)((tn+fp)))\n",
        "sn=tp/(float)((tp+fn))\n",
        "sp=tn/(float)((tn+fp))\n"
      ],
      "execution_count": null,
      "outputs": [
        {
          "output_type": "stream",
          "text": [
            "-----------------------------------\n",
            "TP :  16\n",
            "TN :  9\n",
            "FP :  11\n",
            "FN :  4\n",
            "sensitivity :  0.8\n",
            "specificity :  0.45\n"
          ],
          "name": "stdout"
        },
        {
          "output_type": "display_data",
          "data": {
            "image/png": "[encoded data removed]",
            "text/plain": [
              "<Figure size 720x504 with 2 Axes>"
            ]
          },
          "metadata": {
            "tags": []
          }
        }
      ]
    },
    {
      "cell_type": "code",
      "metadata": {
        "id": "SFsWZ_Qg5KMd",
        "colab": {
          "base_uri": "https://localhost:8080/",
          "height": 340
        },
        "outputId": "8fd08e15-7124-4022-df26-d4c2cb5f7f02"
      },
      "source": [
        "testacc"
      ],
      "execution_count": null,
      "outputs": [
        {
          "output_type": "execute_result",
          "data": {
            "text/plain": [
              "[0.725,\n",
              " 0.725,\n",
              " 0.625,\n",
              " 0.675,\n",
              " 0.775,\n",
              " 0.575,\n",
              " 0.6,\n",
              " 0.475,\n",
              " 0.725,\n",
              " 0.675,\n",
              " 0.7,\n",
              " 0.7,\n",
              " 0.6,\n",
              " 0.675,\n",
              " 0.65,\n",
              " 0.65,\n",
              " 0.775,\n",
              " 0.5,\n",
              " 0.725]"
            ]
          },
          "metadata": {
            "tags": []
          },
          "execution_count": 284
        }
      ]
    },
    {
      "cell_type": "code",
      "metadata": {
        "id": "wfkPqZRyvtBV"
      },
      "source": [
        "testacc.append(test_acc)\n",
        "sens.append(sn)\n",
        "spec.append(sp)"
      ],
      "execution_count": null,
      "outputs": []
    },
    {
      "cell_type": "code",
      "metadata": {
        "id": "30ed7oM06obY",
        "colab": {
          "base_uri": "https://localhost:8080/",
          "height": 54
        },
        "outputId": "04b0a16d-b7b6-422c-e070-eb7e2db3718d"
      },
      "source": [
        "print(sens,spec)"
      ],
      "execution_count": null,
      "outputs": [
        {
          "output_type": "stream",
          "text": [
            "[0.85, 0.6, 0.8, 0.95, 0.7, 0.85, 0.5, 0.85, 0.75, 0.8, 0.85, 0.7, 0.8, 0.7, 0.7, 0.9, 0.6, 0.6, 0.85, 0.8] [0.6, 0.65, 0.55, 0.6, 0.45, 0.35, 0.45, 0.6, 0.6, 0.6, 0.55, 0.5, 0.55, 0.6, 0.6, 0.65, 0.4, 0.4, 0.6, 0.45]\n"
          ],
          "name": "stdout"
        }
      ]
    },
    {
      "cell_type": "code",
      "metadata": {
        "id": "__J_DJRu-_sE",
        "colab": {
          "base_uri": "https://localhost:8080/",
          "height": 34
        },
        "outputId": "50e58cd3-02eb-44be-a758-823db2106d9b"
      },
      "source": [
        "len(testacc)"
      ],
      "execution_count": null,
      "outputs": [
        {
          "output_type": "execute_result",
          "data": {
            "text/plain": [
              "20"
            ]
          },
          "metadata": {
            "tags": []
          },
          "execution_count": 287
        }
      ]
    },
    {
      "cell_type": "code",
      "metadata": {
        "id": "h8u-7-4tByd7",
        "colab": {
          "base_uri": "https://localhost:8080/",
          "height": 34
        },
        "outputId": "eccef455-0c08-4413-e651-6b35627302c0"
      },
      "source": [
        "len(sens)"
      ],
      "execution_count": null,
      "outputs": [
        {
          "output_type": "execute_result",
          "data": {
            "text/plain": [
              "20"
            ]
          },
          "metadata": {
            "tags": []
          },
          "execution_count": 288
        }
      ]
    },
    {
      "cell_type": "code",
      "metadata": {
        "id": "3wdCvR6KCE6s"
      },
      "source": [
        "dic={'test_acc':testacc, 'sens':sens,'spec':spec}"
      ],
      "execution_count": null,
      "outputs": []
    },
    {
      "cell_type": "code",
      "metadata": {
        "id": "LWSuiujGCS9Y"
      },
      "source": [
        "import pickle\n",
        "with open('Boxplot_bacvsviral_darkcovidnet.pkl', 'wb') as f:\n",
        "  pickle.dump(dic, f, pickle.HIGHEST_PROTOCOL)"
      ],
      "execution_count": null,
      "outputs": []
    },
    {
      "cell_type": "markdown",
      "metadata": {
        "id": "vOZxg5kI1fIa"
      },
      "source": [
        "Predicting a sample image"
      ]
    },
    {
      "cell_type": "code",
      "metadata": {
        "id": "t_RB_yt21j46"
      },
      "source": [
        "img = cv2.imread('/content/drive/My Drive/data/train/viral/viral0148.jpeg',0)\n",
        "img = cv2.resize(img,(256,256))\n",
        "img=np.uint8(cv2.normalize(img, None, 0, 255, cv2.NORM_MINMAX))\n",
        "img = cv2.equalizeHist(img)\n",
        "img = np.power(img, gamma) "
      ],
      "execution_count": null,
      "outputs": []
    },
    {
      "cell_type": "code",
      "metadata": {
        "id": "RojpoAiN2BgH"
      },
      "source": [
        "img=np.expand_dims(img,axis=(0,3))"
      ],
      "execution_count": null,
      "outputs": []
    },
    {
      "cell_type": "code",
      "metadata": {
        "id": "73pc3lmO2d3t"
      },
      "source": [
        "img.shape"
      ],
      "execution_count": null,
      "outputs": []
    },
    {
      "cell_type": "code",
      "metadata": {
        "id": "Qh3t8PJs2FIf"
      },
      "source": [
        "pred1=loaded_model.predict(img)\n",
        "pred1_label=enc.inverse_transform(pred1)\n",
        "for key in mapping.keys():\n",
        "  if(mapping[key]==pred1_label[0][0]):\n",
        "    print(key)"
      ],
      "execution_count": null,
      "outputs": []
    },
    {
      "cell_type": "markdown",
      "metadata": {
        "id": "DcimaziXrua9"
      },
      "source": [
        "Predicting Test samples and confusion matrix"
      ]
    },
    {
      "cell_type": "code",
      "metadata": {
        "id": "zCC-hmFAqbMx"
      },
      "source": [
        "from sklearn.metrics import confusion_matrix\n",
        "\n"
      ],
      "execution_count": null,
      "outputs": []
    }
  ]
}