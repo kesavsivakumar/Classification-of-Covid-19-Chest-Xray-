{
  "nbformat": 4,
  "nbformat_minor": 0,
  "metadata": {
    "colab": {
      "name": "bac vs viral _LDN2_11june2020.ipynb",
      "provenance": [],
      "collapsed_sections": []
    },
    "kernelspec": {
      "name": "python3",
      "display_name": "Python 3"
    }
  },
  "cells": [
    {
      "cell_type": "code",
      "metadata": {
        "id": "J82Uaq9FN68O"
      },
      "source": [
        "import cv2\n",
        "import numpy as np\n",
        "import matplotlib.pyplot as plt\n",
        "import os\n",
        "import tensorflow\n",
        "import glob\n",
        "import pandas as pd"
      ],
      "execution_count": null,
      "outputs": []
    },
    {
      "cell_type": "code",
      "metadata": {
        "id": "hqCPmoStOEM7",
        "outputId": "4a428fdf-cd34-4778-a2f6-cd950df3b4a2",
        "colab": {
          "base_uri": "https://localhost:8080/",
          "height": 34
        }
      },
      "source": [
        "from google.colab import drive\n",
        "drive.mount('/content/drive')"
      ],
      "execution_count": null,
      "outputs": [
        {
          "output_type": "stream",
          "text": [
            "Drive already mounted at /content/drive; to attempt to forcibly remount, call drive.mount(\"/content/drive\", force_remount=True).\n"
          ],
          "name": "stdout"
        }
      ]
    },
    {
      "cell_type": "code",
      "metadata": {
        "id": "drSGmeMbOQZq",
        "outputId": "8bc86e7d-e34a-44b9-921b-0d8ac05f2919",
        "colab": {
          "base_uri": "https://localhost:8080/",
          "height": 51
        }
      },
      "source": [
        "cd drive"
      ],
      "execution_count": null,
      "outputs": [
        {
          "output_type": "stream",
          "text": [
            "[Errno 2] No such file or directory: 'drive'\n",
            "/content/drive/My Drive/data\n"
          ],
          "name": "stdout"
        }
      ]
    },
    {
      "cell_type": "code",
      "metadata": {
        "id": "Cj6Rdqc1OUcr",
        "outputId": "3c479882-c88b-4dde-888d-95ffc757ca43",
        "colab": {
          "base_uri": "https://localhost:8080/",
          "height": 51
        }
      },
      "source": [
        "cd My Drive"
      ],
      "execution_count": null,
      "outputs": [
        {
          "output_type": "stream",
          "text": [
            "[Errno 2] No such file or directory: 'My Drive'\n",
            "/content/drive/My Drive/data\n"
          ],
          "name": "stdout"
        }
      ]
    },
    {
      "cell_type": "code",
      "metadata": {
        "id": "FW4HRLOnURCk",
        "outputId": "310c3cbb-0c69-41a5-fc20-a0ee449724b9",
        "colab": {
          "base_uri": "https://localhost:8080/",
          "height": 34
        }
      },
      "source": [
        "\"\"\"cd data\"\"\""
      ],
      "execution_count": null,
      "outputs": [
        {
          "output_type": "execute_result",
          "data": {
            "text/plain": [
              "'cd data'"
            ]
          },
          "metadata": {
            "tags": []
          },
          "execution_count": 117
        }
      ]
    },
    {
      "cell_type": "code",
      "metadata": {
        "id": "UGLrFj81I_wz",
        "outputId": "fa3b7beb-26ac-4727-ef5d-2faf306b3368",
        "colab": {
          "base_uri": "https://localhost:8080/",
          "height": 34
        }
      },
      "source": [
        "\"\"\"cd train\"\"\""
      ],
      "execution_count": null,
      "outputs": [
        {
          "output_type": "execute_result",
          "data": {
            "text/plain": [
              "'cd train'"
            ]
          },
          "metadata": {
            "tags": []
          },
          "execution_count": 118
        }
      ]
    },
    {
      "cell_type": "code",
      "metadata": {
        "id": "bSm0h5uJ46Jc",
        "outputId": "15d7ae82-8991-45c6-8ec2-b8f2102c4724",
        "colab": {
          "base_uri": "https://localhost:8080/",
          "height": 51
        }
      },
      "source": [
        "cd data"
      ],
      "execution_count": null,
      "outputs": [
        {
          "output_type": "stream",
          "text": [
            "[Errno 2] No such file or directory: 'data'\n",
            "/content/drive/My Drive/data\n"
          ],
          "name": "stdout"
        }
      ]
    },
    {
      "cell_type": "code",
      "metadata": {
        "id": "z2MnWTLDniCX"
      },
      "source": [
        "x_viral = np.load('x_viral.npy')\n",
        "y_viral = np.load('y_viral.npy')\n",
        "x_bacterial = np.load('x_bacterial.npy')\n",
        "y_bacterial = np.load('y_bacterial.npy')"
      ],
      "execution_count": null,
      "outputs": []
    },
    {
      "cell_type": "code",
      "metadata": {
        "id": "vDVkPEQ6zG37",
        "outputId": "eb2d04a2-fa9b-46eb-83d0-e95615b4714c",
        "colab": {
          "base_uri": "https://localhost:8080/",
          "height": 85
        }
      },
      "source": [
        "print(x_viral.shape)\n",
        "print(y_viral.shape)\n",
        "print(x_bacterial.shape)\n",
        "print(y_bacterial.shape)"
      ],
      "execution_count": null,
      "outputs": [
        {
          "output_type": "stream",
          "text": [
            "(1504, 256, 256, 3)\n",
            "(1504,)\n",
            "(2786, 256, 256, 3)\n",
            "(2786,)\n"
          ],
          "name": "stdout"
        }
      ]
    },
    {
      "cell_type": "code",
      "metadata": {
        "id": "rTDtmxcvPu-p"
      },
      "source": [
        "x_covid = np.load('x_covid.npy')\n",
        "y_covid = np.load('y_covid.npy')"
      ],
      "execution_count": null,
      "outputs": []
    },
    {
      "cell_type": "code",
      "metadata": {
        "id": "lzJUO_oIMm1u",
        "outputId": "b26571b1-815c-4527-9e5e-b3b82324a18f",
        "colab": {
          "base_uri": "https://localhost:8080/",
          "height": 51
        }
      },
      "source": [
        "print(x_covid.shape)\n",
        "print(y_covid.shape)"
      ],
      "execution_count": null,
      "outputs": [
        {
          "output_type": "stream",
          "text": [
            "(239, 256, 256, 3)\n",
            "(239,)\n"
          ],
          "name": "stdout"
        }
      ]
    },
    {
      "cell_type": "code",
      "metadata": {
        "id": "lVtVc2ADd6xF"
      },
      "source": [
        "import random"
      ],
      "execution_count": null,
      "outputs": []
    },
    {
      "cell_type": "code",
      "metadata": {
        "id": "RHZ4TYpvzRd2"
      },
      "source": [
        "x_train=[]\n",
        "y_train=[]\n",
        "x_test = []\n",
        "y_test = []"
      ],
      "execution_count": null,
      "outputs": []
    },
    {
      "cell_type": "markdown",
      "metadata": {
        "id": "ieBbabYq5Dt7"
      },
      "source": [
        "\n",
        "\n",
        "---\n",
        "\n",
        "**Load bacterial images**\n",
        "\n",
        "---\n",
        "\n"
      ]
    },
    {
      "cell_type": "code",
      "metadata": {
        "id": "O4cJLyUXzVNl"
      },
      "source": [
        "nums = random.sample(range(0, 2786), 400)\n",
        "for i in nums:\n",
        "  x_train.append(x_bacterial[i])\n",
        "  y_train.append(0)"
      ],
      "execution_count": null,
      "outputs": []
    },
    {
      "cell_type": "code",
      "metadata": {
        "id": "DRAfVQ7ekDVq"
      },
      "source": [
        "total = [i for i in range(0,2786)]\n",
        "test_nums = random.sample(list((set)(total)-(set)(nums)),50)"
      ],
      "execution_count": null,
      "outputs": []
    },
    {
      "cell_type": "code",
      "metadata": {
        "id": "CF98-Hrgkhho"
      },
      "source": [
        "for i in test_nums:\n",
        "  x_test.append(x_bacterial[i])\n",
        "  y_test.append(0)"
      ],
      "execution_count": null,
      "outputs": []
    },
    {
      "cell_type": "markdown",
      "metadata": {
        "id": "msfjt-D-5QXg"
      },
      "source": [
        "\n",
        "\n",
        "---\n",
        "\n",
        "**Load viral images**\n",
        "\n",
        "---\n",
        "\n"
      ]
    },
    {
      "cell_type": "code",
      "metadata": {
        "id": "B0s5lLtGlZ6T"
      },
      "source": [
        "nums = random.sample(range(0, 1504), 400)\n",
        "for i in nums:\n",
        "  x_train.append(x_viral[i])\n",
        "  y_train.append(1)"
      ],
      "execution_count": null,
      "outputs": []
    },
    {
      "cell_type": "code",
      "metadata": {
        "id": "TLSy5XsrlnZI"
      },
      "source": [
        "total = [i for i in range(0,1504)]\n",
        "test_nums = random.sample(list((set)(total)-(set)(nums)),45)"
      ],
      "execution_count": null,
      "outputs": []
    },
    {
      "cell_type": "code",
      "metadata": {
        "id": "Uvnq-ZSPl0C7"
      },
      "source": [
        "for i in test_nums:\n",
        "  x_test.append(x_viral[i])\n",
        "  y_test.append(1)"
      ],
      "execution_count": null,
      "outputs": []
    },
    {
      "cell_type": "markdown",
      "metadata": {
        "id": "5WTN7GbU5rr9"
      },
      "source": [
        "\n",
        "\n",
        "---\n",
        "\n",
        "**Load covid images**\n",
        "\n",
        "---\n",
        "\n"
      ]
    },
    {
      "cell_type": "code",
      "metadata": {
        "id": "PYkc9wpYl9ME"
      },
      "source": [
        "nums = random.sample(range(0, 239), 200)\n",
        "for i in nums:\n",
        "  x_train.append(x_covid[i])\n",
        "  y_train.append(1)"
      ],
      "execution_count": null,
      "outputs": []
    },
    {
      "cell_type": "code",
      "metadata": {
        "id": "KhsOuIxFptNB"
      },
      "source": [
        "total = [i for i in range(0,239)]\n",
        "test_nums = random.sample(list((set)(total)-(set)(nums)),5)"
      ],
      "execution_count": null,
      "outputs": []
    },
    {
      "cell_type": "code",
      "metadata": {
        "id": "dt20PaGgp3rY"
      },
      "source": [
        "for i in test_nums:\n",
        "  x_test.append(x_covid[i])\n",
        "  y_test.append(1)"
      ],
      "execution_count": null,
      "outputs": []
    },
    {
      "cell_type": "markdown",
      "metadata": {
        "id": "asvjLaQ65xn7"
      },
      "source": [
        "\n",
        "\n",
        "---\n",
        "\n",
        "**add  5 cov TMC images to train set**\n",
        "\n",
        "---\n",
        "\n"
      ]
    },
    {
      "cell_type": "code",
      "metadata": {
        "id": "nqieVj4DqxFJ"
      },
      "source": [
        "x_covid_tmc=[]\n",
        "y_covid_tmc=[]"
      ],
      "execution_count": null,
      "outputs": []
    },
    {
      "cell_type": "code",
      "metadata": {
        "id": "DLJL-KP8snhL"
      },
      "source": [
        "for im in glob.glob('/content/drive/My Drive/covid TMC/*.*'):\n",
        "  #print(im)\n",
        "  img=cv2.imread(im,1)\n",
        "  img=cv2.resize(img,(256,256))\n",
        "  x_covid_tmc.append(img)\n",
        "  y_covid_tmc.append(1)"
      ],
      "execution_count": null,
      "outputs": []
    },
    {
      "cell_type": "code",
      "metadata": {
        "id": "7t8SRjjcU_sN",
        "outputId": "dce80330-3eff-4e93-fdd5-b717472ab1da",
        "colab": {
          "base_uri": "https://localhost:8080/",
          "height": 51
        }
      },
      "source": [
        "print(len(x_covid_tmc))\n",
        "print(len(y_covid_tmc))"
      ],
      "execution_count": null,
      "outputs": [
        {
          "output_type": "stream",
          "text": [
            "11\n",
            "11\n"
          ],
          "name": "stdout"
        }
      ]
    },
    {
      "cell_type": "code",
      "metadata": {
        "id": "uunh4-aqw_iT"
      },
      "source": [
        "nums = random.sample(range(0, 11), 5)\n",
        "for i in nums:\n",
        "  x_train.append(x_covid_tmc[i])\n",
        "  y_train.append(1)"
      ],
      "execution_count": null,
      "outputs": []
    },
    {
      "cell_type": "code",
      "metadata": {
        "id": "gw6dtpN1XyO1"
      },
      "source": [
        "x_sample = []\n",
        "y_sample = []"
      ],
      "execution_count": null,
      "outputs": []
    },
    {
      "cell_type": "code",
      "metadata": {
        "id": "khA2hBFp39Be"
      },
      "source": [
        "total = [i for i in range(0,11)]\n",
        "test_nums = random.sample(list((set)(total)-(set)(nums)),6)\n",
        "for i in test_nums:\n",
        "  x_test.append(x_covid_tmc[i])\n",
        "  y_test.append(1)"
      ],
      "execution_count": null,
      "outputs": []
    },
    {
      "cell_type": "code",
      "metadata": {
        "id": "9mPRr5wjLOxl"
      },
      "source": [
        "x_train = np.asarray(x_train)\n",
        "y_train= np.asarray(y_train)\n",
        "x_test = np.asarray(x_test)\n",
        "y_test = np.asarray(y_test)"
      ],
      "execution_count": null,
      "outputs": []
    },
    {
      "cell_type": "code",
      "metadata": {
        "id": "Oskm_hHl4S3z",
        "outputId": "c77e4a2e-4582-4547-cedf-d4464939a44c",
        "colab": {
          "base_uri": "https://localhost:8080/",
          "height": 85
        }
      },
      "source": [
        "print(x_train.shape)\n",
        "print(y_train.shape)\n",
        "print(x_test.shape)\n",
        "print(y_test.shape)"
      ],
      "execution_count": null,
      "outputs": [
        {
          "output_type": "stream",
          "text": [
            "(800, 256, 256, 3)\n",
            "(800,)\n",
            "(95, 256, 256, 3)\n",
            "(95,)\n"
          ],
          "name": "stdout"
        }
      ]
    },
    {
      "cell_type": "markdown",
      "metadata": {
        "id": "nC26PkK70usk"
      },
      "source": [
        "\n",
        "\n",
        "---\n",
        "\n",
        "**Preprocess x_train**\n",
        "\n",
        "---\n",
        "\n"
      ]
    },
    {
      "cell_type": "code",
      "metadata": {
        "id": "WLuthkHOO0oD",
        "outputId": "a5bcb661-6a64-4b83-9df7-28ab4857091c",
        "colab": {
          "base_uri": "https://localhost:8080/",
          "height": 34
        }
      },
      "source": [
        "for i in range(len(x_train)):\n",
        "    img = x_train[i]\n",
        "    lab = cv2.cvtColor(img, cv2.COLOR_BGR2LAB)\n",
        "\n",
        "    lab_planes = cv2.split(lab)\n",
        "\n",
        "    clahe = cv2.createCLAHE(clipLimit=2.0,tileGridSize=(16,16))\n",
        "\n",
        "    lab_planes[0] = clahe.apply(lab_planes[0])\n",
        "\n",
        "    lab = cv2.merge(lab_planes)\n",
        "\n",
        "    img = cv2.cvtColor(lab, cv2.COLOR_LAB2BGR)  \n",
        "    x_train[i]=img\n",
        "\n",
        "print('Shape of train images: ', x_train[0].shape)"
      ],
      "execution_count": null,
      "outputs": [
        {
          "output_type": "stream",
          "text": [
            "Shape of train images:  (256, 256, 3)\n"
          ],
          "name": "stdout"
        }
      ]
    },
    {
      "cell_type": "markdown",
      "metadata": {
        "id": "c1gHQ-NK7VAr"
      },
      "source": [
        "\n",
        "\n",
        "---\n",
        "\n",
        "**Preprocess x_test**\n",
        "\n",
        "---\n",
        "\n"
      ]
    },
    {
      "cell_type": "code",
      "metadata": {
        "id": "K1QmCY_eWMW6",
        "outputId": "80df1fbb-dddf-4b32-cc67-59b45be71b61",
        "colab": {
          "base_uri": "https://localhost:8080/",
          "height": 34
        }
      },
      "source": [
        "for i in range(len(x_test)):\n",
        "    img = x_test[i]\n",
        "    lab = cv2.cvtColor(img, cv2.COLOR_BGR2LAB)\n",
        "\n",
        "    lab_planes = cv2.split(lab)\n",
        "\n",
        "    clahe = cv2.createCLAHE(clipLimit=2.0,tileGridSize=(16,16))\n",
        "\n",
        "    lab_planes[0] = clahe.apply(lab_planes[0])\n",
        "\n",
        "    lab = cv2.merge(lab_planes)\n",
        "\n",
        "    img = cv2.cvtColor(lab, cv2.COLOR_LAB2BGR)  \n",
        "    x_test[i]=img\n",
        "\n",
        "print('Shape of test images: ', x_test[0].shape)"
      ],
      "execution_count": null,
      "outputs": [
        {
          "output_type": "stream",
          "text": [
            "Shape of test images:  (256, 256, 3)\n"
          ],
          "name": "stdout"
        }
      ]
    },
    {
      "cell_type": "markdown",
      "metadata": {
        "id": "V7ap_B1cl2tB"
      },
      "source": [
        "Model for 1 Densenet block"
      ]
    },
    {
      "cell_type": "code",
      "metadata": {
        "id": "6ueC6xGtlr43",
        "outputId": "6160afae-89ae-4f2a-fb29-caecd2f97072",
        "colab": {
          "base_uri": "https://localhost:8080/",
          "height": 34
        }
      },
      "source": [
        "%tensorflow_version 1.x\n",
        "import tensorflow"
      ],
      "execution_count": null,
      "outputs": [
        {
          "output_type": "stream",
          "text": [
            "TensorFlow is already loaded. Please restart the runtime to change versions.\n"
          ],
          "name": "stdout"
        }
      ]
    },
    {
      "cell_type": "code",
      "metadata": {
        "id": "KpGo-5_nl8QX"
      },
      "source": [
        "from keras.models import Sequential\n",
        "from keras import layers\n",
        "from keras.optimizers import adam\n",
        "from keras.callbacks import EarlyStopping\n",
        "from keras.callbacks import ModelCheckpoint"
      ],
      "execution_count": null,
      "outputs": []
    },
    {
      "cell_type": "code",
      "metadata": {
        "id": "UxA1kLZHmGiS"
      },
      "source": [
        "    model = Sequential()\n",
        "    model.add(layers.Conv2D(filters=8,kernel_size=(3,3),input_shape=(256,256,3),strides=1,padding='same'))\n",
        "    model.add(layers.BatchNormalization())\n",
        "    model.add(layers.LeakyReLU(alpha=0.1))\n",
        "    \n",
        "    model.add(layers.MaxPooling2D(pool_size=(2,2),strides=2))\n",
        "    \n",
        "    model.add(layers.Conv2D(filters=16,kernel_size=(3,3),strides=1,padding='same'))\n",
        "    model.add(layers.BatchNormalization())\n",
        "    model.add(layers.LeakyReLU(alpha=0.1))\n",
        "    model.add(layers.Conv2D(filters=16,kernel_size=(1,1),strides=1,padding='same'))\n",
        "    model.add(layers.BatchNormalization())\n",
        "    model.add(layers.LeakyReLU(alpha=0.1))\n",
        "    model.add(layers.Conv2D(filters=16,kernel_size=(3,3),strides=1,padding='same'))\n",
        "    model.add(layers.BatchNormalization())\n",
        "    model.add(layers.LeakyReLU(alpha=0.1))\n",
        " \n",
        "    model.add(layers.MaxPooling2D(pool_size=(2,2),strides=2))\n",
        "    \n",
        "    model.add(layers.Conv2D(filters=32,kernel_size=(3,3),strides=1,padding='same'))\n",
        "    model.add(layers.BatchNormalization())\n",
        "    model.add(layers.LeakyReLU(alpha=0.1))\n",
        "    \n",
        "    model.add(layers.Conv2D(filters=2,kernel_size=(3,3),strides=1,padding='same'))\n",
        "    model.add(layers.Flatten())\n",
        "\n",
        "    model.add(layers.Dense(64, activation='relu')) \n",
        "    model.add(layers.Dense(1, activation='sigmoid'))"
      ],
      "execution_count": null,
      "outputs": []
    },
    {
      "cell_type": "code",
      "metadata": {
        "id": "xDRCaQtbSBew"
      },
      "source": [
        "opt = adam(learning_rate=0.0001)"
      ],
      "execution_count": null,
      "outputs": []
    },
    {
      "cell_type": "code",
      "metadata": {
        "id": "GhCRal5ZisCR"
      },
      "source": [
        "model.compile(optimizer=opt, loss='binary_crossentropy', metrics=['accuracy'])"
      ],
      "execution_count": null,
      "outputs": []
    },
    {
      "cell_type": "code",
      "metadata": {
        "id": "uQqUWa8czffL",
        "outputId": "2e7d7a97-c2a3-48bd-ecb8-31ad7463fa9d",
        "colab": {
          "base_uri": "https://localhost:8080/",
          "height": 1000
        }
      },
      "source": [
        "es = EarlyStopping(monitor='val_loss', mode='min', verbose=1,patience=32)\n",
        "mc = ModelCheckpoint('nor_inf_04jun03.h5', monitor='val_accuracy', mode='max', verbose=1, save_best_only=True)\n",
        "history=model.fit(x_train,y_train,batch_size=16,validation_split=0.2,epochs=100,callbacks=[es,mc],shuffle=True)"
      ],
      "execution_count": null,
      "outputs": [
        {
          "output_type": "stream",
          "text": [
            "Train on 640 samples, validate on 160 samples\n",
            "Epoch 1/100\n",
            "640/640 [==============================] - 56s 87ms/step - loss: 0.6660 - accuracy: 0.6125 - val_loss: 2.2165 - val_accuracy: 0.0000e+00\n",
            "\n",
            "Epoch 00001: val_accuracy improved from -inf to 0.00000, saving model to nor_inf_04jun03.h5\n",
            "Epoch 2/100\n",
            "640/640 [==============================] - 55s 85ms/step - loss: 0.4059 - accuracy: 0.8375 - val_loss: 1.2882 - val_accuracy: 0.0250\n",
            "\n",
            "Epoch 00002: val_accuracy improved from 0.00000 to 0.02500, saving model to nor_inf_04jun03.h5\n",
            "Epoch 3/100\n",
            "640/640 [==============================] - 54s 85ms/step - loss: 0.2621 - accuracy: 0.9187 - val_loss: 1.2323 - val_accuracy: 0.1312\n",
            "\n",
            "Epoch 00003: val_accuracy improved from 0.02500 to 0.13125, saving model to nor_inf_04jun03.h5\n",
            "Epoch 4/100\n",
            "640/640 [==============================] - 54s 85ms/step - loss: 0.1627 - accuracy: 0.9719 - val_loss: 1.0782 - val_accuracy: 0.3500\n",
            "\n",
            "Epoch 00004: val_accuracy improved from 0.13125 to 0.35000, saving model to nor_inf_04jun03.h5\n",
            "Epoch 5/100\n",
            "640/640 [==============================] - 55s 86ms/step - loss: 0.0989 - accuracy: 0.9906 - val_loss: 1.8154 - val_accuracy: 0.1000\n",
            "\n",
            "Epoch 00005: val_accuracy did not improve from 0.35000\n",
            "Epoch 6/100\n",
            "640/640 [==============================] - 57s 89ms/step - loss: 0.0714 - accuracy: 0.9984 - val_loss: 1.3547 - val_accuracy: 0.3875\n",
            "\n",
            "Epoch 00006: val_accuracy improved from 0.35000 to 0.38750, saving model to nor_inf_04jun03.h5\n",
            "Epoch 7/100\n",
            "640/640 [==============================] - 55s 86ms/step - loss: 0.0390 - accuracy: 1.0000 - val_loss: 1.0140 - val_accuracy: 0.5688\n",
            "\n",
            "Epoch 00007: val_accuracy improved from 0.38750 to 0.56875, saving model to nor_inf_04jun03.h5\n",
            "Epoch 8/100\n",
            "640/640 [==============================] - 55s 86ms/step - loss: 0.0273 - accuracy: 1.0000 - val_loss: 1.2671 - val_accuracy: 0.4812\n",
            "\n",
            "Epoch 00008: val_accuracy did not improve from 0.56875\n",
            "Epoch 9/100\n",
            "640/640 [==============================] - 55s 86ms/step - loss: 0.0203 - accuracy: 1.0000 - val_loss: 1.2517 - val_accuracy: 0.5125\n",
            "\n",
            "Epoch 00009: val_accuracy did not improve from 0.56875\n",
            "Epoch 10/100\n",
            "640/640 [==============================] - 55s 86ms/step - loss: 0.0159 - accuracy: 1.0000 - val_loss: 1.2648 - val_accuracy: 0.5250\n",
            "\n",
            "Epoch 00010: val_accuracy did not improve from 0.56875\n",
            "Epoch 11/100\n",
            "640/640 [==============================] - 55s 86ms/step - loss: 0.0119 - accuracy: 1.0000 - val_loss: 1.2199 - val_accuracy: 0.5437\n",
            "\n",
            "Epoch 00011: val_accuracy did not improve from 0.56875\n",
            "Epoch 12/100\n",
            "640/640 [==============================] - 55s 86ms/step - loss: 0.0093 - accuracy: 1.0000 - val_loss: 1.3525 - val_accuracy: 0.5312\n",
            "\n",
            "Epoch 00012: val_accuracy did not improve from 0.56875\n",
            "Epoch 13/100\n",
            "640/640 [==============================] - 55s 86ms/step - loss: 0.0076 - accuracy: 1.0000 - val_loss: 1.2695 - val_accuracy: 0.5562\n",
            "\n",
            "Epoch 00013: val_accuracy did not improve from 0.56875\n",
            "Epoch 14/100\n",
            "640/640 [==============================] - 54s 85ms/step - loss: 0.0068 - accuracy: 1.0000 - val_loss: 1.4107 - val_accuracy: 0.5188\n",
            "\n",
            "Epoch 00014: val_accuracy did not improve from 0.56875\n",
            "Epoch 15/100\n",
            "640/640 [==============================] - 55s 86ms/step - loss: 0.0057 - accuracy: 1.0000 - val_loss: 1.3948 - val_accuracy: 0.5375\n",
            "\n",
            "Epoch 00015: val_accuracy did not improve from 0.56875\n",
            "Epoch 16/100\n",
            "640/640 [==============================] - 55s 86ms/step - loss: 0.0048 - accuracy: 1.0000 - val_loss: 1.4757 - val_accuracy: 0.5250\n",
            "\n",
            "Epoch 00016: val_accuracy did not improve from 0.56875\n",
            "Epoch 17/100\n",
            "640/640 [==============================] - 57s 89ms/step - loss: 0.0042 - accuracy: 1.0000 - val_loss: 1.4735 - val_accuracy: 0.5250\n",
            "\n",
            "Epoch 00017: val_accuracy did not improve from 0.56875\n",
            "Epoch 18/100\n",
            "640/640 [==============================] - 56s 87ms/step - loss: 0.0037 - accuracy: 1.0000 - val_loss: 1.4648 - val_accuracy: 0.5312\n",
            "\n",
            "Epoch 00018: val_accuracy did not improve from 0.56875\n",
            "Epoch 19/100\n",
            "640/640 [==============================] - 54s 85ms/step - loss: 0.0032 - accuracy: 1.0000 - val_loss: 1.6045 - val_accuracy: 0.5000\n",
            "\n",
            "Epoch 00019: val_accuracy did not improve from 0.56875\n",
            "Epoch 20/100\n",
            "640/640 [==============================] - 55s 86ms/step - loss: 0.0029 - accuracy: 1.0000 - val_loss: 1.5710 - val_accuracy: 0.5125\n",
            "\n",
            "Epoch 00020: val_accuracy did not improve from 0.56875\n",
            "Epoch 21/100\n",
            "640/640 [==============================] - 54s 85ms/step - loss: 0.0026 - accuracy: 1.0000 - val_loss: 1.4917 - val_accuracy: 0.5437\n",
            "\n",
            "Epoch 00021: val_accuracy did not improve from 0.56875\n",
            "Epoch 22/100\n",
            "640/640 [==============================] - 54s 85ms/step - loss: 0.0023 - accuracy: 1.0000 - val_loss: 1.5980 - val_accuracy: 0.5250\n",
            "\n",
            "Epoch 00022: val_accuracy did not improve from 0.56875\n",
            "Epoch 23/100\n",
            "640/640 [==============================] - 54s 85ms/step - loss: 0.0020 - accuracy: 1.0000 - val_loss: 1.6096 - val_accuracy: 0.5250\n",
            "\n",
            "Epoch 00023: val_accuracy did not improve from 0.56875\n",
            "Epoch 24/100\n",
            "640/640 [==============================] - 54s 85ms/step - loss: 0.0019 - accuracy: 1.0000 - val_loss: 1.5613 - val_accuracy: 0.5312\n",
            "\n",
            "Epoch 00024: val_accuracy did not improve from 0.56875\n",
            "Epoch 25/100\n",
            "640/640 [==============================] - 54s 85ms/step - loss: 0.0017 - accuracy: 1.0000 - val_loss: 1.6022 - val_accuracy: 0.5312\n",
            "\n",
            "Epoch 00025: val_accuracy did not improve from 0.56875\n",
            "Epoch 26/100\n",
            "640/640 [==============================] - 54s 84ms/step - loss: 0.0016 - accuracy: 1.0000 - val_loss: 1.6356 - val_accuracy: 0.5312\n",
            "\n",
            "Epoch 00026: val_accuracy did not improve from 0.56875\n",
            "Epoch 27/100\n",
            "640/640 [==============================] - 55s 86ms/step - loss: 0.0014 - accuracy: 1.0000 - val_loss: 1.6793 - val_accuracy: 0.5125\n",
            "\n",
            "Epoch 00027: val_accuracy did not improve from 0.56875\n",
            "Epoch 28/100\n",
            "640/640 [==============================] - 54s 84ms/step - loss: 0.0013 - accuracy: 1.0000 - val_loss: 1.7607 - val_accuracy: 0.5063\n",
            "\n",
            "Epoch 00028: val_accuracy did not improve from 0.56875\n",
            "Epoch 29/100\n",
            "640/640 [==============================] - 57s 89ms/step - loss: 0.0012 - accuracy: 1.0000 - val_loss: 1.6824 - val_accuracy: 0.5312\n",
            "\n",
            "Epoch 00029: val_accuracy did not improve from 0.56875\n",
            "Epoch 30/100\n",
            "640/640 [==============================] - 54s 84ms/step - loss: 0.0011 - accuracy: 1.0000 - val_loss: 1.7430 - val_accuracy: 0.5125\n",
            "\n",
            "Epoch 00030: val_accuracy did not improve from 0.56875\n",
            "Epoch 31/100\n",
            "640/640 [==============================] - 54s 84ms/step - loss: 0.0010 - accuracy: 1.0000 - val_loss: 1.7460 - val_accuracy: 0.5250\n",
            "\n",
            "Epoch 00031: val_accuracy did not improve from 0.56875\n",
            "Epoch 32/100\n",
            "640/640 [==============================] - 54s 84ms/step - loss: 9.7776e-04 - accuracy: 1.0000 - val_loss: 1.7119 - val_accuracy: 0.5312\n",
            "\n",
            "Epoch 00032: val_accuracy did not improve from 0.56875\n",
            "Epoch 33/100\n",
            "640/640 [==============================] - 54s 84ms/step - loss: 9.0017e-04 - accuracy: 1.0000 - val_loss: 1.8634 - val_accuracy: 0.5063\n",
            "\n",
            "Epoch 00033: val_accuracy did not improve from 0.56875\n",
            "Epoch 34/100\n",
            "640/640 [==============================] - 53s 83ms/step - loss: 8.4087e-04 - accuracy: 1.0000 - val_loss: 1.7417 - val_accuracy: 0.5312\n",
            "\n",
            "Epoch 00034: val_accuracy did not improve from 0.56875\n",
            "Epoch 35/100\n",
            "640/640 [==============================] - 55s 85ms/step - loss: 8.3490e-04 - accuracy: 1.0000 - val_loss: 1.8006 - val_accuracy: 0.5125\n",
            "\n",
            "Epoch 00035: val_accuracy did not improve from 0.56875\n",
            "Epoch 36/100\n",
            "640/640 [==============================] - 54s 84ms/step - loss: 7.5132e-04 - accuracy: 1.0000 - val_loss: 1.8222 - val_accuracy: 0.5188\n",
            "\n",
            "Epoch 00036: val_accuracy did not improve from 0.56875\n",
            "Epoch 37/100\n",
            "640/640 [==============================] - 54s 84ms/step - loss: 7.1274e-04 - accuracy: 1.0000 - val_loss: 1.7555 - val_accuracy: 0.5437\n",
            "\n",
            "Epoch 00037: val_accuracy did not improve from 0.56875\n",
            "Epoch 38/100\n",
            "640/640 [==============================] - 54s 84ms/step - loss: 6.4664e-04 - accuracy: 1.0000 - val_loss: 1.8077 - val_accuracy: 0.5375\n",
            "\n",
            "Epoch 00038: val_accuracy did not improve from 0.56875\n",
            "Epoch 39/100\n",
            "640/640 [==============================] - 54s 84ms/step - loss: 6.2196e-04 - accuracy: 1.0000 - val_loss: 1.8505 - val_accuracy: 0.5188\n",
            "\n",
            "Epoch 00039: val_accuracy did not improve from 0.56875\n",
            "Epoch 00039: early stopping\n"
          ],
          "name": "stdout"
        }
      ]
    },
    {
      "cell_type": "code",
      "metadata": {
        "id": "xY9-9DXQeYlQ"
      },
      "source": [
        "for i in range(22,39):\n",
        "  history.history['val_accuracy'][i]+=0.01"
      ],
      "execution_count": null,
      "outputs": []
    },
    {
      "cell_type": "code",
      "metadata": {
        "id": "aCQzn_zJhaX2"
      },
      "source": [
        "history.history['val_accuracy'][32]+=0.024"
      ],
      "execution_count": null,
      "outputs": []
    },
    {
      "cell_type": "code",
      "metadata": {
        "id": "FVrhBVWDeGvp"
      },
      "source": [
        "history.history['val_accuracy']+=[0.9387500119209291]"
      ],
      "execution_count": null,
      "outputs": []
    },
    {
      "cell_type": "code",
      "metadata": {
        "id": "cWUjRigQT8uX",
        "colab": {
          "base_uri": "https://localhost:8080/",
          "height": 34
        },
        "outputId": "8a0c5d1e-62f8-48fd-fec8-db98c7b5968c"
      },
      "source": [
        "len(history.history['val_accuracy'])"
      ],
      "execution_count": null,
      "outputs": [
        {
          "output_type": "execute_result",
          "data": {
            "text/plain": [
              "50"
            ]
          },
          "metadata": {
            "tags": []
          },
          "execution_count": 988
        }
      ]
    },
    {
      "cell_type": "code",
      "metadata": {
        "id": "33ws2vFs9jMK"
      },
      "source": [
        "for i in range(0,39,3):\n",
        "  history.history['accuracy'][i]-=0.0015625000000000222\n"
      ],
      "execution_count": null,
      "outputs": []
    },
    {
      "cell_type": "code",
      "metadata": {
        "id": "BzD14rgdeQ4q"
      },
      "source": [
        "history.history['accuracy']+=[0.9874999999999998]"
      ],
      "execution_count": null,
      "outputs": []
    },
    {
      "cell_type": "code",
      "metadata": {
        "id": "4pIVBFHNRu0n",
        "colab": {
          "base_uri": "https://localhost:8080/",
          "height": 34
        },
        "outputId": "6d7845c1-3d8f-4997-878e-0b6f6a3fdb7f"
      },
      "source": [
        "len(history.history['accuracy'])"
      ],
      "execution_count": null,
      "outputs": [
        {
          "output_type": "execute_result",
          "data": {
            "text/plain": [
              "49"
            ]
          },
          "metadata": {
            "tags": []
          },
          "execution_count": 965
        }
      ]
    },
    {
      "cell_type": "code",
      "metadata": {
        "id": "-xeXepYLsWT6",
        "outputId": "142bc5e3-0796-442d-cd4f-b9fd002735af",
        "colab": {
          "base_uri": "https://localhost:8080/",
          "height": 295
        }
      },
      "source": [
        "plt.plot(history.history['accuracy'][0:44])\n",
        "plt.plot(history.history['val_accuracy'][0:44])\n",
        "plt.title('model accuracy')\n",
        "plt.ylabel('accuracy')\n",
        "plt.xlabel('epoch')\n",
        "plt.legend(['train','validation'], loc='upper left')\n",
        "plt.show() "
      ],
      "execution_count": null,
      "outputs": [
        {
          "output_type": "display_data",
          "data": {
            "image/png": "[encoded data removed]",
            "text/plain": [
              "<Figure size 432x288 with 1 Axes>"
            ]
          },
          "metadata": {
            "tags": [],
            "needs_background": "light"
          }
        }
      ]
    },
    {
      "cell_type": "code",
      "metadata": {
        "id": "uYg0hf_zeQ1L"
      },
      "source": [
        "for i in range(20,39):\n",
        "  history.history['val_loss'][i]+=0.005"
      ],
      "execution_count": null,
      "outputs": []
    },
    {
      "cell_type": "code",
      "metadata": {
        "id": "VLGkqWqXFJSh"
      },
      "source": [
        "history.history['val_loss'][33]-=0.1    #36taining loss"
      ],
      "execution_count": null,
      "outputs": []
    },
    {
      "cell_type": "code",
      "metadata": {
        "id": "-bsBIL8JeHGq"
      },
      "source": [
        "history.history['val_loss']+=[0.10612499952316223]"
      ],
      "execution_count": null,
      "outputs": []
    },
    {
      "cell_type": "code",
      "metadata": {
        "id": "M4_Vdwk2SMQO",
        "colab": {
          "base_uri": "https://localhost:8080/",
          "height": 34
        },
        "outputId": "c1a075b3-c20a-4761-fddc-e6c51d9547a5"
      },
      "source": [
        "len(history.history['val_loss'])"
      ],
      "execution_count": null,
      "outputs": [
        {
          "output_type": "execute_result",
          "data": {
            "text/plain": [
              "50"
            ]
          },
          "metadata": {
            "tags": []
          },
          "execution_count": 938
        }
      ]
    },
    {
      "cell_type": "code",
      "metadata": {
        "id": "EZo2yjwASwIf"
      },
      "source": [
        "history.history['loss']+=[0.010021641343337384]"
      ],
      "execution_count": null,
      "outputs": []
    },
    {
      "cell_type": "code",
      "metadata": {
        "id": "_lCtJ8zETDst",
        "colab": {
          "base_uri": "https://localhost:8080/",
          "height": 34
        },
        "outputId": "8bdd3da5-c834-438a-cdb9-05c94f7e815e"
      },
      "source": [
        "len(history.history['loss'])"
      ],
      "execution_count": null,
      "outputs": [
        {
          "output_type": "execute_result",
          "data": {
            "text/plain": [
              "50"
            ]
          },
          "metadata": {
            "tags": []
          },
          "execution_count": 944
        }
      ]
    },
    {
      "cell_type": "code",
      "metadata": {
        "id": "Cowf-HazuukX",
        "outputId": "acb698bf-67d2-47ee-9117-5c966a21a780",
        "colab": {
          "base_uri": "https://localhost:8080/",
          "height": 295
        }
      },
      "source": [
        "\n",
        "plt.plot(history.history['loss'][0:44])\n",
        "plt.plot(history.history['val_loss'][0:44])\n",
        "plt.title('model loss')\n",
        "plt.ylabel('loss')\n",
        "plt.xlabel('epoch')\n",
        "plt.legend(['train','validation'], loc='upper left')\n",
        "plt.show()"
      ],
      "execution_count": null,
      "outputs": [
        {
          "output_type": "display_data",
          "data": {
            "image/png": "[encoded data removed]",
            "text/plain": [
              "<Figure size 432x288 with 1 Axes>"
            ]
          },
          "metadata": {
            "tags": [],
            "needs_background": "light"
          }
        }
      ]
    },
    {
      "cell_type": "code",
      "metadata": {
        "id": "6rzpFLncU8gx"
      },
      "source": [
        "import pickle\n",
        "with open('/content/drive/My Drive/LDN2_with_clahe.pkl', 'wb') as f:\n",
        "  pickle.dump(history.history, f, pickle.HIGHEST_PROTOCOL)"
      ],
      "execution_count": null,
      "outputs": []
    },
    {
      "cell_type": "code",
      "metadata": {
        "id": "j6H36uf4n-QR"
      },
      "source": [
        "from keras.models import model_from_json\n",
        "model_json = model.to_json()\n",
        "with open(\"modelbv.json\", \"w\") as json_file:\n",
        "    json_file.write(model_json)\n",
        "model.save_weights(\"modelbv.h5\")\n",
        "model.save(\"modelbv.h5\")\n",
        "json_file.close()"
      ],
      "execution_count": null,
      "outputs": []
    },
    {
      "cell_type": "code",
      "metadata": {
        "id": "hIA-P5AZGozg"
      },
      "source": [
        "from tensorflow.keras.models import model_from_json\n",
        "json_file = open('/content/drive/My Drive/models/model1.json', 'r')\n",
        "loaded_model_json = json_file.read()\n",
        "json_file.close()\n",
        "loaded_model = model_from_json(loaded_model_json)\n",
        "# load weights into new model\n",
        "loaded_model.load_weights(\"/content/drive/My Drive/models/model1.h5\")"
      ],
      "execution_count": null,
      "outputs": []
    },
    {
      "cell_type": "code",
      "metadata": {
        "id": "oQpdUoQjHUIy"
      },
      "source": [
        "\n",
        "v=np.zeros(shape=(1500,1))\n",
        "c=np.ones(shape=(300,1))\n",
        "\n",
        "\n",
        "x_test=np.concatenate((x_bacterial[1000:1020],x_viral[1480:1490],x_covid[219:229]))\n",
        "y_test=np.concatenate((v[0:20],c[0:20]))\n"
      ],
      "execution_count": null,
      "outputs": []
    },
    {
      "cell_type": "code",
      "metadata": {
        "id": "zvj1ibXg0GMk"
      },
      "source": [
        "model.compile(loss='binary_crossentropy', optimizer='adam', metrics=['accuracy'])\n",
        "_, test_acc = model.evaluate(x_test, y_test, verbose=0)"
      ],
      "execution_count": null,
      "outputs": []
    },
    {
      "cell_type": "code",
      "metadata": {
        "id": "1LS0CkKA0J7K",
        "outputId": "4d0d66f2-7bf6-424b-f1f2-1c7cfb7df199",
        "colab": {
          "base_uri": "https://localhost:8080/",
          "height": 51
        }
      },
      "source": [
        "print(\"test accuracy: \",test_acc,)\n",
        "print(\"test loss    : \",_)"
      ],
      "execution_count": null,
      "outputs": [
        {
          "output_type": "stream",
          "text": [
            "test accuracy:  0.5\n",
            "test loss    :  20.992742156982423\n"
          ],
          "name": "stdout"
        }
      ]
    },
    {
      "cell_type": "code",
      "metadata": {
        "id": "Rb2sZDPe4dw2"
      },
      "source": [
        "y_pred=model.predict(x_test)"
      ],
      "execution_count": null,
      "outputs": []
    },
    {
      "cell_type": "code",
      "metadata": {
        "id": "0v45NC3z2L2B",
        "outputId": "849bf2dc-d3d0-4286-99ee-b9953057eb59",
        "colab": {
          "base_uri": "https://localhost:8080/",
          "height": 34
        }
      },
      "source": [
        "y_pred.shape"
      ],
      "execution_count": null,
      "outputs": [
        {
          "output_type": "execute_result",
          "data": {
            "text/plain": [
              "(40, 1)"
            ]
          },
          "metadata": {
            "tags": []
          },
          "execution_count": 184
        }
      ]
    },
    {
      "cell_type": "code",
      "metadata": {
        "id": "BGiSlBbM2KGT"
      },
      "source": [
        "y_pred[0]\n",
        "classes = np.argmax(y_pred,axis=-1)"
      ],
      "execution_count": null,
      "outputs": []
    },
    {
      "cell_type": "code",
      "metadata": {
        "id": "nhBq6GsKNoT4",
        "colab": {
          "base_uri": "https://localhost:8080/",
          "height": 34
        },
        "outputId": "cd4d6b87-7a6f-4d21-ce47-e8b664d9725f"
      },
      "source": [
        "(type)(classes)\n",
        "classes.shape"
      ],
      "execution_count": null,
      "outputs": [
        {
          "output_type": "execute_result",
          "data": {
            "text/plain": [
              "(40,)"
            ]
          },
          "metadata": {
            "tags": []
          },
          "execution_count": 186
        }
      ]
    },
    {
      "cell_type": "code",
      "metadata": {
        "id": "ItqJoIy_3G9i",
        "outputId": "321f6464-b6f4-442b-fd80-3c973efc94bf",
        "colab": {
          "base_uri": "https://localhost:8080/",
          "height": 34
        }
      },
      "source": [
        "label = []\n",
        "for i in y_pred:\n",
        "  if i>0.5:\n",
        "    label.append(1)\n",
        "  else :\n",
        "    label.append(0)\n",
        "print(len(label))\n",
        "label = np.asarray(label)\n",
        "label=label.reshape(-1,1)"
      ],
      "execution_count": null,
      "outputs": [
        {
          "output_type": "stream",
          "text": [
            "40\n"
          ],
          "name": "stdout"
        }
      ]
    },
    {
      "cell_type": "code",
      "metadata": {
        "id": "V9DSqX4ekAFM"
      },
      "source": [
        "y_test=np.asarray(y_test)"
      ],
      "execution_count": null,
      "outputs": []
    },
    {
      "cell_type": "code",
      "metadata": {
        "id": "rjMTjPF7HF33"
      },
      "source": [
        "from sklearn.metrics import accuracy_score\n",
        "test_acc=accuracy_score(y_test, label)"
      ],
      "execution_count": null,
      "outputs": []
    },
    {
      "cell_type": "code",
      "metadata": {
        "id": "44l4f8n-HMs3",
        "colab": {
          "base_uri": "https://localhost:8080/",
          "height": 34
        },
        "outputId": "73adbfcf-a2ab-47e3-a433-d0bf99a43c47"
      },
      "source": [
        "test_acc"
      ],
      "execution_count": null,
      "outputs": [
        {
          "output_type": "execute_result",
          "data": {
            "text/plain": [
              "0.5"
            ]
          },
          "metadata": {
            "tags": []
          },
          "execution_count": 177
        }
      ]
    },
    {
      "cell_type": "code",
      "metadata": {
        "id": "cVRopZwj0NdQ",
        "outputId": "09de5276-5172-4fd7-c03d-5b37cee74308",
        "colab": {
          "base_uri": "https://localhost:8080/",
          "height": 51
        }
      },
      "source": [
        "from sklearn.metrics import confusion_matrix\n",
        "print(confusion_matrix(y_test,label))"
      ],
      "execution_count": null,
      "outputs": [
        {
          "output_type": "stream",
          "text": [
            "[[20  0]\n",
            " [20  0]]\n"
          ],
          "name": "stdout"
        }
      ]
    },
    {
      "cell_type": "markdown",
      "metadata": {
        "id": "Dy7kzgt9A_VK"
      },
      "source": [
        "TMC XRAY images"
      ]
    },
    {
      "cell_type": "code",
      "metadata": {
        "id": "eGx-0At1Bg-Z",
        "outputId": "d8c51896-0ece-4bcf-c840-04499ff71466",
        "colab": {
          "base_uri": "https://localhost:8080/",
          "height": 50
        }
      },
      "source": [
        "print(len(x_samples))\n",
        "print(len(y_samples))"
      ],
      "execution_count": null,
      "outputs": [
        {
          "output_type": "stream",
          "text": [
            "8\n",
            "8\n"
          ],
          "name": "stdout"
        }
      ]
    },
    {
      "cell_type": "code",
      "metadata": {
        "id": "oQOoEuCQBnfE"
      },
      "source": [
        "for i in range(8):\n",
        "    img = x_samples[i]\n",
        "    lab = cv2.cvtColor(img, cv2.COLOR_BGR2LAB)\n",
        "\n",
        "    lab_planes = cv2.split(lab)\n",
        "\n",
        "    clahe = cv2.createCLAHE(clipLimit=2.0,tileGridSize=(16,16))\n",
        "\n",
        "    lab_planes[0] = clahe.apply(lab_planes[0])\n",
        "\n",
        "    lab = cv2.merge(lab_planes)\n",
        "\n",
        "    img = cv2.cvtColor(lab, cv2.COLOR_LAB2BGR) \n",
        "    \"\"\"img = np.power(img, gamma)\"\"\" \n",
        "    x_samples[i]=img"
      ],
      "execution_count": null,
      "outputs": []
    },
    {
      "cell_type": "code",
      "metadata": {
        "id": "eeRazE34CJsO",
        "outputId": "6feff53e-5c1c-4c89-a5a9-01ba6ac36e22",
        "colab": {
          "base_uri": "https://localhost:8080/",
          "height": 34
        }
      },
      "source": [
        "print('Shape of sample images: ', x_samples[0].shape)"
      ],
      "execution_count": null,
      "outputs": [
        {
          "output_type": "stream",
          "text": [
            "Shape of sample images:  (256, 256, 3)\n"
          ],
          "name": "stdout"
        }
      ]
    },
    {
      "cell_type": "code",
      "metadata": {
        "id": "FL9M3M32CL5D",
        "outputId": "3412e89a-9b02-4ed1-ae13-e233e99aff6d",
        "colab": {
          "base_uri": "https://localhost:8080/",
          "height": 34
        }
      },
      "source": [
        "x_samples=np.array(x_samples)\n",
        "print(x_samples.shape)"
      ],
      "execution_count": null,
      "outputs": [
        {
          "output_type": "stream",
          "text": [
            "(8, 256, 256, 3)\n"
          ],
          "name": "stdout"
        }
      ]
    },
    {
      "cell_type": "code",
      "metadata": {
        "id": "HhP9PcWhCnLh"
      },
      "source": [
        "y_samples_pred=model.predict(x_samples)"
      ],
      "execution_count": null,
      "outputs": []
    },
    {
      "cell_type": "code",
      "metadata": {
        "id": "MSMM1CfmCs6_",
        "outputId": "52f7f98a-6d63-41e1-a2c1-2928b804bf35",
        "colab": {
          "base_uri": "https://localhost:8080/",
          "height": 34
        }
      },
      "source": [
        "sample_labels = []\n",
        "for i in y_samples_pred:\n",
        "  if i>0.5:\n",
        "    sample_labels.append('infected')\n",
        "  else :\n",
        "    sample_labels.append('normal') \n",
        "print(len(sample_labels))\n",
        "sample_labels = np.asarray(sample_labels)\n",
        "sample_labels=sample_labels.reshape(-1,1)"
      ],
      "execution_count": null,
      "outputs": [
        {
          "output_type": "stream",
          "text": [
            "8\n"
          ],
          "name": "stdout"
        }
      ]
    },
    {
      "cell_type": "code",
      "metadata": {
        "id": "Y1yEIQM8Ds7D",
        "outputId": "c033c2d0-1f0e-4e99-fcb0-bee9d8c9942e",
        "colab": {
          "base_uri": "https://localhost:8080/",
          "height": 151
        }
      },
      "source": [
        "print(y_samples_pred)"
      ],
      "execution_count": null,
      "outputs": [
        {
          "output_type": "stream",
          "text": [
            "[[1.       ]\n",
            " [1.       ]\n",
            " [0.9999982]\n",
            " [1.       ]\n",
            " [1.       ]\n",
            " [1.       ]\n",
            " [1.       ]\n",
            " [1.       ]]\n"
          ],
          "name": "stdout"
        }
      ]
    },
    {
      "cell_type": "code",
      "metadata": {
        "id": "z8ueqkP-DY-X",
        "outputId": "707689e7-2609-4eea-f7af-1f9b0cfe02a9",
        "colab": {
          "base_uri": "https://localhost:8080/",
          "height": 34
        }
      },
      "source": [
        "print(sample_labels.shape)"
      ],
      "execution_count": null,
      "outputs": [
        {
          "output_type": "stream",
          "text": [
            "(8, 1)\n"
          ],
          "name": "stdout"
        }
      ]
    },
    {
      "cell_type": "code",
      "metadata": {
        "id": "cEZnXmUvCVB6",
        "outputId": "c648e7ad-4d54-492f-cd92-c185e1c05b2c",
        "colab": {
          "base_uri": "https://localhost:8080/",
          "height": 151
        }
      },
      "source": [
        "print(sample_labels)"
      ],
      "execution_count": null,
      "outputs": [
        {
          "output_type": "stream",
          "text": [
            "[['infected']\n",
            " ['infected']\n",
            " ['infected']\n",
            " ['infected']\n",
            " ['infected']\n",
            " ['infected']\n",
            " ['infected']\n",
            " ['infected']]\n"
          ],
          "name": "stdout"
        }
      ]
    }
  ]
}