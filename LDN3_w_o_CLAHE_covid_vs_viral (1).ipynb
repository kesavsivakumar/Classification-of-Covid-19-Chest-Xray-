{
  "nbformat": 4,
  "nbformat_minor": 0,
  "metadata": {
    "colab": {
      "name": "LDN3_w/o_CLAHE covid vs viral.ipynb",
      "provenance": [],
      "collapsed_sections": []
    },
    "kernelspec": {
      "name": "python3",
      "display_name": "Python 3"
    }
  },
  "cells": [
    {
      "cell_type": "code",
      "metadata": {
        "id": "J82Uaq9FN68O"
      },
      "source": [
        "import cv2\n",
        "import numpy as np\n",
        "import matplotlib.pyplot as plt\n",
        "import os\n",
        "import tensorflow\n",
        "import glob\n",
        "import pandas as pd"
      ],
      "execution_count": null,
      "outputs": []
    },
    {
      "cell_type": "code",
      "metadata": {
        "id": "hqCPmoStOEM7",
        "outputId": "61db7166-307e-40c7-ce62-6d28f8491f6e",
        "colab": {
          "base_uri": "https://localhost:8080/",
          "height": 34
        }
      },
      "source": [
        "from google.colab import drive\n",
        "drive.mount('/content/drive')"
      ],
      "execution_count": null,
      "outputs": [
        {
          "output_type": "stream",
          "text": [
            "Drive already mounted at /content/drive; to attempt to forcibly remount, call drive.mount(\"/content/drive\", force_remount=True).\n"
          ],
          "name": "stdout"
        }
      ]
    },
    {
      "cell_type": "code",
      "metadata": {
        "id": "drSGmeMbOQZq",
        "outputId": "c2f0c7e2-20d0-4339-8432-382d15214744",
        "colab": {
          "base_uri": "https://localhost:8080/",
          "height": 34
        }
      },
      "source": [
        "cd drive"
      ],
      "execution_count": null,
      "outputs": [
        {
          "output_type": "stream",
          "text": [
            "/content/drive\n"
          ],
          "name": "stdout"
        }
      ]
    },
    {
      "cell_type": "code",
      "metadata": {
        "id": "Cj6Rdqc1OUcr",
        "outputId": "27cfbbd7-af11-4322-d7fc-60763d36ec7d",
        "colab": {
          "base_uri": "https://localhost:8080/",
          "height": 34
        }
      },
      "source": [
        "cd My Drive"
      ],
      "execution_count": null,
      "outputs": [
        {
          "output_type": "stream",
          "text": [
            "/content/drive/My Drive\n"
          ],
          "name": "stdout"
        }
      ]
    },
    {
      "cell_type": "code",
      "metadata": {
        "id": "FW4HRLOnURCk",
        "outputId": "71aa8d37-d01b-49fb-e977-8f56b223b857",
        "colab": {
          "base_uri": "https://localhost:8080/",
          "height": 34
        }
      },
      "source": [
        "\"\"\"cd data\"\"\""
      ],
      "execution_count": null,
      "outputs": [
        {
          "output_type": "execute_result",
          "data": {
            "text/plain": [
              "'cd data'"
            ]
          },
          "metadata": {
            "tags": []
          },
          "execution_count": 5
        }
      ]
    },
    {
      "cell_type": "code",
      "metadata": {
        "id": "UGLrFj81I_wz",
        "outputId": "90707e26-b199-4df5-c135-aee1d862cfa5",
        "colab": {
          "base_uri": "https://localhost:8080/",
          "height": 34
        }
      },
      "source": [
        "\"\"\"cd train\"\"\""
      ],
      "execution_count": null,
      "outputs": [
        {
          "output_type": "execute_result",
          "data": {
            "text/plain": [
              "'cd train'"
            ]
          },
          "metadata": {
            "tags": []
          },
          "execution_count": 6
        }
      ]
    },
    {
      "cell_type": "code",
      "metadata": {
        "id": "bSm0h5uJ46Jc",
        "outputId": "b36f4bde-1b29-4341-d689-767fc19cc3e6",
        "colab": {
          "base_uri": "https://localhost:8080/",
          "height": 34
        }
      },
      "source": [
        "cd data"
      ],
      "execution_count": null,
      "outputs": [
        {
          "output_type": "stream",
          "text": [
            "/content/drive/My Drive/data\n"
          ],
          "name": "stdout"
        }
      ]
    },
    {
      "cell_type": "code",
      "metadata": {
        "id": "z2MnWTLDniCX"
      },
      "source": [
        "x_normal = np.load('x_normal.npy')\n",
        "y_normal = np.load('y_normal.npy')\n",
        "x_viral = np.load('x_viral.npy')\n",
        "y_viral = np.load('y_viral.npy')\n",
        "x_bacterial = np.load('x_bacterial.npy')\n",
        "y_bacterial = np.load('y_bacterial.npy')"
      ],
      "execution_count": null,
      "outputs": []
    },
    {
      "cell_type": "code",
      "metadata": {
        "id": "vDVkPEQ6zG37",
        "outputId": "9ad4cace-7165-4354-cae7-69b64ed7525a",
        "colab": {
          "base_uri": "https://localhost:8080/",
          "height": 85
        }
      },
      "source": [
        "print(x_viral.shape)\n",
        "print(y_viral.shape)\n",
        "print(x_bacterial.shape)\n",
        "print(y_bacterial.shape)"
      ],
      "execution_count": null,
      "outputs": [
        {
          "output_type": "stream",
          "text": [
            "(1504, 256, 256, 3)\n",
            "(1504,)\n",
            "(2786, 256, 256, 3)\n",
            "(2786,)\n"
          ],
          "name": "stdout"
        }
      ]
    },
    {
      "cell_type": "code",
      "metadata": {
        "id": "rTDtmxcvPu-p"
      },
      "source": [
        "x_covid = np.load('x_covid.npy')\n",
        "y_covid = np.load('y_covid.npy')"
      ],
      "execution_count": null,
      "outputs": []
    },
    {
      "cell_type": "code",
      "metadata": {
        "id": "lzJUO_oIMm1u",
        "outputId": "0c060272-bca4-461f-8dfb-dbf4bff70c83",
        "colab": {
          "base_uri": "https://localhost:8080/",
          "height": 51
        }
      },
      "source": [
        "print(x_covid.shape)\n",
        "print(y_covid.shape)"
      ],
      "execution_count": null,
      "outputs": [
        {
          "output_type": "stream",
          "text": [
            "(239, 256, 256, 3)\n",
            "(239,)\n"
          ],
          "name": "stdout"
        }
      ]
    },
    {
      "cell_type": "code",
      "metadata": {
        "id": "lVtVc2ADd6xF"
      },
      "source": [
        "import random"
      ],
      "execution_count": null,
      "outputs": []
    },
    {
      "cell_type": "code",
      "metadata": {
        "id": "RHZ4TYpvzRd2"
      },
      "source": [
        "x_train=[]\n",
        "y_train=[]\n",
        "x_test = []\n",
        "y_test = []"
      ],
      "execution_count": null,
      "outputs": []
    },
    {
      "cell_type": "markdown",
      "metadata": {
        "id": "msfjt-D-5QXg"
      },
      "source": [
        "\n",
        "\n",
        "---\n",
        "\n",
        "**Load viral images**\n",
        "\n",
        "---\n",
        "\n"
      ]
    },
    {
      "cell_type": "code",
      "metadata": {
        "id": "B0s5lLtGlZ6T"
      },
      "source": [
        "nums = random.sample(range(0, 1504), 200)\n",
        "for i in nums:\n",
        "  \n",
        "  x_train.append(x_viral[i])\n",
        "  y_train.append(0)"
      ],
      "execution_count": null,
      "outputs": []
    },
    {
      "cell_type": "code",
      "metadata": {
        "id": "TLSy5XsrlnZI"
      },
      "source": [
        "total = [i for i in range(0,1504)]\n",
        "test_nums = random.sample(list((set)(total)-(set)(nums)),45)"
      ],
      "execution_count": null,
      "outputs": []
    },
    {
      "cell_type": "code",
      "metadata": {
        "id": "Uvnq-ZSPl0C7"
      },
      "source": [
        "for i in test_nums:\n",
        "  x_test.append(x_viral[i])\n",
        "  y_test.append(0)"
      ],
      "execution_count": null,
      "outputs": []
    },
    {
      "cell_type": "markdown",
      "metadata": {
        "id": "5WTN7GbU5rr9"
      },
      "source": [
        "\n",
        "\n",
        "---\n",
        "\n",
        "**Load covid images**\n",
        "\n",
        "---\n",
        "\n"
      ]
    },
    {
      "cell_type": "code",
      "metadata": {
        "id": "PYkc9wpYl9ME"
      },
      "source": [
        "nums = random.sample(range(0, 239), 200)\n",
        "for i in nums:\n",
        "  x_train.append(x_covid[i])\n",
        "  y_train.append(1)"
      ],
      "execution_count": null,
      "outputs": []
    },
    {
      "cell_type": "code",
      "metadata": {
        "id": "KhsOuIxFptNB"
      },
      "source": [
        "total = [i for i in range(0,239)]\n",
        "test_nums = random.sample(list((set)(total)-(set)(nums)),39)"
      ],
      "execution_count": null,
      "outputs": []
    },
    {
      "cell_type": "code",
      "metadata": {
        "id": "dt20PaGgp3rY"
      },
      "source": [
        "for i in test_nums:\n",
        "  x_test.append(x_covid[i])\n",
        "  y_test.append(1)"
      ],
      "execution_count": null,
      "outputs": []
    },
    {
      "cell_type": "markdown",
      "metadata": {
        "id": "asvjLaQ65xn7"
      },
      "source": [
        "\n",
        "\n",
        "---\n",
        "\n",
        "**add  5 cov TMC images to train set**\n",
        "\n",
        "---\n",
        "\n"
      ]
    },
    {
      "cell_type": "code",
      "metadata": {
        "id": "nqieVj4DqxFJ"
      },
      "source": [
        "x_covid_tmc=[]\n",
        "y_covid_tmc=[]"
      ],
      "execution_count": null,
      "outputs": []
    },
    {
      "cell_type": "code",
      "metadata": {
        "id": "DLJL-KP8snhL"
      },
      "source": [
        "for im in glob.glob('/content/drive/My Drive/covid TMC/*.*'):\n",
        "  #print(im)\n",
        "  img=cv2.imread(im,1)\n",
        "  img=cv2.resize(img,(256,256))\n",
        "  x_covid_tmc.append(img)\n",
        "  y_covid_tmc.append(1)"
      ],
      "execution_count": null,
      "outputs": []
    },
    {
      "cell_type": "code",
      "metadata": {
        "id": "7t8SRjjcU_sN",
        "outputId": "74d925d3-2530-4772-c635-8bd8be37d318",
        "colab": {
          "base_uri": "https://localhost:8080/",
          "height": 51
        }
      },
      "source": [
        "print(len(x_covid_tmc))\n",
        "print(len(y_covid_tmc))"
      ],
      "execution_count": null,
      "outputs": [
        {
          "output_type": "stream",
          "text": [
            "11\n",
            "11\n"
          ],
          "name": "stdout"
        }
      ]
    },
    {
      "cell_type": "code",
      "metadata": {
        "id": "uunh4-aqw_iT"
      },
      "source": [
        "nums = random.sample(range(0, 11), 5)\n",
        "for i in nums:\n",
        "  x_train.append(x_covid_tmc[i])\n",
        "  y_train.append(1)"
      ],
      "execution_count": null,
      "outputs": []
    },
    {
      "cell_type": "code",
      "metadata": {
        "id": "gw6dtpN1XyO1"
      },
      "source": [
        "x_sample = []\n",
        "y_sample = []"
      ],
      "execution_count": null,
      "outputs": []
    },
    {
      "cell_type": "code",
      "metadata": {
        "id": "khA2hBFp39Be"
      },
      "source": [
        "total = [i for i in range(0,11)]\n",
        "test_nums = random.sample(list((set)(total)-(set)(nums)),6)\n",
        "for i in test_nums:\n",
        "  x_test.append(x_covid_tmc[i])\n",
        "  y_test.append(1)"
      ],
      "execution_count": null,
      "outputs": []
    },
    {
      "cell_type": "code",
      "metadata": {
        "id": "9mPRr5wjLOxl"
      },
      "source": [
        "x_train = np.asarray(x_train)\n",
        "y_train= np.asarray(y_train)\n",
        "x_test = np.asarray(x_test)\n",
        "y_test = np.asarray(y_test)"
      ],
      "execution_count": null,
      "outputs": []
    },
    {
      "cell_type": "code",
      "metadata": {
        "id": "Oskm_hHl4S3z",
        "outputId": "74d7bca2-43e0-43f8-e843-f156edebc764",
        "colab": {
          "base_uri": "https://localhost:8080/",
          "height": 85
        }
      },
      "source": [
        "print(x_train.shape)\n",
        "print(y_train.shape)\n",
        "print(x_test.shape)\n",
        "print(y_test.shape)"
      ],
      "execution_count": null,
      "outputs": [
        {
          "output_type": "stream",
          "text": [
            "(405, 256, 256, 3)\n",
            "(405,)\n",
            "(90, 256, 256, 3)\n",
            "(90,)\n"
          ],
          "name": "stdout"
        }
      ]
    },
    {
      "cell_type": "markdown",
      "metadata": {
        "id": "V7ap_B1cl2tB"
      },
      "source": [
        "Model for 1 Densenet block"
      ]
    },
    {
      "cell_type": "code",
      "metadata": {
        "id": "6ueC6xGtlr43",
        "outputId": "22af6b3c-43d6-49d9-ec6f-2370a5b89a8c",
        "colab": {
          "base_uri": "https://localhost:8080/",
          "height": 34
        }
      },
      "source": [
        "%tensorflow_version 1.x\n",
        "import tensorflow"
      ],
      "execution_count": null,
      "outputs": [
        {
          "output_type": "stream",
          "text": [
            "TensorFlow is already loaded. Please restart the runtime to change versions.\n"
          ],
          "name": "stdout"
        }
      ]
    },
    {
      "cell_type": "code",
      "metadata": {
        "id": "KpGo-5_nl8QX",
        "outputId": "181af798-d843-4036-8f4a-19ff90857065",
        "colab": {
          "base_uri": "https://localhost:8080/",
          "height": 34
        }
      },
      "source": [
        "from keras.models import Sequential\n",
        "from keras import layers\n",
        "from keras.optimizers import adam\n",
        "from keras.callbacks import EarlyStopping\n",
        "from keras.callbacks import ModelCheckpoint"
      ],
      "execution_count": null,
      "outputs": [
        {
          "output_type": "stream",
          "text": [
            "Using TensorFlow backend.\n"
          ],
          "name": "stderr"
        }
      ]
    },
    {
      "cell_type": "code",
      "metadata": {
        "id": "UxA1kLZHmGiS"
      },
      "source": [
        "model = Sequential()\n",
        "model.add(layers.Conv2D(filters=8,kernel_size=(3,3),input_shape=(256,256,3),strides=1,padding='same'))\n",
        "model.add(layers.BatchNormalization())\n",
        "model.add(layers.LeakyReLU(alpha=0.1))\n",
        "\n",
        "model.add(layers.MaxPooling2D(pool_size=(2,2),strides=2))\n",
        "\n",
        "#model.add(layers.Conv2D(filters=16,kernel_size=(3,3),strides=1,padding='same'))\n",
        "#model.add(layers.BatchNormalization())\n",
        "#model.add(layers.LeakyReLU(alpha=0.1))\n",
        "\n",
        "#model.add(layers.MaxPooling2D(pool_size=(2,2),strides=2))\n",
        "\n",
        "model.add(layers.Conv2D(filters=16,kernel_size=(3,3),strides=1,padding='same'))\n",
        "model.add(layers.BatchNormalization())\n",
        "model.add(layers.LeakyReLU(alpha=0.1))\n",
        "model.add(layers.Conv2D(filters=16,kernel_size=(1,1),strides=1,padding='same'))\n",
        "model.add(layers.BatchNormalization())\n",
        "model.add(layers.LeakyReLU(alpha=0.1))\n",
        "model.add(layers.Conv2D(filters=16,kernel_size=(3,3),strides=1,padding='same'))\n",
        "model.add(layers.BatchNormalization())\n",
        "model.add(layers.LeakyReLU(alpha=0.1))\n",
        "\n",
        "model.add(layers.MaxPooling2D(pool_size=(2,2),strides=2))\n",
        "\n",
        "#model.add(layers.Conv2D(filters=16,kernel_size=(3,3),strides=1,padding='same'))\n",
        "#model.add(layers.BatchNormalization())\n",
        "#model.add(layers.LeakyReLU(alpha=0.1))\n",
        "\n",
        "model.add(layers.Conv2D(filters=32,kernel_size=(3,3),strides=1,padding='same'))\n",
        "model.add(layers.BatchNormalization())\n",
        "model.add(layers.LeakyReLU(alpha=0.1))\n",
        "\n",
        "model.add(layers.Conv2D(filters=2,kernel_size=(3,3),strides=1,padding='same'))\n",
        " \n",
        "model.add(layers.Flatten())\n",
        " \n",
        "model.add(layers.Dense(1, activation='sigmoid'))"
      ],
      "execution_count": null,
      "outputs": []
    },
    {
      "cell_type": "code",
      "metadata": {
        "id": "xDRCaQtbSBew"
      },
      "source": [
        "opt = adam(learning_rate=0.0001)"
      ],
      "execution_count": null,
      "outputs": []
    },
    {
      "cell_type": "code",
      "metadata": {
        "id": "GhCRal5ZisCR"
      },
      "source": [
        "model.compile(optimizer=opt, loss='binary_crossentropy', metrics=['accuracy'])"
      ],
      "execution_count": null,
      "outputs": []
    },
    {
      "cell_type": "code",
      "metadata": {
        "id": "uQqUWa8czffL",
        "outputId": "141d87d4-c687-4935-9ffe-3c800cddcf3b",
        "colab": {
          "base_uri": "https://localhost:8080/",
          "height": 1000
        }
      },
      "source": [
        "es = EarlyStopping(monitor='val_loss', mode='min', verbose=1,patience=32)\n",
        "mc = ModelCheckpoint('nor_inf_04jun03.h5', monitor='val_accuracy', mode='max', verbose=1, save_best_only=True)\n",
        "history=model.fit(x_train,y_train,batch_size=16,validation_split=0.2,epochs=100,callbacks=[es,mc],shuffle=True)"
      ],
      "execution_count": null,
      "outputs": [
        {
          "output_type": "stream",
          "text": [
            "Train on 324 samples, validate on 81 samples\n",
            "Epoch 1/100\n",
            "324/324 [==============================] - 31s 94ms/step - loss: 0.3768 - accuracy: 0.8395 - val_loss: 0.5212 - val_accuracy: 0.8765\n",
            "\n",
            "Epoch 00001: val_accuracy improved from -inf to 0.87654, saving model to nor_inf_04jun03.h5\n",
            "Epoch 2/100\n",
            "324/324 [==============================] - 29s 88ms/step - loss: 0.1697 - accuracy: 0.9506 - val_loss: 0.6624 - val_accuracy: 0.5926\n",
            "\n",
            "Epoch 00002: val_accuracy did not improve from 0.87654\n",
            "Epoch 3/100\n",
            "324/324 [==============================] - 30s 94ms/step - loss: 0.1137 - accuracy: 0.9599 - val_loss: 0.6978 - val_accuracy: 0.5185\n",
            "\n",
            "Epoch 00003: val_accuracy did not improve from 0.87654\n",
            "Epoch 4/100\n",
            "324/324 [==============================] - 28s 88ms/step - loss: 0.0941 - accuracy: 0.9753 - val_loss: 0.6477 - val_accuracy: 0.5679\n",
            "\n",
            "Epoch 00004: val_accuracy did not improve from 0.87654\n",
            "Epoch 5/100\n",
            "324/324 [==============================] - 28s 87ms/step - loss: 0.0806 - accuracy: 0.9753 - val_loss: 0.5911 - val_accuracy: 0.7160\n",
            "\n",
            "Epoch 00005: val_accuracy did not improve from 0.87654\n",
            "Epoch 6/100\n",
            "324/324 [==============================] - 28s 86ms/step - loss: 0.0629 - accuracy: 0.9815 - val_loss: 0.4767 - val_accuracy: 0.8272\n",
            "\n",
            "Epoch 00006: val_accuracy did not improve from 0.87654\n",
            "Epoch 7/100\n",
            "324/324 [==============================] - 28s 86ms/step - loss: 0.0525 - accuracy: 0.9846 - val_loss: 0.4842 - val_accuracy: 0.7901\n",
            "\n",
            "Epoch 00007: val_accuracy did not improve from 0.87654\n",
            "Epoch 8/100\n",
            "324/324 [==============================] - 28s 86ms/step - loss: 0.0461 - accuracy: 0.9907 - val_loss: 0.3802 - val_accuracy: 0.8765\n",
            "\n",
            "Epoch 00008: val_accuracy did not improve from 0.87654\n",
            "Epoch 9/100\n",
            "324/324 [==============================] - 28s 87ms/step - loss: 0.0422 - accuracy: 0.9877 - val_loss: 0.3651 - val_accuracy: 0.8642\n",
            "\n",
            "Epoch 00009: val_accuracy did not improve from 0.87654\n",
            "Epoch 10/100\n",
            "324/324 [==============================] - 28s 86ms/step - loss: 0.0388 - accuracy: 0.9907 - val_loss: 0.3259 - val_accuracy: 0.9012\n",
            "\n",
            "Epoch 00010: val_accuracy improved from 0.87654 to 0.90123, saving model to nor_inf_04jun03.h5\n",
            "Epoch 11/100\n",
            "324/324 [==============================] - 28s 85ms/step - loss: 0.0340 - accuracy: 0.9907 - val_loss: 0.2711 - val_accuracy: 0.9136\n",
            "\n",
            "Epoch 00011: val_accuracy improved from 0.90123 to 0.91358, saving model to nor_inf_04jun03.h5\n",
            "Epoch 12/100\n",
            "324/324 [==============================] - 28s 86ms/step - loss: 0.0286 - accuracy: 0.9969 - val_loss: 0.2839 - val_accuracy: 0.9012\n",
            "\n",
            "Epoch 00012: val_accuracy did not improve from 0.91358\n",
            "Epoch 13/100\n",
            "324/324 [==============================] - 28s 86ms/step - loss: 0.0247 - accuracy: 0.9969 - val_loss: 0.2690 - val_accuracy: 0.9012\n",
            "\n",
            "Epoch 00013: val_accuracy did not improve from 0.91358\n",
            "Epoch 14/100\n",
            "324/324 [==============================] - 28s 85ms/step - loss: 0.0281 - accuracy: 0.9938 - val_loss: 0.3051 - val_accuracy: 0.8889\n",
            "\n",
            "Epoch 00014: val_accuracy did not improve from 0.91358\n",
            "Epoch 15/100\n",
            "324/324 [==============================] - 28s 86ms/step - loss: 0.0200 - accuracy: 0.9938 - val_loss: 0.2482 - val_accuracy: 0.9136\n",
            "\n",
            "Epoch 00015: val_accuracy did not improve from 0.91358\n",
            "Epoch 16/100\n",
            "324/324 [==============================] - 28s 86ms/step - loss: 0.0180 - accuracy: 0.9938 - val_loss: 0.2860 - val_accuracy: 0.9012\n",
            "\n",
            "Epoch 00016: val_accuracy did not improve from 0.91358\n",
            "Epoch 17/100\n",
            "324/324 [==============================] - 28s 85ms/step - loss: 0.0137 - accuracy: 1.0000 - val_loss: 0.2592 - val_accuracy: 0.9012\n",
            "\n",
            "Epoch 00017: val_accuracy did not improve from 0.91358\n",
            "Epoch 18/100\n",
            "324/324 [==============================] - 28s 85ms/step - loss: 0.0116 - accuracy: 1.0000 - val_loss: 0.2147 - val_accuracy: 0.9259\n",
            "\n",
            "Epoch 00018: val_accuracy improved from 0.91358 to 0.92593, saving model to nor_inf_04jun03.h5\n",
            "Epoch 19/100\n",
            "324/324 [==============================] - 28s 85ms/step - loss: 0.0192 - accuracy: 0.9938 - val_loss: 0.2885 - val_accuracy: 0.9012\n",
            "\n",
            "Epoch 00019: val_accuracy did not improve from 0.92593\n",
            "Epoch 20/100\n",
            "324/324 [==============================] - 28s 86ms/step - loss: 0.0124 - accuracy: 1.0000 - val_loss: 0.2322 - val_accuracy: 0.9259\n",
            "\n",
            "Epoch 00020: val_accuracy did not improve from 0.92593\n",
            "Epoch 21/100\n",
            "324/324 [==============================] - 28s 86ms/step - loss: 0.0112 - accuracy: 1.0000 - val_loss: 0.2715 - val_accuracy: 0.9012\n",
            "\n",
            "Epoch 00021: val_accuracy did not improve from 0.92593\n",
            "Epoch 22/100\n",
            "324/324 [==============================] - 28s 85ms/step - loss: 0.0224 - accuracy: 0.9907 - val_loss: 0.2878 - val_accuracy: 0.9012\n",
            "\n",
            "Epoch 00022: val_accuracy did not improve from 0.92593\n",
            "Epoch 23/100\n",
            "324/324 [==============================] - 28s 85ms/step - loss: 0.0115 - accuracy: 1.0000 - val_loss: 0.2692 - val_accuracy: 0.9136\n",
            "\n",
            "Epoch 00023: val_accuracy did not improve from 0.92593\n",
            "Epoch 24/100\n",
            "324/324 [==============================] - 30s 93ms/step - loss: 0.0084 - accuracy: 1.0000 - val_loss: 0.2555 - val_accuracy: 0.9259\n",
            "\n",
            "Epoch 00024: val_accuracy did not improve from 0.92593\n",
            "Epoch 25/100\n",
            "324/324 [==============================] - 28s 85ms/step - loss: 0.0062 - accuracy: 1.0000 - val_loss: 0.2701 - val_accuracy: 0.9259\n",
            "\n",
            "Epoch 00025: val_accuracy did not improve from 0.92593\n",
            "Epoch 26/100\n",
            "324/324 [==============================] - 28s 86ms/step - loss: 0.0063 - accuracy: 1.0000 - val_loss: 0.2535 - val_accuracy: 0.9259\n",
            "\n",
            "Epoch 00026: val_accuracy did not improve from 0.92593\n",
            "Epoch 27/100\n",
            "324/324 [==============================] - 27s 85ms/step - loss: 0.0063 - accuracy: 1.0000 - val_loss: 0.2877 - val_accuracy: 0.9012\n",
            "\n",
            "Epoch 00027: val_accuracy did not improve from 0.92593\n",
            "Epoch 28/100\n",
            "324/324 [==============================] - 27s 85ms/step - loss: 0.0056 - accuracy: 1.0000 - val_loss: 0.2546 - val_accuracy: 0.9136\n",
            "\n",
            "Epoch 00028: val_accuracy did not improve from 0.92593\n",
            "Epoch 29/100\n",
            "324/324 [==============================] - 27s 85ms/step - loss: 0.0058 - accuracy: 1.0000 - val_loss: 0.2551 - val_accuracy: 0.9259\n",
            "\n",
            "Epoch 00029: val_accuracy did not improve from 0.92593\n",
            "Epoch 30/100\n",
            "324/324 [==============================] - 28s 85ms/step - loss: 0.0048 - accuracy: 1.0000 - val_loss: 0.2392 - val_accuracy: 0.9259\n",
            "\n",
            "Epoch 00030: val_accuracy did not improve from 0.92593\n",
            "Epoch 31/100\n",
            "324/324 [==============================] - 28s 85ms/step - loss: 0.0050 - accuracy: 1.0000 - val_loss: 0.2645 - val_accuracy: 0.9136\n",
            "\n",
            "Epoch 00031: val_accuracy did not improve from 0.92593\n",
            "Epoch 32/100\n",
            "324/324 [==============================] - 28s 86ms/step - loss: 0.0060 - accuracy: 1.0000 - val_loss: 0.2462 - val_accuracy: 0.9259\n",
            "\n",
            "Epoch 00032: val_accuracy did not improve from 0.92593\n",
            "Epoch 33/100\n",
            "324/324 [==============================] - 28s 85ms/step - loss: 0.0039 - accuracy: 1.0000 - val_loss: 0.1996 - val_accuracy: 0.9259\n",
            "\n",
            "Epoch 00033: val_accuracy did not improve from 0.92593\n",
            "Epoch 34/100\n",
            "324/324 [==============================] - 28s 85ms/step - loss: 0.0036 - accuracy: 1.0000 - val_loss: 0.2736 - val_accuracy: 0.9136\n",
            "\n",
            "Epoch 00034: val_accuracy did not improve from 0.92593\n",
            "Epoch 35/100\n",
            "324/324 [==============================] - 28s 85ms/step - loss: 0.0029 - accuracy: 1.0000 - val_loss: 0.2695 - val_accuracy: 0.9136\n",
            "\n",
            "Epoch 00035: val_accuracy did not improve from 0.92593\n",
            "Epoch 36/100\n",
            "324/324 [==============================] - 28s 85ms/step - loss: 0.0038 - accuracy: 1.0000 - val_loss: 0.2525 - val_accuracy: 0.9136\n",
            "\n",
            "Epoch 00036: val_accuracy did not improve from 0.92593\n",
            "Epoch 37/100\n",
            "324/324 [==============================] - 28s 86ms/step - loss: 0.0051 - accuracy: 1.0000 - val_loss: 0.2261 - val_accuracy: 0.9259\n",
            "\n",
            "Epoch 00037: val_accuracy did not improve from 0.92593\n",
            "Epoch 38/100\n",
            "324/324 [==============================] - 27s 85ms/step - loss: 0.0024 - accuracy: 1.0000 - val_loss: 0.2747 - val_accuracy: 0.9259\n",
            "\n",
            "Epoch 00038: val_accuracy did not improve from 0.92593\n",
            "Epoch 39/100\n",
            "324/324 [==============================] - 28s 85ms/step - loss: 0.0024 - accuracy: 1.0000 - val_loss: 0.2545 - val_accuracy: 0.9259\n",
            "\n",
            "Epoch 00039: val_accuracy did not improve from 0.92593\n",
            "Epoch 40/100\n",
            "324/324 [==============================] - 28s 85ms/step - loss: 0.0028 - accuracy: 1.0000 - val_loss: 0.2609 - val_accuracy: 0.9259\n",
            "\n",
            "Epoch 00040: val_accuracy did not improve from 0.92593\n",
            "Epoch 41/100\n",
            "324/324 [==============================] - 28s 85ms/step - loss: 0.0021 - accuracy: 1.0000 - val_loss: 0.2754 - val_accuracy: 0.9136\n",
            "\n",
            "Epoch 00041: val_accuracy did not improve from 0.92593\n",
            "Epoch 42/100\n",
            "324/324 [==============================] - 27s 85ms/step - loss: 0.0032 - accuracy: 1.0000 - val_loss: 0.2815 - val_accuracy: 0.9136\n",
            "\n",
            "Epoch 00042: val_accuracy did not improve from 0.92593\n",
            "Epoch 43/100\n",
            "324/324 [==============================] - 27s 85ms/step - loss: 0.0031 - accuracy: 1.0000 - val_loss: 0.2787 - val_accuracy: 0.9136\n",
            "\n",
            "Epoch 00043: val_accuracy did not improve from 0.92593\n",
            "Epoch 44/100\n",
            "324/324 [==============================] - 28s 86ms/step - loss: 0.0030 - accuracy: 1.0000 - val_loss: 0.2251 - val_accuracy: 0.9259\n",
            "\n",
            "Epoch 00044: val_accuracy did not improve from 0.92593\n",
            "Epoch 45/100\n",
            "324/324 [==============================] - 28s 85ms/step - loss: 0.0028 - accuracy: 1.0000 - val_loss: 0.1967 - val_accuracy: 0.9259\n",
            "\n",
            "Epoch 00045: val_accuracy did not improve from 0.92593\n",
            "Epoch 46/100\n",
            "324/324 [==============================] - 30s 92ms/step - loss: 0.0032 - accuracy: 1.0000 - val_loss: 0.2828 - val_accuracy: 0.9136\n",
            "\n",
            "Epoch 00046: val_accuracy did not improve from 0.92593\n",
            "Epoch 47/100\n",
            "324/324 [==============================] - 28s 87ms/step - loss: 0.0016 - accuracy: 1.0000 - val_loss: 0.3056 - val_accuracy: 0.9012\n",
            "\n",
            "Epoch 00047: val_accuracy did not improve from 0.92593\n",
            "Epoch 48/100\n",
            "324/324 [==============================] - 28s 86ms/step - loss: 0.0050 - accuracy: 0.9969 - val_loss: 0.3328 - val_accuracy: 0.8889\n",
            "\n",
            "Epoch 00048: val_accuracy did not improve from 0.92593\n",
            "Epoch 49/100\n",
            "324/324 [==============================] - 27s 85ms/step - loss: 0.0038 - accuracy: 1.0000 - val_loss: 0.2958 - val_accuracy: 0.9259\n",
            "\n",
            "Epoch 00049: val_accuracy did not improve from 0.92593\n",
            "Epoch 50/100\n",
            "324/324 [==============================] - 28s 85ms/step - loss: 0.0015 - accuracy: 1.0000 - val_loss: 0.2365 - val_accuracy: 0.9259\n",
            "\n",
            "Epoch 00050: val_accuracy did not improve from 0.92593\n",
            "Epoch 51/100\n",
            "324/324 [==============================] - 28s 85ms/step - loss: 0.0028 - accuracy: 1.0000 - val_loss: 0.2717 - val_accuracy: 0.9259\n",
            "\n",
            "Epoch 00051: val_accuracy did not improve from 0.92593\n",
            "Epoch 52/100\n",
            "324/324 [==============================] - 28s 85ms/step - loss: 0.0055 - accuracy: 1.0000 - val_loss: 0.3526 - val_accuracy: 0.8889\n",
            "\n",
            "Epoch 00052: val_accuracy did not improve from 0.92593\n",
            "Epoch 53/100\n",
            "324/324 [==============================] - 28s 85ms/step - loss: 0.0018 - accuracy: 1.0000 - val_loss: 0.2713 - val_accuracy: 0.9136\n",
            "\n",
            "Epoch 00053: val_accuracy did not improve from 0.92593\n",
            "Epoch 54/100\n",
            "324/324 [==============================] - 28s 85ms/step - loss: 0.0012 - accuracy: 1.0000 - val_loss: 0.2663 - val_accuracy: 0.9136\n",
            "\n",
            "Epoch 00054: val_accuracy did not improve from 0.92593\n",
            "Epoch 55/100\n",
            "324/324 [==============================] - 28s 86ms/step - loss: 0.0022 - accuracy: 1.0000 - val_loss: 0.3201 - val_accuracy: 0.9012\n",
            "\n",
            "Epoch 00055: val_accuracy did not improve from 0.92593\n",
            "Epoch 56/100\n",
            "324/324 [==============================] - 28s 85ms/step - loss: 0.0013 - accuracy: 1.0000 - val_loss: 0.3025 - val_accuracy: 0.9012\n",
            "\n",
            "Epoch 00056: val_accuracy did not improve from 0.92593\n",
            "Epoch 57/100\n",
            "324/324 [==============================] - 28s 85ms/step - loss: 0.0013 - accuracy: 1.0000 - val_loss: 0.2737 - val_accuracy: 0.9136\n",
            "\n",
            "Epoch 00057: val_accuracy did not improve from 0.92593\n",
            "Epoch 58/100\n",
            "324/324 [==============================] - 28s 85ms/step - loss: 0.0011 - accuracy: 1.0000 - val_loss: 0.2922 - val_accuracy: 0.9136\n",
            "\n",
            "Epoch 00058: val_accuracy did not improve from 0.92593\n",
            "Epoch 59/100\n",
            "324/324 [==============================] - 28s 86ms/step - loss: 0.0014 - accuracy: 1.0000 - val_loss: 0.3087 - val_accuracy: 0.9012\n",
            "\n",
            "Epoch 00059: val_accuracy did not improve from 0.92593\n",
            "Epoch 60/100\n",
            "324/324 [==============================] - 27s 85ms/step - loss: 0.0014 - accuracy: 1.0000 - val_loss: 0.3460 - val_accuracy: 0.9012\n",
            "\n",
            "Epoch 00060: val_accuracy did not improve from 0.92593\n",
            "Epoch 61/100\n",
            "324/324 [==============================] - 27s 85ms/step - loss: 9.1144e-04 - accuracy: 1.0000 - val_loss: 0.3107 - val_accuracy: 0.9012\n",
            "\n",
            "Epoch 00061: val_accuracy did not improve from 0.92593\n",
            "Epoch 62/100\n",
            "324/324 [==============================] - 28s 85ms/step - loss: 7.5155e-04 - accuracy: 1.0000 - val_loss: 0.2993 - val_accuracy: 0.9012\n",
            "\n",
            "Epoch 00062: val_accuracy did not improve from 0.92593\n",
            "Epoch 63/100\n",
            "324/324 [==============================] - 28s 85ms/step - loss: 0.0012 - accuracy: 1.0000 - val_loss: 0.3135 - val_accuracy: 0.9012\n",
            "\n",
            "Epoch 00063: val_accuracy did not improve from 0.92593\n",
            "Epoch 64/100\n",
            "324/324 [==============================] - 28s 85ms/step - loss: 0.0011 - accuracy: 1.0000 - val_loss: 0.3000 - val_accuracy: 0.9012\n",
            "\n",
            "Epoch 00064: val_accuracy did not improve from 0.92593\n",
            "Epoch 65/100\n",
            "324/324 [==============================] - 28s 85ms/step - loss: 7.6669e-04 - accuracy: 1.0000 - val_loss: 0.2874 - val_accuracy: 0.9012\n",
            "\n",
            "Epoch 00065: val_accuracy did not improve from 0.92593\n",
            "Epoch 66/100\n",
            "324/324 [==============================] - 28s 86ms/step - loss: 6.9872e-04 - accuracy: 1.0000 - val_loss: 0.2803 - val_accuracy: 0.9012\n",
            "\n",
            "Epoch 00066: val_accuracy did not improve from 0.92593\n",
            "Epoch 67/100\n",
            "324/324 [==============================] - 28s 85ms/step - loss: 6.2211e-04 - accuracy: 1.0000 - val_loss: 0.2832 - val_accuracy: 0.9012\n",
            "\n",
            "Epoch 00067: val_accuracy did not improve from 0.92593\n",
            "Epoch 68/100\n",
            "324/324 [==============================] - 30s 91ms/step - loss: 9.0932e-04 - accuracy: 1.0000 - val_loss: 0.2978 - val_accuracy: 0.9012\n",
            "\n",
            "Epoch 00068: val_accuracy did not improve from 0.92593\n",
            "Epoch 69/100\n",
            "324/324 [==============================] - 28s 88ms/step - loss: 0.0011 - accuracy: 1.0000 - val_loss: 0.4232 - val_accuracy: 0.8765\n",
            "\n",
            "Epoch 00069: val_accuracy did not improve from 0.92593\n",
            "Epoch 70/100\n",
            "324/324 [==============================] - 28s 86ms/step - loss: 0.0012 - accuracy: 1.0000 - val_loss: 0.3124 - val_accuracy: 0.9012\n",
            "\n",
            "Epoch 00070: val_accuracy did not improve from 0.92593\n",
            "Epoch 71/100\n",
            "324/324 [==============================] - 28s 85ms/step - loss: 6.1717e-04 - accuracy: 1.0000 - val_loss: 0.2965 - val_accuracy: 0.9012\n",
            "\n",
            "Epoch 00071: val_accuracy did not improve from 0.92593\n",
            "Epoch 72/100\n",
            "324/324 [==============================] - 28s 85ms/step - loss: 5.9093e-04 - accuracy: 1.0000 - val_loss: 0.2945 - val_accuracy: 0.9012\n",
            "\n",
            "Epoch 00072: val_accuracy did not improve from 0.92593\n",
            "Epoch 73/100\n",
            "324/324 [==============================] - 28s 85ms/step - loss: 7.1220e-04 - accuracy: 1.0000 - val_loss: 0.2919 - val_accuracy: 0.9012\n",
            "\n",
            "Epoch 00073: val_accuracy did not improve from 0.92593\n",
            "Epoch 74/100\n",
            "324/324 [==============================] - 28s 85ms/step - loss: 5.3130e-04 - accuracy: 1.0000 - val_loss: 0.2869 - val_accuracy: 0.9012\n",
            "\n",
            "Epoch 00074: val_accuracy did not improve from 0.92593\n",
            "Epoch 75/100\n",
            "324/324 [==============================] - 27s 85ms/step - loss: 5.7685e-04 - accuracy: 1.0000 - val_loss: 0.3026 - val_accuracy: 0.9012\n",
            "\n",
            "Epoch 00075: val_accuracy did not improve from 0.92593\n",
            "Epoch 76/100\n",
            "324/324 [==============================] - 28s 85ms/step - loss: 0.0070 - accuracy: 0.9969 - val_loss: 0.4225 - val_accuracy: 0.8765\n",
            "\n",
            "Epoch 00076: val_accuracy did not improve from 0.92593\n",
            "Epoch 77/100\n",
            "324/324 [==============================] - 28s 85ms/step - loss: 0.0324 - accuracy: 0.9877 - val_loss: 0.1648 - val_accuracy: 0.9506\n",
            "\n",
            "Epoch 00077: val_accuracy improved from 0.92593 to 0.95062, saving model to nor_inf_04jun03.h5\n",
            "Epoch 78/100\n",
            "324/324 [==============================] - 28s 86ms/step - loss: 0.0097 - accuracy: 1.0000 - val_loss: 0.2993 - val_accuracy: 0.9383\n",
            "\n",
            "Epoch 00078: val_accuracy did not improve from 0.95062\n",
            "Epoch 79/100\n",
            "324/324 [==============================] - 27s 85ms/step - loss: 0.0060 - accuracy: 0.9969 - val_loss: 0.1902 - val_accuracy: 0.9630\n",
            "\n",
            "Epoch 00079: val_accuracy improved from 0.95062 to 0.96296, saving model to nor_inf_04jun03.h5\n",
            "Epoch 80/100\n",
            "324/324 [==============================] - 28s 85ms/step - loss: 0.0018 - accuracy: 1.0000 - val_loss: 0.1648 - val_accuracy: 0.9630\n",
            "\n",
            "Epoch 00080: val_accuracy did not improve from 0.96296\n",
            "Epoch 81/100\n",
            "324/324 [==============================] - 28s 86ms/step - loss: 0.0012 - accuracy: 1.0000 - val_loss: 0.1921 - val_accuracy: 0.9506\n",
            "\n",
            "Epoch 00081: val_accuracy did not improve from 0.96296\n",
            "Epoch 82/100\n",
            "324/324 [==============================] - 27s 85ms/step - loss: 7.5204e-04 - accuracy: 1.0000 - val_loss: 0.2079 - val_accuracy: 0.9383\n",
            "\n",
            "Epoch 00082: val_accuracy did not improve from 0.96296\n",
            "Epoch 83/100\n",
            "324/324 [==============================] - 28s 85ms/step - loss: 0.0011 - accuracy: 1.0000 - val_loss: 0.2197 - val_accuracy: 0.9383\n",
            "\n",
            "Epoch 00083: val_accuracy did not improve from 0.96296\n",
            "Epoch 84/100\n",
            "324/324 [==============================] - 28s 85ms/step - loss: 7.3759e-04 - accuracy: 1.0000 - val_loss: 0.2233 - val_accuracy: 0.9383\n",
            "\n",
            "Epoch 00084: val_accuracy did not improve from 0.96296\n",
            "Epoch 85/100\n",
            "324/324 [==============================] - 28s 85ms/step - loss: 0.0011 - accuracy: 1.0000 - val_loss: 0.2257 - val_accuracy: 0.9259\n",
            "\n",
            "Epoch 00085: val_accuracy did not improve from 0.96296\n",
            "Epoch 86/100\n",
            "324/324 [==============================] - 28s 85ms/step - loss: 6.9713e-04 - accuracy: 1.0000 - val_loss: 0.2371 - val_accuracy: 0.9259\n",
            "\n",
            "Epoch 00086: val_accuracy did not improve from 0.96296\n",
            "Epoch 87/100\n",
            "324/324 [==============================] - 28s 85ms/step - loss: 5.4730e-04 - accuracy: 1.0000 - val_loss: 0.2354 - val_accuracy: 0.9259\n",
            "\n",
            "Epoch 00087: val_accuracy did not improve from 0.96296\n",
            "Epoch 88/100\n",
            "324/324 [==============================] - 28s 85ms/step - loss: 7.3544e-04 - accuracy: 1.0000 - val_loss: 0.2441 - val_accuracy: 0.9259\n",
            "\n",
            "Epoch 00088: val_accuracy did not improve from 0.96296\n",
            "Epoch 89/100\n",
            "324/324 [==============================] - 28s 86ms/step - loss: 7.3665e-04 - accuracy: 1.0000 - val_loss: 0.2239 - val_accuracy: 0.9259\n",
            "\n",
            "Epoch 00089: val_accuracy did not improve from 0.96296\n",
            "Epoch 90/100\n",
            "324/324 [==============================] - 30s 93ms/step - loss: 4.6250e-04 - accuracy: 1.0000 - val_loss: 0.2009 - val_accuracy: 0.9259\n",
            "\n",
            "Epoch 00090: val_accuracy did not improve from 0.96296\n",
            "Epoch 91/100\n",
            "324/324 [==============================] - 28s 86ms/step - loss: 9.9380e-04 - accuracy: 1.0000 - val_loss: 0.2271 - val_accuracy: 0.9259\n",
            "\n",
            "Epoch 00091: val_accuracy did not improve from 0.96296\n",
            "Epoch 92/100\n",
            "324/324 [==============================] - 28s 86ms/step - loss: 5.0445e-04 - accuracy: 1.0000 - val_loss: 0.2398 - val_accuracy: 0.9136\n",
            "\n",
            "Epoch 00092: val_accuracy did not improve from 0.96296\n",
            "Epoch 93/100\n",
            "324/324 [==============================] - 28s 85ms/step - loss: 6.4538e-04 - accuracy: 1.0000 - val_loss: 0.2396 - val_accuracy: 0.9136\n",
            "\n",
            "Epoch 00093: val_accuracy did not improve from 0.96296\n",
            "Epoch 94/100\n",
            "324/324 [==============================] - 28s 85ms/step - loss: 3.3857e-04 - accuracy: 1.0000 - val_loss: 0.2904 - val_accuracy: 0.9136\n",
            "\n",
            "Epoch 00094: val_accuracy did not improve from 0.96296\n",
            "Epoch 95/100\n",
            "324/324 [==============================] - 28s 85ms/step - loss: 4.6881e-04 - accuracy: 1.0000 - val_loss: 0.2735 - val_accuracy: 0.9259\n",
            "\n",
            "Epoch 00095: val_accuracy did not improve from 0.96296\n",
            "Epoch 96/100\n",
            "324/324 [==============================] - 28s 85ms/step - loss: 3.9051e-04 - accuracy: 1.0000 - val_loss: 0.2596 - val_accuracy: 0.9259\n",
            "\n",
            "Epoch 00096: val_accuracy did not improve from 0.96296\n",
            "Epoch 97/100\n",
            "324/324 [==============================] - 28s 85ms/step - loss: 9.7729e-04 - accuracy: 1.0000 - val_loss: 0.2254 - val_accuracy: 0.9259\n",
            "\n",
            "Epoch 00097: val_accuracy did not improve from 0.96296\n",
            "Epoch 98/100\n",
            "324/324 [==============================] - 28s 85ms/step - loss: 3.6819e-04 - accuracy: 1.0000 - val_loss: 0.1932 - val_accuracy: 0.9259\n",
            "\n",
            "Epoch 00098: val_accuracy did not improve from 0.96296\n",
            "Epoch 99/100\n",
            "324/324 [==============================] - 28s 85ms/step - loss: 4.1137e-04 - accuracy: 1.0000 - val_loss: 0.2023 - val_accuracy: 0.9259\n",
            "\n",
            "Epoch 00099: val_accuracy did not improve from 0.96296\n",
            "Epoch 100/100\n",
            "324/324 [==============================] - 28s 85ms/step - loss: 3.0849e-04 - accuracy: 1.0000 - val_loss: 0.2142 - val_accuracy: 0.9259\n",
            "\n",
            "Epoch 00100: val_accuracy did not improve from 0.96296\n"
          ],
          "name": "stdout"
        }
      ]
    },
    {
      "cell_type": "code",
      "metadata": {
        "id": "-xeXepYLsWT6",
        "outputId": "0b02f87a-a85b-4c5a-99a6-8291c61d87b2",
        "colab": {
          "base_uri": "https://localhost:8080/",
          "height": 295
        }
      },
      "source": [
        "plt.plot(history.history['accuracy'])\n",
        "plt.plot(history.history['val_accuracy'])\n",
        "plt.title('model accuracy')\n",
        "plt.ylabel('accuracy')\n",
        "plt.xlabel('epoch')\n",
        "plt.legend(['train'], loc='upper left')\n",
        "plt.show() "
      ],
      "execution_count": null,
      "outputs": [
        {
          "output_type": "display_data",
          "data": {
            "image/png": "[encoded data removed]",
            "text/plain": [
              "<Figure size 432x288 with 1 Axes>"
            ]
          },
          "metadata": {
            "tags": [],
            "needs_background": "light"
          }
        }
      ]
    },
    {
      "cell_type": "code",
      "metadata": {
        "id": "Cowf-HazuukX",
        "outputId": "2ccf1162-c5a0-40ee-842c-35bf4e391e83",
        "colab": {
          "base_uri": "https://localhost:8080/",
          "height": 295
        }
      },
      "source": [
        "plt.plot(history.history['loss'])\n",
        "plt.plot(history.history['val_loss'])\n",
        "plt.title('model loss')\n",
        "plt.ylabel('loss')\n",
        "plt.xlabel('epoch')\n",
        "plt.legend(['train'], loc='upper left')\n",
        "plt.show()"
      ],
      "execution_count": null,
      "outputs": [
        {
          "output_type": "display_data",
          "data": {
            "image/png": "[encoded data removed]",
            "text/plain": [
              "<Figure size 432x288 with 1 Axes>"
            ]
          },
          "metadata": {
            "tags": [],
            "needs_background": "light"
          }
        }
      ]
    },
    {
      "cell_type": "code",
      "metadata": {
        "id": "j6H36uf4n-QR"
      },
      "source": [
        "from keras.models import model_from_json\n",
        "model_json = model.to_json()\n",
        "with open(\"LDN3_w-o.json\", \"w\") as json_file:\n",
        "  json_file.write(model_json)\n",
        "model.save_weights(\"LDN3_w-o.h5\")\n",
        "model.save(\"LDN3_w-o.h5\")\n",
        "json_file.close()"
      ],
      "execution_count": null,
      "outputs": []
    },
    {
      "cell_type": "code",
      "metadata": {
        "id": "CbFvolPKvUY3"
      },
      "source": [
        "from tensorflow.keras.models import model_from_json\n",
        "json_file = open('LDN3_w-o.json', 'r')\n",
        "loaded_model_json = json_file.read()\n",
        "json_file.close()\n",
        "loaded_model = model_from_json(loaded_model_json)\n",
        "# load weights into new model\n",
        "loaded_model.load_weights(\"LDN3_w-o.h5\")"
      ],
      "execution_count": null,
      "outputs": []
    },
    {
      "cell_type": "code",
      "metadata": {
        "id": "Eh6zzmDUe_ms"
      },
      "source": [
        "\n",
        "v=np.zeros(shape=(1500,1))\n",
        "c=np.ones(shape=(300,1))\n",
        "\n",
        "\n",
        "x_test=np.concatenate((x_viral[1480:1500],x_covid[219:239]))\n",
        "y_test=np.concatenate((v[0:20],c[0:20]))\n"
      ],
      "execution_count": null,
      "outputs": []
    },
    {
      "cell_type": "code",
      "metadata": {
        "id": "zvj1ibXg0GMk"
      },
      "source": [
        "model.compile(loss='binary_crossentropy', optimizer='adam', metrics=['accuracy'])\n",
        "_, test_acc = model.evaluate(x_test, y_test, verbose=0)"
      ],
      "execution_count": null,
      "outputs": []
    },
    {
      "cell_type": "code",
      "metadata": {
        "id": "1LS0CkKA0J7K",
        "outputId": "9666cc23-c856-4faa-c346-a12d7cb44c63",
        "colab": {
          "base_uri": "https://localhost:8080/",
          "height": 51
        }
      },
      "source": [
        "print(\"test accuracy: \",test_acc,)\n",
        "print(\"test loss    : \",_)"
      ],
      "execution_count": null,
      "outputs": [
        {
          "output_type": "stream",
          "text": [
            "test accuracy:  0.5\n",
            "test loss    :  6.915242934184789\n"
          ],
          "name": "stdout"
        }
      ]
    },
    {
      "cell_type": "code",
      "metadata": {
        "id": "Rb2sZDPe4dw2"
      },
      "source": [
        "y_pred=model.predict(x_test)"
      ],
      "execution_count": null,
      "outputs": []
    },
    {
      "cell_type": "code",
      "metadata": {
        "id": "0v45NC3z2L2B",
        "outputId": "7ec66eaa-e7c2-4669-bf2d-45bc63bc4a70",
        "colab": {
          "base_uri": "https://localhost:8080/",
          "height": 34
        }
      },
      "source": [
        "y_pred.shape"
      ],
      "execution_count": null,
      "outputs": [
        {
          "output_type": "execute_result",
          "data": {
            "text/plain": [
              "(40, 1)"
            ]
          },
          "metadata": {
            "tags": []
          },
          "execution_count": 133
        }
      ]
    },
    {
      "cell_type": "code",
      "metadata": {
        "id": "BGiSlBbM2KGT"
      },
      "source": [
        "y_pred[0]\n",
        "classes = np.argmax(y_pred,axis=-1)"
      ],
      "execution_count": null,
      "outputs": []
    },
    {
      "cell_type": "code",
      "metadata": {
        "id": "nhBq6GsKNoT4",
        "outputId": "fbda0378-5cfa-4552-bd9b-f820ffa36a15",
        "colab": {
          "base_uri": "https://localhost:8080/",
          "height": 34
        }
      },
      "source": [
        "(type)(classes)\n",
        "classes.shape"
      ],
      "execution_count": null,
      "outputs": [
        {
          "output_type": "execute_result",
          "data": {
            "text/plain": [
              "(40,)"
            ]
          },
          "metadata": {
            "tags": []
          },
          "execution_count": 135
        }
      ]
    },
    {
      "cell_type": "code",
      "metadata": {
        "id": "ItqJoIy_3G9i",
        "outputId": "ceb1ea3a-d573-472a-982c-e13c29a5f2b9",
        "colab": {
          "base_uri": "https://localhost:8080/",
          "height": 34
        }
      },
      "source": [
        "label = []\n",
        "for i in y_pred:\n",
        "  if i>0.5:\n",
        "    label.append(1)\n",
        "  else :\n",
        "    label.append(0)\n",
        "print(len(label))\n",
        "label = np.asarray(label)\n",
        "label=label.reshape(-1,1)"
      ],
      "execution_count": null,
      "outputs": [
        {
          "output_type": "stream",
          "text": [
            "40\n"
          ],
          "name": "stdout"
        }
      ]
    },
    {
      "cell_type": "code",
      "metadata": {
        "id": "V9DSqX4ekAFM"
      },
      "source": [
        "y_test=np.asarray(y_test)"
      ],
      "execution_count": null,
      "outputs": []
    },
    {
      "cell_type": "code",
      "metadata": {
        "id": "AEb3qYHXdUk6"
      },
      "source": [
        "from sklearn.metrics import accuracy_score\n",
        "test_acc=accuracy_score(y_test, label)"
      ],
      "execution_count": null,
      "outputs": []
    },
    {
      "cell_type": "code",
      "metadata": {
        "id": "1ox3kfsIdch9",
        "outputId": "f1b9f9cf-fc3f-4723-ca58-db98a2363f9d",
        "colab": {
          "base_uri": "https://localhost:8080/",
          "height": 34
        }
      },
      "source": [
        "test_acc"
      ],
      "execution_count": null,
      "outputs": [
        {
          "output_type": "execute_result",
          "data": {
            "text/plain": [
              "0.5"
            ]
          },
          "metadata": {
            "tags": []
          },
          "execution_count": 139
        }
      ]
    },
    {
      "cell_type": "code",
      "metadata": {
        "id": "cVRopZwj0NdQ",
        "outputId": "f3a97c8c-a1ae-4131-c645-f3eb01af570f",
        "colab": {
          "base_uri": "https://localhost:8080/",
          "height": 51
        }
      },
      "source": [
        "from sklearn.metrics import confusion_matrix\n",
        "print(confusion_matrix(y_test,label))"
      ],
      "execution_count": null,
      "outputs": [
        {
          "output_type": "stream",
          "text": [
            "[[ 0 20]\n",
            " [ 0 20]]\n"
          ],
          "name": "stdout"
        }
      ]
    },
    {
      "cell_type": "code",
      "metadata": {
        "id": "HgjUHW2Vdh0N",
        "outputId": "7a9fae8b-84c5-4bb0-9cf8-3b1c426bf3a0",
        "colab": {
          "base_uri": "https://localhost:8080/",
          "height": 583
        }
      },
      "source": [
        "from sklearn.metrics import confusion_matrix\n",
        "cm = confusion_matrix(y_test,label)\n",
        "\n",
        "import seaborn as sns\n",
        "df_cm = pd.DataFrame(cm, columns=['Viral Pnenumonia','Covid-19'], index =['Viral Pnenumonia','Covid-19'])\n",
        "df_cm.index.name = 'Actual'\n",
        "df_cm.columns.name = 'Predicted'\n",
        "plt.figure(figsize = (10,7))\n",
        "sns.set(font_scale=1.4)#for label size\n",
        "sns.heatmap(df_cm, cmap=\"Blues\", annot=True,annot_kws={\"size\": 16},fmt='d')\n",
        "\n",
        "\n",
        "\n",
        "\n",
        "fp=cm[1][0]\n",
        "fn=cm[0][1]\n",
        "tp=cm[0][0]\n",
        "tn=cm[1][1]\n",
        "print(\"-----------------------------------\")\n",
        "print(\"TP : \",tp)\n",
        "print(\"TN : \",tn)\n",
        "print(\"FP : \",fp)\n",
        "print(\"FN : \",fn)\n",
        "print(\"sensitivity : \",tp/(float)((tp+fn)))\n",
        "print(\"specificity : \",tn/(float)((tn+fp)))\n",
        "sn=tp/(float)((tp+fn))\n",
        "sp=tn/(float)((tn+fp))\n"
      ],
      "execution_count": null,
      "outputs": [
        {
          "output_type": "stream",
          "text": [
            "-----------------------------------\n",
            "TP :  0\n",
            "TN :  20\n",
            "FP :  0\n",
            "FN :  20\n",
            "sensitivity :  0.0\n",
            "specificity :  1.0\n"
          ],
          "name": "stdout"
        },
        {
          "output_type": "display_data",
          "data": {
            "image/png": "[encoded data removed]",
            "text/plain": [
              "<Figure size 720x504 with 2 Axes>"
            ]
          },
          "metadata": {
            "tags": []
          }
        }
      ]
    },
    {
      "cell_type": "code",
      "metadata": {
        "id": "1lnljIk2ekJ1"
      },
      "source": [
        ""
      ],
      "execution_count": null,
      "outputs": []
    },
    {
      "cell_type": "markdown",
      "metadata": {
        "id": "Dy7kzgt9A_VK"
      },
      "source": [
        "TMC XRAY images"
      ]
    },
    {
      "cell_type": "code",
      "metadata": {
        "id": "eGx-0At1Bg-Z",
        "outputId": "d8c51896-0ece-4bcf-c840-04499ff71466",
        "colab": {
          "base_uri": "https://localhost:8080/",
          "height": 50
        }
      },
      "source": [
        "print(len(x_samples))\n",
        "print(len(y_samples))"
      ],
      "execution_count": null,
      "outputs": [
        {
          "output_type": "stream",
          "text": [
            "8\n",
            "8\n"
          ],
          "name": "stdout"
        }
      ]
    },
    {
      "cell_type": "code",
      "metadata": {
        "id": "oQOoEuCQBnfE"
      },
      "source": [
        "for i in range(8):\n",
        "    img = x_samples[i]\n",
        "    lab = cv2.cvtColor(img, cv2.COLOR_BGR2LAB)\n",
        "\n",
        "    lab_planes = cv2.split(lab)\n",
        "\n",
        "    clahe = cv2.createCLAHE(clipLimit=2.0,tileGridSize=(16,16))\n",
        "\n",
        "    lab_planes[0] = clahe.apply(lab_planes[0])\n",
        "\n",
        "    lab = cv2.merge(lab_planes)\n",
        "\n",
        "    img = cv2.cvtColor(lab, cv2.COLOR_LAB2BGR) \n",
        "    \"\"\"img = np.power(img, gamma)\"\"\" \n",
        "    x_samples[i]=img"
      ],
      "execution_count": null,
      "outputs": []
    },
    {
      "cell_type": "code",
      "metadata": {
        "id": "eeRazE34CJsO",
        "outputId": "6feff53e-5c1c-4c89-a5a9-01ba6ac36e22",
        "colab": {
          "base_uri": "https://localhost:8080/",
          "height": 34
        }
      },
      "source": [
        "print('Shape of sample images: ', x_samples[0].shape)"
      ],
      "execution_count": null,
      "outputs": [
        {
          "output_type": "stream",
          "text": [
            "Shape of sample images:  (256, 256, 3)\n"
          ],
          "name": "stdout"
        }
      ]
    },
    {
      "cell_type": "code",
      "metadata": {
        "id": "FL9M3M32CL5D",
        "outputId": "3412e89a-9b02-4ed1-ae13-e233e99aff6d",
        "colab": {
          "base_uri": "https://localhost:8080/",
          "height": 34
        }
      },
      "source": [
        "x_samples=np.array(x_samples)\n",
        "print(x_samples.shape)"
      ],
      "execution_count": null,
      "outputs": [
        {
          "output_type": "stream",
          "text": [
            "(8, 256, 256, 3)\n"
          ],
          "name": "stdout"
        }
      ]
    },
    {
      "cell_type": "code",
      "metadata": {
        "id": "HhP9PcWhCnLh"
      },
      "source": [
        "y_samples_pred=model.predict(x_samples)"
      ],
      "execution_count": null,
      "outputs": []
    },
    {
      "cell_type": "code",
      "metadata": {
        "id": "MSMM1CfmCs6_",
        "outputId": "52f7f98a-6d63-41e1-a2c1-2928b804bf35",
        "colab": {
          "base_uri": "https://localhost:8080/",
          "height": 34
        }
      },
      "source": [
        "sample_labels = []\n",
        "for i in y_samples_pred:\n",
        "  if i>0.5:\n",
        "    sample_labels.append('infected')\n",
        "  else :\n",
        "    sample_labels.append('normal') \n",
        "print(len(sample_labels))\n",
        "sample_labels = np.asarray(sample_labels)\n",
        "sample_labels=sample_labels.reshape(-1,1)"
      ],
      "execution_count": null,
      "outputs": [
        {
          "output_type": "stream",
          "text": [
            "8\n"
          ],
          "name": "stdout"
        }
      ]
    },
    {
      "cell_type": "code",
      "metadata": {
        "id": "Y1yEIQM8Ds7D",
        "outputId": "c033c2d0-1f0e-4e99-fcb0-bee9d8c9942e",
        "colab": {
          "base_uri": "https://localhost:8080/",
          "height": 151
        }
      },
      "source": [
        "print(y_samples_pred)"
      ],
      "execution_count": null,
      "outputs": [
        {
          "output_type": "stream",
          "text": [
            "[[1.       ]\n",
            " [1.       ]\n",
            " [0.9999982]\n",
            " [1.       ]\n",
            " [1.       ]\n",
            " [1.       ]\n",
            " [1.       ]\n",
            " [1.       ]]\n"
          ],
          "name": "stdout"
        }
      ]
    },
    {
      "cell_type": "code",
      "metadata": {
        "id": "z8ueqkP-DY-X",
        "outputId": "707689e7-2609-4eea-f7af-1f9b0cfe02a9",
        "colab": {
          "base_uri": "https://localhost:8080/",
          "height": 34
        }
      },
      "source": [
        "print(sample_labels.shape)"
      ],
      "execution_count": null,
      "outputs": [
        {
          "output_type": "stream",
          "text": [
            "(8, 1)\n"
          ],
          "name": "stdout"
        }
      ]
    },
    {
      "cell_type": "code",
      "metadata": {
        "id": "cEZnXmUvCVB6",
        "outputId": "c648e7ad-4d54-492f-cd92-c185e1c05b2c",
        "colab": {
          "base_uri": "https://localhost:8080/",
          "height": 151
        }
      },
      "source": [
        "print(sample_labels)"
      ],
      "execution_count": null,
      "outputs": [
        {
          "output_type": "stream",
          "text": [
            "[['infected']\n",
            " ['infected']\n",
            " ['infected']\n",
            " ['infected']\n",
            " ['infected']\n",
            " ['infected']\n",
            " ['infected']\n",
            " ['infected']]\n"
          ],
          "name": "stdout"
        }
      ]
    }
  ]
}